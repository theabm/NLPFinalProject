{
  "cells": [
    {
      "cell_type": "markdown",
      "metadata": {
        "id": "nES2XJU-u3RZ"
      },
      "source": [
        "# Introduction\n",
        "\n",
        "This notebook implements some applications of the NLP course at DSSC AA 2021-2022. \n",
        "\n",
        "In particular, I will perform topic modeling using LDA and sentiment analysis for a dataset of book reviews from amazon. The data set was found at:\n",
        "\n",
        "https://www.kaggle.com/datasets/mohamedbakhet/amazon-books-reviews\n",
        "\n",
        "The intended use cases are the following:\n",
        "- Topic modeling: enable publishing companies to understand the most popular topics of books (perhaps by year) in order to increase revenue. It could also be used by Authors to know which are the hottest topics as of late.\n",
        "- Sentiment Analysis: By predicting the sentiment of a review for a book, a company such as amazon can incorporate this knowledge in a recommender system for collaborative filtering techniques. \n",
        "\n",
        "Therefore, we will develop these techniques with these goals in mind. "
      ]
    },
    {
      "cell_type": "markdown",
      "metadata": {
        "id": "JjjUBn2xvqXK"
      },
      "source": [
        "### The dataset\n",
        "\n",
        "The dataset contains of two main files:\n",
        "\n",
        "- books_data.csv: information for 200,000 books. Namely, the title, the author name, the summary, the category of the book, etc.\n",
        "- Books_rating.csv: contains information for 3 million book reviews. Namely, the book id, the book title, the user id who rated the book, the review/score, the summary of the review, and the full text of the former. "
      ]
    },
    {
      "cell_type": "markdown",
      "metadata": {},
      "source": [
        "### Import Statements"
      ]
    },
    {
      "cell_type": "code",
      "execution_count": 2,
      "metadata": {
        "colab": {
          "base_uri": "https://localhost:8080/"
        },
        "id": "ztNEIWEhyY4F",
        "outputId": "a97f6684-e18f-41c9-9c91-d5f4dafe97b9"
      },
      "outputs": [
        {
          "name": "stderr",
          "output_type": "stream",
          "text": [
            "c:\\Users\\andre\\anaconda3\\envs\\nlp\\lib\\site-packages\\tqdm\\auto.py:22: TqdmWarning: IProgress not found. Please update jupyter and ipywidgets. See https://ipywidgets.readthedocs.io/en/stable/user_install.html\n",
            "  from .autonotebook import tqdm as notebook_tqdm\n"
          ]
        }
      ],
      "source": [
        "# import statements for the whole notebook\n",
        "import pandas as pd\n",
        "import numpy as np\n",
        "\n",
        "\n",
        "import spacy\n",
        "\n",
        "#for language detection, uncomment\n",
        "#!pip install spacy_fastlang\n",
        "import spacy_fastlang\n",
        "\n",
        "import nltk\n",
        "#nltk.download('all')\n",
        "\n",
        "# collocations\n",
        "from nltk.collocations import BigramCollocationFinder, BigramAssocMeasures\n",
        "from nltk.corpus import stopwords\n",
        "from collections import Counter\n",
        "from tqdm import tqdm\n",
        "\n",
        "from sklearn.metrics import classification_report, f1_score, balanced_accuracy_score, precision_score, recall_score\n",
        "from sklearn.dummy import DummyClassifier\n",
        "from sklearn.model_selection import cross_val_score\n",
        "\n",
        "from transformers import AutoTokenizer,  AutoModelForSequenceClassification, pipeline, DataCollatorWithPadding\n",
        "from transformers import TrainingArguments, Trainer\n",
        "import evaluate\n",
        "\n",
        "import torch \n",
        "\n",
        "import re\n",
        "import pickle\n",
        "\n",
        "import plotly.express as px\n",
        "from plotly.subplots import make_subplots\n",
        "import plotly.graph_objects as go\n",
        "\n",
        "import stylecloud\n",
        "\n",
        "#load spacys english dictionary. \n",
        "nlp = spacy.load(\"en_core_web_sm\")\n",
        "#nlp.add_pipe(\"language_detector\")\n",
        "\n"
      ]
    },
    {
      "cell_type": "code",
      "execution_count": 23,
      "metadata": {
        "id": "eqjpgksB3rmf"
      },
      "outputs": [],
      "source": [
        "#Global variable to stop execution in notebook re runs\n",
        "FIRST_RUN = False"
      ]
    },
    {
      "cell_type": "markdown",
      "metadata": {},
      "source": [
        "# Topic Modeling\n",
        "\n",
        "We focus on the first data set which contains information about the 200,000 books.\n",
        "\n",
        "We briefly recall the idea behind topic modeling: we use LDA to extract the main topics that the books are talking about in their descriptions. \n",
        "\n",
        "LDA is a document generating model which assumes that all documents are generated by sampling a specific topic distribution and sampling the words most relevant to each topic in a proportional manner.\n",
        "This assumption is faulty in some ways since it doesn't account for dependence between consecutive words.\n",
        "\n",
        "We can reverse engineer the process to find the $k$ topics being discussed and, for each topic, the top words (descriptors) associated to it.\n",
        "\n",
        "To choose the optimal value of $k$, we will maximize the UMass and CVscore, while also keeping in mind the principle of Occam's razor.\n",
        "- UMass: based on log probability of word cooccurrences\n",
        "- CVscore: uses normalized PMI and cosine similarity"
      ]
    },
    {
      "cell_type": "code",
      "execution_count": 27,
      "metadata": {
        "colab": {
          "base_uri": "https://localhost:8080/",
          "height": 337
        },
        "id": "3SPBtvYJzJDT",
        "outputId": "fa0b6ebd-d712-44ab-97a8-de13fb89674d"
      },
      "outputs": [
        {
          "data": {
            "text/html": [
              "<div>\n",
              "<style scoped>\n",
              "    .dataframe tbody tr th:only-of-type {\n",
              "        vertical-align: middle;\n",
              "    }\n",
              "\n",
              "    .dataframe tbody tr th {\n",
              "        vertical-align: top;\n",
              "    }\n",
              "\n",
              "    .dataframe thead th {\n",
              "        text-align: right;\n",
              "    }\n",
              "</style>\n",
              "<table border=\"1\" class=\"dataframe\">\n",
              "  <thead>\n",
              "    <tr style=\"text-align: right;\">\n",
              "      <th></th>\n",
              "      <th>Title</th>\n",
              "      <th>description</th>\n",
              "      <th>authors</th>\n",
              "      <th>image</th>\n",
              "      <th>previewLink</th>\n",
              "      <th>publisher</th>\n",
              "      <th>publishedDate</th>\n",
              "      <th>infoLink</th>\n",
              "      <th>categories</th>\n",
              "      <th>ratingsCount</th>\n",
              "    </tr>\n",
              "  </thead>\n",
              "  <tbody>\n",
              "    <tr>\n",
              "      <th>0</th>\n",
              "      <td>Its Only Art If Its Well Hung!</td>\n",
              "      <td>NaN</td>\n",
              "      <td>['Julie Strain']</td>\n",
              "      <td>http://books.google.com/books/content?id=DykPA...</td>\n",
              "      <td>http://books.google.nl/books?id=DykPAAAACAAJ&amp;d...</td>\n",
              "      <td>NaN</td>\n",
              "      <td>1996</td>\n",
              "      <td>http://books.google.nl/books?id=DykPAAAACAAJ&amp;d...</td>\n",
              "      <td>['Comics &amp; Graphic Novels']</td>\n",
              "      <td>NaN</td>\n",
              "    </tr>\n",
              "    <tr>\n",
              "      <th>1</th>\n",
              "      <td>Dr. Seuss: American Icon</td>\n",
              "      <td>Philip Nel takes a fascinating look into the k...</td>\n",
              "      <td>['Philip Nel']</td>\n",
              "      <td>http://books.google.com/books/content?id=IjvHQ...</td>\n",
              "      <td>http://books.google.nl/books?id=IjvHQsCn_pgC&amp;p...</td>\n",
              "      <td>A&amp;C Black</td>\n",
              "      <td>2005-01-01</td>\n",
              "      <td>http://books.google.nl/books?id=IjvHQsCn_pgC&amp;d...</td>\n",
              "      <td>['Biography &amp; Autobiography']</td>\n",
              "      <td>NaN</td>\n",
              "    </tr>\n",
              "    <tr>\n",
              "      <th>2</th>\n",
              "      <td>Wonderful Worship in Smaller Churches</td>\n",
              "      <td>This resource includes twelve principles in un...</td>\n",
              "      <td>['David R. Ray']</td>\n",
              "      <td>http://books.google.com/books/content?id=2tsDA...</td>\n",
              "      <td>http://books.google.nl/books?id=2tsDAAAACAAJ&amp;d...</td>\n",
              "      <td>NaN</td>\n",
              "      <td>2000</td>\n",
              "      <td>http://books.google.nl/books?id=2tsDAAAACAAJ&amp;d...</td>\n",
              "      <td>['Religion']</td>\n",
              "      <td>NaN</td>\n",
              "    </tr>\n",
              "    <tr>\n",
              "      <th>3</th>\n",
              "      <td>Whispers of the Wicked Saints</td>\n",
              "      <td>Julia Thomas finds her life spinning out of co...</td>\n",
              "      <td>['Veronica Haddon']</td>\n",
              "      <td>http://books.google.com/books/content?id=aRSIg...</td>\n",
              "      <td>http://books.google.nl/books?id=aRSIgJlq6JwC&amp;d...</td>\n",
              "      <td>iUniverse</td>\n",
              "      <td>2005-02</td>\n",
              "      <td>http://books.google.nl/books?id=aRSIgJlq6JwC&amp;d...</td>\n",
              "      <td>['Fiction']</td>\n",
              "      <td>NaN</td>\n",
              "    </tr>\n",
              "    <tr>\n",
              "      <th>4</th>\n",
              "      <td>Nation Dance: Religion, Identity and Cultural ...</td>\n",
              "      <td>NaN</td>\n",
              "      <td>['Edward Long']</td>\n",
              "      <td>NaN</td>\n",
              "      <td>http://books.google.nl/books?id=399SPgAACAAJ&amp;d...</td>\n",
              "      <td>NaN</td>\n",
              "      <td>2003-03-01</td>\n",
              "      <td>http://books.google.nl/books?id=399SPgAACAAJ&amp;d...</td>\n",
              "      <td>NaN</td>\n",
              "      <td>NaN</td>\n",
              "    </tr>\n",
              "  </tbody>\n",
              "</table>\n",
              "</div>"
            ],
            "text/plain": [
              "                                               Title  \\\n",
              "0                     Its Only Art If Its Well Hung!   \n",
              "1                           Dr. Seuss: American Icon   \n",
              "2              Wonderful Worship in Smaller Churches   \n",
              "3                      Whispers of the Wicked Saints   \n",
              "4  Nation Dance: Religion, Identity and Cultural ...   \n",
              "\n",
              "                                         description              authors  \\\n",
              "0                                                NaN     ['Julie Strain']   \n",
              "1  Philip Nel takes a fascinating look into the k...       ['Philip Nel']   \n",
              "2  This resource includes twelve principles in un...     ['David R. Ray']   \n",
              "3  Julia Thomas finds her life spinning out of co...  ['Veronica Haddon']   \n",
              "4                                                NaN      ['Edward Long']   \n",
              "\n",
              "                                               image  \\\n",
              "0  http://books.google.com/books/content?id=DykPA...   \n",
              "1  http://books.google.com/books/content?id=IjvHQ...   \n",
              "2  http://books.google.com/books/content?id=2tsDA...   \n",
              "3  http://books.google.com/books/content?id=aRSIg...   \n",
              "4                                                NaN   \n",
              "\n",
              "                                         previewLink  publisher publishedDate  \\\n",
              "0  http://books.google.nl/books?id=DykPAAAACAAJ&d...        NaN          1996   \n",
              "1  http://books.google.nl/books?id=IjvHQsCn_pgC&p...  A&C Black    2005-01-01   \n",
              "2  http://books.google.nl/books?id=2tsDAAAACAAJ&d...        NaN          2000   \n",
              "3  http://books.google.nl/books?id=aRSIgJlq6JwC&d...  iUniverse       2005-02   \n",
              "4  http://books.google.nl/books?id=399SPgAACAAJ&d...        NaN    2003-03-01   \n",
              "\n",
              "                                            infoLink  \\\n",
              "0  http://books.google.nl/books?id=DykPAAAACAAJ&d...   \n",
              "1  http://books.google.nl/books?id=IjvHQsCn_pgC&d...   \n",
              "2  http://books.google.nl/books?id=2tsDAAAACAAJ&d...   \n",
              "3  http://books.google.nl/books?id=aRSIgJlq6JwC&d...   \n",
              "4  http://books.google.nl/books?id=399SPgAACAAJ&d...   \n",
              "\n",
              "                      categories  ratingsCount  \n",
              "0    ['Comics & Graphic Novels']           NaN  \n",
              "1  ['Biography & Autobiography']           NaN  \n",
              "2                   ['Religion']           NaN  \n",
              "3                    ['Fiction']           NaN  \n",
              "4                            NaN           NaN  "
            ]
          },
          "execution_count": 27,
          "metadata": {},
          "output_type": "execute_result"
        }
      ],
      "source": [
        "df_books = pd.read_csv(\"./DataSet/books_data.csv\")\n",
        "df_books.head()"
      ]
    },
    {
      "cell_type": "markdown",
      "metadata": {
        "id": "10o2JOi-DqOA"
      },
      "source": [
        "#### Step 0: Exploration\n",
        "\n",
        "We extract the description of each book. However, since also the titles of the books are useful in terms of information, we will join the two columns together and separate them with a period. \n",
        "\n",
        "Furthermore, we will filter non english documents since LDA operates under the assumption that documents are in the same language. To do this, we use **spacy_fastlang** library to detect the language."
      ]
    },
    {
      "cell_type": "code",
      "execution_count": 7,
      "metadata": {
        "id": "IxtjFvmPyRPV"
      },
      "outputs": [],
      "source": [
        "df_books = df_books.dropna(subset = [\"description\"])\n",
        "df_books[\"new_desc\"] = df_books.loc[:,\"description\"] + \". \" + df_books.loc[:,\"Title\"]\n",
        "newdate = [re.sub(r\"[^0-9].*\",\"\",date ) for date in df_books[\"publishedDate\"].apply(str)]\n",
        "df_books[\"publishedDate\"] = newdate\n",
        "df_books = df_books.drop([\"image\", \"publisher\", \"infoLink\", \"ratingsCount\", \"previewLink\"], axis = 1)"
      ]
    },
    {
      "cell_type": "code",
      "execution_count": 151,
      "metadata": {
        "colab": {
          "base_uri": "https://localhost:8080/",
          "height": 252
        },
        "id": "UXCVxlMt1IKt",
        "outputId": "22413a55-0f03-4e29-fb90-1be03c3604bd"
      },
      "outputs": [
        {
          "data": {
            "text/plain": [
              "142149"
            ]
          },
          "execution_count": 151,
          "metadata": {},
          "output_type": "execute_result"
        }
      ],
      "source": [
        "if FIRST_RUN:\n",
        "    #check if the summaries are in english. Runtime is approximately 1 hr\n",
        "    lang = [nlp(doc)._.language for doc in df_books[\"new_desc\"]]\n",
        "    df_books[\"lang\"] = lang\n",
        "    df_books_en = df_books[df_books[\"lang\"] == \"en\"]\n",
        "    with open(\"./DataSet/books_en.csv\", \"wb\") as fp:\n",
        "            pickle.dump(df_books_en, fp)\n",
        "else:\n",
        "    with open(\"./DataSet/books_en.csv\", \"rb\") as fp:\n",
        "            df_books_en = pickle.load(fp)\n",
        "book_description_corpus = df_books_en[\"new_desc\"].tolist()\n",
        "\n",
        "len(book_description_corpus)"
      ]
    },
    {
      "cell_type": "markdown",
      "metadata": {
        "id": "6wnN9PvsEWa8"
      },
      "source": [
        "As we can see, the final corpus contains approximatley 150,000 documents in english. Below we show an example:"
      ]
    },
    {
      "cell_type": "code",
      "execution_count": 9,
      "metadata": {
        "colab": {
          "base_uri": "https://localhost:8080/",
          "height": 105
        },
        "id": "bjX5oD7qdMQg",
        "outputId": "b754e236-5780-4ed1-acd3-09f5bdf9284d"
      },
      "outputs": [
        {
          "data": {
            "text/plain": [
              "'Philip Nel takes a fascinating look into the key aspects of Seuss\\'s career - his poetry, politics, art, marketing, and place in the popular imagination.\" \"Nel argues convincingly that Dr. Seuss is one of the most influential poets in America. His nonsense verse, like that of Lewis Carroll and Edward Lear, has changed language itself, giving us new words like \"nerd.\" And Seuss\\'s famously loopy artistic style - what Nel terms an \"energetic cartoon surrealism\" - has been equally important, inspiring artists like filmmaker Tim Burton and illustrator Lane Smith. --from back cover. Dr. Seuss: American Icon'"
            ]
          },
          "execution_count": 9,
          "metadata": {},
          "output_type": "execute_result"
        }
      ],
      "source": [
        "book_description_corpus[0]"
      ]
    },
    {
      "cell_type": "markdown",
      "metadata": {},
      "source": [
        "#### Most frequent categories\n",
        "Having filtered out non english documents, we now analyze the most frequent categories. These give an idea of the concepts which the corpus talks about. "
      ]
    },
    {
      "cell_type": "code",
      "execution_count": 46,
      "metadata": {
        "colab": {
          "base_uri": "https://localhost:8080/",
          "height": 542
        },
        "id": "mWNsAzTCQx-o",
        "outputId": "4403dd46-459c-4d58-b2c9-8e5021f2a934"
      },
      "outputs": [
        {
          "data": {
            "application/vnd.plotly.v1+json": {
              "config": {
                "plotlyServerURL": "https://plot.ly"
              },
              "data": [
                {
                  "alignmentgroup": "True",
                  "hovertemplate": "variable=categories<br>value=%{x}<br>index=%{y}<extra></extra>",
                  "legendgroup": "categories",
                  "marker": {
                    "color": "#636efa",
                    "pattern": {
                      "shape": ""
                    }
                  },
                  "name": "categories",
                  "offsetgroup": "categories",
                  "orientation": "h",
                  "showlegend": true,
                  "textposition": "auto",
                  "type": "bar",
                  "x": [
                    2411,
                    3289,
                    3600,
                    4114,
                    5240,
                    5964,
                    6496,
                    8712,
                    8776,
                    21881
                  ],
                  "xaxis": "x",
                  "y": [
                    "['Science']",
                    "['Juvenile Nonfiction']",
                    "['Social Science']",
                    "['Computers']",
                    "['Business & Economics']",
                    "['Biography & Autobiography']",
                    "['Juvenile Fiction']",
                    "['Religion']",
                    "['History']",
                    "['Fiction']"
                  ],
                  "yaxis": "y"
                }
              ],
              "layout": {
                "barmode": "relative",
                "legend": {
                  "title": {
                    "text": "variable"
                  },
                  "tracegroupgap": 0
                },
                "template": {
                  "data": {
                    "bar": [
                      {
                        "error_x": {
                          "color": "#2a3f5f"
                        },
                        "error_y": {
                          "color": "#2a3f5f"
                        },
                        "marker": {
                          "line": {
                            "color": "#E5ECF6",
                            "width": 0.5
                          },
                          "pattern": {
                            "fillmode": "overlay",
                            "size": 10,
                            "solidity": 0.2
                          }
                        },
                        "type": "bar"
                      }
                    ],
                    "barpolar": [
                      {
                        "marker": {
                          "line": {
                            "color": "#E5ECF6",
                            "width": 0.5
                          },
                          "pattern": {
                            "fillmode": "overlay",
                            "size": 10,
                            "solidity": 0.2
                          }
                        },
                        "type": "barpolar"
                      }
                    ],
                    "carpet": [
                      {
                        "aaxis": {
                          "endlinecolor": "#2a3f5f",
                          "gridcolor": "white",
                          "linecolor": "white",
                          "minorgridcolor": "white",
                          "startlinecolor": "#2a3f5f"
                        },
                        "baxis": {
                          "endlinecolor": "#2a3f5f",
                          "gridcolor": "white",
                          "linecolor": "white",
                          "minorgridcolor": "white",
                          "startlinecolor": "#2a3f5f"
                        },
                        "type": "carpet"
                      }
                    ],
                    "choropleth": [
                      {
                        "colorbar": {
                          "outlinewidth": 0,
                          "ticks": ""
                        },
                        "type": "choropleth"
                      }
                    ],
                    "contour": [
                      {
                        "colorbar": {
                          "outlinewidth": 0,
                          "ticks": ""
                        },
                        "colorscale": [
                          [
                            0,
                            "#0d0887"
                          ],
                          [
                            0.1111111111111111,
                            "#46039f"
                          ],
                          [
                            0.2222222222222222,
                            "#7201a8"
                          ],
                          [
                            0.3333333333333333,
                            "#9c179e"
                          ],
                          [
                            0.4444444444444444,
                            "#bd3786"
                          ],
                          [
                            0.5555555555555556,
                            "#d8576b"
                          ],
                          [
                            0.6666666666666666,
                            "#ed7953"
                          ],
                          [
                            0.7777777777777778,
                            "#fb9f3a"
                          ],
                          [
                            0.8888888888888888,
                            "#fdca26"
                          ],
                          [
                            1,
                            "#f0f921"
                          ]
                        ],
                        "type": "contour"
                      }
                    ],
                    "contourcarpet": [
                      {
                        "colorbar": {
                          "outlinewidth": 0,
                          "ticks": ""
                        },
                        "type": "contourcarpet"
                      }
                    ],
                    "heatmap": [
                      {
                        "colorbar": {
                          "outlinewidth": 0,
                          "ticks": ""
                        },
                        "colorscale": [
                          [
                            0,
                            "#0d0887"
                          ],
                          [
                            0.1111111111111111,
                            "#46039f"
                          ],
                          [
                            0.2222222222222222,
                            "#7201a8"
                          ],
                          [
                            0.3333333333333333,
                            "#9c179e"
                          ],
                          [
                            0.4444444444444444,
                            "#bd3786"
                          ],
                          [
                            0.5555555555555556,
                            "#d8576b"
                          ],
                          [
                            0.6666666666666666,
                            "#ed7953"
                          ],
                          [
                            0.7777777777777778,
                            "#fb9f3a"
                          ],
                          [
                            0.8888888888888888,
                            "#fdca26"
                          ],
                          [
                            1,
                            "#f0f921"
                          ]
                        ],
                        "type": "heatmap"
                      }
                    ],
                    "heatmapgl": [
                      {
                        "colorbar": {
                          "outlinewidth": 0,
                          "ticks": ""
                        },
                        "colorscale": [
                          [
                            0,
                            "#0d0887"
                          ],
                          [
                            0.1111111111111111,
                            "#46039f"
                          ],
                          [
                            0.2222222222222222,
                            "#7201a8"
                          ],
                          [
                            0.3333333333333333,
                            "#9c179e"
                          ],
                          [
                            0.4444444444444444,
                            "#bd3786"
                          ],
                          [
                            0.5555555555555556,
                            "#d8576b"
                          ],
                          [
                            0.6666666666666666,
                            "#ed7953"
                          ],
                          [
                            0.7777777777777778,
                            "#fb9f3a"
                          ],
                          [
                            0.8888888888888888,
                            "#fdca26"
                          ],
                          [
                            1,
                            "#f0f921"
                          ]
                        ],
                        "type": "heatmapgl"
                      }
                    ],
                    "histogram": [
                      {
                        "marker": {
                          "pattern": {
                            "fillmode": "overlay",
                            "size": 10,
                            "solidity": 0.2
                          }
                        },
                        "type": "histogram"
                      }
                    ],
                    "histogram2d": [
                      {
                        "colorbar": {
                          "outlinewidth": 0,
                          "ticks": ""
                        },
                        "colorscale": [
                          [
                            0,
                            "#0d0887"
                          ],
                          [
                            0.1111111111111111,
                            "#46039f"
                          ],
                          [
                            0.2222222222222222,
                            "#7201a8"
                          ],
                          [
                            0.3333333333333333,
                            "#9c179e"
                          ],
                          [
                            0.4444444444444444,
                            "#bd3786"
                          ],
                          [
                            0.5555555555555556,
                            "#d8576b"
                          ],
                          [
                            0.6666666666666666,
                            "#ed7953"
                          ],
                          [
                            0.7777777777777778,
                            "#fb9f3a"
                          ],
                          [
                            0.8888888888888888,
                            "#fdca26"
                          ],
                          [
                            1,
                            "#f0f921"
                          ]
                        ],
                        "type": "histogram2d"
                      }
                    ],
                    "histogram2dcontour": [
                      {
                        "colorbar": {
                          "outlinewidth": 0,
                          "ticks": ""
                        },
                        "colorscale": [
                          [
                            0,
                            "#0d0887"
                          ],
                          [
                            0.1111111111111111,
                            "#46039f"
                          ],
                          [
                            0.2222222222222222,
                            "#7201a8"
                          ],
                          [
                            0.3333333333333333,
                            "#9c179e"
                          ],
                          [
                            0.4444444444444444,
                            "#bd3786"
                          ],
                          [
                            0.5555555555555556,
                            "#d8576b"
                          ],
                          [
                            0.6666666666666666,
                            "#ed7953"
                          ],
                          [
                            0.7777777777777778,
                            "#fb9f3a"
                          ],
                          [
                            0.8888888888888888,
                            "#fdca26"
                          ],
                          [
                            1,
                            "#f0f921"
                          ]
                        ],
                        "type": "histogram2dcontour"
                      }
                    ],
                    "mesh3d": [
                      {
                        "colorbar": {
                          "outlinewidth": 0,
                          "ticks": ""
                        },
                        "type": "mesh3d"
                      }
                    ],
                    "parcoords": [
                      {
                        "line": {
                          "colorbar": {
                            "outlinewidth": 0,
                            "ticks": ""
                          }
                        },
                        "type": "parcoords"
                      }
                    ],
                    "pie": [
                      {
                        "automargin": true,
                        "type": "pie"
                      }
                    ],
                    "scatter": [
                      {
                        "fillpattern": {
                          "fillmode": "overlay",
                          "size": 10,
                          "solidity": 0.2
                        },
                        "type": "scatter"
                      }
                    ],
                    "scatter3d": [
                      {
                        "line": {
                          "colorbar": {
                            "outlinewidth": 0,
                            "ticks": ""
                          }
                        },
                        "marker": {
                          "colorbar": {
                            "outlinewidth": 0,
                            "ticks": ""
                          }
                        },
                        "type": "scatter3d"
                      }
                    ],
                    "scattercarpet": [
                      {
                        "marker": {
                          "colorbar": {
                            "outlinewidth": 0,
                            "ticks": ""
                          }
                        },
                        "type": "scattercarpet"
                      }
                    ],
                    "scattergeo": [
                      {
                        "marker": {
                          "colorbar": {
                            "outlinewidth": 0,
                            "ticks": ""
                          }
                        },
                        "type": "scattergeo"
                      }
                    ],
                    "scattergl": [
                      {
                        "marker": {
                          "colorbar": {
                            "outlinewidth": 0,
                            "ticks": ""
                          }
                        },
                        "type": "scattergl"
                      }
                    ],
                    "scattermapbox": [
                      {
                        "marker": {
                          "colorbar": {
                            "outlinewidth": 0,
                            "ticks": ""
                          }
                        },
                        "type": "scattermapbox"
                      }
                    ],
                    "scatterpolar": [
                      {
                        "marker": {
                          "colorbar": {
                            "outlinewidth": 0,
                            "ticks": ""
                          }
                        },
                        "type": "scatterpolar"
                      }
                    ],
                    "scatterpolargl": [
                      {
                        "marker": {
                          "colorbar": {
                            "outlinewidth": 0,
                            "ticks": ""
                          }
                        },
                        "type": "scatterpolargl"
                      }
                    ],
                    "scatterternary": [
                      {
                        "marker": {
                          "colorbar": {
                            "outlinewidth": 0,
                            "ticks": ""
                          }
                        },
                        "type": "scatterternary"
                      }
                    ],
                    "surface": [
                      {
                        "colorbar": {
                          "outlinewidth": 0,
                          "ticks": ""
                        },
                        "colorscale": [
                          [
                            0,
                            "#0d0887"
                          ],
                          [
                            0.1111111111111111,
                            "#46039f"
                          ],
                          [
                            0.2222222222222222,
                            "#7201a8"
                          ],
                          [
                            0.3333333333333333,
                            "#9c179e"
                          ],
                          [
                            0.4444444444444444,
                            "#bd3786"
                          ],
                          [
                            0.5555555555555556,
                            "#d8576b"
                          ],
                          [
                            0.6666666666666666,
                            "#ed7953"
                          ],
                          [
                            0.7777777777777778,
                            "#fb9f3a"
                          ],
                          [
                            0.8888888888888888,
                            "#fdca26"
                          ],
                          [
                            1,
                            "#f0f921"
                          ]
                        ],
                        "type": "surface"
                      }
                    ],
                    "table": [
                      {
                        "cells": {
                          "fill": {
                            "color": "#EBF0F8"
                          },
                          "line": {
                            "color": "white"
                          }
                        },
                        "header": {
                          "fill": {
                            "color": "#C8D4E3"
                          },
                          "line": {
                            "color": "white"
                          }
                        },
                        "type": "table"
                      }
                    ]
                  },
                  "layout": {
                    "annotationdefaults": {
                      "arrowcolor": "#2a3f5f",
                      "arrowhead": 0,
                      "arrowwidth": 1
                    },
                    "autotypenumbers": "strict",
                    "coloraxis": {
                      "colorbar": {
                        "outlinewidth": 0,
                        "ticks": ""
                      }
                    },
                    "colorscale": {
                      "diverging": [
                        [
                          0,
                          "#8e0152"
                        ],
                        [
                          0.1,
                          "#c51b7d"
                        ],
                        [
                          0.2,
                          "#de77ae"
                        ],
                        [
                          0.3,
                          "#f1b6da"
                        ],
                        [
                          0.4,
                          "#fde0ef"
                        ],
                        [
                          0.5,
                          "#f7f7f7"
                        ],
                        [
                          0.6,
                          "#e6f5d0"
                        ],
                        [
                          0.7,
                          "#b8e186"
                        ],
                        [
                          0.8,
                          "#7fbc41"
                        ],
                        [
                          0.9,
                          "#4d9221"
                        ],
                        [
                          1,
                          "#276419"
                        ]
                      ],
                      "sequential": [
                        [
                          0,
                          "#0d0887"
                        ],
                        [
                          0.1111111111111111,
                          "#46039f"
                        ],
                        [
                          0.2222222222222222,
                          "#7201a8"
                        ],
                        [
                          0.3333333333333333,
                          "#9c179e"
                        ],
                        [
                          0.4444444444444444,
                          "#bd3786"
                        ],
                        [
                          0.5555555555555556,
                          "#d8576b"
                        ],
                        [
                          0.6666666666666666,
                          "#ed7953"
                        ],
                        [
                          0.7777777777777778,
                          "#fb9f3a"
                        ],
                        [
                          0.8888888888888888,
                          "#fdca26"
                        ],
                        [
                          1,
                          "#f0f921"
                        ]
                      ],
                      "sequentialminus": [
                        [
                          0,
                          "#0d0887"
                        ],
                        [
                          0.1111111111111111,
                          "#46039f"
                        ],
                        [
                          0.2222222222222222,
                          "#7201a8"
                        ],
                        [
                          0.3333333333333333,
                          "#9c179e"
                        ],
                        [
                          0.4444444444444444,
                          "#bd3786"
                        ],
                        [
                          0.5555555555555556,
                          "#d8576b"
                        ],
                        [
                          0.6666666666666666,
                          "#ed7953"
                        ],
                        [
                          0.7777777777777778,
                          "#fb9f3a"
                        ],
                        [
                          0.8888888888888888,
                          "#fdca26"
                        ],
                        [
                          1,
                          "#f0f921"
                        ]
                      ]
                    },
                    "colorway": [
                      "#636efa",
                      "#EF553B",
                      "#00cc96",
                      "#ab63fa",
                      "#FFA15A",
                      "#19d3f3",
                      "#FF6692",
                      "#B6E880",
                      "#FF97FF",
                      "#FECB52"
                    ],
                    "font": {
                      "color": "#2a3f5f"
                    },
                    "geo": {
                      "bgcolor": "white",
                      "lakecolor": "white",
                      "landcolor": "#E5ECF6",
                      "showlakes": true,
                      "showland": true,
                      "subunitcolor": "white"
                    },
                    "hoverlabel": {
                      "align": "left"
                    },
                    "hovermode": "closest",
                    "mapbox": {
                      "style": "light"
                    },
                    "paper_bgcolor": "white",
                    "plot_bgcolor": "#E5ECF6",
                    "polar": {
                      "angularaxis": {
                        "gridcolor": "white",
                        "linecolor": "white",
                        "ticks": ""
                      },
                      "bgcolor": "#E5ECF6",
                      "radialaxis": {
                        "gridcolor": "white",
                        "linecolor": "white",
                        "ticks": ""
                      }
                    },
                    "scene": {
                      "xaxis": {
                        "backgroundcolor": "#E5ECF6",
                        "gridcolor": "white",
                        "gridwidth": 2,
                        "linecolor": "white",
                        "showbackground": true,
                        "ticks": "",
                        "zerolinecolor": "white"
                      },
                      "yaxis": {
                        "backgroundcolor": "#E5ECF6",
                        "gridcolor": "white",
                        "gridwidth": 2,
                        "linecolor": "white",
                        "showbackground": true,
                        "ticks": "",
                        "zerolinecolor": "white"
                      },
                      "zaxis": {
                        "backgroundcolor": "#E5ECF6",
                        "gridcolor": "white",
                        "gridwidth": 2,
                        "linecolor": "white",
                        "showbackground": true,
                        "ticks": "",
                        "zerolinecolor": "white"
                      }
                    },
                    "shapedefaults": {
                      "line": {
                        "color": "#2a3f5f"
                      }
                    },
                    "ternary": {
                      "aaxis": {
                        "gridcolor": "white",
                        "linecolor": "white",
                        "ticks": ""
                      },
                      "baxis": {
                        "gridcolor": "white",
                        "linecolor": "white",
                        "ticks": ""
                      },
                      "bgcolor": "#E5ECF6",
                      "caxis": {
                        "gridcolor": "white",
                        "linecolor": "white",
                        "ticks": ""
                      }
                    },
                    "title": {
                      "x": 0.05
                    },
                    "xaxis": {
                      "automargin": true,
                      "gridcolor": "white",
                      "linecolor": "white",
                      "ticks": "",
                      "title": {
                        "standoff": 15
                      },
                      "zerolinecolor": "white",
                      "zerolinewidth": 2
                    },
                    "yaxis": {
                      "automargin": true,
                      "gridcolor": "white",
                      "linecolor": "white",
                      "ticks": "",
                      "title": {
                        "standoff": 15
                      },
                      "zerolinecolor": "white",
                      "zerolinewidth": 2
                    }
                  }
                },
                "title": {
                  "text": "Top 10 Categories"
                },
                "xaxis": {
                  "anchor": "y",
                  "domain": [
                    0,
                    1
                  ],
                  "title": {
                    "text": "value"
                  }
                },
                "yaxis": {
                  "anchor": "x",
                  "domain": [
                    0,
                    1
                  ],
                  "title": {
                    "text": "index"
                  }
                }
              }
            }
          },
          "metadata": {},
          "output_type": "display_data"
        }
      ],
      "source": [
        "cat_num = 10\n",
        "fig = px.bar(df_books_en[\"categories\"].value_counts()[:cat_num][::-1], orientation = \"h\", title = f\"Top {cat_num} Categories\")\n",
        "fig.show()"
      ]
    },
    {
      "cell_type": "markdown",
      "metadata": {},
      "source": [
        "As we can see, the most frequent topic is related to fiction, while other topics such as religion and history are also very popular. "
      ]
    },
    {
      "cell_type": "markdown",
      "metadata": {
        "id": "KxrJpjeX3S4h"
      },
      "source": [
        "#### Step 1: Preprocessing\n",
        "\n",
        "Before using LDA, we must do some aggressive preprocessing in order to reduce variance to a minimum. The proprocessing for LDA has to be much more aggressive than other tasks since we want to capture important words in order to define our topics clearly. \n",
        "\n",
        "For example, if we don't lemmatize or stem, we could find that the top descriptors of a topic are simply all the conjugations of a word. This is not very informative and thus must be avoided at all costs. \n",
        "\n",
        "The preprocessing steps that we will emply are as follows:\n",
        "\n",
        "- tokenization: using spacys tokenizer.\n",
        "- normalization: removing punctuation except for hyphens and apostrophes (since spacys tokenizer is much better at handling this)\n",
        "- lemmatization: reduce each token to it's lemma.\n",
        "- stopword removal: we use spacy's predefined list of stop words.\n",
        "- joint collocations: we introduce the bigrams with PMI greater than or equal to 1.0 (for computational reasons we don't include all of them)"
      ]
    },
    {
      "cell_type": "code",
      "execution_count": 2,
      "metadata": {
        "id": "izQ6ZMrl7o48"
      },
      "outputs": [],
      "source": [
        "def normalize(text):\n",
        "    '''This function removes punctuation, symbols, and numbers. Returns the text into lower case.\n",
        "      Input: a string of text\n",
        "      Output: cleaned a string of text\n",
        "    '''\n",
        "    no_punctuation = re.sub(r'[^\\w^\\s^-^\\']','',text)\n",
        "    no_numbers = re.sub(r'[0-9+]', '0', no_punctuation)\n",
        "    downcase = no_numbers.lower()\n",
        "    return downcase\n",
        "\n",
        "def clean_corpus(corpus, stopword_removal = True):\n",
        "    '''This function preprocesses each document of the corpus by first normalizing it and then keeping only the lemma of the word\n",
        "     if the word is not a stop word.\n",
        "     Input: a list of strings (documents)\n",
        "     Outout: a list of strings (documents) which have been preprocessed.\n",
        "    '''\n",
        "    clean_corpus = [] \n",
        "    if stopword_removal:\n",
        "        for document in corpus:\n",
        "            lowered_text = normalize(document)\n",
        "            clean_corpus.append(' '.join([token.lemma_ for token in nlp(lowered_text) if token.pos_ in ['NOUN', 'VERB', 'ADJ', 'ADV', 'PROPN'] and not token.is_stop]))\n",
        "    else:\n",
        "        for document in corpus:\n",
        "            lowered_text = normalize(document)\n",
        "            clean_corpus.append(' '.join([token.lemma_ for token in nlp(lowered_text) if token.pos_ in ['NOUN', 'VERB', 'ADJ', 'ADV', 'PROPN']]))\n",
        "     \n",
        "    return clean_corpus "
      ]
    },
    {
      "cell_type": "code",
      "execution_count": 13,
      "metadata": {
        "id": "K_9ZfGFNZ0vw"
      },
      "outputs": [],
      "source": [
        "def collocation_finder(cleaned_corpus, min_freq = 10, thresh = 1):\n",
        "    words = [word for document in cleaned_corpus for word in document.split()]   \n",
        "    finder = BigramCollocationFinder.from_words(words)\n",
        "    bgm = BigramAssocMeasures()\n",
        "    score = bgm.mi_like\n",
        "    finder.apply_freq_filter(min_freq)\n",
        "    collocations = pd.DataFrame(finder.score_ngrams(score), columns = [\"bigram\", \"pmi\"])\n",
        "    return collocations[collocations[\"pmi\"] >= thresh]\n",
        "def replace_words_with_collocations(cleaned_corpus, collocations):\n",
        "    corpus_with_collocations = []\n",
        "    for document in tqdm(cleaned_corpus):\n",
        "        for word1, word2 in collocations:\n",
        "            document = re.sub(f'{word1} {word2}', f'{word1}_{word2}', document)\n",
        "        corpus_with_collocations.append(document)\n",
        "    return corpus_with_collocations\n"
      ]
    },
    {
      "cell_type": "markdown",
      "metadata": {
        "id": "ISAacyV1hgzC"
      },
      "source": [
        "We can now finally preprocess the corpus by first applying the pipeline and then finding all collocations and adding them to the documents as bigrams. "
      ]
    },
    {
      "cell_type": "code",
      "execution_count": 14,
      "metadata": {
        "id": "PyLlvwNdfTuA"
      },
      "outputs": [],
      "source": [
        "#preprocess corpus and save once\n",
        "\n",
        "if FIRST_RUN:\n",
        "    book_description_corpus_cleaned = clean_corpus(book_description_corpus)\n",
        "\n",
        "    with open(\"./DataSet/book_description_cleaned.csv\", \"wb\") as fp:\n",
        "        pickle.dump(book_description_corpus_cleaned, fp)\n",
        "else:\n",
        "    with open(\"./DataSet/book_description_cleaned.csv\", \"rb\") as fp:\n",
        "        book_description_corpus_cleaned = pickle.load(fp)\n"
      ]
    },
    {
      "cell_type": "code",
      "execution_count": 16,
      "metadata": {
        "colab": {
          "base_uri": "https://localhost:8080/",
          "height": 424
        },
        "id": "Y2W8-n1hDqUT",
        "outputId": "82852f57-d2a0-489b-8b32-920b16e751a7"
      },
      "outputs": [
        {
          "data": {
            "text/html": [
              "<div>\n",
              "<style scoped>\n",
              "    .dataframe tbody tr th:only-of-type {\n",
              "        vertical-align: middle;\n",
              "    }\n",
              "\n",
              "    .dataframe tbody tr th {\n",
              "        vertical-align: top;\n",
              "    }\n",
              "\n",
              "    .dataframe thead th {\n",
              "        text-align: right;\n",
              "    }\n",
              "</style>\n",
              "<table border=\"1\" class=\"dataframe\">\n",
              "  <thead>\n",
              "    <tr style=\"text-align: right;\">\n",
              "      <th></th>\n",
              "      <th>bigram</th>\n",
              "      <th>pmi</th>\n",
              "    </tr>\n",
              "  </thead>\n",
              "  <tbody>\n",
              "    <tr>\n",
              "      <th>0</th>\n",
              "      <td>(united, states)</td>\n",
              "      <td>3860.036858</td>\n",
              "    </tr>\n",
              "    <tr>\n",
              "      <th>1</th>\n",
              "      <td>(york, times)</td>\n",
              "      <td>1570.857642</td>\n",
              "    </tr>\n",
              "    <tr>\n",
              "      <th>2</th>\n",
              "      <td>(new, york)</td>\n",
              "      <td>1257.851052</td>\n",
              "    </tr>\n",
              "    <tr>\n",
              "      <th>3</th>\n",
              "      <td>(los, angeles)</td>\n",
              "      <td>742.395737</td>\n",
              "    </tr>\n",
              "    <tr>\n",
              "      <th>4</th>\n",
              "      <td>(san, francisco)</td>\n",
              "      <td>388.615226</td>\n",
              "    </tr>\n",
              "    <tr>\n",
              "      <th>...</th>\n",
              "      <td>...</td>\n",
              "      <td>...</td>\n",
              "    </tr>\n",
              "    <tr>\n",
              "      <th>1300</th>\n",
              "      <td>(professionally, typeset)</td>\n",
              "      <td>1.007619</td>\n",
              "    </tr>\n",
              "    <tr>\n",
              "      <th>1301</th>\n",
              "      <td>(p, lovecraft)</td>\n",
              "      <td>1.001788</td>\n",
              "    </tr>\n",
              "    <tr>\n",
              "      <th>1302</th>\n",
              "      <td>(british, columbia)</td>\n",
              "      <td>1.001537</td>\n",
              "    </tr>\n",
              "    <tr>\n",
              "      <th>1303</th>\n",
              "      <td>(fort, sumter)</td>\n",
              "      <td>1.000000</td>\n",
              "    </tr>\n",
              "    <tr>\n",
              "      <th>1304</th>\n",
              "      <td>(schiffer, militaryaviation)</td>\n",
              "      <td>1.000000</td>\n",
              "    </tr>\n",
              "  </tbody>\n",
              "</table>\n",
              "<p>1305 rows × 2 columns</p>\n",
              "</div>"
            ],
            "text/plain": [
              "                            bigram          pmi\n",
              "0                 (united, states)  3860.036858\n",
              "1                    (york, times)  1570.857642\n",
              "2                      (new, york)  1257.851052\n",
              "3                   (los, angeles)   742.395737\n",
              "4                 (san, francisco)   388.615226\n",
              "...                            ...          ...\n",
              "1300     (professionally, typeset)     1.007619\n",
              "1301                (p, lovecraft)     1.001788\n",
              "1302           (british, columbia)     1.001537\n",
              "1303                (fort, sumter)     1.000000\n",
              "1304  (schiffer, militaryaviation)     1.000000\n",
              "\n",
              "[1305 rows x 2 columns]"
            ]
          },
          "execution_count": 16,
          "metadata": {},
          "output_type": "execute_result"
        }
      ],
      "source": [
        "collocations = collocation_finder(book_description_corpus_cleaned)\n",
        "collocations"
      ]
    },
    {
      "cell_type": "markdown",
      "metadata": {},
      "source": [
        "As we can see, we have a total of 1305 collocations to add to our corpus. This is computationally intensive since for each document we must search for all the collocations and substitute with the bigram.\n",
        "However, these bigrams help to add information to our descriptors since they free up space for other words rather than occupying two slots. "
      ]
    },
    {
      "cell_type": "code",
      "execution_count": 17,
      "metadata": {
        "id": "xI5WLufUDh9j"
      },
      "outputs": [],
      "source": [
        "if FIRST_RUN:\n",
        "    book_description_corpus_cleaned_collocations = replace_words_with_collocations(book_description_corpus_cleaned, collocations[\"bigram\"])\n",
        "    \n",
        "    with open(\"./DataSet/books_description_corpus_cleaned_with_collocations.csv\", \"wb\") as fp:\n",
        "        pickle.dump(book_description_corpus_cleaned_collocations, fp)\n",
        "else:\n",
        "    with open(\"./DataSet/books_description_corpus_cleaned_with_collocations.csv\", \"rb\") as fp:\n",
        "        book_description_corpus_cleaned_collocations = pickle.load(fp)"
      ]
    },
    {
      "cell_type": "markdown",
      "metadata": {},
      "source": [
        "After having run the whole preprocessing, we can finally see the results. We show the raw text, the cleaned text without collocations, and the final text with collocations. This can be seen by the appearance of the term \"united_states\" in the final example."
      ]
    },
    {
      "cell_type": "code",
      "execution_count": 18,
      "metadata": {
        "colab": {
          "base_uri": "https://localhost:8080/"
        },
        "id": "hzjOZWFIuIiT",
        "outputId": "e934ff60-5652-4f10-b8f7-e80bcea3abeb"
      },
      "outputs": [
        {
          "name": "stdout",
          "output_type": "stream",
          "text": [
            "The United States \"Explorer\" map is a classic example of the cartographic excellence National Geographic is known for. This colorful political map clearly shows state boundaries, capitals, major highways, rivers, lakes, and many major cities. Insets show detail of Alaska and Hawaii. The color palette is vibrant and stunning shaded relief provides additional texture and detail. The map is encapsulated in heavy-duty 1.6 mil laminate which makes the paper much more durable and resistant to the swelling and shrinking caused by changes in humidity. Laminated maps can be framed without the need for glass, so the fames can be much lighter and less expensive. \"Map Scale = 1:6,396,000Sheet Size = 32\" x 20.25\"\". Usa Laminated Map \n",
            "\n",
            "united states explorer map classic example cartographic excellence national geographic know colorful political map clearly show state boundary capital major highway river lake major city inset detail alaska hawaii color palette vibrant stunning shaded relief provide additional texture detail map encapsulate heavyduty mil laminate make paper durable resistant swelling shrinking cause change humidity laminate map frame need glass fame light expensive map scale 00000000sheet size usa laminate map \n",
            "\n",
            "united_states explorer map classic example cartographic excellence national geographic know colorful political map clearly show state boundary capital major highway river lake major city inset detail alaska hawaii color palette vibrant stunning shaded relief provide additional texture detail map encapsulate heavyduty mil laminate make paper durable resistant swelling shrinking cause change humidity laminate map frame need glass fame light expensive map scale 00000000sheet size usa laminate map \n",
            "\n"
          ]
        }
      ],
      "source": [
        "i = 29\n",
        "print(book_description_corpus[i], \"\\n\")\n",
        "print(book_description_corpus_cleaned[i], \"\\n\")\n",
        "print(book_description_corpus_cleaned_collocations[i], \"\\n\")"
      ]
    },
    {
      "cell_type": "markdown",
      "metadata": {
        "id": "NMevdcC_3xX3"
      },
      "source": [
        "#### Word Cloud\n",
        "We now look at a wordcloud to see the most frequent terms in the corpus. This will also serve to give an idea of the topics being discussed.\n"
      ]
    },
    {
      "cell_type": "code",
      "execution_count": null,
      "metadata": {
        "id": "j_nnluWy3064"
      },
      "outputs": [],
      "source": [
        "words = \" \".join(book_description_corpus_cleaned_collocations)\n",
        "wordcloud = stylecloud.gen_stylecloud(\n",
        "                        text = words,\n",
        "                        size = 1028,\n",
        "                        background_color = \"black\",\n",
        "                        output_name = \"./Images/wordcloud.png\",\n",
        "                        icon_name = \"fas fa-book\"\n",
        "                        )"
      ]
    },
    {
      "cell_type": "markdown",
      "metadata": {},
      "source": [
        "![image](./Images/wordcloud.png)"
      ]
    },
    {
      "cell_type": "markdown",
      "metadata": {},
      "source": [
        "As we can see, frequent words such as work, life, history, time, love, relationship, are very suggestive of the topics present in the corpus. "
      ]
    },
    {
      "cell_type": "markdown",
      "metadata": {
        "id": "dPZnWbiU0ZFM"
      },
      "source": [
        "#### Step 2: Using Gensim's LDA \n",
        "\n",
        "To apply LDA, we use the gensim library which is the most popular library for this task. In particular, we use the LDAmulticore library to pararellize the work and speed the computation. "
      ]
    },
    {
      "cell_type": "code",
      "execution_count": 21,
      "metadata": {
        "id": "Ehyu2L9C0Yjz"
      },
      "outputs": [],
      "source": [
        "from gensim.models import LdaMulticore, TfidfModel, CoherenceModel\n",
        "from gensim.corpora import Dictionary\n",
        "import time \n",
        "import multiprocessing "
      ]
    },
    {
      "cell_type": "code",
      "execution_count": 24,
      "metadata": {
        "id": "rJEVe0GriKFj"
      },
      "outputs": [],
      "source": [
        "instances = [doc.split() for doc in book_description_corpus_cleaned_collocations]\n",
        "dictionary = Dictionary(instances)\n",
        "dictionary.filter_extremes(no_below = 50, no_above = 0.5)\n",
        "\n",
        "ldacorpus = [dictionary.doc2bow(text) for text in instances]\n",
        "tfidfmodel = TfidfModel(ldacorpus)\n",
        "model_corpus = tfidfmodel[ldacorpus]"
      ]
    },
    {
      "cell_type": "code",
      "execution_count": 25,
      "metadata": {
        "colab": {
          "base_uri": "https://localhost:8080/"
        },
        "id": "0KBcAy53AZVl",
        "outputId": "62c7fe75-2257-45a2-b149-da6ec6efd809"
      },
      "outputs": [
        {
          "name": "stdout",
          "output_type": "stream",
          "text": [
            "resource include principle understand small church worship practice planning worship few people suggestion congregational study wonderful worship small church\n",
            "['resource', 'include', 'principle', 'understand', 'small', 'church', 'worship', 'practice', 'planning', 'worship', 'few', 'people', 'suggestion', 'congregational', 'study', 'wonderful', 'worship', 'small', 'church']\n",
            "[(51, 2), (52, 1), (53, 1), (54, 1), (55, 1), (56, 1), (57, 1), (58, 1), (59, 1), (60, 2), (61, 1), (62, 1), (63, 1), (64, 1), (65, 3)]\n",
            "[(51, 0.31376452057035326), (52, 0.32180463855405556), (53, 0.2693150375467911), (54, 0.0664025240567632), (55, 0.09767008421079369), (56, 0.19392337346329966), (57, 0.12066432336191125), (58, 0.1504597029346263), (59, 0.1314502090225251), (60, 0.28331521221527595), (61, 0.09744878989309225), (62, 0.1936860437731818), (63, 0.11980735412718313), (64, 0.18348738900751174), (65, 0.666431806837864)]\n"
          ]
        }
      ],
      "source": [
        "i = 1 \n",
        "print(book_description_corpus_cleaned_collocations[i])\n",
        "print(instances[i])\n",
        "print(ldacorpus[i])\n",
        "print(model_corpus[i])"
      ]
    },
    {
      "cell_type": "markdown",
      "metadata": {
        "id": "B1QHDuazlMja"
      },
      "source": [
        "#### Step 3: Choosing number of topics\n",
        "To choose the number of topics we use the UMass score and CV score as mentioned earlier. In particular, we have to find a number of topics for which these scores have a local maxima. We also keep in mind the principle of Occams razor which states that simpler models are preferred. Therefore, sometimes if we the maximum occurs when there is a lot of topics, it may be preferable to pick another local maxima which is lower but has less topics. This is because we are more interested in explainability rather than maximizing a metric. In fact, at the end of the day, we are interesting in **knowing** which topics are being talked about, not having the best scores. "
      ]
    },
    {
      "cell_type": "code",
      "execution_count": 30,
      "metadata": {
        "colab": {
          "base_uri": "https://localhost:8080/"
        },
        "id": "zTk9n3hAlTOn",
        "outputId": "859d0fb8-e672-4f27-f42a-b8cdc286ba83"
      },
      "outputs": [
        {
          "name": "stdout",
          "output_type": "stream",
          "text": [
            "Number of topics: 2, UMass Score: -1.9605988643372265, CV Score: 0.3161597160060067 \n",
            "\n",
            "Number of topics: 3, UMass Score: -1.9717528690166812, CV Score: 0.29431340607395245 \n",
            "\n",
            "Number of topics: 4, UMass Score: -2.005779097776581, CV Score: 0.3064429016914327 \n",
            "\n",
            "Number of topics: 5, UMass Score: -2.0269277266492507, CV Score: 0.31563442611381015 \n",
            "\n",
            "Number of topics: 6, UMass Score: -2.053769982167863, CV Score: 0.315766214867727 \n",
            "\n",
            "Number of topics: 7, UMass Score: -2.010900744638036, CV Score: 0.3169885581834011 \n",
            "\n",
            "Number of topics: 8, UMass Score: -2.0597289045429577, CV Score: 0.3154455716383609 \n",
            "\n",
            "Number of topics: 9, UMass Score: -2.036263730354967, CV Score: 0.30268530259809956 \n",
            "\n",
            "Number of topics: 10, UMass Score: -2.0345074490719113, CV Score: 0.3180204074656512 \n",
            "\n",
            "Number of topics: 11, UMass Score: -2.089334649556665, CV Score: 0.29665755564040147 \n",
            "\n",
            "Number of topics: 12, UMass Score: -2.026210672008201, CV Score: 0.3269589351828821 \n",
            "\n",
            "Number of topics: 13, UMass Score: -2.0360165325245614, CV Score: 0.3240737423187294 \n",
            "\n",
            "Number of topics: 14, UMass Score: -2.065931859704818, CV Score: 0.32466693621876086 \n",
            "\n",
            "Number of topics: 15, UMass Score: -2.031007935552662, CV Score: 0.3323382550691039 \n",
            "\n",
            "Number of topics: 16, UMass Score: -2.0654346943401327, CV Score: 0.32115925461453065 \n",
            "\n",
            "Number of topics: 17, UMass Score: -1.982004598964725, CV Score: 0.32756769745573217 \n",
            "\n",
            "Number of topics: 18, UMass Score: -1.9845637764099027, CV Score: 0.3195477147372092 \n",
            "\n",
            "Number of topics: 19, UMass Score: -2.0730109047186374, CV Score: 0.30657569324010747 \n",
            "\n",
            "Number of topics: 20, UMass Score: -2.0713818262465646, CV Score: 0.3063249314337879 \n",
            "\n"
          ]
        }
      ],
      "source": [
        "coherence_values = []\n",
        "\n",
        "dev_size = 100000\n",
        "eval_size = 30000\n",
        "\n",
        "for num_topics in range(2, 21):\n",
        "    model = LdaMulticore(corpus=model_corpus[:dev_size], \n",
        "                         id2word=dictionary, \n",
        "                         num_topics=num_topics,\n",
        "                         random_state = 2)\n",
        "\n",
        "    coherencemodel_umass = CoherenceModel(model=model, \n",
        "                                          texts=instances[dev_size:dev_size+eval_size], \n",
        "                                          dictionary=dictionary, \n",
        "                                          coherence='u_mass')\n",
        "\n",
        "    coherencemodel_cv = CoherenceModel(model=model, \n",
        "                                       texts=instances[dev_size:dev_size+eval_size], \n",
        "                                       dictionary=dictionary, \n",
        "                                       coherence='c_v')\n",
        "\n",
        "    umass_score = coherencemodel_umass.get_coherence()\n",
        "    cv_score = coherencemodel_cv.get_coherence()\n",
        "    print(f\"Number of topics: {num_topics}, UMass Score: {umass_score}, CV Score: {cv_score} \\n\")\n",
        "    coherence_values.append((num_topics, umass_score, cv_score))"
      ]
    },
    {
      "cell_type": "code",
      "execution_count": 40,
      "metadata": {
        "colab": {
          "base_uri": "https://localhost:8080/",
          "height": 617
        },
        "id": "p0s8q4NmophY",
        "outputId": "68bd69d5-da7a-486a-ba54-5a663c0cb184"
      },
      "outputs": [
        {
          "data": {
            "application/vnd.plotly.v1+json": {
              "config": {
                "plotlyServerURL": "https://plot.ly"
              },
              "data": [
                {
                  "type": "scatter",
                  "x": [
                    2,
                    3,
                    4,
                    5,
                    6,
                    7,
                    8,
                    9,
                    10,
                    11,
                    12,
                    13,
                    14,
                    15,
                    16,
                    17,
                    18,
                    19,
                    20
                  ],
                  "xaxis": "x",
                  "y": [
                    -1.9605988643372265,
                    -1.9717528690166812,
                    -2.005779097776581,
                    -2.0269277266492507,
                    -2.053769982167863,
                    -2.010900744638036,
                    -2.0597289045429577,
                    -2.036263730354967,
                    -2.0345074490719113,
                    -2.089334649556665,
                    -2.026210672008201,
                    -2.0360165325245614,
                    -2.065931859704818,
                    -2.031007935552662,
                    -2.0654346943401327,
                    -1.982004598964725,
                    -1.9845637764099027,
                    -2.0730109047186374,
                    -2.0713818262465646
                  ],
                  "yaxis": "y"
                },
                {
                  "type": "scatter",
                  "x": [
                    2,
                    3,
                    4,
                    5,
                    6,
                    7,
                    8,
                    9,
                    10,
                    11,
                    12,
                    13,
                    14,
                    15,
                    16,
                    17,
                    18,
                    19,
                    20
                  ],
                  "xaxis": "x2",
                  "y": [
                    0.3161597160060067,
                    0.29431340607395245,
                    0.3064429016914327,
                    0.31563442611381015,
                    0.315766214867727,
                    0.3169885581834011,
                    0.3154455716383609,
                    0.30268530259809956,
                    0.3180204074656512,
                    0.29665755564040147,
                    0.3269589351828821,
                    0.3240737423187294,
                    0.32466693621876086,
                    0.3323382550691039,
                    0.32115925461453065,
                    0.32756769745573217,
                    0.3195477147372092,
                    0.30657569324010747,
                    0.3063249314337879
                  ],
                  "yaxis": "y2"
                }
              ],
              "layout": {
                "annotations": [
                  {
                    "font": {
                      "size": 16
                    },
                    "showarrow": false,
                    "text": "UMass Score",
                    "x": 0.225,
                    "xanchor": "center",
                    "xref": "paper",
                    "y": 1,
                    "yanchor": "bottom",
                    "yref": "paper"
                  },
                  {
                    "font": {
                      "size": 16
                    },
                    "showarrow": false,
                    "text": "CV Score",
                    "x": 0.775,
                    "xanchor": "center",
                    "xref": "paper",
                    "y": 1,
                    "yanchor": "bottom",
                    "yref": "paper"
                  }
                ],
                "height": 600,
                "template": {
                  "data": {
                    "bar": [
                      {
                        "error_x": {
                          "color": "#2a3f5f"
                        },
                        "error_y": {
                          "color": "#2a3f5f"
                        },
                        "marker": {
                          "line": {
                            "color": "#E5ECF6",
                            "width": 0.5
                          },
                          "pattern": {
                            "fillmode": "overlay",
                            "size": 10,
                            "solidity": 0.2
                          }
                        },
                        "type": "bar"
                      }
                    ],
                    "barpolar": [
                      {
                        "marker": {
                          "line": {
                            "color": "#E5ECF6",
                            "width": 0.5
                          },
                          "pattern": {
                            "fillmode": "overlay",
                            "size": 10,
                            "solidity": 0.2
                          }
                        },
                        "type": "barpolar"
                      }
                    ],
                    "carpet": [
                      {
                        "aaxis": {
                          "endlinecolor": "#2a3f5f",
                          "gridcolor": "white",
                          "linecolor": "white",
                          "minorgridcolor": "white",
                          "startlinecolor": "#2a3f5f"
                        },
                        "baxis": {
                          "endlinecolor": "#2a3f5f",
                          "gridcolor": "white",
                          "linecolor": "white",
                          "minorgridcolor": "white",
                          "startlinecolor": "#2a3f5f"
                        },
                        "type": "carpet"
                      }
                    ],
                    "choropleth": [
                      {
                        "colorbar": {
                          "outlinewidth": 0,
                          "ticks": ""
                        },
                        "type": "choropleth"
                      }
                    ],
                    "contour": [
                      {
                        "colorbar": {
                          "outlinewidth": 0,
                          "ticks": ""
                        },
                        "colorscale": [
                          [
                            0,
                            "#0d0887"
                          ],
                          [
                            0.1111111111111111,
                            "#46039f"
                          ],
                          [
                            0.2222222222222222,
                            "#7201a8"
                          ],
                          [
                            0.3333333333333333,
                            "#9c179e"
                          ],
                          [
                            0.4444444444444444,
                            "#bd3786"
                          ],
                          [
                            0.5555555555555556,
                            "#d8576b"
                          ],
                          [
                            0.6666666666666666,
                            "#ed7953"
                          ],
                          [
                            0.7777777777777778,
                            "#fb9f3a"
                          ],
                          [
                            0.8888888888888888,
                            "#fdca26"
                          ],
                          [
                            1,
                            "#f0f921"
                          ]
                        ],
                        "type": "contour"
                      }
                    ],
                    "contourcarpet": [
                      {
                        "colorbar": {
                          "outlinewidth": 0,
                          "ticks": ""
                        },
                        "type": "contourcarpet"
                      }
                    ],
                    "heatmap": [
                      {
                        "colorbar": {
                          "outlinewidth": 0,
                          "ticks": ""
                        },
                        "colorscale": [
                          [
                            0,
                            "#0d0887"
                          ],
                          [
                            0.1111111111111111,
                            "#46039f"
                          ],
                          [
                            0.2222222222222222,
                            "#7201a8"
                          ],
                          [
                            0.3333333333333333,
                            "#9c179e"
                          ],
                          [
                            0.4444444444444444,
                            "#bd3786"
                          ],
                          [
                            0.5555555555555556,
                            "#d8576b"
                          ],
                          [
                            0.6666666666666666,
                            "#ed7953"
                          ],
                          [
                            0.7777777777777778,
                            "#fb9f3a"
                          ],
                          [
                            0.8888888888888888,
                            "#fdca26"
                          ],
                          [
                            1,
                            "#f0f921"
                          ]
                        ],
                        "type": "heatmap"
                      }
                    ],
                    "heatmapgl": [
                      {
                        "colorbar": {
                          "outlinewidth": 0,
                          "ticks": ""
                        },
                        "colorscale": [
                          [
                            0,
                            "#0d0887"
                          ],
                          [
                            0.1111111111111111,
                            "#46039f"
                          ],
                          [
                            0.2222222222222222,
                            "#7201a8"
                          ],
                          [
                            0.3333333333333333,
                            "#9c179e"
                          ],
                          [
                            0.4444444444444444,
                            "#bd3786"
                          ],
                          [
                            0.5555555555555556,
                            "#d8576b"
                          ],
                          [
                            0.6666666666666666,
                            "#ed7953"
                          ],
                          [
                            0.7777777777777778,
                            "#fb9f3a"
                          ],
                          [
                            0.8888888888888888,
                            "#fdca26"
                          ],
                          [
                            1,
                            "#f0f921"
                          ]
                        ],
                        "type": "heatmapgl"
                      }
                    ],
                    "histogram": [
                      {
                        "marker": {
                          "pattern": {
                            "fillmode": "overlay",
                            "size": 10,
                            "solidity": 0.2
                          }
                        },
                        "type": "histogram"
                      }
                    ],
                    "histogram2d": [
                      {
                        "colorbar": {
                          "outlinewidth": 0,
                          "ticks": ""
                        },
                        "colorscale": [
                          [
                            0,
                            "#0d0887"
                          ],
                          [
                            0.1111111111111111,
                            "#46039f"
                          ],
                          [
                            0.2222222222222222,
                            "#7201a8"
                          ],
                          [
                            0.3333333333333333,
                            "#9c179e"
                          ],
                          [
                            0.4444444444444444,
                            "#bd3786"
                          ],
                          [
                            0.5555555555555556,
                            "#d8576b"
                          ],
                          [
                            0.6666666666666666,
                            "#ed7953"
                          ],
                          [
                            0.7777777777777778,
                            "#fb9f3a"
                          ],
                          [
                            0.8888888888888888,
                            "#fdca26"
                          ],
                          [
                            1,
                            "#f0f921"
                          ]
                        ],
                        "type": "histogram2d"
                      }
                    ],
                    "histogram2dcontour": [
                      {
                        "colorbar": {
                          "outlinewidth": 0,
                          "ticks": ""
                        },
                        "colorscale": [
                          [
                            0,
                            "#0d0887"
                          ],
                          [
                            0.1111111111111111,
                            "#46039f"
                          ],
                          [
                            0.2222222222222222,
                            "#7201a8"
                          ],
                          [
                            0.3333333333333333,
                            "#9c179e"
                          ],
                          [
                            0.4444444444444444,
                            "#bd3786"
                          ],
                          [
                            0.5555555555555556,
                            "#d8576b"
                          ],
                          [
                            0.6666666666666666,
                            "#ed7953"
                          ],
                          [
                            0.7777777777777778,
                            "#fb9f3a"
                          ],
                          [
                            0.8888888888888888,
                            "#fdca26"
                          ],
                          [
                            1,
                            "#f0f921"
                          ]
                        ],
                        "type": "histogram2dcontour"
                      }
                    ],
                    "mesh3d": [
                      {
                        "colorbar": {
                          "outlinewidth": 0,
                          "ticks": ""
                        },
                        "type": "mesh3d"
                      }
                    ],
                    "parcoords": [
                      {
                        "line": {
                          "colorbar": {
                            "outlinewidth": 0,
                            "ticks": ""
                          }
                        },
                        "type": "parcoords"
                      }
                    ],
                    "pie": [
                      {
                        "automargin": true,
                        "type": "pie"
                      }
                    ],
                    "scatter": [
                      {
                        "fillpattern": {
                          "fillmode": "overlay",
                          "size": 10,
                          "solidity": 0.2
                        },
                        "type": "scatter"
                      }
                    ],
                    "scatter3d": [
                      {
                        "line": {
                          "colorbar": {
                            "outlinewidth": 0,
                            "ticks": ""
                          }
                        },
                        "marker": {
                          "colorbar": {
                            "outlinewidth": 0,
                            "ticks": ""
                          }
                        },
                        "type": "scatter3d"
                      }
                    ],
                    "scattercarpet": [
                      {
                        "marker": {
                          "colorbar": {
                            "outlinewidth": 0,
                            "ticks": ""
                          }
                        },
                        "type": "scattercarpet"
                      }
                    ],
                    "scattergeo": [
                      {
                        "marker": {
                          "colorbar": {
                            "outlinewidth": 0,
                            "ticks": ""
                          }
                        },
                        "type": "scattergeo"
                      }
                    ],
                    "scattergl": [
                      {
                        "marker": {
                          "colorbar": {
                            "outlinewidth": 0,
                            "ticks": ""
                          }
                        },
                        "type": "scattergl"
                      }
                    ],
                    "scattermapbox": [
                      {
                        "marker": {
                          "colorbar": {
                            "outlinewidth": 0,
                            "ticks": ""
                          }
                        },
                        "type": "scattermapbox"
                      }
                    ],
                    "scatterpolar": [
                      {
                        "marker": {
                          "colorbar": {
                            "outlinewidth": 0,
                            "ticks": ""
                          }
                        },
                        "type": "scatterpolar"
                      }
                    ],
                    "scatterpolargl": [
                      {
                        "marker": {
                          "colorbar": {
                            "outlinewidth": 0,
                            "ticks": ""
                          }
                        },
                        "type": "scatterpolargl"
                      }
                    ],
                    "scatterternary": [
                      {
                        "marker": {
                          "colorbar": {
                            "outlinewidth": 0,
                            "ticks": ""
                          }
                        },
                        "type": "scatterternary"
                      }
                    ],
                    "surface": [
                      {
                        "colorbar": {
                          "outlinewidth": 0,
                          "ticks": ""
                        },
                        "colorscale": [
                          [
                            0,
                            "#0d0887"
                          ],
                          [
                            0.1111111111111111,
                            "#46039f"
                          ],
                          [
                            0.2222222222222222,
                            "#7201a8"
                          ],
                          [
                            0.3333333333333333,
                            "#9c179e"
                          ],
                          [
                            0.4444444444444444,
                            "#bd3786"
                          ],
                          [
                            0.5555555555555556,
                            "#d8576b"
                          ],
                          [
                            0.6666666666666666,
                            "#ed7953"
                          ],
                          [
                            0.7777777777777778,
                            "#fb9f3a"
                          ],
                          [
                            0.8888888888888888,
                            "#fdca26"
                          ],
                          [
                            1,
                            "#f0f921"
                          ]
                        ],
                        "type": "surface"
                      }
                    ],
                    "table": [
                      {
                        "cells": {
                          "fill": {
                            "color": "#EBF0F8"
                          },
                          "line": {
                            "color": "white"
                          }
                        },
                        "header": {
                          "fill": {
                            "color": "#C8D4E3"
                          },
                          "line": {
                            "color": "white"
                          }
                        },
                        "type": "table"
                      }
                    ]
                  },
                  "layout": {
                    "annotationdefaults": {
                      "arrowcolor": "#2a3f5f",
                      "arrowhead": 0,
                      "arrowwidth": 1
                    },
                    "autotypenumbers": "strict",
                    "coloraxis": {
                      "colorbar": {
                        "outlinewidth": 0,
                        "ticks": ""
                      }
                    },
                    "colorscale": {
                      "diverging": [
                        [
                          0,
                          "#8e0152"
                        ],
                        [
                          0.1,
                          "#c51b7d"
                        ],
                        [
                          0.2,
                          "#de77ae"
                        ],
                        [
                          0.3,
                          "#f1b6da"
                        ],
                        [
                          0.4,
                          "#fde0ef"
                        ],
                        [
                          0.5,
                          "#f7f7f7"
                        ],
                        [
                          0.6,
                          "#e6f5d0"
                        ],
                        [
                          0.7,
                          "#b8e186"
                        ],
                        [
                          0.8,
                          "#7fbc41"
                        ],
                        [
                          0.9,
                          "#4d9221"
                        ],
                        [
                          1,
                          "#276419"
                        ]
                      ],
                      "sequential": [
                        [
                          0,
                          "#0d0887"
                        ],
                        [
                          0.1111111111111111,
                          "#46039f"
                        ],
                        [
                          0.2222222222222222,
                          "#7201a8"
                        ],
                        [
                          0.3333333333333333,
                          "#9c179e"
                        ],
                        [
                          0.4444444444444444,
                          "#bd3786"
                        ],
                        [
                          0.5555555555555556,
                          "#d8576b"
                        ],
                        [
                          0.6666666666666666,
                          "#ed7953"
                        ],
                        [
                          0.7777777777777778,
                          "#fb9f3a"
                        ],
                        [
                          0.8888888888888888,
                          "#fdca26"
                        ],
                        [
                          1,
                          "#f0f921"
                        ]
                      ],
                      "sequentialminus": [
                        [
                          0,
                          "#0d0887"
                        ],
                        [
                          0.1111111111111111,
                          "#46039f"
                        ],
                        [
                          0.2222222222222222,
                          "#7201a8"
                        ],
                        [
                          0.3333333333333333,
                          "#9c179e"
                        ],
                        [
                          0.4444444444444444,
                          "#bd3786"
                        ],
                        [
                          0.5555555555555556,
                          "#d8576b"
                        ],
                        [
                          0.6666666666666666,
                          "#ed7953"
                        ],
                        [
                          0.7777777777777778,
                          "#fb9f3a"
                        ],
                        [
                          0.8888888888888888,
                          "#fdca26"
                        ],
                        [
                          1,
                          "#f0f921"
                        ]
                      ]
                    },
                    "colorway": [
                      "#636efa",
                      "#EF553B",
                      "#00cc96",
                      "#ab63fa",
                      "#FFA15A",
                      "#19d3f3",
                      "#FF6692",
                      "#B6E880",
                      "#FF97FF",
                      "#FECB52"
                    ],
                    "font": {
                      "color": "#2a3f5f"
                    },
                    "geo": {
                      "bgcolor": "white",
                      "lakecolor": "white",
                      "landcolor": "#E5ECF6",
                      "showlakes": true,
                      "showland": true,
                      "subunitcolor": "white"
                    },
                    "hoverlabel": {
                      "align": "left"
                    },
                    "hovermode": "closest",
                    "mapbox": {
                      "style": "light"
                    },
                    "paper_bgcolor": "white",
                    "plot_bgcolor": "#E5ECF6",
                    "polar": {
                      "angularaxis": {
                        "gridcolor": "white",
                        "linecolor": "white",
                        "ticks": ""
                      },
                      "bgcolor": "#E5ECF6",
                      "radialaxis": {
                        "gridcolor": "white",
                        "linecolor": "white",
                        "ticks": ""
                      }
                    },
                    "scene": {
                      "xaxis": {
                        "backgroundcolor": "#E5ECF6",
                        "gridcolor": "white",
                        "gridwidth": 2,
                        "linecolor": "white",
                        "showbackground": true,
                        "ticks": "",
                        "zerolinecolor": "white"
                      },
                      "yaxis": {
                        "backgroundcolor": "#E5ECF6",
                        "gridcolor": "white",
                        "gridwidth": 2,
                        "linecolor": "white",
                        "showbackground": true,
                        "ticks": "",
                        "zerolinecolor": "white"
                      },
                      "zaxis": {
                        "backgroundcolor": "#E5ECF6",
                        "gridcolor": "white",
                        "gridwidth": 2,
                        "linecolor": "white",
                        "showbackground": true,
                        "ticks": "",
                        "zerolinecolor": "white"
                      }
                    },
                    "shapedefaults": {
                      "line": {
                        "color": "#2a3f5f"
                      }
                    },
                    "ternary": {
                      "aaxis": {
                        "gridcolor": "white",
                        "linecolor": "white",
                        "ticks": ""
                      },
                      "baxis": {
                        "gridcolor": "white",
                        "linecolor": "white",
                        "ticks": ""
                      },
                      "bgcolor": "#E5ECF6",
                      "caxis": {
                        "gridcolor": "white",
                        "linecolor": "white",
                        "ticks": ""
                      }
                    },
                    "title": {
                      "x": 0.05
                    },
                    "xaxis": {
                      "automargin": true,
                      "gridcolor": "white",
                      "linecolor": "white",
                      "ticks": "",
                      "title": {
                        "standoff": 15
                      },
                      "zerolinecolor": "white",
                      "zerolinewidth": 2
                    },
                    "yaxis": {
                      "automargin": true,
                      "gridcolor": "white",
                      "linecolor": "white",
                      "ticks": "",
                      "title": {
                        "standoff": 15
                      },
                      "zerolinecolor": "white",
                      "zerolinewidth": 2
                    }
                  }
                },
                "title": {
                  "text": "Choosing Number of Topics Via UMass and CV scores"
                },
                "width": 800,
                "xaxis": {
                  "anchor": "y",
                  "domain": [
                    0,
                    0.45
                  ],
                  "title": {
                    "text": "Num. Topics"
                  }
                },
                "xaxis2": {
                  "anchor": "y2",
                  "domain": [
                    0.55,
                    1
                  ],
                  "title": {
                    "text": "Num. Topics"
                  }
                },
                "yaxis": {
                  "anchor": "x",
                  "domain": [
                    0,
                    1
                  ],
                  "title": {
                    "text": "Coherence Score"
                  }
                },
                "yaxis2": {
                  "anchor": "x2",
                  "domain": [
                    0,
                    1
                  ]
                }
              }
            }
          },
          "metadata": {},
          "output_type": "display_data"
        }
      ],
      "source": [
        "scores = pd.DataFrame(coherence_values, columns=['num_topics', 'UMass', 'CV'])\n",
        "\n",
        "fig = make_subplots(rows=1, cols=2,\n",
        "                    subplot_titles=(\"UMass Score\", \"CV Score\"))\n",
        "\n",
        "fig.add_trace(\n",
        "    go.Scatter(x=scores[\"num_topics\"], y=scores[\"UMass\"]),\n",
        "    row=1, col=1\n",
        ")\n",
        "\n",
        "fig.add_trace(\n",
        "    go.Scatter(x=scores[\"num_topics\"], y=scores[\"CV\"]),\n",
        "    row=1, col=2\n",
        ")\n",
        "\n",
        "fig.update_xaxes(title_text=\"Num. Topics\", row=1, col=1)\n",
        "fig.update_xaxes(title_text=\"Num. Topics\", row=1, col=2)\n",
        "\n",
        "fig.update_yaxes(title_text=\"Coherence Score\", row=1, col=1)\n",
        "\n",
        "\n",
        "fig.update_layout(height=600, width=800, title_text=\"Choosing Number of Topics Via UMass and CV scores\")\n",
        "fig.show()"
      ]
    },
    {
      "cell_type": "markdown",
      "metadata": {
        "id": "7BgdI8cCqSFE"
      },
      "source": [
        "The best maxima occurs at 17 topics for both measures. However, since we prefer explainability, we prefer the local maxima with 7 topics, which represents the second highest peak for UMass and a local maxima for CV score. "
      ]
    },
    {
      "cell_type": "markdown",
      "metadata": {
        "id": "bYlZT1qyqaXH"
      },
      "source": [
        "#### Step 4: Running the model\n",
        "\n",
        "Having chosen the number of topics, we run the full model and analyze the results."
      ]
    },
    {
      "cell_type": "code",
      "execution_count": 42,
      "metadata": {
        "colab": {
          "base_uri": "https://localhost:8080/",
          "height": 304
        },
        "id": "UlFc_bwLtBHm",
        "outputId": "252704d1-4d48-4be3-eaa2-368351dd03de"
      },
      "outputs": [
        {
          "name": "stdout",
          "output_type": "stream",
          "text": [
            "chunk size: 7107.45\n",
            "fitting model\n",
            "done in 352.34129548072815\n"
          ]
        }
      ],
      "source": [
        "if FIRST_RUN: \n",
        "    num_topics = 7\n",
        "    \n",
        "    # find chunksize to make about 200 updates\n",
        "    num_passes = 10\n",
        "    chunk_size = len(model_corpus) * num_passes/200\n",
        "    print(f\"chunk size: {chunk_size}\")\n",
        "    \n",
        "    start = time.time()\n",
        "    print(\"fitting model\", flush=True)\n",
        "    model = LdaMulticore(num_topics=num_topics, # number of topics\n",
        "                         corpus=model_corpus, # what to train on \n",
        "                         id2word=dictionary, # mapping from IDs to words\n",
        "                         workers=min(10, multiprocessing.cpu_count()-1), # choose 10 cores, or whatever computer has\n",
        "                         passes=num_passes, # make this many passes over data\n",
        "                         chunksize=chunk_size, # update after this many instances\n",
        "                         alpha=0.5,\n",
        "                         random_state = 2\n",
        "                        )\n",
        "        \n",
        "    print(\"done in {}\".format(time.time()-start), flush=True)\n",
        "    with open(\"./Models/model_lda\", \"wb\") as fp:\n",
        "        pickle.dump(model, fp)\n",
        "else:\n",
        "    with open(\"./Models/model_lda\", \"rb\") as fp:\n",
        "        model = pickle.load(fp)\n"
      ]
    },
    {
      "cell_type": "markdown",
      "metadata": {},
      "source": [
        "#### Step 5: Analyzing results\n",
        "\n",
        "We now extract the descriptors for all 7 topics and try to understand the topics which they describe."
      ]
    },
    {
      "cell_type": "code",
      "execution_count": 43,
      "metadata": {
        "id": "hjqiF5D1ZATg"
      },
      "outputs": [],
      "source": [
        "def get_descriptors(model, num_words = 5):\n",
        "    topic_sep = re.compile(r\"0\\.[0-9]{3}\\*|\\+|\\\"\") # getting rid of useless formatting\n",
        "    model_topics = [(topic_no, re.sub(topic_sep, '', model_topic)) for topic_no, model_topic in\n",
        "                    model.print_topics(num_words=num_words)]\n",
        "    descriptors = {}\n",
        "    for i, m in model_topics:\n",
        "        descriptors[f\"topic {i+1}\"] = m.split()\n",
        "    return pd.DataFrame.from_dict(descriptors, orient = \"index\", columns = [f\"Word {i}\" for i in range(1,num_words+1)])"
      ]
    },
    {
      "cell_type": "code",
      "execution_count": 50,
      "metadata": {
        "id": "x40X1qHiayEF"
      },
      "outputs": [
        {
          "data": {
            "text/html": [
              "<div>\n",
              "<style scoped>\n",
              "    .dataframe tbody tr th:only-of-type {\n",
              "        vertical-align: middle;\n",
              "    }\n",
              "\n",
              "    .dataframe tbody tr th {\n",
              "        vertical-align: top;\n",
              "    }\n",
              "\n",
              "    .dataframe thead th {\n",
              "        text-align: right;\n",
              "    }\n",
              "</style>\n",
              "<table border=\"1\" class=\"dataframe\">\n",
              "  <thead>\n",
              "    <tr style=\"text-align: right;\">\n",
              "      <th></th>\n",
              "      <th>Word 1</th>\n",
              "      <th>Word 2</th>\n",
              "      <th>Word 3</th>\n",
              "      <th>Word 4</th>\n",
              "      <th>Word 5</th>\n",
              "      <th>Word 6</th>\n",
              "      <th>Word 7</th>\n",
              "      <th>Word 8</th>\n",
              "      <th>Word 9</th>\n",
              "      <th>Word 10</th>\n",
              "    </tr>\n",
              "  </thead>\n",
              "  <tbody>\n",
              "    <tr>\n",
              "      <th>topic 1</th>\n",
              "      <td>theory</td>\n",
              "      <td>study</td>\n",
              "      <td>social</td>\n",
              "      <td>history</td>\n",
              "      <td>science</td>\n",
              "      <td>culture</td>\n",
              "      <td>work</td>\n",
              "      <td>book</td>\n",
              "      <td>introduction</td>\n",
              "      <td>modern</td>\n",
              "    </tr>\n",
              "    <tr>\n",
              "      <th>topic 2</th>\n",
              "      <td>art</td>\n",
              "      <td>guide</td>\n",
              "      <td>design</td>\n",
              "      <td>include</td>\n",
              "      <td>edition</td>\n",
              "      <td>book</td>\n",
              "      <td>feature</td>\n",
              "      <td>dictionary</td>\n",
              "      <td>color</td>\n",
              "      <td>work</td>\n",
              "    </tr>\n",
              "    <tr>\n",
              "      <th>topic 3</th>\n",
              "      <td>guide</td>\n",
              "      <td>student</td>\n",
              "      <td>business</td>\n",
              "      <td>help</td>\n",
              "      <td>provide</td>\n",
              "      <td>child</td>\n",
              "      <td>practice</td>\n",
              "      <td>information</td>\n",
              "      <td>learn</td>\n",
              "      <td>system</td>\n",
              "    </tr>\n",
              "    <tr>\n",
              "      <th>topic 4</th>\n",
              "      <td>god</td>\n",
              "      <td>bible</td>\n",
              "      <td>life</td>\n",
              "      <td>book</td>\n",
              "      <td>spiritual</td>\n",
              "      <td>christian</td>\n",
              "      <td>jesus</td>\n",
              "      <td>work</td>\n",
              "      <td>church</td>\n",
              "      <td>christ</td>\n",
              "    </tr>\n",
              "    <tr>\n",
              "      <th>topic 5</th>\n",
              "      <td>love</td>\n",
              "      <td>man</td>\n",
              "      <td>story</td>\n",
              "      <td>woman</td>\n",
              "      <td>life</td>\n",
              "      <td>novel</td>\n",
              "      <td>family</td>\n",
              "      <td>find</td>\n",
              "      <td>young</td>\n",
              "      <td>murder</td>\n",
              "    </tr>\n",
              "    <tr>\n",
              "      <th>topic 6</th>\n",
              "      <td>war</td>\n",
              "      <td>history</td>\n",
              "      <td>world</td>\n",
              "      <td>military</td>\n",
              "      <td>american</td>\n",
              "      <td>political</td>\n",
              "      <td>new</td>\n",
              "      <td>life</td>\n",
              "      <td>book</td>\n",
              "      <td>civil</td>\n",
              "    </tr>\n",
              "    <tr>\n",
              "      <th>topic 7</th>\n",
              "      <td>story</td>\n",
              "      <td>adventure</td>\n",
              "      <td>animal</td>\n",
              "      <td>christmas</td>\n",
              "      <td>book</td>\n",
              "      <td>song</td>\n",
              "      <td>music</td>\n",
              "      <td>little</td>\n",
              "      <td>great</td>\n",
              "      <td>tale</td>\n",
              "    </tr>\n",
              "  </tbody>\n",
              "</table>\n",
              "</div>"
            ],
            "text/plain": [
              "         Word 1     Word 2    Word 3     Word 4     Word 5     Word 6  \\\n",
              "topic 1  theory      study    social    history    science    culture   \n",
              "topic 2     art      guide    design    include    edition       book   \n",
              "topic 3   guide    student  business       help    provide      child   \n",
              "topic 4     god      bible      life       book  spiritual  christian   \n",
              "topic 5    love        man     story      woman       life      novel   \n",
              "topic 6     war    history     world   military   american  political   \n",
              "topic 7   story  adventure    animal  christmas       book       song   \n",
              "\n",
              "           Word 7       Word 8        Word 9 Word 10  \n",
              "topic 1      work         book  introduction  modern  \n",
              "topic 2   feature   dictionary         color    work  \n",
              "topic 3  practice  information         learn  system  \n",
              "topic 4     jesus         work        church  christ  \n",
              "topic 5    family         find         young  murder  \n",
              "topic 6       new         life          book   civil  \n",
              "topic 7     music       little         great    tale  "
            ]
          },
          "execution_count": 50,
          "metadata": {},
          "output_type": "execute_result"
        }
      ],
      "source": [
        "topics = get_descriptors(model, 10)\n",
        "topics"
      ]
    },
    {
      "cell_type": "markdown",
      "metadata": {
        "id": "26H30tI2_HfC"
      },
      "source": [
        "As we can see, the topics are quite easy to interpret:\n",
        "- topic 1: words such as \"theory\", \"study\", \"history\", \"science\" indicate that this topic belongs to **academia**\n",
        "- topic 2: words such as \"guide\" along with \"design\" and \"art\" indicate that this topic belongs to **art**.\n",
        "- topic 3: words such as \"guide\" along with \"student\", \"business\", \"help\" and \"provide\" tell us that this topic deals with **student help**.\n",
        "- topic 4: words such as \"god\", \"bible\" indicate a religious theme: **religion**.\n",
        "- topic 5: words such as \"love\", \"man\", \"woman\", \"murder\" indicate the theme of **fiction & romance**.\n",
        "- topic 6: words such as \"war\", \"history\", \"military\", \"american\" suggest a theme of **american war history**.\n",
        "- topic 7: words such as \"story\", \"adventure\", \"animal\", \"book\" indicate a theme related to **children books**.\n"
      ]
    },
    {
      "cell_type": "markdown",
      "metadata": {
        "id": "K8AnlvkUbhiE"
      },
      "source": [
        "As we can see, these themes more or less relate to the top 10 categories with a few important observations:\n",
        "- The theme **art** is not present in the top 10 categories. \n",
        "- Looking at the top 10 categories we could think that the theme of **fiction & romance** could  actually related to the category of **biography & autobiography** since the descriptors could very well be dealing with someone's personal life. \n",
        "- The theme of **student help** is probably associated to the theme of **juvenile non-fiction**"
      ]
    },
    {
      "cell_type": "markdown",
      "metadata": {},
      "source": [
        "#### Topic frequency over the years\n",
        "Finally, lets analyze how the popularity of the themes changed throughout the years.\n",
        "\n",
        "In particular, we will analyze the last 12 years (for graphical and practical reasons)"
      ]
    },
    {
      "cell_type": "code",
      "execution_count": 91,
      "metadata": {
        "id": "NFyUPg_2Blf8"
      },
      "outputs": [],
      "source": [
        "topic_corpus = model[model_corpus]\n",
        "scores = [[t[1] for t in topic_corpus[entry]] for entry in range(len(book_description_corpus))]\n"
      ]
    },
    {
      "cell_type": "code",
      "execution_count": 152,
      "metadata": {},
      "outputs": [],
      "source": [
        "df_books_en[[\"topic1\", \"topic2\", \"topic3\", \"topic4\", \"topic5\", \"topic6\", \"topic7\"]]=scores"
      ]
    },
    {
      "cell_type": "code",
      "execution_count": 153,
      "metadata": {},
      "outputs": [
        {
          "data": {
            "text/html": [
              "<div>\n",
              "<style scoped>\n",
              "    .dataframe tbody tr th:only-of-type {\n",
              "        vertical-align: middle;\n",
              "    }\n",
              "\n",
              "    .dataframe tbody tr th {\n",
              "        vertical-align: top;\n",
              "    }\n",
              "\n",
              "    .dataframe thead th {\n",
              "        text-align: right;\n",
              "    }\n",
              "</style>\n",
              "<table border=\"1\" class=\"dataframe\">\n",
              "  <thead>\n",
              "    <tr style=\"text-align: right;\">\n",
              "      <th></th>\n",
              "      <th>Title</th>\n",
              "      <th>description</th>\n",
              "      <th>authors</th>\n",
              "      <th>publishedDate</th>\n",
              "      <th>categories</th>\n",
              "      <th>new_desc</th>\n",
              "      <th>lang</th>\n",
              "      <th>topic1</th>\n",
              "      <th>topic2</th>\n",
              "      <th>topic3</th>\n",
              "      <th>topic4</th>\n",
              "      <th>topic5</th>\n",
              "      <th>topic6</th>\n",
              "      <th>topic7</th>\n",
              "    </tr>\n",
              "  </thead>\n",
              "  <tbody>\n",
              "    <tr>\n",
              "      <th>1</th>\n",
              "      <td>Dr. Seuss: American Icon</td>\n",
              "      <td>Philip Nel takes a fascinating look into the k...</td>\n",
              "      <td>['Philip Nel']</td>\n",
              "      <td>2005</td>\n",
              "      <td>['Biography &amp; Autobiography']</td>\n",
              "      <td>Philip Nel takes a fascinating look into the k...</td>\n",
              "      <td>en</td>\n",
              "      <td>0.095130</td>\n",
              "      <td>0.340764</td>\n",
              "      <td>0.068506</td>\n",
              "      <td>0.075415</td>\n",
              "      <td>0.064876</td>\n",
              "      <td>0.266570</td>\n",
              "      <td>0.088739</td>\n",
              "    </tr>\n",
              "    <tr>\n",
              "      <th>2</th>\n",
              "      <td>Wonderful Worship in Smaller Churches</td>\n",
              "      <td>This resource includes twelve principles in un...</td>\n",
              "      <td>['David R. Ray']</td>\n",
              "      <td>2000</td>\n",
              "      <td>['Religion']</td>\n",
              "      <td>This resource includes twelve principles in un...</td>\n",
              "      <td>en</td>\n",
              "      <td>0.105597</td>\n",
              "      <td>0.084881</td>\n",
              "      <td>0.199642</td>\n",
              "      <td>0.347270</td>\n",
              "      <td>0.083063</td>\n",
              "      <td>0.088499</td>\n",
              "      <td>0.091049</td>\n",
              "    </tr>\n",
              "    <tr>\n",
              "      <th>3</th>\n",
              "      <td>Whispers of the Wicked Saints</td>\n",
              "      <td>Julia Thomas finds her life spinning out of co...</td>\n",
              "      <td>['Veronica Haddon']</td>\n",
              "      <td>2005</td>\n",
              "      <td>['Fiction']</td>\n",
              "      <td>Julia Thomas finds her life spinning out of co...</td>\n",
              "      <td>en</td>\n",
              "      <td>0.056008</td>\n",
              "      <td>0.054771</td>\n",
              "      <td>0.063038</td>\n",
              "      <td>0.090354</td>\n",
              "      <td>0.606541</td>\n",
              "      <td>0.068405</td>\n",
              "      <td>0.060883</td>\n",
              "    </tr>\n",
              "    <tr>\n",
              "      <th>5</th>\n",
              "      <td>The Church of Christ: A Biblical Ecclesiology ...</td>\n",
              "      <td>In The Church of Christ: A Biblical Ecclesiolo...</td>\n",
              "      <td>['Everett Ferguson']</td>\n",
              "      <td>1996</td>\n",
              "      <td>['Religion']</td>\n",
              "      <td>In The Church of Christ: A Biblical Ecclesiolo...</td>\n",
              "      <td>en</td>\n",
              "      <td>0.085947</td>\n",
              "      <td>0.068766</td>\n",
              "      <td>0.075421</td>\n",
              "      <td>0.549577</td>\n",
              "      <td>0.081188</td>\n",
              "      <td>0.074279</td>\n",
              "      <td>0.064822</td>\n",
              "    </tr>\n",
              "    <tr>\n",
              "      <th>8</th>\n",
              "      <td>Saint Hyacinth of Poland</td>\n",
              "      <td>The story for children 10 and up of St. Hyacin...</td>\n",
              "      <td>['Mary Fabyan Windeatt']</td>\n",
              "      <td>2009</td>\n",
              "      <td>['Biography &amp; Autobiography']</td>\n",
              "      <td>The story for children 10 and up of St. Hyacin...</td>\n",
              "      <td>en</td>\n",
              "      <td>0.082401</td>\n",
              "      <td>0.073128</td>\n",
              "      <td>0.071681</td>\n",
              "      <td>0.275148</td>\n",
              "      <td>0.091007</td>\n",
              "      <td>0.322728</td>\n",
              "      <td>0.083908</td>\n",
              "    </tr>\n",
              "    <tr>\n",
              "      <th>...</th>\n",
              "      <td>...</td>\n",
              "      <td>...</td>\n",
              "      <td>...</td>\n",
              "      <td>...</td>\n",
              "      <td>...</td>\n",
              "      <td>...</td>\n",
              "      <td>...</td>\n",
              "      <td>...</td>\n",
              "      <td>...</td>\n",
              "      <td>...</td>\n",
              "      <td>...</td>\n",
              "      <td>...</td>\n",
              "      <td>...</td>\n",
              "      <td>...</td>\n",
              "    </tr>\n",
              "    <tr>\n",
              "      <th>212399</th>\n",
              "      <td>The Orphan Of Ellis Island (Time Travel Advent...</td>\n",
              "      <td>During a school trip to Ellis Island, Dominick...</td>\n",
              "      <td>['Elvira Woodruff']</td>\n",
              "      <td>2000</td>\n",
              "      <td>['Juvenile Fiction']</td>\n",
              "      <td>During a school trip to Ellis Island, Dominick...</td>\n",
              "      <td>en</td>\n",
              "      <td>0.082278</td>\n",
              "      <td>0.091112</td>\n",
              "      <td>0.083885</td>\n",
              "      <td>0.081321</td>\n",
              "      <td>0.338309</td>\n",
              "      <td>0.086601</td>\n",
              "      <td>0.236494</td>\n",
              "    </tr>\n",
              "    <tr>\n",
              "      <th>212400</th>\n",
              "      <td>Red Boots for Christmas</td>\n",
              "      <td>Everyone in the village of Friedensdorf is hap...</td>\n",
              "      <td>NaN</td>\n",
              "      <td>1995</td>\n",
              "      <td>['Juvenile Fiction']</td>\n",
              "      <td>Everyone in the village of Friedensdorf is hap...</td>\n",
              "      <td>en</td>\n",
              "      <td>0.082209</td>\n",
              "      <td>0.089091</td>\n",
              "      <td>0.087297</td>\n",
              "      <td>0.098683</td>\n",
              "      <td>0.233809</td>\n",
              "      <td>0.092970</td>\n",
              "      <td>0.315941</td>\n",
              "    </tr>\n",
              "    <tr>\n",
              "      <th>212401</th>\n",
              "      <td>Mamaw</td>\n",
              "      <td>Give your Mamaw a useful, beautiful and though...</td>\n",
              "      <td>['Wild Wild Cabbage']</td>\n",
              "      <td>2018</td>\n",
              "      <td>NaN</td>\n",
              "      <td>Give your Mamaw a useful, beautiful and though...</td>\n",
              "      <td>en</td>\n",
              "      <td>0.071210</td>\n",
              "      <td>0.113667</td>\n",
              "      <td>0.081025</td>\n",
              "      <td>0.233818</td>\n",
              "      <td>0.134653</td>\n",
              "      <td>0.081190</td>\n",
              "      <td>0.284437</td>\n",
              "    </tr>\n",
              "    <tr>\n",
              "      <th>212402</th>\n",
              "      <td>The Autograph Man</td>\n",
              "      <td>Alex-Li Tandem sells autographs. His business ...</td>\n",
              "      <td>['Zadie Smith']</td>\n",
              "      <td>2003</td>\n",
              "      <td>['Fiction']</td>\n",
              "      <td>Alex-Li Tandem sells autographs. His business ...</td>\n",
              "      <td>en</td>\n",
              "      <td>0.113216</td>\n",
              "      <td>0.085311</td>\n",
              "      <td>0.081603</td>\n",
              "      <td>0.099031</td>\n",
              "      <td>0.417966</td>\n",
              "      <td>0.082309</td>\n",
              "      <td>0.120565</td>\n",
              "    </tr>\n",
              "    <tr>\n",
              "      <th>212403</th>\n",
              "      <td>Student's Solutions Manual for Johnson/Mowry's...</td>\n",
              "      <td>Discover the many ways mathematics is relevant...</td>\n",
              "      <td>['David B. Johnson', 'Thomas A. Mowry']</td>\n",
              "      <td>1998</td>\n",
              "      <td>NaN</td>\n",
              "      <td>Discover the many ways mathematics is relevant...</td>\n",
              "      <td>en</td>\n",
              "      <td>0.217424</td>\n",
              "      <td>0.087637</td>\n",
              "      <td>0.408514</td>\n",
              "      <td>0.072673</td>\n",
              "      <td>0.061691</td>\n",
              "      <td>0.087392</td>\n",
              "      <td>0.064669</td>\n",
              "    </tr>\n",
              "  </tbody>\n",
              "</table>\n",
              "<p>142149 rows × 14 columns</p>\n",
              "</div>"
            ],
            "text/plain": [
              "                                                    Title  \\\n",
              "1                                Dr. Seuss: American Icon   \n",
              "2                   Wonderful Worship in Smaller Churches   \n",
              "3                           Whispers of the Wicked Saints   \n",
              "5       The Church of Christ: A Biblical Ecclesiology ...   \n",
              "8                                Saint Hyacinth of Poland   \n",
              "...                                                   ...   \n",
              "212399  The Orphan Of Ellis Island (Time Travel Advent...   \n",
              "212400                            Red Boots for Christmas   \n",
              "212401                                              Mamaw   \n",
              "212402                                  The Autograph Man   \n",
              "212403  Student's Solutions Manual for Johnson/Mowry's...   \n",
              "\n",
              "                                              description  \\\n",
              "1       Philip Nel takes a fascinating look into the k...   \n",
              "2       This resource includes twelve principles in un...   \n",
              "3       Julia Thomas finds her life spinning out of co...   \n",
              "5       In The Church of Christ: A Biblical Ecclesiolo...   \n",
              "8       The story for children 10 and up of St. Hyacin...   \n",
              "...                                                   ...   \n",
              "212399  During a school trip to Ellis Island, Dominick...   \n",
              "212400  Everyone in the village of Friedensdorf is hap...   \n",
              "212401  Give your Mamaw a useful, beautiful and though...   \n",
              "212402  Alex-Li Tandem sells autographs. His business ...   \n",
              "212403  Discover the many ways mathematics is relevant...   \n",
              "\n",
              "                                        authors publishedDate  \\\n",
              "1                                ['Philip Nel']          2005   \n",
              "2                              ['David R. Ray']          2000   \n",
              "3                           ['Veronica Haddon']          2005   \n",
              "5                          ['Everett Ferguson']          1996   \n",
              "8                      ['Mary Fabyan Windeatt']          2009   \n",
              "...                                         ...           ...   \n",
              "212399                      ['Elvira Woodruff']          2000   \n",
              "212400                                      NaN          1995   \n",
              "212401                    ['Wild Wild Cabbage']          2018   \n",
              "212402                          ['Zadie Smith']          2003   \n",
              "212403  ['David B. Johnson', 'Thomas A. Mowry']          1998   \n",
              "\n",
              "                           categories  \\\n",
              "1       ['Biography & Autobiography']   \n",
              "2                        ['Religion']   \n",
              "3                         ['Fiction']   \n",
              "5                        ['Religion']   \n",
              "8       ['Biography & Autobiography']   \n",
              "...                               ...   \n",
              "212399           ['Juvenile Fiction']   \n",
              "212400           ['Juvenile Fiction']   \n",
              "212401                            NaN   \n",
              "212402                    ['Fiction']   \n",
              "212403                            NaN   \n",
              "\n",
              "                                                 new_desc lang    topic1  \\\n",
              "1       Philip Nel takes a fascinating look into the k...   en  0.095130   \n",
              "2       This resource includes twelve principles in un...   en  0.105597   \n",
              "3       Julia Thomas finds her life spinning out of co...   en  0.056008   \n",
              "5       In The Church of Christ: A Biblical Ecclesiolo...   en  0.085947   \n",
              "8       The story for children 10 and up of St. Hyacin...   en  0.082401   \n",
              "...                                                   ...  ...       ...   \n",
              "212399  During a school trip to Ellis Island, Dominick...   en  0.082278   \n",
              "212400  Everyone in the village of Friedensdorf is hap...   en  0.082209   \n",
              "212401  Give your Mamaw a useful, beautiful and though...   en  0.071210   \n",
              "212402  Alex-Li Tandem sells autographs. His business ...   en  0.113216   \n",
              "212403  Discover the many ways mathematics is relevant...   en  0.217424   \n",
              "\n",
              "          topic2    topic3    topic4    topic5    topic6    topic7  \n",
              "1       0.340764  0.068506  0.075415  0.064876  0.266570  0.088739  \n",
              "2       0.084881  0.199642  0.347270  0.083063  0.088499  0.091049  \n",
              "3       0.054771  0.063038  0.090354  0.606541  0.068405  0.060883  \n",
              "5       0.068766  0.075421  0.549577  0.081188  0.074279  0.064822  \n",
              "8       0.073128  0.071681  0.275148  0.091007  0.322728  0.083908  \n",
              "...          ...       ...       ...       ...       ...       ...  \n",
              "212399  0.091112  0.083885  0.081321  0.338309  0.086601  0.236494  \n",
              "212400  0.089091  0.087297  0.098683  0.233809  0.092970  0.315941  \n",
              "212401  0.113667  0.081025  0.233818  0.134653  0.081190  0.284437  \n",
              "212402  0.085311  0.081603  0.099031  0.417966  0.082309  0.120565  \n",
              "212403  0.087637  0.408514  0.072673  0.061691  0.087392  0.064669  \n",
              "\n",
              "[142149 rows x 14 columns]"
            ]
          },
          "execution_count": 153,
          "metadata": {},
          "output_type": "execute_result"
        }
      ],
      "source": [
        "df_books_en"
      ]
    },
    {
      "cell_type": "code",
      "execution_count": 154,
      "metadata": {},
      "outputs": [
        {
          "data": {
            "text/plain": [
              "2022    1006\n",
              "2021    2645\n",
              "2020    2724\n",
              "2019    2697\n",
              "2018    2766\n",
              "2017    2992\n",
              "2016    3187\n",
              "2015    3540\n",
              "2014    4288\n",
              "2013    5098\n",
              "2012    5218\n",
              "2011    4532\n",
              "2010    3906\n",
              "Name: publishedDate, dtype: int64"
            ]
          },
          "execution_count": 154,
          "metadata": {},
          "output_type": "execute_result"
        }
      ],
      "source": [
        "df_books_en.loc[98662,\"publishedDate\"] = \"2007\" #Wrong Data point, used to be 2030 which is impossible\n",
        "years = df_books_en[\"publishedDate\"].value_counts().sort_index(ascending=False)[:14]\n",
        "years.pop(\"2023\") # strangely enough, we had some points from 2023 (perhaps books that are announced but yet to be published?). These were eliminated\n",
        "years"
      ]
    },
    {
      "cell_type": "code",
      "execution_count": 155,
      "metadata": {},
      "outputs": [
        {
          "name": "stdout",
          "output_type": "stream",
          "text": [
            "44599\n"
          ]
        }
      ],
      "source": [
        "print(sum(years.values))\n",
        "years = years.index.tolist()"
      ]
    },
    {
      "cell_type": "code",
      "execution_count": 156,
      "metadata": {},
      "outputs": [
        {
          "data": {
            "text/html": [
              "<div>\n",
              "<style scoped>\n",
              "    .dataframe tbody tr th:only-of-type {\n",
              "        vertical-align: middle;\n",
              "    }\n",
              "\n",
              "    .dataframe tbody tr th {\n",
              "        vertical-align: top;\n",
              "    }\n",
              "\n",
              "    .dataframe thead th {\n",
              "        text-align: right;\n",
              "    }\n",
              "</style>\n",
              "<table border=\"1\" class=\"dataframe\">\n",
              "  <thead>\n",
              "    <tr style=\"text-align: right;\">\n",
              "      <th></th>\n",
              "      <th>Title</th>\n",
              "      <th>description</th>\n",
              "      <th>authors</th>\n",
              "      <th>publishedDate</th>\n",
              "      <th>categories</th>\n",
              "      <th>new_desc</th>\n",
              "      <th>lang</th>\n",
              "      <th>topic1</th>\n",
              "      <th>topic2</th>\n",
              "      <th>topic3</th>\n",
              "      <th>topic4</th>\n",
              "      <th>topic5</th>\n",
              "      <th>topic6</th>\n",
              "      <th>topic7</th>\n",
              "    </tr>\n",
              "  </thead>\n",
              "  <tbody>\n",
              "    <tr>\n",
              "      <th>12</th>\n",
              "      <td>Mensa Number Puzzles (Mensa Word Games for Kids)</td>\n",
              "      <td>Acclaimed teacher and puzzler Evelyn B. Christ...</td>\n",
              "      <td>['Evelyn B. Christensen']</td>\n",
              "      <td>2018</td>\n",
              "      <td>['Juvenile Nonfiction']</td>\n",
              "      <td>Acclaimed teacher and puzzler Evelyn B. Christ...</td>\n",
              "      <td>en</td>\n",
              "      <td>0.081379</td>\n",
              "      <td>0.206227</td>\n",
              "      <td>0.368441</td>\n",
              "      <td>0.074345</td>\n",
              "      <td>0.093401</td>\n",
              "      <td>0.071278</td>\n",
              "      <td>0.104929</td>\n",
              "    </tr>\n",
              "    <tr>\n",
              "      <th>13</th>\n",
              "      <td>Vector Quantization and Signal Compression (Th...</td>\n",
              "      <td>Herb Caen, a popular columnist for the San Fra...</td>\n",
              "      <td>['Allen Gersho', 'Robert M. Gray']</td>\n",
              "      <td>2012</td>\n",
              "      <td>['Technology &amp; Engineering']</td>\n",
              "      <td>Herb Caen, a popular columnist for the San Fra...</td>\n",
              "      <td>en</td>\n",
              "      <td>0.281639</td>\n",
              "      <td>0.166511</td>\n",
              "      <td>0.293628</td>\n",
              "      <td>0.065531</td>\n",
              "      <td>0.059910</td>\n",
              "      <td>0.065226</td>\n",
              "      <td>0.067555</td>\n",
              "    </tr>\n",
              "    <tr>\n",
              "      <th>14</th>\n",
              "      <td>A husband for Kutani</td>\n",
              "      <td>First published in 1938, this is a collection ...</td>\n",
              "      <td>['Frank Owen']</td>\n",
              "      <td>2018</td>\n",
              "      <td>['History']</td>\n",
              "      <td>First published in 1938, this is a collection ...</td>\n",
              "      <td>en</td>\n",
              "      <td>0.079303</td>\n",
              "      <td>0.154894</td>\n",
              "      <td>0.067302</td>\n",
              "      <td>0.214772</td>\n",
              "      <td>0.250086</td>\n",
              "      <td>0.110496</td>\n",
              "      <td>0.123148</td>\n",
              "    </tr>\n",
              "    <tr>\n",
              "      <th>16</th>\n",
              "      <td>The Ultimate Guide to Law School Admission: In...</td>\n",
              "      <td>This collection brings together a distinguishe...</td>\n",
              "      <td>['Fiona Cownie']</td>\n",
              "      <td>2010</td>\n",
              "      <td>['Law']</td>\n",
              "      <td>This collection brings together a distinguishe...</td>\n",
              "      <td>en</td>\n",
              "      <td>0.140504</td>\n",
              "      <td>0.069417</td>\n",
              "      <td>0.428557</td>\n",
              "      <td>0.091853</td>\n",
              "      <td>0.068621</td>\n",
              "      <td>0.115173</td>\n",
              "      <td>0.085873</td>\n",
              "    </tr>\n",
              "    <tr>\n",
              "      <th>17</th>\n",
              "      <td>The Repeal of Reticence: A History of America'...</td>\n",
              "      <td>At a time when America's faculties of taste an...</td>\n",
              "      <td>['Rochelle Gurstein']</td>\n",
              "      <td>2016</td>\n",
              "      <td>['Political Science']</td>\n",
              "      <td>At a time when America's faculties of taste an...</td>\n",
              "      <td>en</td>\n",
              "      <td>0.169678</td>\n",
              "      <td>0.070360</td>\n",
              "      <td>0.144317</td>\n",
              "      <td>0.102388</td>\n",
              "      <td>0.102878</td>\n",
              "      <td>0.352481</td>\n",
              "      <td>0.057897</td>\n",
              "    </tr>\n",
              "    <tr>\n",
              "      <th>...</th>\n",
              "      <td>...</td>\n",
              "      <td>...</td>\n",
              "      <td>...</td>\n",
              "      <td>...</td>\n",
              "      <td>...</td>\n",
              "      <td>...</td>\n",
              "      <td>...</td>\n",
              "      <td>...</td>\n",
              "      <td>...</td>\n",
              "      <td>...</td>\n",
              "      <td>...</td>\n",
              "      <td>...</td>\n",
              "      <td>...</td>\n",
              "      <td>...</td>\n",
              "    </tr>\n",
              "    <tr>\n",
              "      <th>212348</th>\n",
              "      <td>Watercolor: For the Artistically Undiscovered ...</td>\n",
              "      <td>Put the brush in your hand. Stick it in the wa...</td>\n",
              "      <td>['Thacher Hurd', 'John Cassidy']</td>\n",
              "      <td>2017</td>\n",
              "      <td>['Art']</td>\n",
              "      <td>Put the brush in your hand. Stick it in the wa...</td>\n",
              "      <td>en</td>\n",
              "      <td>0.060808</td>\n",
              "      <td>0.403781</td>\n",
              "      <td>0.083427</td>\n",
              "      <td>0.081929</td>\n",
              "      <td>0.241133</td>\n",
              "      <td>0.060765</td>\n",
              "      <td>0.068156</td>\n",
              "    </tr>\n",
              "    <tr>\n",
              "      <th>212375</th>\n",
              "      <td>Sell and Re-Sell Your Photos</td>\n",
              "      <td>Sell your photos again and again! Live anywher...</td>\n",
              "      <td>['Rohn Engh', 'Mikael Karlsson']</td>\n",
              "      <td>2016</td>\n",
              "      <td>['Photography']</td>\n",
              "      <td>Sell your photos again and again! Live anywher...</td>\n",
              "      <td>en</td>\n",
              "      <td>0.056735</td>\n",
              "      <td>0.290012</td>\n",
              "      <td>0.332104</td>\n",
              "      <td>0.077475</td>\n",
              "      <td>0.060911</td>\n",
              "      <td>0.120815</td>\n",
              "      <td>0.061948</td>\n",
              "    </tr>\n",
              "    <tr>\n",
              "      <th>212394</th>\n",
              "      <td>Final things</td>\n",
              "      <td>Grace's father believes in science and builds ...</td>\n",
              "      <td>['Jenny Offill']</td>\n",
              "      <td>2015</td>\n",
              "      <td>['Fiction']</td>\n",
              "      <td>Grace's father believes in science and builds ...</td>\n",
              "      <td>en</td>\n",
              "      <td>0.058780</td>\n",
              "      <td>0.056405</td>\n",
              "      <td>0.055993</td>\n",
              "      <td>0.077312</td>\n",
              "      <td>0.604928</td>\n",
              "      <td>0.058690</td>\n",
              "      <td>0.087891</td>\n",
              "    </tr>\n",
              "    <tr>\n",
              "      <th>212398</th>\n",
              "      <td>Autodesk Inventor 10 Essentials Plus</td>\n",
              "      <td>Autodesk Inventor 2017 Essentials Plus provide...</td>\n",
              "      <td>['Daniel Banach', 'Travis Jones']</td>\n",
              "      <td>2016</td>\n",
              "      <td>['Computers']</td>\n",
              "      <td>Autodesk Inventor 2017 Essentials Plus provide...</td>\n",
              "      <td>en</td>\n",
              "      <td>0.057221</td>\n",
              "      <td>0.286917</td>\n",
              "      <td>0.451048</td>\n",
              "      <td>0.053184</td>\n",
              "      <td>0.047131</td>\n",
              "      <td>0.053911</td>\n",
              "      <td>0.050588</td>\n",
              "    </tr>\n",
              "    <tr>\n",
              "      <th>212401</th>\n",
              "      <td>Mamaw</td>\n",
              "      <td>Give your Mamaw a useful, beautiful and though...</td>\n",
              "      <td>['Wild Wild Cabbage']</td>\n",
              "      <td>2018</td>\n",
              "      <td>NaN</td>\n",
              "      <td>Give your Mamaw a useful, beautiful and though...</td>\n",
              "      <td>en</td>\n",
              "      <td>0.071210</td>\n",
              "      <td>0.113667</td>\n",
              "      <td>0.081025</td>\n",
              "      <td>0.233818</td>\n",
              "      <td>0.134653</td>\n",
              "      <td>0.081190</td>\n",
              "      <td>0.284437</td>\n",
              "    </tr>\n",
              "  </tbody>\n",
              "</table>\n",
              "<p>44599 rows × 14 columns</p>\n",
              "</div>"
            ],
            "text/plain": [
              "                                                    Title  \\\n",
              "12       Mensa Number Puzzles (Mensa Word Games for Kids)   \n",
              "13      Vector Quantization and Signal Compression (Th...   \n",
              "14                                   A husband for Kutani   \n",
              "16      The Ultimate Guide to Law School Admission: In...   \n",
              "17      The Repeal of Reticence: A History of America'...   \n",
              "...                                                   ...   \n",
              "212348  Watercolor: For the Artistically Undiscovered ...   \n",
              "212375                       Sell and Re-Sell Your Photos   \n",
              "212394                                       Final things   \n",
              "212398               Autodesk Inventor 10 Essentials Plus   \n",
              "212401                                              Mamaw   \n",
              "\n",
              "                                              description  \\\n",
              "12      Acclaimed teacher and puzzler Evelyn B. Christ...   \n",
              "13      Herb Caen, a popular columnist for the San Fra...   \n",
              "14      First published in 1938, this is a collection ...   \n",
              "16      This collection brings together a distinguishe...   \n",
              "17      At a time when America's faculties of taste an...   \n",
              "...                                                   ...   \n",
              "212348  Put the brush in your hand. Stick it in the wa...   \n",
              "212375  Sell your photos again and again! Live anywher...   \n",
              "212394  Grace's father believes in science and builds ...   \n",
              "212398  Autodesk Inventor 2017 Essentials Plus provide...   \n",
              "212401  Give your Mamaw a useful, beautiful and though...   \n",
              "\n",
              "                                   authors publishedDate  \\\n",
              "12               ['Evelyn B. Christensen']          2018   \n",
              "13      ['Allen Gersho', 'Robert M. Gray']          2012   \n",
              "14                          ['Frank Owen']          2018   \n",
              "16                        ['Fiona Cownie']          2010   \n",
              "17                   ['Rochelle Gurstein']          2016   \n",
              "...                                    ...           ...   \n",
              "212348    ['Thacher Hurd', 'John Cassidy']          2017   \n",
              "212375    ['Rohn Engh', 'Mikael Karlsson']          2016   \n",
              "212394                    ['Jenny Offill']          2015   \n",
              "212398   ['Daniel Banach', 'Travis Jones']          2016   \n",
              "212401               ['Wild Wild Cabbage']          2018   \n",
              "\n",
              "                          categories  \\\n",
              "12           ['Juvenile Nonfiction']   \n",
              "13      ['Technology & Engineering']   \n",
              "14                       ['History']   \n",
              "16                           ['Law']   \n",
              "17             ['Political Science']   \n",
              "...                              ...   \n",
              "212348                       ['Art']   \n",
              "212375               ['Photography']   \n",
              "212394                   ['Fiction']   \n",
              "212398                 ['Computers']   \n",
              "212401                           NaN   \n",
              "\n",
              "                                                 new_desc lang    topic1  \\\n",
              "12      Acclaimed teacher and puzzler Evelyn B. Christ...   en  0.081379   \n",
              "13      Herb Caen, a popular columnist for the San Fra...   en  0.281639   \n",
              "14      First published in 1938, this is a collection ...   en  0.079303   \n",
              "16      This collection brings together a distinguishe...   en  0.140504   \n",
              "17      At a time when America's faculties of taste an...   en  0.169678   \n",
              "...                                                   ...  ...       ...   \n",
              "212348  Put the brush in your hand. Stick it in the wa...   en  0.060808   \n",
              "212375  Sell your photos again and again! Live anywher...   en  0.056735   \n",
              "212394  Grace's father believes in science and builds ...   en  0.058780   \n",
              "212398  Autodesk Inventor 2017 Essentials Plus provide...   en  0.057221   \n",
              "212401  Give your Mamaw a useful, beautiful and though...   en  0.071210   \n",
              "\n",
              "          topic2    topic3    topic4    topic5    topic6    topic7  \n",
              "12      0.206227  0.368441  0.074345  0.093401  0.071278  0.104929  \n",
              "13      0.166511  0.293628  0.065531  0.059910  0.065226  0.067555  \n",
              "14      0.154894  0.067302  0.214772  0.250086  0.110496  0.123148  \n",
              "16      0.069417  0.428557  0.091853  0.068621  0.115173  0.085873  \n",
              "17      0.070360  0.144317  0.102388  0.102878  0.352481  0.057897  \n",
              "...          ...       ...       ...       ...       ...       ...  \n",
              "212348  0.403781  0.083427  0.081929  0.241133  0.060765  0.068156  \n",
              "212375  0.290012  0.332104  0.077475  0.060911  0.120815  0.061948  \n",
              "212394  0.056405  0.055993  0.077312  0.604928  0.058690  0.087891  \n",
              "212398  0.286917  0.451048  0.053184  0.047131  0.053911  0.050588  \n",
              "212401  0.113667  0.081025  0.233818  0.134653  0.081190  0.284437  \n",
              "\n",
              "[44599 rows x 14 columns]"
            ]
          },
          "execution_count": 156,
          "metadata": {},
          "output_type": "execute_result"
        }
      ],
      "source": [
        "df_books_en[\"publishedDate\"].replace(\"\",np.nan, inplace=True)\n",
        "df_books_en = df_books_en.dropna(subset = [\"publishedDate\"])\n",
        "df_years = df_books_en[(df_books_en[\"publishedDate\"].apply(int) > 2009) & (df_books_en[\"publishedDate\"].apply(int) < 2023)]\n",
        "df_years"
      ]
    },
    {
      "cell_type": "code",
      "execution_count": 158,
      "metadata": {},
      "outputs": [
        {
          "data": {
            "application/vnd.plotly.v1+json": {
              "config": {
                "plotlyServerURL": "https://plot.ly"
              },
              "data": [
                {
                  "name": "academia",
                  "type": "bar",
                  "x": [
                    "2010",
                    "2011",
                    "2012",
                    "2013",
                    "2014",
                    "2015",
                    "2016",
                    "2017",
                    "2018",
                    "2019",
                    "2020",
                    "2021",
                    "2022"
                  ],
                  "y": [
                    0.12357477843761444,
                    0.11888212710618973,
                    0.14156223833560944,
                    0.1472335308790207,
                    0.1289248913526535,
                    0.12713852524757385,
                    0.13040012121200562,
                    0.13638938963413239,
                    0.13708065450191498,
                    0.12440983206033707,
                    0.12407881766557693,
                    0.12278610467910767,
                    0.12012480944395065
                  ]
                },
                {
                  "name": "art",
                  "type": "bar",
                  "x": [
                    "2010",
                    "2011",
                    "2012",
                    "2013",
                    "2014",
                    "2015",
                    "2016",
                    "2017",
                    "2018",
                    "2019",
                    "2020",
                    "2021",
                    "2022"
                  ],
                  "y": [
                    0.11250896751880646,
                    0.1110907718539238,
                    0.12297088652849197,
                    0.12144735455513,
                    0.11299629509449005,
                    0.11780162155628204,
                    0.1155276969075203,
                    0.12035758048295975,
                    0.12428213655948639,
                    0.15169616043567657,
                    0.11707067489624023,
                    0.1332382708787918,
                    0.1213950663805008
                  ]
                },
                {
                  "name": "student help",
                  "type": "bar",
                  "x": [
                    "2010",
                    "2011",
                    "2012",
                    "2013",
                    "2014",
                    "2015",
                    "2016",
                    "2017",
                    "2018",
                    "2019",
                    "2020",
                    "2021",
                    "2022"
                  ],
                  "y": [
                    0.1557418406009674,
                    0.15526430308818817,
                    0.153970867395401,
                    0.15240295231342316,
                    0.1465640813112259,
                    0.1535332351922989,
                    0.15539132058620453,
                    0.15425299108028412,
                    0.15304721891880035,
                    0.15290088951587677,
                    0.1513008326292038,
                    0.12926551699638367,
                    0.12377537041902542
                  ]
                },
                {
                  "name": "religion",
                  "type": "bar",
                  "x": [
                    "2010",
                    "2011",
                    "2012",
                    "2013",
                    "2014",
                    "2015",
                    "2016",
                    "2017",
                    "2018",
                    "2019",
                    "2020",
                    "2021",
                    "2022"
                  ],
                  "y": [
                    0.1205342710018158,
                    0.11834225803613663,
                    0.11764825880527496,
                    0.11950631439685822,
                    0.11342909932136536,
                    0.11554069817066193,
                    0.12558768689632416,
                    0.12326806783676147,
                    0.11979513615369797,
                    0.11549437046051025,
                    0.120642751455307,
                    0.11489557474851608,
                    0.11518936604261398
                  ]
                },
                {
                  "name": "fiction & romance",
                  "type": "bar",
                  "x": [
                    "2010",
                    "2011",
                    "2012",
                    "2013",
                    "2014",
                    "2015",
                    "2016",
                    "2017",
                    "2018",
                    "2019",
                    "2020",
                    "2021",
                    "2022"
                  ],
                  "y": [
                    0.24532577395439148,
                    0.25172120332717896,
                    0.21750408411026,
                    0.20988035202026367,
                    0.24589155614376068,
                    0.23257669806480408,
                    0.21883879601955414,
                    0.2175932228565216,
                    0.21877121925354004,
                    0.21750621497631073,
                    0.2393255978822708,
                    0.24361680448055267,
                    0.2610826790332794
                  ]
                },
                {
                  "name": "american war history",
                  "type": "bar",
                  "x": [
                    "2010",
                    "2011",
                    "2012",
                    "2013",
                    "2014",
                    "2015",
                    "2016",
                    "2017",
                    "2018",
                    "2019",
                    "2020",
                    "2021",
                    "2022"
                  ],
                  "y": [
                    0.11451726406812668,
                    0.1169251799583435,
                    0.11585269868373871,
                    0.1176343485713005,
                    0.11482929438352585,
                    0.118222177028656,
                    0.11752519756555557,
                    0.12149109691381454,
                    0.11760484427213669,
                    0.11090441793203354,
                    0.11205356568098068,
                    0.11800508201122284,
                    0.11738849431276321
                  ]
                },
                {
                  "name": "children books",
                  "type": "bar",
                  "x": [
                    "2010",
                    "2011",
                    "2012",
                    "2013",
                    "2014",
                    "2015",
                    "2016",
                    "2017",
                    "2018",
                    "2019",
                    "2020",
                    "2021",
                    "2022"
                  ],
                  "y": [
                    0.12779709696769714,
                    0.1277741640806198,
                    0.1304909884929657,
                    0.13189513981342316,
                    0.13736477494239807,
                    0.1351870447397232,
                    0.1367291808128357,
                    0.12664765119552612,
                    0.12941879034042358,
                    0.12708811461925507,
                    0.13552775979042053,
                    0.13819265365600586,
                    0.14104421436786652
                  ]
                }
              ],
              "layout": {
                "barmode": "group",
                "template": {
                  "data": {
                    "bar": [
                      {
                        "error_x": {
                          "color": "#2a3f5f"
                        },
                        "error_y": {
                          "color": "#2a3f5f"
                        },
                        "marker": {
                          "line": {
                            "color": "#E5ECF6",
                            "width": 0.5
                          },
                          "pattern": {
                            "fillmode": "overlay",
                            "size": 10,
                            "solidity": 0.2
                          }
                        },
                        "type": "bar"
                      }
                    ],
                    "barpolar": [
                      {
                        "marker": {
                          "line": {
                            "color": "#E5ECF6",
                            "width": 0.5
                          },
                          "pattern": {
                            "fillmode": "overlay",
                            "size": 10,
                            "solidity": 0.2
                          }
                        },
                        "type": "barpolar"
                      }
                    ],
                    "carpet": [
                      {
                        "aaxis": {
                          "endlinecolor": "#2a3f5f",
                          "gridcolor": "white",
                          "linecolor": "white",
                          "minorgridcolor": "white",
                          "startlinecolor": "#2a3f5f"
                        },
                        "baxis": {
                          "endlinecolor": "#2a3f5f",
                          "gridcolor": "white",
                          "linecolor": "white",
                          "minorgridcolor": "white",
                          "startlinecolor": "#2a3f5f"
                        },
                        "type": "carpet"
                      }
                    ],
                    "choropleth": [
                      {
                        "colorbar": {
                          "outlinewidth": 0,
                          "ticks": ""
                        },
                        "type": "choropleth"
                      }
                    ],
                    "contour": [
                      {
                        "colorbar": {
                          "outlinewidth": 0,
                          "ticks": ""
                        },
                        "colorscale": [
                          [
                            0,
                            "#0d0887"
                          ],
                          [
                            0.1111111111111111,
                            "#46039f"
                          ],
                          [
                            0.2222222222222222,
                            "#7201a8"
                          ],
                          [
                            0.3333333333333333,
                            "#9c179e"
                          ],
                          [
                            0.4444444444444444,
                            "#bd3786"
                          ],
                          [
                            0.5555555555555556,
                            "#d8576b"
                          ],
                          [
                            0.6666666666666666,
                            "#ed7953"
                          ],
                          [
                            0.7777777777777778,
                            "#fb9f3a"
                          ],
                          [
                            0.8888888888888888,
                            "#fdca26"
                          ],
                          [
                            1,
                            "#f0f921"
                          ]
                        ],
                        "type": "contour"
                      }
                    ],
                    "contourcarpet": [
                      {
                        "colorbar": {
                          "outlinewidth": 0,
                          "ticks": ""
                        },
                        "type": "contourcarpet"
                      }
                    ],
                    "heatmap": [
                      {
                        "colorbar": {
                          "outlinewidth": 0,
                          "ticks": ""
                        },
                        "colorscale": [
                          [
                            0,
                            "#0d0887"
                          ],
                          [
                            0.1111111111111111,
                            "#46039f"
                          ],
                          [
                            0.2222222222222222,
                            "#7201a8"
                          ],
                          [
                            0.3333333333333333,
                            "#9c179e"
                          ],
                          [
                            0.4444444444444444,
                            "#bd3786"
                          ],
                          [
                            0.5555555555555556,
                            "#d8576b"
                          ],
                          [
                            0.6666666666666666,
                            "#ed7953"
                          ],
                          [
                            0.7777777777777778,
                            "#fb9f3a"
                          ],
                          [
                            0.8888888888888888,
                            "#fdca26"
                          ],
                          [
                            1,
                            "#f0f921"
                          ]
                        ],
                        "type": "heatmap"
                      }
                    ],
                    "heatmapgl": [
                      {
                        "colorbar": {
                          "outlinewidth": 0,
                          "ticks": ""
                        },
                        "colorscale": [
                          [
                            0,
                            "#0d0887"
                          ],
                          [
                            0.1111111111111111,
                            "#46039f"
                          ],
                          [
                            0.2222222222222222,
                            "#7201a8"
                          ],
                          [
                            0.3333333333333333,
                            "#9c179e"
                          ],
                          [
                            0.4444444444444444,
                            "#bd3786"
                          ],
                          [
                            0.5555555555555556,
                            "#d8576b"
                          ],
                          [
                            0.6666666666666666,
                            "#ed7953"
                          ],
                          [
                            0.7777777777777778,
                            "#fb9f3a"
                          ],
                          [
                            0.8888888888888888,
                            "#fdca26"
                          ],
                          [
                            1,
                            "#f0f921"
                          ]
                        ],
                        "type": "heatmapgl"
                      }
                    ],
                    "histogram": [
                      {
                        "marker": {
                          "pattern": {
                            "fillmode": "overlay",
                            "size": 10,
                            "solidity": 0.2
                          }
                        },
                        "type": "histogram"
                      }
                    ],
                    "histogram2d": [
                      {
                        "colorbar": {
                          "outlinewidth": 0,
                          "ticks": ""
                        },
                        "colorscale": [
                          [
                            0,
                            "#0d0887"
                          ],
                          [
                            0.1111111111111111,
                            "#46039f"
                          ],
                          [
                            0.2222222222222222,
                            "#7201a8"
                          ],
                          [
                            0.3333333333333333,
                            "#9c179e"
                          ],
                          [
                            0.4444444444444444,
                            "#bd3786"
                          ],
                          [
                            0.5555555555555556,
                            "#d8576b"
                          ],
                          [
                            0.6666666666666666,
                            "#ed7953"
                          ],
                          [
                            0.7777777777777778,
                            "#fb9f3a"
                          ],
                          [
                            0.8888888888888888,
                            "#fdca26"
                          ],
                          [
                            1,
                            "#f0f921"
                          ]
                        ],
                        "type": "histogram2d"
                      }
                    ],
                    "histogram2dcontour": [
                      {
                        "colorbar": {
                          "outlinewidth": 0,
                          "ticks": ""
                        },
                        "colorscale": [
                          [
                            0,
                            "#0d0887"
                          ],
                          [
                            0.1111111111111111,
                            "#46039f"
                          ],
                          [
                            0.2222222222222222,
                            "#7201a8"
                          ],
                          [
                            0.3333333333333333,
                            "#9c179e"
                          ],
                          [
                            0.4444444444444444,
                            "#bd3786"
                          ],
                          [
                            0.5555555555555556,
                            "#d8576b"
                          ],
                          [
                            0.6666666666666666,
                            "#ed7953"
                          ],
                          [
                            0.7777777777777778,
                            "#fb9f3a"
                          ],
                          [
                            0.8888888888888888,
                            "#fdca26"
                          ],
                          [
                            1,
                            "#f0f921"
                          ]
                        ],
                        "type": "histogram2dcontour"
                      }
                    ],
                    "mesh3d": [
                      {
                        "colorbar": {
                          "outlinewidth": 0,
                          "ticks": ""
                        },
                        "type": "mesh3d"
                      }
                    ],
                    "parcoords": [
                      {
                        "line": {
                          "colorbar": {
                            "outlinewidth": 0,
                            "ticks": ""
                          }
                        },
                        "type": "parcoords"
                      }
                    ],
                    "pie": [
                      {
                        "automargin": true,
                        "type": "pie"
                      }
                    ],
                    "scatter": [
                      {
                        "fillpattern": {
                          "fillmode": "overlay",
                          "size": 10,
                          "solidity": 0.2
                        },
                        "type": "scatter"
                      }
                    ],
                    "scatter3d": [
                      {
                        "line": {
                          "colorbar": {
                            "outlinewidth": 0,
                            "ticks": ""
                          }
                        },
                        "marker": {
                          "colorbar": {
                            "outlinewidth": 0,
                            "ticks": ""
                          }
                        },
                        "type": "scatter3d"
                      }
                    ],
                    "scattercarpet": [
                      {
                        "marker": {
                          "colorbar": {
                            "outlinewidth": 0,
                            "ticks": ""
                          }
                        },
                        "type": "scattercarpet"
                      }
                    ],
                    "scattergeo": [
                      {
                        "marker": {
                          "colorbar": {
                            "outlinewidth": 0,
                            "ticks": ""
                          }
                        },
                        "type": "scattergeo"
                      }
                    ],
                    "scattergl": [
                      {
                        "marker": {
                          "colorbar": {
                            "outlinewidth": 0,
                            "ticks": ""
                          }
                        },
                        "type": "scattergl"
                      }
                    ],
                    "scattermapbox": [
                      {
                        "marker": {
                          "colorbar": {
                            "outlinewidth": 0,
                            "ticks": ""
                          }
                        },
                        "type": "scattermapbox"
                      }
                    ],
                    "scatterpolar": [
                      {
                        "marker": {
                          "colorbar": {
                            "outlinewidth": 0,
                            "ticks": ""
                          }
                        },
                        "type": "scatterpolar"
                      }
                    ],
                    "scatterpolargl": [
                      {
                        "marker": {
                          "colorbar": {
                            "outlinewidth": 0,
                            "ticks": ""
                          }
                        },
                        "type": "scatterpolargl"
                      }
                    ],
                    "scatterternary": [
                      {
                        "marker": {
                          "colorbar": {
                            "outlinewidth": 0,
                            "ticks": ""
                          }
                        },
                        "type": "scatterternary"
                      }
                    ],
                    "surface": [
                      {
                        "colorbar": {
                          "outlinewidth": 0,
                          "ticks": ""
                        },
                        "colorscale": [
                          [
                            0,
                            "#0d0887"
                          ],
                          [
                            0.1111111111111111,
                            "#46039f"
                          ],
                          [
                            0.2222222222222222,
                            "#7201a8"
                          ],
                          [
                            0.3333333333333333,
                            "#9c179e"
                          ],
                          [
                            0.4444444444444444,
                            "#bd3786"
                          ],
                          [
                            0.5555555555555556,
                            "#d8576b"
                          ],
                          [
                            0.6666666666666666,
                            "#ed7953"
                          ],
                          [
                            0.7777777777777778,
                            "#fb9f3a"
                          ],
                          [
                            0.8888888888888888,
                            "#fdca26"
                          ],
                          [
                            1,
                            "#f0f921"
                          ]
                        ],
                        "type": "surface"
                      }
                    ],
                    "table": [
                      {
                        "cells": {
                          "fill": {
                            "color": "#EBF0F8"
                          },
                          "line": {
                            "color": "white"
                          }
                        },
                        "header": {
                          "fill": {
                            "color": "#C8D4E3"
                          },
                          "line": {
                            "color": "white"
                          }
                        },
                        "type": "table"
                      }
                    ]
                  },
                  "layout": {
                    "annotationdefaults": {
                      "arrowcolor": "#2a3f5f",
                      "arrowhead": 0,
                      "arrowwidth": 1
                    },
                    "autotypenumbers": "strict",
                    "coloraxis": {
                      "colorbar": {
                        "outlinewidth": 0,
                        "ticks": ""
                      }
                    },
                    "colorscale": {
                      "diverging": [
                        [
                          0,
                          "#8e0152"
                        ],
                        [
                          0.1,
                          "#c51b7d"
                        ],
                        [
                          0.2,
                          "#de77ae"
                        ],
                        [
                          0.3,
                          "#f1b6da"
                        ],
                        [
                          0.4,
                          "#fde0ef"
                        ],
                        [
                          0.5,
                          "#f7f7f7"
                        ],
                        [
                          0.6,
                          "#e6f5d0"
                        ],
                        [
                          0.7,
                          "#b8e186"
                        ],
                        [
                          0.8,
                          "#7fbc41"
                        ],
                        [
                          0.9,
                          "#4d9221"
                        ],
                        [
                          1,
                          "#276419"
                        ]
                      ],
                      "sequential": [
                        [
                          0,
                          "#0d0887"
                        ],
                        [
                          0.1111111111111111,
                          "#46039f"
                        ],
                        [
                          0.2222222222222222,
                          "#7201a8"
                        ],
                        [
                          0.3333333333333333,
                          "#9c179e"
                        ],
                        [
                          0.4444444444444444,
                          "#bd3786"
                        ],
                        [
                          0.5555555555555556,
                          "#d8576b"
                        ],
                        [
                          0.6666666666666666,
                          "#ed7953"
                        ],
                        [
                          0.7777777777777778,
                          "#fb9f3a"
                        ],
                        [
                          0.8888888888888888,
                          "#fdca26"
                        ],
                        [
                          1,
                          "#f0f921"
                        ]
                      ],
                      "sequentialminus": [
                        [
                          0,
                          "#0d0887"
                        ],
                        [
                          0.1111111111111111,
                          "#46039f"
                        ],
                        [
                          0.2222222222222222,
                          "#7201a8"
                        ],
                        [
                          0.3333333333333333,
                          "#9c179e"
                        ],
                        [
                          0.4444444444444444,
                          "#bd3786"
                        ],
                        [
                          0.5555555555555556,
                          "#d8576b"
                        ],
                        [
                          0.6666666666666666,
                          "#ed7953"
                        ],
                        [
                          0.7777777777777778,
                          "#fb9f3a"
                        ],
                        [
                          0.8888888888888888,
                          "#fdca26"
                        ],
                        [
                          1,
                          "#f0f921"
                        ]
                      ]
                    },
                    "colorway": [
                      "#636efa",
                      "#EF553B",
                      "#00cc96",
                      "#ab63fa",
                      "#FFA15A",
                      "#19d3f3",
                      "#FF6692",
                      "#B6E880",
                      "#FF97FF",
                      "#FECB52"
                    ],
                    "font": {
                      "color": "#2a3f5f"
                    },
                    "geo": {
                      "bgcolor": "white",
                      "lakecolor": "white",
                      "landcolor": "#E5ECF6",
                      "showlakes": true,
                      "showland": true,
                      "subunitcolor": "white"
                    },
                    "hoverlabel": {
                      "align": "left"
                    },
                    "hovermode": "closest",
                    "mapbox": {
                      "style": "light"
                    },
                    "paper_bgcolor": "white",
                    "plot_bgcolor": "#E5ECF6",
                    "polar": {
                      "angularaxis": {
                        "gridcolor": "white",
                        "linecolor": "white",
                        "ticks": ""
                      },
                      "bgcolor": "#E5ECF6",
                      "radialaxis": {
                        "gridcolor": "white",
                        "linecolor": "white",
                        "ticks": ""
                      }
                    },
                    "scene": {
                      "xaxis": {
                        "backgroundcolor": "#E5ECF6",
                        "gridcolor": "white",
                        "gridwidth": 2,
                        "linecolor": "white",
                        "showbackground": true,
                        "ticks": "",
                        "zerolinecolor": "white"
                      },
                      "yaxis": {
                        "backgroundcolor": "#E5ECF6",
                        "gridcolor": "white",
                        "gridwidth": 2,
                        "linecolor": "white",
                        "showbackground": true,
                        "ticks": "",
                        "zerolinecolor": "white"
                      },
                      "zaxis": {
                        "backgroundcolor": "#E5ECF6",
                        "gridcolor": "white",
                        "gridwidth": 2,
                        "linecolor": "white",
                        "showbackground": true,
                        "ticks": "",
                        "zerolinecolor": "white"
                      }
                    },
                    "shapedefaults": {
                      "line": {
                        "color": "#2a3f5f"
                      }
                    },
                    "ternary": {
                      "aaxis": {
                        "gridcolor": "white",
                        "linecolor": "white",
                        "ticks": ""
                      },
                      "baxis": {
                        "gridcolor": "white",
                        "linecolor": "white",
                        "ticks": ""
                      },
                      "bgcolor": "#E5ECF6",
                      "caxis": {
                        "gridcolor": "white",
                        "linecolor": "white",
                        "ticks": ""
                      }
                    },
                    "title": {
                      "x": 0.05
                    },
                    "xaxis": {
                      "automargin": true,
                      "gridcolor": "white",
                      "linecolor": "white",
                      "ticks": "",
                      "title": {
                        "standoff": 15
                      },
                      "zerolinecolor": "white",
                      "zerolinewidth": 2
                    },
                    "yaxis": {
                      "automargin": true,
                      "gridcolor": "white",
                      "linecolor": "white",
                      "ticks": "",
                      "title": {
                        "standoff": 15
                      },
                      "zerolinecolor": "white",
                      "zerolinewidth": 2
                    }
                  }
                }
              }
            }
          },
          "metadata": {},
          "output_type": "display_data"
        }
      ],
      "source": [
        "df_years = df_years.groupby(df_years.publishedDate).mean()\n",
        "\n",
        "fig = go.Figure(data=[\n",
        "    go.Bar(name=\"academia\", x=df_years.index, y=df_years[\"topic1\"]),\n",
        "    go.Bar(name=\"art\", x=df_years.index, y=df_years[\"topic2\"]),\n",
        "    go.Bar(name=\"student help\", x=df_years.index, y=df_years[\"topic3\"]),\n",
        "    go.Bar(name=\"religion\", x=df_years.index, y=df_years[\"topic4\"]),\n",
        "    go.Bar(name=\"fiction & romance\", x=df_years.index, y=df_years[\"topic5\"]),\n",
        "    go.Bar(name=\"american war history\", x=df_years.index, y=df_years[\"topic6\"]),\n",
        "    go.Bar(name=\"children books\", x=df_years.index, y=df_years[\"topic7\"]),\n",
        "\n",
        "])\n",
        "# Change the bar mode\n",
        "fig.update_layout(barmode='group')\n",
        "fig.show()"
      ]
    },
    {
      "cell_type": "markdown",
      "metadata": {},
      "source": [
        "Some notable observations from the bar chart above:\n",
        "- In the last three years the popularity of books related to **fiction & romance** have gone up. This could be due to the difficult times due to the pandemic which undoubtedly left lots of people with desires of affection and human contact. \n",
        "link: https://www.frontiersin.org/articles/10.3389/fpsyg.2021.798260/full\n",
        "- There was a noticeable increase in popularity of books related to **academia** in during 2012-2013. This could be linked to the boom in popularity of massive open online courses - MOOCs in those years. Since academic books are one of the most essential supplements to an education, it could be that the boom in MOOCs cause an increase in the production of academic texts.  \n",
        "link: https://onlinelearninginsights.wordpress.com/2012/12/21/what-the-heck-happened-in-2012-review-of-the-top-three-events-in-education/\n"
      ]
    },
    {
      "cell_type": "markdown",
      "metadata": {},
      "source": [
        "### Conclusions\n",
        "\n",
        "In conclusion, we have trained a model to extract the topics being discussed in the book corpus. The optimal number of topics (7) were chosen to maximize some metrics while also keeping an eye to explainability. \n",
        "These topics are highly related to the categories of the books, however, there have been some surprising insights such as the presence of **art** as an existing theme. Furthermore, we have seen that the last three years have seen an increasing trend in the popularity of **fiction & romance** which means that publishers and authors should consider investing in books related to these themes. \n",
        "We have also seen that important technological moments have influenced the popularity of certain books, and this could be true of various other events. For this reason, any publisher/author should keep an eye out for course-altering events and use a similar approach to understand if there are effects in the book selling industry."
      ]
    },
    {
      "cell_type": "markdown",
      "metadata": {},
      "source": [
        "# Sentiment Analysis\n",
        "In this section we will analyze the reviews from various users and perform sentiment analysis. This is a useful application in NLP since it can be used to know the sentiment towards a specific book based on the reviews. This information can be used by publishing companies and authors alike to know which products are liked most and what the public likes/dislikes.\n",
        "\n",
        "In particular we will use the reviews dataset which we saw earlier."
      ]
    },
    {
      "cell_type": "code",
      "execution_count": 3,
      "metadata": {},
      "outputs": [],
      "source": [
        "df_reviews = pd.read_csv(\"./DataSet/Books_rating.csv\" )"
      ]
    },
    {
      "cell_type": "code",
      "execution_count": 3,
      "metadata": {},
      "outputs": [
        {
          "name": "stdout",
          "output_type": "stream",
          "text": [
            "The Data Set contains 3.0 million reviews\n"
          ]
        },
        {
          "data": {
            "text/html": [
              "<div>\n",
              "<style scoped>\n",
              "    .dataframe tbody tr th:only-of-type {\n",
              "        vertical-align: middle;\n",
              "    }\n",
              "\n",
              "    .dataframe tbody tr th {\n",
              "        vertical-align: top;\n",
              "    }\n",
              "\n",
              "    .dataframe thead th {\n",
              "        text-align: right;\n",
              "    }\n",
              "</style>\n",
              "<table border=\"1\" class=\"dataframe\">\n",
              "  <thead>\n",
              "    <tr style=\"text-align: right;\">\n",
              "      <th></th>\n",
              "      <th>Id</th>\n",
              "      <th>Title</th>\n",
              "      <th>Price</th>\n",
              "      <th>User_id</th>\n",
              "      <th>profileName</th>\n",
              "      <th>helpfulness</th>\n",
              "      <th>score</th>\n",
              "      <th>time</th>\n",
              "      <th>summary</th>\n",
              "      <th>text</th>\n",
              "    </tr>\n",
              "  </thead>\n",
              "  <tbody>\n",
              "    <tr>\n",
              "      <th>0</th>\n",
              "      <td>1882931173</td>\n",
              "      <td>Its Only Art If Its Well Hung!</td>\n",
              "      <td>NaN</td>\n",
              "      <td>AVCGYZL8FQQTD</td>\n",
              "      <td>Jim of Oz \"jim-of-oz\"</td>\n",
              "      <td>7/7</td>\n",
              "      <td>4.0</td>\n",
              "      <td>940636800</td>\n",
              "      <td>Nice collection of Julie Strain images</td>\n",
              "      <td>This is only for Julie Strain fans. It's a col...</td>\n",
              "    </tr>\n",
              "    <tr>\n",
              "      <th>1</th>\n",
              "      <td>0826414346</td>\n",
              "      <td>Dr. Seuss: American Icon</td>\n",
              "      <td>NaN</td>\n",
              "      <td>A30TK6U7DNS82R</td>\n",
              "      <td>Kevin Killian</td>\n",
              "      <td>10/10</td>\n",
              "      <td>5.0</td>\n",
              "      <td>1095724800</td>\n",
              "      <td>Really Enjoyed It</td>\n",
              "      <td>I don't care much for Dr. Seuss but after read...</td>\n",
              "    </tr>\n",
              "    <tr>\n",
              "      <th>2</th>\n",
              "      <td>0826414346</td>\n",
              "      <td>Dr. Seuss: American Icon</td>\n",
              "      <td>NaN</td>\n",
              "      <td>A3UH4UZ4RSVO82</td>\n",
              "      <td>John Granger</td>\n",
              "      <td>10/11</td>\n",
              "      <td>5.0</td>\n",
              "      <td>1078790400</td>\n",
              "      <td>Essential for every personal and Public Library</td>\n",
              "      <td>If people become the books they read and if \"t...</td>\n",
              "    </tr>\n",
              "    <tr>\n",
              "      <th>3</th>\n",
              "      <td>0826414346</td>\n",
              "      <td>Dr. Seuss: American Icon</td>\n",
              "      <td>NaN</td>\n",
              "      <td>A2MVUWT453QH61</td>\n",
              "      <td>Roy E. Perry \"amateur philosopher\"</td>\n",
              "      <td>7/7</td>\n",
              "      <td>4.0</td>\n",
              "      <td>1090713600</td>\n",
              "      <td>Phlip Nel gives silly Seuss a serious treatment</td>\n",
              "      <td>Theodore Seuss Geisel (1904-1991), aka &amp;quot;D...</td>\n",
              "    </tr>\n",
              "    <tr>\n",
              "      <th>4</th>\n",
              "      <td>0826414346</td>\n",
              "      <td>Dr. Seuss: American Icon</td>\n",
              "      <td>NaN</td>\n",
              "      <td>A22X4XUPKF66MR</td>\n",
              "      <td>D. H. Richards \"ninthwavestore\"</td>\n",
              "      <td>3/3</td>\n",
              "      <td>4.0</td>\n",
              "      <td>1107993600</td>\n",
              "      <td>Good academic overview</td>\n",
              "      <td>Philip Nel - Dr. Seuss: American IconThis is b...</td>\n",
              "    </tr>\n",
              "  </tbody>\n",
              "</table>\n",
              "</div>"
            ],
            "text/plain": [
              "           Id                           Title  Price         User_id  \\\n",
              "0  1882931173  Its Only Art If Its Well Hung!    NaN   AVCGYZL8FQQTD   \n",
              "1  0826414346        Dr. Seuss: American Icon    NaN  A30TK6U7DNS82R   \n",
              "2  0826414346        Dr. Seuss: American Icon    NaN  A3UH4UZ4RSVO82   \n",
              "3  0826414346        Dr. Seuss: American Icon    NaN  A2MVUWT453QH61   \n",
              "4  0826414346        Dr. Seuss: American Icon    NaN  A22X4XUPKF66MR   \n",
              "\n",
              "                          profileName helpfulness  score        time  \\\n",
              "0               Jim of Oz \"jim-of-oz\"         7/7    4.0   940636800   \n",
              "1                       Kevin Killian       10/10    5.0  1095724800   \n",
              "2                        John Granger       10/11    5.0  1078790400   \n",
              "3  Roy E. Perry \"amateur philosopher\"         7/7    4.0  1090713600   \n",
              "4     D. H. Richards \"ninthwavestore\"         3/3    4.0  1107993600   \n",
              "\n",
              "                                           summary  \\\n",
              "0           Nice collection of Julie Strain images   \n",
              "1                                Really Enjoyed It   \n",
              "2  Essential for every personal and Public Library   \n",
              "3  Phlip Nel gives silly Seuss a serious treatment   \n",
              "4                           Good academic overview   \n",
              "\n",
              "                                                text  \n",
              "0  This is only for Julie Strain fans. It's a col...  \n",
              "1  I don't care much for Dr. Seuss but after read...  \n",
              "2  If people become the books they read and if \"t...  \n",
              "3  Theodore Seuss Geisel (1904-1991), aka &quot;D...  \n",
              "4  Philip Nel - Dr. Seuss: American IconThis is b...  "
            ]
          },
          "execution_count": 3,
          "metadata": {},
          "output_type": "execute_result"
        }
      ],
      "source": [
        "print(f\"The Data Set contains {len(df_reviews)/1e6} million reviews\")\n",
        "df_reviews = df_reviews.rename(columns = {\"review/helpfulness\":\"helpfulness\", \"review/score\":\"score\", \"review/time\":\"time\", \"review/summary\":\"summary\", \"review/text\":\"text\"})\n",
        "\n",
        "df_reviews.head()\n"
      ]
    },
    {
      "cell_type": "markdown",
      "metadata": {},
      "source": [
        "### Analysis of Data Set\n",
        " \n",
        "We analyze the distribution of the scores and find the most frequent words for the positive and negative reviews."
      ]
    },
    {
      "cell_type": "code",
      "execution_count": 5,
      "metadata": {},
      "outputs": [
        {
          "data": {
            "application/vnd.plotly.v1+json": {
              "config": {
                "plotlyServerURL": "https://plot.ly"
              },
              "data": [
                {
                  "alignmentgroup": "True",
                  "hovertemplate": "variable=score<br>value=%{x}<br>index=%{y}<extra></extra>",
                  "legendgroup": "score",
                  "marker": {
                    "color": "#636efa",
                    "pattern": {
                      "shape": ""
                    }
                  },
                  "name": "score",
                  "offsetgroup": "score",
                  "orientation": "h",
                  "showlegend": true,
                  "textposition": "auto",
                  "type": "bar",
                  "x": [
                    1807343,
                    585616,
                    254295,
                    201688,
                    151058
                  ],
                  "xaxis": "x",
                  "y": [
                    5,
                    4,
                    3,
                    1,
                    2
                  ],
                  "yaxis": "y"
                }
              ],
              "layout": {
                "barmode": "relative",
                "legend": {
                  "title": {
                    "text": "variable"
                  },
                  "tracegroupgap": 0
                },
                "template": {
                  "data": {
                    "bar": [
                      {
                        "error_x": {
                          "color": "#2a3f5f"
                        },
                        "error_y": {
                          "color": "#2a3f5f"
                        },
                        "marker": {
                          "line": {
                            "color": "#E5ECF6",
                            "width": 0.5
                          },
                          "pattern": {
                            "fillmode": "overlay",
                            "size": 10,
                            "solidity": 0.2
                          }
                        },
                        "type": "bar"
                      }
                    ],
                    "barpolar": [
                      {
                        "marker": {
                          "line": {
                            "color": "#E5ECF6",
                            "width": 0.5
                          },
                          "pattern": {
                            "fillmode": "overlay",
                            "size": 10,
                            "solidity": 0.2
                          }
                        },
                        "type": "barpolar"
                      }
                    ],
                    "carpet": [
                      {
                        "aaxis": {
                          "endlinecolor": "#2a3f5f",
                          "gridcolor": "white",
                          "linecolor": "white",
                          "minorgridcolor": "white",
                          "startlinecolor": "#2a3f5f"
                        },
                        "baxis": {
                          "endlinecolor": "#2a3f5f",
                          "gridcolor": "white",
                          "linecolor": "white",
                          "minorgridcolor": "white",
                          "startlinecolor": "#2a3f5f"
                        },
                        "type": "carpet"
                      }
                    ],
                    "choropleth": [
                      {
                        "colorbar": {
                          "outlinewidth": 0,
                          "ticks": ""
                        },
                        "type": "choropleth"
                      }
                    ],
                    "contour": [
                      {
                        "colorbar": {
                          "outlinewidth": 0,
                          "ticks": ""
                        },
                        "colorscale": [
                          [
                            0,
                            "#0d0887"
                          ],
                          [
                            0.1111111111111111,
                            "#46039f"
                          ],
                          [
                            0.2222222222222222,
                            "#7201a8"
                          ],
                          [
                            0.3333333333333333,
                            "#9c179e"
                          ],
                          [
                            0.4444444444444444,
                            "#bd3786"
                          ],
                          [
                            0.5555555555555556,
                            "#d8576b"
                          ],
                          [
                            0.6666666666666666,
                            "#ed7953"
                          ],
                          [
                            0.7777777777777778,
                            "#fb9f3a"
                          ],
                          [
                            0.8888888888888888,
                            "#fdca26"
                          ],
                          [
                            1,
                            "#f0f921"
                          ]
                        ],
                        "type": "contour"
                      }
                    ],
                    "contourcarpet": [
                      {
                        "colorbar": {
                          "outlinewidth": 0,
                          "ticks": ""
                        },
                        "type": "contourcarpet"
                      }
                    ],
                    "heatmap": [
                      {
                        "colorbar": {
                          "outlinewidth": 0,
                          "ticks": ""
                        },
                        "colorscale": [
                          [
                            0,
                            "#0d0887"
                          ],
                          [
                            0.1111111111111111,
                            "#46039f"
                          ],
                          [
                            0.2222222222222222,
                            "#7201a8"
                          ],
                          [
                            0.3333333333333333,
                            "#9c179e"
                          ],
                          [
                            0.4444444444444444,
                            "#bd3786"
                          ],
                          [
                            0.5555555555555556,
                            "#d8576b"
                          ],
                          [
                            0.6666666666666666,
                            "#ed7953"
                          ],
                          [
                            0.7777777777777778,
                            "#fb9f3a"
                          ],
                          [
                            0.8888888888888888,
                            "#fdca26"
                          ],
                          [
                            1,
                            "#f0f921"
                          ]
                        ],
                        "type": "heatmap"
                      }
                    ],
                    "heatmapgl": [
                      {
                        "colorbar": {
                          "outlinewidth": 0,
                          "ticks": ""
                        },
                        "colorscale": [
                          [
                            0,
                            "#0d0887"
                          ],
                          [
                            0.1111111111111111,
                            "#46039f"
                          ],
                          [
                            0.2222222222222222,
                            "#7201a8"
                          ],
                          [
                            0.3333333333333333,
                            "#9c179e"
                          ],
                          [
                            0.4444444444444444,
                            "#bd3786"
                          ],
                          [
                            0.5555555555555556,
                            "#d8576b"
                          ],
                          [
                            0.6666666666666666,
                            "#ed7953"
                          ],
                          [
                            0.7777777777777778,
                            "#fb9f3a"
                          ],
                          [
                            0.8888888888888888,
                            "#fdca26"
                          ],
                          [
                            1,
                            "#f0f921"
                          ]
                        ],
                        "type": "heatmapgl"
                      }
                    ],
                    "histogram": [
                      {
                        "marker": {
                          "pattern": {
                            "fillmode": "overlay",
                            "size": 10,
                            "solidity": 0.2
                          }
                        },
                        "type": "histogram"
                      }
                    ],
                    "histogram2d": [
                      {
                        "colorbar": {
                          "outlinewidth": 0,
                          "ticks": ""
                        },
                        "colorscale": [
                          [
                            0,
                            "#0d0887"
                          ],
                          [
                            0.1111111111111111,
                            "#46039f"
                          ],
                          [
                            0.2222222222222222,
                            "#7201a8"
                          ],
                          [
                            0.3333333333333333,
                            "#9c179e"
                          ],
                          [
                            0.4444444444444444,
                            "#bd3786"
                          ],
                          [
                            0.5555555555555556,
                            "#d8576b"
                          ],
                          [
                            0.6666666666666666,
                            "#ed7953"
                          ],
                          [
                            0.7777777777777778,
                            "#fb9f3a"
                          ],
                          [
                            0.8888888888888888,
                            "#fdca26"
                          ],
                          [
                            1,
                            "#f0f921"
                          ]
                        ],
                        "type": "histogram2d"
                      }
                    ],
                    "histogram2dcontour": [
                      {
                        "colorbar": {
                          "outlinewidth": 0,
                          "ticks": ""
                        },
                        "colorscale": [
                          [
                            0,
                            "#0d0887"
                          ],
                          [
                            0.1111111111111111,
                            "#46039f"
                          ],
                          [
                            0.2222222222222222,
                            "#7201a8"
                          ],
                          [
                            0.3333333333333333,
                            "#9c179e"
                          ],
                          [
                            0.4444444444444444,
                            "#bd3786"
                          ],
                          [
                            0.5555555555555556,
                            "#d8576b"
                          ],
                          [
                            0.6666666666666666,
                            "#ed7953"
                          ],
                          [
                            0.7777777777777778,
                            "#fb9f3a"
                          ],
                          [
                            0.8888888888888888,
                            "#fdca26"
                          ],
                          [
                            1,
                            "#f0f921"
                          ]
                        ],
                        "type": "histogram2dcontour"
                      }
                    ],
                    "mesh3d": [
                      {
                        "colorbar": {
                          "outlinewidth": 0,
                          "ticks": ""
                        },
                        "type": "mesh3d"
                      }
                    ],
                    "parcoords": [
                      {
                        "line": {
                          "colorbar": {
                            "outlinewidth": 0,
                            "ticks": ""
                          }
                        },
                        "type": "parcoords"
                      }
                    ],
                    "pie": [
                      {
                        "automargin": true,
                        "type": "pie"
                      }
                    ],
                    "scatter": [
                      {
                        "fillpattern": {
                          "fillmode": "overlay",
                          "size": 10,
                          "solidity": 0.2
                        },
                        "type": "scatter"
                      }
                    ],
                    "scatter3d": [
                      {
                        "line": {
                          "colorbar": {
                            "outlinewidth": 0,
                            "ticks": ""
                          }
                        },
                        "marker": {
                          "colorbar": {
                            "outlinewidth": 0,
                            "ticks": ""
                          }
                        },
                        "type": "scatter3d"
                      }
                    ],
                    "scattercarpet": [
                      {
                        "marker": {
                          "colorbar": {
                            "outlinewidth": 0,
                            "ticks": ""
                          }
                        },
                        "type": "scattercarpet"
                      }
                    ],
                    "scattergeo": [
                      {
                        "marker": {
                          "colorbar": {
                            "outlinewidth": 0,
                            "ticks": ""
                          }
                        },
                        "type": "scattergeo"
                      }
                    ],
                    "scattergl": [
                      {
                        "marker": {
                          "colorbar": {
                            "outlinewidth": 0,
                            "ticks": ""
                          }
                        },
                        "type": "scattergl"
                      }
                    ],
                    "scattermapbox": [
                      {
                        "marker": {
                          "colorbar": {
                            "outlinewidth": 0,
                            "ticks": ""
                          }
                        },
                        "type": "scattermapbox"
                      }
                    ],
                    "scatterpolar": [
                      {
                        "marker": {
                          "colorbar": {
                            "outlinewidth": 0,
                            "ticks": ""
                          }
                        },
                        "type": "scatterpolar"
                      }
                    ],
                    "scatterpolargl": [
                      {
                        "marker": {
                          "colorbar": {
                            "outlinewidth": 0,
                            "ticks": ""
                          }
                        },
                        "type": "scatterpolargl"
                      }
                    ],
                    "scatterternary": [
                      {
                        "marker": {
                          "colorbar": {
                            "outlinewidth": 0,
                            "ticks": ""
                          }
                        },
                        "type": "scatterternary"
                      }
                    ],
                    "surface": [
                      {
                        "colorbar": {
                          "outlinewidth": 0,
                          "ticks": ""
                        },
                        "colorscale": [
                          [
                            0,
                            "#0d0887"
                          ],
                          [
                            0.1111111111111111,
                            "#46039f"
                          ],
                          [
                            0.2222222222222222,
                            "#7201a8"
                          ],
                          [
                            0.3333333333333333,
                            "#9c179e"
                          ],
                          [
                            0.4444444444444444,
                            "#bd3786"
                          ],
                          [
                            0.5555555555555556,
                            "#d8576b"
                          ],
                          [
                            0.6666666666666666,
                            "#ed7953"
                          ],
                          [
                            0.7777777777777778,
                            "#fb9f3a"
                          ],
                          [
                            0.8888888888888888,
                            "#fdca26"
                          ],
                          [
                            1,
                            "#f0f921"
                          ]
                        ],
                        "type": "surface"
                      }
                    ],
                    "table": [
                      {
                        "cells": {
                          "fill": {
                            "color": "#EBF0F8"
                          },
                          "line": {
                            "color": "white"
                          }
                        },
                        "header": {
                          "fill": {
                            "color": "#C8D4E3"
                          },
                          "line": {
                            "color": "white"
                          }
                        },
                        "type": "table"
                      }
                    ]
                  },
                  "layout": {
                    "annotationdefaults": {
                      "arrowcolor": "#2a3f5f",
                      "arrowhead": 0,
                      "arrowwidth": 1
                    },
                    "autotypenumbers": "strict",
                    "coloraxis": {
                      "colorbar": {
                        "outlinewidth": 0,
                        "ticks": ""
                      }
                    },
                    "colorscale": {
                      "diverging": [
                        [
                          0,
                          "#8e0152"
                        ],
                        [
                          0.1,
                          "#c51b7d"
                        ],
                        [
                          0.2,
                          "#de77ae"
                        ],
                        [
                          0.3,
                          "#f1b6da"
                        ],
                        [
                          0.4,
                          "#fde0ef"
                        ],
                        [
                          0.5,
                          "#f7f7f7"
                        ],
                        [
                          0.6,
                          "#e6f5d0"
                        ],
                        [
                          0.7,
                          "#b8e186"
                        ],
                        [
                          0.8,
                          "#7fbc41"
                        ],
                        [
                          0.9,
                          "#4d9221"
                        ],
                        [
                          1,
                          "#276419"
                        ]
                      ],
                      "sequential": [
                        [
                          0,
                          "#0d0887"
                        ],
                        [
                          0.1111111111111111,
                          "#46039f"
                        ],
                        [
                          0.2222222222222222,
                          "#7201a8"
                        ],
                        [
                          0.3333333333333333,
                          "#9c179e"
                        ],
                        [
                          0.4444444444444444,
                          "#bd3786"
                        ],
                        [
                          0.5555555555555556,
                          "#d8576b"
                        ],
                        [
                          0.6666666666666666,
                          "#ed7953"
                        ],
                        [
                          0.7777777777777778,
                          "#fb9f3a"
                        ],
                        [
                          0.8888888888888888,
                          "#fdca26"
                        ],
                        [
                          1,
                          "#f0f921"
                        ]
                      ],
                      "sequentialminus": [
                        [
                          0,
                          "#0d0887"
                        ],
                        [
                          0.1111111111111111,
                          "#46039f"
                        ],
                        [
                          0.2222222222222222,
                          "#7201a8"
                        ],
                        [
                          0.3333333333333333,
                          "#9c179e"
                        ],
                        [
                          0.4444444444444444,
                          "#bd3786"
                        ],
                        [
                          0.5555555555555556,
                          "#d8576b"
                        ],
                        [
                          0.6666666666666666,
                          "#ed7953"
                        ],
                        [
                          0.7777777777777778,
                          "#fb9f3a"
                        ],
                        [
                          0.8888888888888888,
                          "#fdca26"
                        ],
                        [
                          1,
                          "#f0f921"
                        ]
                      ]
                    },
                    "colorway": [
                      "#636efa",
                      "#EF553B",
                      "#00cc96",
                      "#ab63fa",
                      "#FFA15A",
                      "#19d3f3",
                      "#FF6692",
                      "#B6E880",
                      "#FF97FF",
                      "#FECB52"
                    ],
                    "font": {
                      "color": "#2a3f5f"
                    },
                    "geo": {
                      "bgcolor": "white",
                      "lakecolor": "white",
                      "landcolor": "#E5ECF6",
                      "showlakes": true,
                      "showland": true,
                      "subunitcolor": "white"
                    },
                    "hoverlabel": {
                      "align": "left"
                    },
                    "hovermode": "closest",
                    "mapbox": {
                      "style": "light"
                    },
                    "paper_bgcolor": "white",
                    "plot_bgcolor": "#E5ECF6",
                    "polar": {
                      "angularaxis": {
                        "gridcolor": "white",
                        "linecolor": "white",
                        "ticks": ""
                      },
                      "bgcolor": "#E5ECF6",
                      "radialaxis": {
                        "gridcolor": "white",
                        "linecolor": "white",
                        "ticks": ""
                      }
                    },
                    "scene": {
                      "xaxis": {
                        "backgroundcolor": "#E5ECF6",
                        "gridcolor": "white",
                        "gridwidth": 2,
                        "linecolor": "white",
                        "showbackground": true,
                        "ticks": "",
                        "zerolinecolor": "white"
                      },
                      "yaxis": {
                        "backgroundcolor": "#E5ECF6",
                        "gridcolor": "white",
                        "gridwidth": 2,
                        "linecolor": "white",
                        "showbackground": true,
                        "ticks": "",
                        "zerolinecolor": "white"
                      },
                      "zaxis": {
                        "backgroundcolor": "#E5ECF6",
                        "gridcolor": "white",
                        "gridwidth": 2,
                        "linecolor": "white",
                        "showbackground": true,
                        "ticks": "",
                        "zerolinecolor": "white"
                      }
                    },
                    "shapedefaults": {
                      "line": {
                        "color": "#2a3f5f"
                      }
                    },
                    "ternary": {
                      "aaxis": {
                        "gridcolor": "white",
                        "linecolor": "white",
                        "ticks": ""
                      },
                      "baxis": {
                        "gridcolor": "white",
                        "linecolor": "white",
                        "ticks": ""
                      },
                      "bgcolor": "#E5ECF6",
                      "caxis": {
                        "gridcolor": "white",
                        "linecolor": "white",
                        "ticks": ""
                      }
                    },
                    "title": {
                      "x": 0.05
                    },
                    "xaxis": {
                      "automargin": true,
                      "gridcolor": "white",
                      "linecolor": "white",
                      "ticks": "",
                      "title": {
                        "standoff": 15
                      },
                      "zerolinecolor": "white",
                      "zerolinewidth": 2
                    },
                    "yaxis": {
                      "automargin": true,
                      "gridcolor": "white",
                      "linecolor": "white",
                      "ticks": "",
                      "title": {
                        "standoff": 15
                      },
                      "zerolinecolor": "white",
                      "zerolinewidth": 2
                    }
                  }
                },
                "title": {
                  "text": "Distribution of scores"
                },
                "xaxis": {
                  "anchor": "y",
                  "domain": [
                    0,
                    1
                  ],
                  "title": {
                    "text": "value"
                  }
                },
                "yaxis": {
                  "anchor": "x",
                  "domain": [
                    0,
                    1
                  ],
                  "title": {
                    "text": "index"
                  }
                }
              }
            }
          },
          "metadata": {},
          "output_type": "display_data"
        }
      ],
      "source": [
        "fig = px.bar(df_reviews[\"score\"].value_counts(), orientation = \"h\", title = f\"Distribution of scores\")\n",
        "fig.show()"
      ]
    },
    {
      "cell_type": "markdown",
      "metadata": {},
      "source": [
        "As we can see, there is a great imbalance towards 5-star reviews. \n",
        "\n",
        "By looking at the first 50 3-star reviews, we realize that it is difficult to categorize them as positive or negative. Therefore, they will simply be classified as \"neutral\"."
      ]
    },
    {
      "cell_type": "code",
      "execution_count": 18,
      "metadata": {},
      "outputs": [
        {
          "data": {
            "text/plain": [
              "360556                         study guide for microbiology\n",
              "2951265                                             OK book\n",
              "1933705    The Scarlet Letter -- Wordy, dense, far too long\n",
              "1792488             Another bittersweet slice of reality...\n",
              "1771923           A classic, but hard to place an age group\n",
              "2719754                                        Average book\n",
              "2100828                   Yes, something is definitely awry\n",
              "462543                         stats, stats, and mo' stats!\n",
              "1860971                                 I have not read it.\n",
              "624287            Better than your average cash cow sequel.\n",
              "2545175                              Interesting but slight\n",
              "1475002                     The turning point in the series\n",
              "441864            Not what I was expecting, but still okay.\n",
              "2755116                                         Cigar Guide\n",
              "1792390          Perfection is always a tough act to follow\n",
              "2004466                                   Moving yet Opaque\n",
              "1825311                                            Good one\n",
              "2360625                                          Full House\n",
              "906208       Exciting adventure as well as quality romance.\n",
              "1499827                         Informative, but uneventful\n",
              "Name: summary, dtype: object"
            ]
          },
          "execution_count": 18,
          "metadata": {},
          "output_type": "execute_result"
        }
      ],
      "source": [
        "df_reviews[df_reviews[\"score\"] == 3.0][\"summary\"].sample(20, random_state= 2)"
      ]
    },
    {
      "cell_type": "code",
      "execution_count": 4,
      "metadata": {},
      "outputs": [],
      "source": [
        "df_reviews.loc[df_reviews[\"score\"]>3.0, \"class\"] = \"POSITIVE\"\n",
        "df_reviews.loc[df_reviews[\"score\"]==3.0, \"class\"] = \"NEUTRAL\"\n",
        "df_reviews.loc[df_reviews[\"score\"]<3.0, \"class\"] = \"NEGATIVE\"\n",
        " "
      ]
    },
    {
      "cell_type": "markdown",
      "metadata": {},
      "source": [
        "### Word Cloud\n",
        "\n",
        "Lets look at the word cloud for positive reviews and negative ones. As usual we have to do some preprocessing in order to reduce variation and catch more conceptual words. "
      ]
    },
    {
      "cell_type": "code",
      "execution_count": 7,
      "metadata": {},
      "outputs": [],
      "source": [
        "positive_reviews = df_reviews[df_reviews[\"class\"]==\"POSITIVE\"].dropna(subset = [\"summary\"]).sample(100000, random_state=2)\n",
        "negative_reviews = df_reviews[df_reviews[\"class\"]==\"NEGATIVE\"].dropna(subset = [\"summary\"]).sample(100000, random_state=2)"
      ]
    },
    {
      "cell_type": "code",
      "execution_count": 7,
      "metadata": {},
      "outputs": [],
      "source": [
        "positive_reviews[\"clean_summary\"] = clean_corpus(positive_reviews[\"summary\"])\n",
        "negative_reviews[\"clean_summary\"] = clean_corpus(negative_reviews[\"summary\"])"
      ]
    },
    {
      "cell_type": "code",
      "execution_count": 8,
      "metadata": {},
      "outputs": [],
      "source": [
        "positive_words = \" \".join(positive_reviews[\"clean_summary\"])\n",
        "wordcloud_positive = stylecloud.gen_stylecloud(\n",
        "                        text = positive_words,\n",
        "                        size = 1028,\n",
        "                        background_color = \"black\",\n",
        "                        output_name = \"./Images/positive_wordcloud.png\",\n",
        "                        icon_name = \"fas fa-comment\"\n",
        "                        )"
      ]
    },
    {
      "cell_type": "markdown",
      "metadata": {},
      "source": [
        "![image](./Images/positive_wordcloud.png)"
      ]
    },
    {
      "cell_type": "code",
      "execution_count": 9,
      "metadata": {},
      "outputs": [],
      "source": [
        "negative_words = \" \".join(negative_reviews[\"clean_summary\"])\n",
        "wordcloud_negative = stylecloud.gen_stylecloud(\n",
        "                        text = negative_words,\n",
        "                        size = 1028,\n",
        "                        background_color = \"black\",\n",
        "                        output_name = \"./Images/negative_wordcloud.png\",\n",
        "                        icon_name = \"fas fa-comment\"\n",
        "                        )"
      ]
    },
    {
      "cell_type": "markdown",
      "metadata": {},
      "source": [
        "![image](./Images/negative_wordcloud.png)"
      ]
    },
    {
      "cell_type": "markdown",
      "metadata": {},
      "source": [
        "In the negative wordcloud, we can immediately observe the presence of some terms that we associate with positive emotions. For example, the word \"good\" and \"great\" are seen in the wordcloud. One possible explanation is that these terms are always associated with negative connotations. For example, they could be preceded by the word \"not\" or \"hardly any\" or any word that negates the positive context of the word. \n",
        "This would be easier to understand if we included the collocations as we did for topic modeling. However, since this is an exploratory analysis on a random subsample of 100 thousand documents, it won't be performed.\n",
        "\n",
        "We can try to get a sense of the correctness of our claim by analyzing the reviews which contain the word \"good\" in it. "
      ]
    },
    {
      "cell_type": "code",
      "execution_count": 15,
      "metadata": {},
      "outputs": [
        {
          "data": {
            "text/plain": [
              "1477650    Notice most of the good reviews on this are by...\n",
              "2073598         Airplane/Beach Read, Not good for much else.\n",
              "2002262                                     not good quality\n",
              "606137              Some good information, but high on guilt\n",
              "546251                             Not really that good.....\n",
              "Name: summary, dtype: object"
            ]
          },
          "execution_count": 15,
          "metadata": {},
          "output_type": "execute_result"
        }
      ],
      "source": [
        "negative_reviews[negative_reviews[\"summary\"].str.contains(\"good\")][\"summary\"].head()"
      ]
    },
    {
      "cell_type": "markdown",
      "metadata": {},
      "source": [
        "As we can see, our hypothesis seems to be correct. "
      ]
    },
    {
      "cell_type": "markdown",
      "metadata": {},
      "source": [
        "### Bert\n",
        "\n",
        "As we mentioned before, we will be using BERT for our analysis.\n",
        "\n",
        "In particular, we will test:\n",
        "\n",
        "- Multilingual Bert: This model is trained on product reviews in various languages and is the most natural model to handle our data set since it outputs a score from 1-5. In this way, we do not have to do any preprocessing at all. \n"
      ]
    },
    {
      "cell_type": "markdown",
      "metadata": {},
      "source": [
        "### Multilingual Bert\n"
      ]
    },
    {
      "cell_type": "code",
      "execution_count": 4,
      "metadata": {},
      "outputs": [],
      "source": [
        "model_name = \"nlptown/bert-base-multilingual-uncased-sentiment\"\n",
        "\n",
        "tokenizer = AutoTokenizer.from_pretrained(model_name)\n",
        "model = AutoModelForSequenceClassification.from_pretrained(model_name)\n",
        "\n",
        "classifier = pipeline(\"sentiment-analysis\", model=model, tokenizer=tokenizer)"
      ]
    },
    {
      "cell_type": "code",
      "execution_count": 3,
      "metadata": {},
      "outputs": [
        {
          "data": {
            "text/html": [
              "<div>\n",
              "<style scoped>\n",
              "    .dataframe tbody tr th:only-of-type {\n",
              "        vertical-align: middle;\n",
              "    }\n",
              "\n",
              "    .dataframe tbody tr th {\n",
              "        vertical-align: top;\n",
              "    }\n",
              "\n",
              "    .dataframe thead th {\n",
              "        text-align: right;\n",
              "    }\n",
              "</style>\n",
              "<table border=\"1\" class=\"dataframe\">\n",
              "  <thead>\n",
              "    <tr style=\"text-align: right;\">\n",
              "      <th></th>\n",
              "      <th>Id</th>\n",
              "      <th>Title</th>\n",
              "      <th>Price</th>\n",
              "      <th>User_id</th>\n",
              "      <th>profileName</th>\n",
              "      <th>helpfulness</th>\n",
              "      <th>score</th>\n",
              "      <th>time</th>\n",
              "      <th>summary</th>\n",
              "      <th>text</th>\n",
              "      <th>predicted_rating_BERT</th>\n",
              "      <th>lang</th>\n",
              "    </tr>\n",
              "  </thead>\n",
              "  <tbody>\n",
              "    <tr>\n",
              "      <th>2524966</th>\n",
              "      <td>B000HZ8ZR8</td>\n",
              "      <td>The Garden of Eden, A Novel</td>\n",
              "      <td>NaN</td>\n",
              "      <td>NaN</td>\n",
              "      <td>NaN</td>\n",
              "      <td>4/11</td>\n",
              "      <td>2.0</td>\n",
              "      <td>912297600</td>\n",
              "      <td>The Garden of Eden? Hmmmm......</td>\n",
              "      <td>This book starts out great, it romantisizes Eu...</td>\n",
              "      <td>2</td>\n",
              "      <td>en</td>\n",
              "    </tr>\n",
              "    <tr>\n",
              "      <th>530830</th>\n",
              "      <td>B000HOSLEG</td>\n",
              "      <td>Fairytale</td>\n",
              "      <td>NaN</td>\n",
              "      <td>A2PGVEDRPGGIJ0</td>\n",
              "      <td>coteb</td>\n",
              "      <td>2/2</td>\n",
              "      <td>5.0</td>\n",
              "      <td>1338854400</td>\n",
              "      <td>loved it</td>\n",
              "      <td>I highly recommend if you like Maggie shayne. ...</td>\n",
              "      <td>5</td>\n",
              "      <td>en</td>\n",
              "    </tr>\n",
              "    <tr>\n",
              "      <th>2597389</th>\n",
              "      <td>0754053822</td>\n",
              "      <td>Disgrace: Complete &amp; Unabridged</td>\n",
              "      <td>NaN</td>\n",
              "      <td>A1MRV6VAB1HVJW</td>\n",
              "      <td>Gisele W. Wright</td>\n",
              "      <td>0/4</td>\n",
              "      <td>3.0</td>\n",
              "      <td>1022803200</td>\n",
              "      <td>A hard read</td>\n",
              "      <td>What drew to this novel was the title and the ...</td>\n",
              "      <td>2</td>\n",
              "      <td>en</td>\n",
              "    </tr>\n",
              "    <tr>\n",
              "      <th>218539</th>\n",
              "      <td>0786222859</td>\n",
              "      <td>Bittersweet Rain</td>\n",
              "      <td>NaN</td>\n",
              "      <td>A21MVX83HPR5VK</td>\n",
              "      <td>Dina_179</td>\n",
              "      <td>17/22</td>\n",
              "      <td>4.0</td>\n",
              "      <td>952128000</td>\n",
              "      <td>Ms. Brown keeps surprising me with her amazing...</td>\n",
              "      <td>Only Sandra Brown will put together the most u...</td>\n",
              "      <td>5</td>\n",
              "      <td>en</td>\n",
              "    </tr>\n",
              "    <tr>\n",
              "      <th>2759866</th>\n",
              "      <td>0821755641</td>\n",
              "      <td>Unforgettable</td>\n",
              "      <td>NaN</td>\n",
              "      <td>A1N967FZREGFG</td>\n",
              "      <td>Tess Capra</td>\n",
              "      <td>3/3</td>\n",
              "      <td>4.0</td>\n",
              "      <td>890524800</td>\n",
              "      <td>Not unforgettable, but pretty darn good.</td>\n",
              "      <td>Perhaps if Zebra spent as much on publicity as...</td>\n",
              "      <td>3</td>\n",
              "      <td>en</td>\n",
              "    </tr>\n",
              "    <tr>\n",
              "      <th>...</th>\n",
              "      <td>...</td>\n",
              "      <td>...</td>\n",
              "      <td>...</td>\n",
              "      <td>...</td>\n",
              "      <td>...</td>\n",
              "      <td>...</td>\n",
              "      <td>...</td>\n",
              "      <td>...</td>\n",
              "      <td>...</td>\n",
              "      <td>...</td>\n",
              "      <td>...</td>\n",
              "      <td>...</td>\n",
              "    </tr>\n",
              "    <tr>\n",
              "      <th>1644252</th>\n",
              "      <td>0395615801</td>\n",
              "      <td>A Nightmare in History: The Holocaust 1933-1945</td>\n",
              "      <td>NaN</td>\n",
              "      <td>A1OJHNAMUW4F4Y</td>\n",
              "      <td>David N. 1st period.</td>\n",
              "      <td>2/5</td>\n",
              "      <td>5.0</td>\n",
              "      <td>1008028800</td>\n",
              "      <td>1st peiod reading -A nightmare in history</td>\n",
              "      <td>Imagne for a second that you are sleeping in y...</td>\n",
              "      <td>5</td>\n",
              "      <td>en</td>\n",
              "    </tr>\n",
              "    <tr>\n",
              "      <th>2816988</th>\n",
              "      <td>1593555563</td>\n",
              "      <td>Stone of Tears (Sword of Truth Series)</td>\n",
              "      <td>167.25</td>\n",
              "      <td>A2JNZ09Y5JYPAK</td>\n",
              "      <td>I hate peas</td>\n",
              "      <td>2/5</td>\n",
              "      <td>1.0</td>\n",
              "      <td>1325462400</td>\n",
              "      <td>Never should have been published</td>\n",
              "      <td>This book is absolutely terrible.If you take o...</td>\n",
              "      <td>1</td>\n",
              "      <td>en</td>\n",
              "    </tr>\n",
              "    <tr>\n",
              "      <th>1088854</th>\n",
              "      <td>B000KIITWS</td>\n",
              "      <td>CONFUCIUS: THE SECULAR AS SACRED.</td>\n",
              "      <td>NaN</td>\n",
              "      <td>A3PBFMN1QU4VWV</td>\n",
              "      <td>John J. Gibbs</td>\n",
              "      <td>0/0</td>\n",
              "      <td>5.0</td>\n",
              "      <td>1318636800</td>\n",
              "      <td>a gem</td>\n",
              "      <td>concise, well-written and constructed (as you ...</td>\n",
              "      <td>5</td>\n",
              "      <td>pt</td>\n",
              "    </tr>\n",
              "    <tr>\n",
              "      <th>962254</th>\n",
              "      <td>0875968708</td>\n",
              "      <td>You Bet Your Tomatoes: Fun Facts, Tall Tales, ...</td>\n",
              "      <td>NaN</td>\n",
              "      <td>ASFNOYMHYMQNO</td>\n",
              "      <td>GLORIA O'CONNELL</td>\n",
              "      <td>1/1</td>\n",
              "      <td>4.0</td>\n",
              "      <td>1245974400</td>\n",
              "      <td>Entertaining and informative.</td>\n",
              "      <td>I've been gardening for many years (actually, ...</td>\n",
              "      <td>4</td>\n",
              "      <td>en</td>\n",
              "    </tr>\n",
              "    <tr>\n",
              "      <th>2583708</th>\n",
              "      <td>B000H7EO2G</td>\n",
              "      <td>The Lord of the Rings Trilogy 3 Volumes</td>\n",
              "      <td>NaN</td>\n",
              "      <td>A1FIBTUKX80YNU</td>\n",
              "      <td>Brian F. Hudon</td>\n",
              "      <td>8/9</td>\n",
              "      <td>5.0</td>\n",
              "      <td>1148256000</td>\n",
              "      <td>One book to rule them all!</td>\n",
              "      <td>This is an exquisite book to own and to read, ...</td>\n",
              "      <td>5</td>\n",
              "      <td>en</td>\n",
              "    </tr>\n",
              "  </tbody>\n",
              "</table>\n",
              "<p>300000 rows × 12 columns</p>\n",
              "</div>"
            ],
            "text/plain": [
              "                 Id                                              Title  \\\n",
              "2524966  B000HZ8ZR8                        The Garden of Eden, A Novel   \n",
              "530830   B000HOSLEG                                          Fairytale   \n",
              "2597389  0754053822                    Disgrace: Complete & Unabridged   \n",
              "218539   0786222859                                   Bittersweet Rain   \n",
              "2759866  0821755641                                      Unforgettable   \n",
              "...             ...                                                ...   \n",
              "1644252  0395615801    A Nightmare in History: The Holocaust 1933-1945   \n",
              "2816988  1593555563             Stone of Tears (Sword of Truth Series)   \n",
              "1088854  B000KIITWS                  CONFUCIUS: THE SECULAR AS SACRED.   \n",
              "962254   0875968708  You Bet Your Tomatoes: Fun Facts, Tall Tales, ...   \n",
              "2583708  B000H7EO2G            The Lord of the Rings Trilogy 3 Volumes   \n",
              "\n",
              "          Price         User_id           profileName helpfulness  score  \\\n",
              "2524966     NaN             NaN                   NaN        4/11    2.0   \n",
              "530830      NaN  A2PGVEDRPGGIJ0                 coteb         2/2    5.0   \n",
              "2597389     NaN  A1MRV6VAB1HVJW      Gisele W. Wright         0/4    3.0   \n",
              "218539      NaN  A21MVX83HPR5VK              Dina_179       17/22    4.0   \n",
              "2759866     NaN   A1N967FZREGFG            Tess Capra         3/3    4.0   \n",
              "...         ...             ...                   ...         ...    ...   \n",
              "1644252     NaN  A1OJHNAMUW4F4Y  David N. 1st period.         2/5    5.0   \n",
              "2816988  167.25  A2JNZ09Y5JYPAK           I hate peas         2/5    1.0   \n",
              "1088854     NaN  A3PBFMN1QU4VWV         John J. Gibbs         0/0    5.0   \n",
              "962254      NaN   ASFNOYMHYMQNO      GLORIA O'CONNELL         1/1    4.0   \n",
              "2583708     NaN  A1FIBTUKX80YNU        Brian F. Hudon         8/9    5.0   \n",
              "\n",
              "               time                                            summary  \\\n",
              "2524966   912297600                    The Garden of Eden? Hmmmm......   \n",
              "530830   1338854400                                           loved it   \n",
              "2597389  1022803200                                        A hard read   \n",
              "218539    952128000  Ms. Brown keeps surprising me with her amazing...   \n",
              "2759866   890524800           Not unforgettable, but pretty darn good.   \n",
              "...             ...                                                ...   \n",
              "1644252  1008028800          1st peiod reading -A nightmare in history   \n",
              "2816988  1325462400                   Never should have been published   \n",
              "1088854  1318636800                                              a gem   \n",
              "962254   1245974400                      Entertaining and informative.   \n",
              "2583708  1148256000                         One book to rule them all!   \n",
              "\n",
              "                                                      text  \\\n",
              "2524966  This book starts out great, it romantisizes Eu...   \n",
              "530830   I highly recommend if you like Maggie shayne. ...   \n",
              "2597389  What drew to this novel was the title and the ...   \n",
              "218539   Only Sandra Brown will put together the most u...   \n",
              "2759866  Perhaps if Zebra spent as much on publicity as...   \n",
              "...                                                    ...   \n",
              "1644252  Imagne for a second that you are sleeping in y...   \n",
              "2816988  This book is absolutely terrible.If you take o...   \n",
              "1088854  concise, well-written and constructed (as you ...   \n",
              "962254   I've been gardening for many years (actually, ...   \n",
              "2583708  This is an exquisite book to own and to read, ...   \n",
              "\n",
              "         predicted_rating_BERT lang  \n",
              "2524966                      2   en  \n",
              "530830                       5   en  \n",
              "2597389                      2   en  \n",
              "218539                       5   en  \n",
              "2759866                      3   en  \n",
              "...                        ...  ...  \n",
              "1644252                      5   en  \n",
              "2816988                      1   en  \n",
              "1088854                      5   pt  \n",
              "962254                       4   en  \n",
              "2583708                      5   en  \n",
              "\n",
              "[300000 rows x 12 columns]"
            ]
          },
          "execution_count": 3,
          "metadata": {},
          "output_type": "execute_result"
        }
      ],
      "source": [
        "if FIRST_RUN:\n",
        "    df_reviews = df_reviews.dropna(subset=[\"summary\"]).sample(300000, random_state=2)\n",
        "    tqdm.pandas()\n",
        "    df_reviews[\"predicted_rating_BERT\"] = df_reviews[\"summary\"].progress_apply(lambda x: int(re.sub(r\"\\D\",\"\",classifier(x)[0]['label'])))\n",
        "    lang = [nlp(doc)._.language for doc in tqdm(df_reviews[\"summary\"])]\n",
        "    df_reviews[\"lang\"] = lang\n",
        "    with open(\"./DataSet/reviews_small_predicted.csv\", \"wb\") as fp:\n",
        "        pickle.dump(df_reviews,fp)\n",
        "else:\n",
        "    with open(\"./DataSet/reviews_small_predicted.csv\", \"rb\") as fp:\n",
        "        df_reviews = pickle.load(fp)\n",
        "df_reviews"
      ]
    },
    {
      "cell_type": "code",
      "execution_count": 9,
      "metadata": {},
      "outputs": [
        {
          "data": {
            "application/vnd.plotly.v1+json": {
              "config": {
                "plotlyServerURL": "https://plot.ly"
              },
              "data": [
                {
                  "alignmentgroup": "True",
                  "hovertemplate": "variable=score<br>value=%{x}<br>index=%{y}<extra></extra>",
                  "legendgroup": "score",
                  "marker": {
                    "color": "#636efa",
                    "pattern": {
                      "shape": ""
                    }
                  },
                  "name": "score",
                  "offsetgroup": "score",
                  "orientation": "h",
                  "showlegend": true,
                  "textposition": "auto",
                  "type": "bar",
                  "x": [
                    180957,
                    58262,
                    25563,
                    20127,
                    15091
                  ],
                  "xaxis": "x",
                  "y": [
                    5,
                    4,
                    3,
                    1,
                    2
                  ],
                  "yaxis": "y"
                }
              ],
              "layout": {
                "barmode": "relative",
                "legend": {
                  "title": {
                    "text": "variable"
                  },
                  "tracegroupgap": 0
                },
                "template": {
                  "data": {
                    "bar": [
                      {
                        "error_x": {
                          "color": "#2a3f5f"
                        },
                        "error_y": {
                          "color": "#2a3f5f"
                        },
                        "marker": {
                          "line": {
                            "color": "#E5ECF6",
                            "width": 0.5
                          },
                          "pattern": {
                            "fillmode": "overlay",
                            "size": 10,
                            "solidity": 0.2
                          }
                        },
                        "type": "bar"
                      }
                    ],
                    "barpolar": [
                      {
                        "marker": {
                          "line": {
                            "color": "#E5ECF6",
                            "width": 0.5
                          },
                          "pattern": {
                            "fillmode": "overlay",
                            "size": 10,
                            "solidity": 0.2
                          }
                        },
                        "type": "barpolar"
                      }
                    ],
                    "carpet": [
                      {
                        "aaxis": {
                          "endlinecolor": "#2a3f5f",
                          "gridcolor": "white",
                          "linecolor": "white",
                          "minorgridcolor": "white",
                          "startlinecolor": "#2a3f5f"
                        },
                        "baxis": {
                          "endlinecolor": "#2a3f5f",
                          "gridcolor": "white",
                          "linecolor": "white",
                          "minorgridcolor": "white",
                          "startlinecolor": "#2a3f5f"
                        },
                        "type": "carpet"
                      }
                    ],
                    "choropleth": [
                      {
                        "colorbar": {
                          "outlinewidth": 0,
                          "ticks": ""
                        },
                        "type": "choropleth"
                      }
                    ],
                    "contour": [
                      {
                        "colorbar": {
                          "outlinewidth": 0,
                          "ticks": ""
                        },
                        "colorscale": [
                          [
                            0,
                            "#0d0887"
                          ],
                          [
                            0.1111111111111111,
                            "#46039f"
                          ],
                          [
                            0.2222222222222222,
                            "#7201a8"
                          ],
                          [
                            0.3333333333333333,
                            "#9c179e"
                          ],
                          [
                            0.4444444444444444,
                            "#bd3786"
                          ],
                          [
                            0.5555555555555556,
                            "#d8576b"
                          ],
                          [
                            0.6666666666666666,
                            "#ed7953"
                          ],
                          [
                            0.7777777777777778,
                            "#fb9f3a"
                          ],
                          [
                            0.8888888888888888,
                            "#fdca26"
                          ],
                          [
                            1,
                            "#f0f921"
                          ]
                        ],
                        "type": "contour"
                      }
                    ],
                    "contourcarpet": [
                      {
                        "colorbar": {
                          "outlinewidth": 0,
                          "ticks": ""
                        },
                        "type": "contourcarpet"
                      }
                    ],
                    "heatmap": [
                      {
                        "colorbar": {
                          "outlinewidth": 0,
                          "ticks": ""
                        },
                        "colorscale": [
                          [
                            0,
                            "#0d0887"
                          ],
                          [
                            0.1111111111111111,
                            "#46039f"
                          ],
                          [
                            0.2222222222222222,
                            "#7201a8"
                          ],
                          [
                            0.3333333333333333,
                            "#9c179e"
                          ],
                          [
                            0.4444444444444444,
                            "#bd3786"
                          ],
                          [
                            0.5555555555555556,
                            "#d8576b"
                          ],
                          [
                            0.6666666666666666,
                            "#ed7953"
                          ],
                          [
                            0.7777777777777778,
                            "#fb9f3a"
                          ],
                          [
                            0.8888888888888888,
                            "#fdca26"
                          ],
                          [
                            1,
                            "#f0f921"
                          ]
                        ],
                        "type": "heatmap"
                      }
                    ],
                    "heatmapgl": [
                      {
                        "colorbar": {
                          "outlinewidth": 0,
                          "ticks": ""
                        },
                        "colorscale": [
                          [
                            0,
                            "#0d0887"
                          ],
                          [
                            0.1111111111111111,
                            "#46039f"
                          ],
                          [
                            0.2222222222222222,
                            "#7201a8"
                          ],
                          [
                            0.3333333333333333,
                            "#9c179e"
                          ],
                          [
                            0.4444444444444444,
                            "#bd3786"
                          ],
                          [
                            0.5555555555555556,
                            "#d8576b"
                          ],
                          [
                            0.6666666666666666,
                            "#ed7953"
                          ],
                          [
                            0.7777777777777778,
                            "#fb9f3a"
                          ],
                          [
                            0.8888888888888888,
                            "#fdca26"
                          ],
                          [
                            1,
                            "#f0f921"
                          ]
                        ],
                        "type": "heatmapgl"
                      }
                    ],
                    "histogram": [
                      {
                        "marker": {
                          "pattern": {
                            "fillmode": "overlay",
                            "size": 10,
                            "solidity": 0.2
                          }
                        },
                        "type": "histogram"
                      }
                    ],
                    "histogram2d": [
                      {
                        "colorbar": {
                          "outlinewidth": 0,
                          "ticks": ""
                        },
                        "colorscale": [
                          [
                            0,
                            "#0d0887"
                          ],
                          [
                            0.1111111111111111,
                            "#46039f"
                          ],
                          [
                            0.2222222222222222,
                            "#7201a8"
                          ],
                          [
                            0.3333333333333333,
                            "#9c179e"
                          ],
                          [
                            0.4444444444444444,
                            "#bd3786"
                          ],
                          [
                            0.5555555555555556,
                            "#d8576b"
                          ],
                          [
                            0.6666666666666666,
                            "#ed7953"
                          ],
                          [
                            0.7777777777777778,
                            "#fb9f3a"
                          ],
                          [
                            0.8888888888888888,
                            "#fdca26"
                          ],
                          [
                            1,
                            "#f0f921"
                          ]
                        ],
                        "type": "histogram2d"
                      }
                    ],
                    "histogram2dcontour": [
                      {
                        "colorbar": {
                          "outlinewidth": 0,
                          "ticks": ""
                        },
                        "colorscale": [
                          [
                            0,
                            "#0d0887"
                          ],
                          [
                            0.1111111111111111,
                            "#46039f"
                          ],
                          [
                            0.2222222222222222,
                            "#7201a8"
                          ],
                          [
                            0.3333333333333333,
                            "#9c179e"
                          ],
                          [
                            0.4444444444444444,
                            "#bd3786"
                          ],
                          [
                            0.5555555555555556,
                            "#d8576b"
                          ],
                          [
                            0.6666666666666666,
                            "#ed7953"
                          ],
                          [
                            0.7777777777777778,
                            "#fb9f3a"
                          ],
                          [
                            0.8888888888888888,
                            "#fdca26"
                          ],
                          [
                            1,
                            "#f0f921"
                          ]
                        ],
                        "type": "histogram2dcontour"
                      }
                    ],
                    "mesh3d": [
                      {
                        "colorbar": {
                          "outlinewidth": 0,
                          "ticks": ""
                        },
                        "type": "mesh3d"
                      }
                    ],
                    "parcoords": [
                      {
                        "line": {
                          "colorbar": {
                            "outlinewidth": 0,
                            "ticks": ""
                          }
                        },
                        "type": "parcoords"
                      }
                    ],
                    "pie": [
                      {
                        "automargin": true,
                        "type": "pie"
                      }
                    ],
                    "scatter": [
                      {
                        "fillpattern": {
                          "fillmode": "overlay",
                          "size": 10,
                          "solidity": 0.2
                        },
                        "type": "scatter"
                      }
                    ],
                    "scatter3d": [
                      {
                        "line": {
                          "colorbar": {
                            "outlinewidth": 0,
                            "ticks": ""
                          }
                        },
                        "marker": {
                          "colorbar": {
                            "outlinewidth": 0,
                            "ticks": ""
                          }
                        },
                        "type": "scatter3d"
                      }
                    ],
                    "scattercarpet": [
                      {
                        "marker": {
                          "colorbar": {
                            "outlinewidth": 0,
                            "ticks": ""
                          }
                        },
                        "type": "scattercarpet"
                      }
                    ],
                    "scattergeo": [
                      {
                        "marker": {
                          "colorbar": {
                            "outlinewidth": 0,
                            "ticks": ""
                          }
                        },
                        "type": "scattergeo"
                      }
                    ],
                    "scattergl": [
                      {
                        "marker": {
                          "colorbar": {
                            "outlinewidth": 0,
                            "ticks": ""
                          }
                        },
                        "type": "scattergl"
                      }
                    ],
                    "scattermapbox": [
                      {
                        "marker": {
                          "colorbar": {
                            "outlinewidth": 0,
                            "ticks": ""
                          }
                        },
                        "type": "scattermapbox"
                      }
                    ],
                    "scatterpolar": [
                      {
                        "marker": {
                          "colorbar": {
                            "outlinewidth": 0,
                            "ticks": ""
                          }
                        },
                        "type": "scatterpolar"
                      }
                    ],
                    "scatterpolargl": [
                      {
                        "marker": {
                          "colorbar": {
                            "outlinewidth": 0,
                            "ticks": ""
                          }
                        },
                        "type": "scatterpolargl"
                      }
                    ],
                    "scatterternary": [
                      {
                        "marker": {
                          "colorbar": {
                            "outlinewidth": 0,
                            "ticks": ""
                          }
                        },
                        "type": "scatterternary"
                      }
                    ],
                    "surface": [
                      {
                        "colorbar": {
                          "outlinewidth": 0,
                          "ticks": ""
                        },
                        "colorscale": [
                          [
                            0,
                            "#0d0887"
                          ],
                          [
                            0.1111111111111111,
                            "#46039f"
                          ],
                          [
                            0.2222222222222222,
                            "#7201a8"
                          ],
                          [
                            0.3333333333333333,
                            "#9c179e"
                          ],
                          [
                            0.4444444444444444,
                            "#bd3786"
                          ],
                          [
                            0.5555555555555556,
                            "#d8576b"
                          ],
                          [
                            0.6666666666666666,
                            "#ed7953"
                          ],
                          [
                            0.7777777777777778,
                            "#fb9f3a"
                          ],
                          [
                            0.8888888888888888,
                            "#fdca26"
                          ],
                          [
                            1,
                            "#f0f921"
                          ]
                        ],
                        "type": "surface"
                      }
                    ],
                    "table": [
                      {
                        "cells": {
                          "fill": {
                            "color": "#EBF0F8"
                          },
                          "line": {
                            "color": "white"
                          }
                        },
                        "header": {
                          "fill": {
                            "color": "#C8D4E3"
                          },
                          "line": {
                            "color": "white"
                          }
                        },
                        "type": "table"
                      }
                    ]
                  },
                  "layout": {
                    "annotationdefaults": {
                      "arrowcolor": "#2a3f5f",
                      "arrowhead": 0,
                      "arrowwidth": 1
                    },
                    "autotypenumbers": "strict",
                    "coloraxis": {
                      "colorbar": {
                        "outlinewidth": 0,
                        "ticks": ""
                      }
                    },
                    "colorscale": {
                      "diverging": [
                        [
                          0,
                          "#8e0152"
                        ],
                        [
                          0.1,
                          "#c51b7d"
                        ],
                        [
                          0.2,
                          "#de77ae"
                        ],
                        [
                          0.3,
                          "#f1b6da"
                        ],
                        [
                          0.4,
                          "#fde0ef"
                        ],
                        [
                          0.5,
                          "#f7f7f7"
                        ],
                        [
                          0.6,
                          "#e6f5d0"
                        ],
                        [
                          0.7,
                          "#b8e186"
                        ],
                        [
                          0.8,
                          "#7fbc41"
                        ],
                        [
                          0.9,
                          "#4d9221"
                        ],
                        [
                          1,
                          "#276419"
                        ]
                      ],
                      "sequential": [
                        [
                          0,
                          "#0d0887"
                        ],
                        [
                          0.1111111111111111,
                          "#46039f"
                        ],
                        [
                          0.2222222222222222,
                          "#7201a8"
                        ],
                        [
                          0.3333333333333333,
                          "#9c179e"
                        ],
                        [
                          0.4444444444444444,
                          "#bd3786"
                        ],
                        [
                          0.5555555555555556,
                          "#d8576b"
                        ],
                        [
                          0.6666666666666666,
                          "#ed7953"
                        ],
                        [
                          0.7777777777777778,
                          "#fb9f3a"
                        ],
                        [
                          0.8888888888888888,
                          "#fdca26"
                        ],
                        [
                          1,
                          "#f0f921"
                        ]
                      ],
                      "sequentialminus": [
                        [
                          0,
                          "#0d0887"
                        ],
                        [
                          0.1111111111111111,
                          "#46039f"
                        ],
                        [
                          0.2222222222222222,
                          "#7201a8"
                        ],
                        [
                          0.3333333333333333,
                          "#9c179e"
                        ],
                        [
                          0.4444444444444444,
                          "#bd3786"
                        ],
                        [
                          0.5555555555555556,
                          "#d8576b"
                        ],
                        [
                          0.6666666666666666,
                          "#ed7953"
                        ],
                        [
                          0.7777777777777778,
                          "#fb9f3a"
                        ],
                        [
                          0.8888888888888888,
                          "#fdca26"
                        ],
                        [
                          1,
                          "#f0f921"
                        ]
                      ]
                    },
                    "colorway": [
                      "#636efa",
                      "#EF553B",
                      "#00cc96",
                      "#ab63fa",
                      "#FFA15A",
                      "#19d3f3",
                      "#FF6692",
                      "#B6E880",
                      "#FF97FF",
                      "#FECB52"
                    ],
                    "font": {
                      "color": "#2a3f5f"
                    },
                    "geo": {
                      "bgcolor": "white",
                      "lakecolor": "white",
                      "landcolor": "#E5ECF6",
                      "showlakes": true,
                      "showland": true,
                      "subunitcolor": "white"
                    },
                    "hoverlabel": {
                      "align": "left"
                    },
                    "hovermode": "closest",
                    "mapbox": {
                      "style": "light"
                    },
                    "paper_bgcolor": "white",
                    "plot_bgcolor": "#E5ECF6",
                    "polar": {
                      "angularaxis": {
                        "gridcolor": "white",
                        "linecolor": "white",
                        "ticks": ""
                      },
                      "bgcolor": "#E5ECF6",
                      "radialaxis": {
                        "gridcolor": "white",
                        "linecolor": "white",
                        "ticks": ""
                      }
                    },
                    "scene": {
                      "xaxis": {
                        "backgroundcolor": "#E5ECF6",
                        "gridcolor": "white",
                        "gridwidth": 2,
                        "linecolor": "white",
                        "showbackground": true,
                        "ticks": "",
                        "zerolinecolor": "white"
                      },
                      "yaxis": {
                        "backgroundcolor": "#E5ECF6",
                        "gridcolor": "white",
                        "gridwidth": 2,
                        "linecolor": "white",
                        "showbackground": true,
                        "ticks": "",
                        "zerolinecolor": "white"
                      },
                      "zaxis": {
                        "backgroundcolor": "#E5ECF6",
                        "gridcolor": "white",
                        "gridwidth": 2,
                        "linecolor": "white",
                        "showbackground": true,
                        "ticks": "",
                        "zerolinecolor": "white"
                      }
                    },
                    "shapedefaults": {
                      "line": {
                        "color": "#2a3f5f"
                      }
                    },
                    "ternary": {
                      "aaxis": {
                        "gridcolor": "white",
                        "linecolor": "white",
                        "ticks": ""
                      },
                      "baxis": {
                        "gridcolor": "white",
                        "linecolor": "white",
                        "ticks": ""
                      },
                      "bgcolor": "#E5ECF6",
                      "caxis": {
                        "gridcolor": "white",
                        "linecolor": "white",
                        "ticks": ""
                      }
                    },
                    "title": {
                      "x": 0.05
                    },
                    "xaxis": {
                      "automargin": true,
                      "gridcolor": "white",
                      "linecolor": "white",
                      "ticks": "",
                      "title": {
                        "standoff": 15
                      },
                      "zerolinecolor": "white",
                      "zerolinewidth": 2
                    },
                    "yaxis": {
                      "automargin": true,
                      "gridcolor": "white",
                      "linecolor": "white",
                      "ticks": "",
                      "title": {
                        "standoff": 15
                      },
                      "zerolinecolor": "white",
                      "zerolinewidth": 2
                    }
                  }
                },
                "title": {
                  "text": "Distribution of scores"
                },
                "xaxis": {
                  "anchor": "y",
                  "domain": [
                    0,
                    1
                  ],
                  "title": {
                    "text": "value"
                  }
                },
                "yaxis": {
                  "anchor": "x",
                  "domain": [
                    0,
                    1
                  ],
                  "title": {
                    "text": "index"
                  }
                }
              }
            }
          },
          "metadata": {},
          "output_type": "display_data"
        }
      ],
      "source": [
        "fig = px.bar(df_reviews[\"score\"].value_counts(), orientation = \"h\", title = f\"Distribution of scores\")\n",
        "fig.show()"
      ]
    },
    {
      "cell_type": "code",
      "execution_count": 6,
      "metadata": {},
      "outputs": [
        {
          "name": "stdout",
          "output_type": "stream",
          "text": [
            "              precision    recall  f1-score   support\n",
            "\n",
            "         1.0       0.32      0.55      0.41     20127\n",
            "         2.0       0.28      0.27      0.27     15091\n",
            "         3.0       0.30      0.32      0.31     25563\n",
            "         4.0       0.35      0.30      0.32     58262\n",
            "         5.0       0.77      0.74      0.76    180957\n",
            "\n",
            "    accuracy                           0.58    300000\n",
            "   macro avg       0.41      0.44      0.41    300000\n",
            "weighted avg       0.60      0.58      0.59    300000\n",
            "\n"
          ]
        }
      ],
      "source": [
        "print(classification_report(df_reviews[\"score\"], df_reviews[\"predicted_rating_BERT\"]))"
      ]
    },
    {
      "cell_type": "markdown",
      "metadata": {},
      "source": [
        "The results are not so good. The accuracy is around 58% which is not surprising since the multilingual model has an average that is close to that value. \n",
        "\n",
        "However, in the description of the model, they propose an \"off by 1\" metric. In other terms, we classify a prediction to be accurate if it is off by 1 from the ground label.\n",
        "This metric can make sense in an application where we are not interested in the exact score, but a qualitative measure of positivity or negativity towards a certain book. This could be the case for example, in some applications of collaborative filtering where we are simply interested to know if the user consumed an item positively or negatively. \n",
        "\n",
        "Hence, we will use this metric here as well to evaluate the model."
      ]
    },
    {
      "cell_type": "code",
      "execution_count": 80,
      "metadata": {},
      "outputs": [
        {
          "data": {
            "text/html": [
              "<div>\n",
              "<style scoped>\n",
              "    .dataframe tbody tr th:only-of-type {\n",
              "        vertical-align: middle;\n",
              "    }\n",
              "\n",
              "    .dataframe tbody tr th {\n",
              "        vertical-align: top;\n",
              "    }\n",
              "\n",
              "    .dataframe thead th {\n",
              "        text-align: right;\n",
              "    }\n",
              "</style>\n",
              "<table border=\"1\" class=\"dataframe\">\n",
              "  <thead>\n",
              "    <tr style=\"text-align: right;\">\n",
              "      <th></th>\n",
              "      <th>Id</th>\n",
              "      <th>Title</th>\n",
              "      <th>Price</th>\n",
              "      <th>User_id</th>\n",
              "      <th>profileName</th>\n",
              "      <th>helpfulness</th>\n",
              "      <th>score</th>\n",
              "      <th>time</th>\n",
              "      <th>summary</th>\n",
              "      <th>text</th>\n",
              "      <th>predicted_rating_BERT</th>\n",
              "      <th>off_score_1</th>\n",
              "      <th>off_score_2</th>\n",
              "      <th>off_score_3</th>\n",
              "      <th>off_score_4</th>\n",
              "      <th>off_score_5</th>\n",
              "    </tr>\n",
              "  </thead>\n",
              "  <tbody>\n",
              "    <tr>\n",
              "      <th>2524966</th>\n",
              "      <td>B000HZ8ZR8</td>\n",
              "      <td>The Garden of Eden, A Novel</td>\n",
              "      <td>0.00</td>\n",
              "      <td>0</td>\n",
              "      <td>0</td>\n",
              "      <td>4/11</td>\n",
              "      <td>2.0</td>\n",
              "      <td>912297600</td>\n",
              "      <td>The Garden of Eden? Hmmmm......</td>\n",
              "      <td>This book starts out great, it romantisizes Eu...</td>\n",
              "      <td>2</td>\n",
              "      <td>0.0</td>\n",
              "      <td>2.0</td>\n",
              "      <td>0.0</td>\n",
              "      <td>0.0</td>\n",
              "      <td>0.0</td>\n",
              "    </tr>\n",
              "    <tr>\n",
              "      <th>530830</th>\n",
              "      <td>B000HOSLEG</td>\n",
              "      <td>Fairytale</td>\n",
              "      <td>0.00</td>\n",
              "      <td>A2PGVEDRPGGIJ0</td>\n",
              "      <td>coteb</td>\n",
              "      <td>2/2</td>\n",
              "      <td>5.0</td>\n",
              "      <td>1338854400</td>\n",
              "      <td>loved it</td>\n",
              "      <td>I highly recommend if you like Maggie shayne. ...</td>\n",
              "      <td>5</td>\n",
              "      <td>0.0</td>\n",
              "      <td>0.0</td>\n",
              "      <td>0.0</td>\n",
              "      <td>0.0</td>\n",
              "      <td>5.0</td>\n",
              "    </tr>\n",
              "    <tr>\n",
              "      <th>2597389</th>\n",
              "      <td>0754053822</td>\n",
              "      <td>Disgrace: Complete &amp; Unabridged</td>\n",
              "      <td>0.00</td>\n",
              "      <td>A1MRV6VAB1HVJW</td>\n",
              "      <td>Gisele W. Wright</td>\n",
              "      <td>0/4</td>\n",
              "      <td>3.0</td>\n",
              "      <td>1022803200</td>\n",
              "      <td>A hard read</td>\n",
              "      <td>What drew to this novel was the title and the ...</td>\n",
              "      <td>2</td>\n",
              "      <td>0.0</td>\n",
              "      <td>2.0</td>\n",
              "      <td>3.0</td>\n",
              "      <td>0.0</td>\n",
              "      <td>0.0</td>\n",
              "    </tr>\n",
              "    <tr>\n",
              "      <th>218539</th>\n",
              "      <td>0786222859</td>\n",
              "      <td>Bittersweet Rain</td>\n",
              "      <td>0.00</td>\n",
              "      <td>A21MVX83HPR5VK</td>\n",
              "      <td>Dina_179</td>\n",
              "      <td>17/22</td>\n",
              "      <td>4.0</td>\n",
              "      <td>952128000</td>\n",
              "      <td>Ms. Brown keeps surprising me with her amazing...</td>\n",
              "      <td>Only Sandra Brown will put together the most u...</td>\n",
              "      <td>5</td>\n",
              "      <td>0.0</td>\n",
              "      <td>0.0</td>\n",
              "      <td>0.0</td>\n",
              "      <td>4.0</td>\n",
              "      <td>5.0</td>\n",
              "    </tr>\n",
              "    <tr>\n",
              "      <th>2759866</th>\n",
              "      <td>0821755641</td>\n",
              "      <td>Unforgettable</td>\n",
              "      <td>0.00</td>\n",
              "      <td>A1N967FZREGFG</td>\n",
              "      <td>Tess Capra</td>\n",
              "      <td>3/3</td>\n",
              "      <td>4.0</td>\n",
              "      <td>890524800</td>\n",
              "      <td>Not unforgettable, but pretty darn good.</td>\n",
              "      <td>Perhaps if Zebra spent as much on publicity as...</td>\n",
              "      <td>3</td>\n",
              "      <td>0.0</td>\n",
              "      <td>0.0</td>\n",
              "      <td>3.0</td>\n",
              "      <td>4.0</td>\n",
              "      <td>0.0</td>\n",
              "    </tr>\n",
              "    <tr>\n",
              "      <th>...</th>\n",
              "      <td>...</td>\n",
              "      <td>...</td>\n",
              "      <td>...</td>\n",
              "      <td>...</td>\n",
              "      <td>...</td>\n",
              "      <td>...</td>\n",
              "      <td>...</td>\n",
              "      <td>...</td>\n",
              "      <td>...</td>\n",
              "      <td>...</td>\n",
              "      <td>...</td>\n",
              "      <td>...</td>\n",
              "      <td>...</td>\n",
              "      <td>...</td>\n",
              "      <td>...</td>\n",
              "      <td>...</td>\n",
              "    </tr>\n",
              "    <tr>\n",
              "      <th>1644252</th>\n",
              "      <td>0395615801</td>\n",
              "      <td>A Nightmare in History: The Holocaust 1933-1945</td>\n",
              "      <td>0.00</td>\n",
              "      <td>A1OJHNAMUW4F4Y</td>\n",
              "      <td>David N. 1st period.</td>\n",
              "      <td>2/5</td>\n",
              "      <td>5.0</td>\n",
              "      <td>1008028800</td>\n",
              "      <td>1st peiod reading -A nightmare in history</td>\n",
              "      <td>Imagne for a second that you are sleeping in y...</td>\n",
              "      <td>5</td>\n",
              "      <td>0.0</td>\n",
              "      <td>0.0</td>\n",
              "      <td>0.0</td>\n",
              "      <td>0.0</td>\n",
              "      <td>5.0</td>\n",
              "    </tr>\n",
              "    <tr>\n",
              "      <th>2816988</th>\n",
              "      <td>1593555563</td>\n",
              "      <td>Stone of Tears (Sword of Truth Series)</td>\n",
              "      <td>167.25</td>\n",
              "      <td>A2JNZ09Y5JYPAK</td>\n",
              "      <td>I hate peas</td>\n",
              "      <td>2/5</td>\n",
              "      <td>1.0</td>\n",
              "      <td>1325462400</td>\n",
              "      <td>Never should have been published</td>\n",
              "      <td>This book is absolutely terrible.If you take o...</td>\n",
              "      <td>1</td>\n",
              "      <td>1.0</td>\n",
              "      <td>0.0</td>\n",
              "      <td>0.0</td>\n",
              "      <td>0.0</td>\n",
              "      <td>0.0</td>\n",
              "    </tr>\n",
              "    <tr>\n",
              "      <th>1088854</th>\n",
              "      <td>B000KIITWS</td>\n",
              "      <td>CONFUCIUS: THE SECULAR AS SACRED.</td>\n",
              "      <td>0.00</td>\n",
              "      <td>A3PBFMN1QU4VWV</td>\n",
              "      <td>John J. Gibbs</td>\n",
              "      <td>0/0</td>\n",
              "      <td>5.0</td>\n",
              "      <td>1318636800</td>\n",
              "      <td>a gem</td>\n",
              "      <td>concise, well-written and constructed (as you ...</td>\n",
              "      <td>5</td>\n",
              "      <td>0.0</td>\n",
              "      <td>0.0</td>\n",
              "      <td>0.0</td>\n",
              "      <td>0.0</td>\n",
              "      <td>5.0</td>\n",
              "    </tr>\n",
              "    <tr>\n",
              "      <th>962254</th>\n",
              "      <td>0875968708</td>\n",
              "      <td>You Bet Your Tomatoes: Fun Facts, Tall Tales, ...</td>\n",
              "      <td>0.00</td>\n",
              "      <td>ASFNOYMHYMQNO</td>\n",
              "      <td>GLORIA O'CONNELL</td>\n",
              "      <td>1/1</td>\n",
              "      <td>4.0</td>\n",
              "      <td>1245974400</td>\n",
              "      <td>Entertaining and informative.</td>\n",
              "      <td>I've been gardening for many years (actually, ...</td>\n",
              "      <td>4</td>\n",
              "      <td>0.0</td>\n",
              "      <td>0.0</td>\n",
              "      <td>0.0</td>\n",
              "      <td>4.0</td>\n",
              "      <td>0.0</td>\n",
              "    </tr>\n",
              "    <tr>\n",
              "      <th>2583708</th>\n",
              "      <td>B000H7EO2G</td>\n",
              "      <td>The Lord of the Rings Trilogy 3 Volumes</td>\n",
              "      <td>0.00</td>\n",
              "      <td>A1FIBTUKX80YNU</td>\n",
              "      <td>Brian F. Hudon</td>\n",
              "      <td>8/9</td>\n",
              "      <td>5.0</td>\n",
              "      <td>1148256000</td>\n",
              "      <td>One book to rule them all!</td>\n",
              "      <td>This is an exquisite book to own and to read, ...</td>\n",
              "      <td>5</td>\n",
              "      <td>0.0</td>\n",
              "      <td>0.0</td>\n",
              "      <td>0.0</td>\n",
              "      <td>0.0</td>\n",
              "      <td>5.0</td>\n",
              "    </tr>\n",
              "  </tbody>\n",
              "</table>\n",
              "<p>300000 rows × 16 columns</p>\n",
              "</div>"
            ],
            "text/plain": [
              "                 Id                                              Title  \\\n",
              "2524966  B000HZ8ZR8                        The Garden of Eden, A Novel   \n",
              "530830   B000HOSLEG                                          Fairytale   \n",
              "2597389  0754053822                    Disgrace: Complete & Unabridged   \n",
              "218539   0786222859                                   Bittersweet Rain   \n",
              "2759866  0821755641                                      Unforgettable   \n",
              "...             ...                                                ...   \n",
              "1644252  0395615801    A Nightmare in History: The Holocaust 1933-1945   \n",
              "2816988  1593555563             Stone of Tears (Sword of Truth Series)   \n",
              "1088854  B000KIITWS                  CONFUCIUS: THE SECULAR AS SACRED.   \n",
              "962254   0875968708  You Bet Your Tomatoes: Fun Facts, Tall Tales, ...   \n",
              "2583708  B000H7EO2G            The Lord of the Rings Trilogy 3 Volumes   \n",
              "\n",
              "          Price         User_id           profileName helpfulness  score  \\\n",
              "2524966    0.00               0                     0        4/11    2.0   \n",
              "530830     0.00  A2PGVEDRPGGIJ0                 coteb         2/2    5.0   \n",
              "2597389    0.00  A1MRV6VAB1HVJW      Gisele W. Wright         0/4    3.0   \n",
              "218539     0.00  A21MVX83HPR5VK              Dina_179       17/22    4.0   \n",
              "2759866    0.00   A1N967FZREGFG            Tess Capra         3/3    4.0   \n",
              "...         ...             ...                   ...         ...    ...   \n",
              "1644252    0.00  A1OJHNAMUW4F4Y  David N. 1st period.         2/5    5.0   \n",
              "2816988  167.25  A2JNZ09Y5JYPAK           I hate peas         2/5    1.0   \n",
              "1088854    0.00  A3PBFMN1QU4VWV         John J. Gibbs         0/0    5.0   \n",
              "962254     0.00   ASFNOYMHYMQNO      GLORIA O'CONNELL         1/1    4.0   \n",
              "2583708    0.00  A1FIBTUKX80YNU        Brian F. Hudon         8/9    5.0   \n",
              "\n",
              "               time                                            summary  \\\n",
              "2524966   912297600                    The Garden of Eden? Hmmmm......   \n",
              "530830   1338854400                                           loved it   \n",
              "2597389  1022803200                                        A hard read   \n",
              "218539    952128000  Ms. Brown keeps surprising me with her amazing...   \n",
              "2759866   890524800           Not unforgettable, but pretty darn good.   \n",
              "...             ...                                                ...   \n",
              "1644252  1008028800          1st peiod reading -A nightmare in history   \n",
              "2816988  1325462400                   Never should have been published   \n",
              "1088854  1318636800                                              a gem   \n",
              "962254   1245974400                      Entertaining and informative.   \n",
              "2583708  1148256000                         One book to rule them all!   \n",
              "\n",
              "                                                      text  \\\n",
              "2524966  This book starts out great, it romantisizes Eu...   \n",
              "530830   I highly recommend if you like Maggie shayne. ...   \n",
              "2597389  What drew to this novel was the title and the ...   \n",
              "218539   Only Sandra Brown will put together the most u...   \n",
              "2759866  Perhaps if Zebra spent as much on publicity as...   \n",
              "...                                                    ...   \n",
              "1644252  Imagne for a second that you are sleeping in y...   \n",
              "2816988  This book is absolutely terrible.If you take o...   \n",
              "1088854  concise, well-written and constructed (as you ...   \n",
              "962254   I've been gardening for many years (actually, ...   \n",
              "2583708  This is an exquisite book to own and to read, ...   \n",
              "\n",
              "         predicted_rating_BERT  off_score_1  off_score_2  off_score_3  \\\n",
              "2524966                      2          0.0          2.0          0.0   \n",
              "530830                       5          0.0          0.0          0.0   \n",
              "2597389                      2          0.0          2.0          3.0   \n",
              "218539                       5          0.0          0.0          0.0   \n",
              "2759866                      3          0.0          0.0          3.0   \n",
              "...                        ...          ...          ...          ...   \n",
              "1644252                      5          0.0          0.0          0.0   \n",
              "2816988                      1          1.0          0.0          0.0   \n",
              "1088854                      5          0.0          0.0          0.0   \n",
              "962254                       4          0.0          0.0          0.0   \n",
              "2583708                      5          0.0          0.0          0.0   \n",
              "\n",
              "         off_score_4  off_score_5  \n",
              "2524966          0.0          0.0  \n",
              "530830           0.0          5.0  \n",
              "2597389          0.0          0.0  \n",
              "218539           4.0          5.0  \n",
              "2759866          4.0          0.0  \n",
              "...              ...          ...  \n",
              "1644252          0.0          5.0  \n",
              "2816988          0.0          0.0  \n",
              "1088854          0.0          5.0  \n",
              "962254           4.0          0.0  \n",
              "2583708          0.0          5.0  \n",
              "\n",
              "[300000 rows x 16 columns]"
            ]
          },
          "execution_count": 80,
          "metadata": {},
          "output_type": "execute_result"
        }
      ],
      "source": [
        "for score in range(1,6):\n",
        "    df_reviews.loc[df_reviews[\"score\"] == score, \"off_score_\"+str(score)]= df_reviews[\"predicted_rating_BERT\"].apply(lambda x: score if x<=score+1 and x>=score-1 else 0.0)\n",
        "    df_reviews.loc[df_reviews[\"predicted_rating_BERT\"] == score, \"off_score_\"+str(score)] = score\n",
        "df_reviews.fillna(0, inplace = True)\n",
        "df_reviews"
      ]
    },
    {
      "cell_type": "code",
      "execution_count": 85,
      "metadata": {},
      "outputs": [
        {
          "name": "stdout",
          "output_type": "stream",
          "text": [
            "Off by one metrics \n",
            "\n",
            "\n",
            "Class 1\n",
            "Precision:\t 0.3755330847839498\n",
            "Recall:\t\t 0.6956327321508422\n",
            "\n",
            "Class 2\n",
            "Precision:\t 0.5294090700870362\n",
            "Recall:\t\t 0.7658206878271817\n",
            "\n",
            "Class 3\n",
            "Precision:\t 0.4673034737455919\n",
            "Recall:\t\t 0.6583343113093142\n",
            "\n",
            "Class 4\n",
            "Precision:\t 0.6173135169401986\n",
            "Recall:\t\t 0.90254368198826\n",
            "\n",
            "Class 5\n",
            "Precision:\t 0.8017643352236925\n",
            "Recall:\t\t 0.878938090264538\n",
            "\n"
          ]
        }
      ],
      "source": [
        "print(\"Off by one metrics \\n\\n\")\n",
        "for score in range(1,6):\n",
        "    tp = (df_reviews[\"score\"] == df_reviews[\"off_score_\"+str(score)]).sum()\n",
        "    fp = ((df_reviews[\"score\"] != score) & (df_reviews[\"off_score_\"+str(score)]==score)).sum()\n",
        "    fn = ((df_reviews[\"score\"] == score) & (df_reviews[\"off_score_\"+str(score)]!=score)).sum()\n",
        "    print(f\"Class {score}\")\n",
        "    print(f\"Precision:\\t {tp/(tp+fp)}\")\n",
        "    print(f\"Recall:\\t\\t {tp/(tp+fn)}\\n\")\n"
      ]
    },
    {
      "cell_type": "markdown",
      "metadata": {},
      "source": [
        "As we can see, with this metric, the per class precision and recall is much higher. However, one could object that the off by one metric is unrealiable as it is simply increasing the number of true positives (and keeping the false positives and false negatives the same). For this reason, we shall take this with a grain of salt and prefer to stick to the normal classification report. "
      ]
    },
    {
      "cell_type": "markdown",
      "metadata": {},
      "source": [
        "## RoBERTa\n",
        "\n",
        "One interesting alternative to the multilingual model, is RoBERTa. This model is trained on a wider variety of data sets and also gives the ability of fine tuning which is a desirable quality. However, the first limitation of this model is that it only handles English. \n",
        "Therefore, we must first keep only the books that are in english using spacy fast lang as before. This was done previously.\n",
        "\n",
        "A quick analysis shows that approximately 15000 of the documents are not in english while a quick inspection showed that this is not so accurate. Therefore, just to be sure, we proceed to reclassify them using the text of the review instead of the summary. In this way, we are not throwing away data which could be useful."
      ]
    },
    {
      "cell_type": "code",
      "execution_count": 32,
      "metadata": {},
      "outputs": [
        {
          "name": "stdout",
          "output_type": "stream",
          "text": [
            "Documents with score of 3.0: 25546\n",
            "We are left with 273958 documents\n"
          ]
        }
      ],
      "source": [
        "#nonenglish = df_reviews[df_reviews[\"lang\"]!=\"en\"][\"text\"]\n",
        "#lang = [nlp(doc)._.language for doc in tqdm(nonenglish)]\n",
        "#df_reviews.loc[df_reviews[\"lang\"]!=\"en\", \"lang\"] = lang\n",
        "\n",
        "#remove non english docs\n",
        "df_reviews_english = df_reviews[df_reviews[\"lang\"]==\"en\"]\n",
        "\n",
        "len_3 = len( df_reviews_english[df_reviews_english[\"score\"]==3.0])\n",
        "print(f\"Documents with score of 3.0: { len_3}\")\n",
        "\n",
        "#remove docs with score of 3.0\n",
        "df_reviews_english = df_reviews_english[df_reviews_english[\"score\"]!=3.0]\n",
        "\n",
        "print(f\"We are left with {len(df_reviews_english)} documents\")\n",
        "\n",
        "df_reviews_english.loc[df_reviews_english[\"score\"]>3.0, \"class\"] = \"POSITIVE\"\n",
        "df_reviews_english.loc[df_reviews_english[\"score\"]<3.0, \"class\"] = \"NEGATIVE\"\n"
      ]
    },
    {
      "cell_type": "markdown",
      "metadata": {},
      "source": [
        "Now the non english documents have decreased to only 500 documents, which we drop. \n",
        "\n",
        "\n",
        "The next step involves handling another limitation of the model, namely that it only classifies text as positive or negative. As we analyzed previously, we can easily group 1 & 2 stars as negative and 4 & 5 stars as positive, while for 3 stars it is not so clear whether they are one category or the other. This could be harmful for evaluating the models performance as we have no prior idea of the true labels. For this reason, we will drop 3 star reviews when we evaluate the performance. \n",
        "\n",
        "This means dropping 25500 reviews. \n",
        "\n",
        "In the end, we are left with more than 250000 documents, which is acceptable to measure a comparable performance. Unfortunately, the run time required for this is 12 hours, therefore, we choose to consider only a sample of 100 thousand documents, which requires only 5 hours. "
      ]
    },
    {
      "cell_type": "code",
      "execution_count": 27,
      "metadata": {},
      "outputs": [],
      "source": [
        "model_name = \"siebert/sentiment-roberta-large-english\"\n",
        "\n",
        "tokenizer = AutoTokenizer.from_pretrained(model_name)\n",
        "model = AutoModelForSequenceClassification.from_pretrained(model_name, num_labels = 2)\n",
        "classifier = pipeline(\"sentiment-analysis\", model=model, tokenizer=tokenizer)"
      ]
    },
    {
      "cell_type": "code",
      "execution_count": 8,
      "metadata": {},
      "outputs": [],
      "source": [
        "if FIRST_RUN:\n",
        "    df_reviews_english = df_reviews_english.sample(100000, random_state=2)\n",
        "    tqdm.pandas()\n",
        "    df_reviews_english[\"predicted_rating_RoBERTa\"] = df_reviews_english[\"summary\"].progress_apply(lambda x: str(classifier(x)[0]['label']))\n",
        "    with open(\"./DataSet/reviews_small_roberta.csv\", \"wb\") as fp:\n",
        "        pickle.dump(df_reviews_english,fp)\n",
        "else:\n",
        "    with open(\"./DataSet/reviews_small_roberta.csv\", \"rb\") as fp:\n",
        "        df_reviews_english = pickle.load(fp)"
      ]
    },
    {
      "cell_type": "code",
      "execution_count": 14,
      "metadata": {},
      "outputs": [
        {
          "data": {
            "application/vnd.plotly.v1+json": {
              "config": {
                "plotlyServerURL": "https://plot.ly"
              },
              "data": [
                {
                  "alignmentgroup": "True",
                  "hovertemplate": "variable=class<br>value=%{x}<br>index=%{y}<extra></extra>",
                  "legendgroup": "class",
                  "marker": {
                    "color": "#636efa",
                    "pattern": {
                      "shape": ""
                    }
                  },
                  "name": "class",
                  "offsetgroup": "class",
                  "orientation": "h",
                  "showlegend": true,
                  "textposition": "auto",
                  "type": "bar",
                  "x": [
                    87280,
                    12720
                  ],
                  "xaxis": "x",
                  "y": [
                    "POSITIVE",
                    "NEGATIVE"
                  ],
                  "yaxis": "y"
                }
              ],
              "layout": {
                "barmode": "relative",
                "legend": {
                  "title": {
                    "text": "variable"
                  },
                  "tracegroupgap": 0
                },
                "template": {
                  "data": {
                    "bar": [
                      {
                        "error_x": {
                          "color": "#2a3f5f"
                        },
                        "error_y": {
                          "color": "#2a3f5f"
                        },
                        "marker": {
                          "line": {
                            "color": "#E5ECF6",
                            "width": 0.5
                          },
                          "pattern": {
                            "fillmode": "overlay",
                            "size": 10,
                            "solidity": 0.2
                          }
                        },
                        "type": "bar"
                      }
                    ],
                    "barpolar": [
                      {
                        "marker": {
                          "line": {
                            "color": "#E5ECF6",
                            "width": 0.5
                          },
                          "pattern": {
                            "fillmode": "overlay",
                            "size": 10,
                            "solidity": 0.2
                          }
                        },
                        "type": "barpolar"
                      }
                    ],
                    "carpet": [
                      {
                        "aaxis": {
                          "endlinecolor": "#2a3f5f",
                          "gridcolor": "white",
                          "linecolor": "white",
                          "minorgridcolor": "white",
                          "startlinecolor": "#2a3f5f"
                        },
                        "baxis": {
                          "endlinecolor": "#2a3f5f",
                          "gridcolor": "white",
                          "linecolor": "white",
                          "minorgridcolor": "white",
                          "startlinecolor": "#2a3f5f"
                        },
                        "type": "carpet"
                      }
                    ],
                    "choropleth": [
                      {
                        "colorbar": {
                          "outlinewidth": 0,
                          "ticks": ""
                        },
                        "type": "choropleth"
                      }
                    ],
                    "contour": [
                      {
                        "colorbar": {
                          "outlinewidth": 0,
                          "ticks": ""
                        },
                        "colorscale": [
                          [
                            0,
                            "#0d0887"
                          ],
                          [
                            0.1111111111111111,
                            "#46039f"
                          ],
                          [
                            0.2222222222222222,
                            "#7201a8"
                          ],
                          [
                            0.3333333333333333,
                            "#9c179e"
                          ],
                          [
                            0.4444444444444444,
                            "#bd3786"
                          ],
                          [
                            0.5555555555555556,
                            "#d8576b"
                          ],
                          [
                            0.6666666666666666,
                            "#ed7953"
                          ],
                          [
                            0.7777777777777778,
                            "#fb9f3a"
                          ],
                          [
                            0.8888888888888888,
                            "#fdca26"
                          ],
                          [
                            1,
                            "#f0f921"
                          ]
                        ],
                        "type": "contour"
                      }
                    ],
                    "contourcarpet": [
                      {
                        "colorbar": {
                          "outlinewidth": 0,
                          "ticks": ""
                        },
                        "type": "contourcarpet"
                      }
                    ],
                    "heatmap": [
                      {
                        "colorbar": {
                          "outlinewidth": 0,
                          "ticks": ""
                        },
                        "colorscale": [
                          [
                            0,
                            "#0d0887"
                          ],
                          [
                            0.1111111111111111,
                            "#46039f"
                          ],
                          [
                            0.2222222222222222,
                            "#7201a8"
                          ],
                          [
                            0.3333333333333333,
                            "#9c179e"
                          ],
                          [
                            0.4444444444444444,
                            "#bd3786"
                          ],
                          [
                            0.5555555555555556,
                            "#d8576b"
                          ],
                          [
                            0.6666666666666666,
                            "#ed7953"
                          ],
                          [
                            0.7777777777777778,
                            "#fb9f3a"
                          ],
                          [
                            0.8888888888888888,
                            "#fdca26"
                          ],
                          [
                            1,
                            "#f0f921"
                          ]
                        ],
                        "type": "heatmap"
                      }
                    ],
                    "heatmapgl": [
                      {
                        "colorbar": {
                          "outlinewidth": 0,
                          "ticks": ""
                        },
                        "colorscale": [
                          [
                            0,
                            "#0d0887"
                          ],
                          [
                            0.1111111111111111,
                            "#46039f"
                          ],
                          [
                            0.2222222222222222,
                            "#7201a8"
                          ],
                          [
                            0.3333333333333333,
                            "#9c179e"
                          ],
                          [
                            0.4444444444444444,
                            "#bd3786"
                          ],
                          [
                            0.5555555555555556,
                            "#d8576b"
                          ],
                          [
                            0.6666666666666666,
                            "#ed7953"
                          ],
                          [
                            0.7777777777777778,
                            "#fb9f3a"
                          ],
                          [
                            0.8888888888888888,
                            "#fdca26"
                          ],
                          [
                            1,
                            "#f0f921"
                          ]
                        ],
                        "type": "heatmapgl"
                      }
                    ],
                    "histogram": [
                      {
                        "marker": {
                          "pattern": {
                            "fillmode": "overlay",
                            "size": 10,
                            "solidity": 0.2
                          }
                        },
                        "type": "histogram"
                      }
                    ],
                    "histogram2d": [
                      {
                        "colorbar": {
                          "outlinewidth": 0,
                          "ticks": ""
                        },
                        "colorscale": [
                          [
                            0,
                            "#0d0887"
                          ],
                          [
                            0.1111111111111111,
                            "#46039f"
                          ],
                          [
                            0.2222222222222222,
                            "#7201a8"
                          ],
                          [
                            0.3333333333333333,
                            "#9c179e"
                          ],
                          [
                            0.4444444444444444,
                            "#bd3786"
                          ],
                          [
                            0.5555555555555556,
                            "#d8576b"
                          ],
                          [
                            0.6666666666666666,
                            "#ed7953"
                          ],
                          [
                            0.7777777777777778,
                            "#fb9f3a"
                          ],
                          [
                            0.8888888888888888,
                            "#fdca26"
                          ],
                          [
                            1,
                            "#f0f921"
                          ]
                        ],
                        "type": "histogram2d"
                      }
                    ],
                    "histogram2dcontour": [
                      {
                        "colorbar": {
                          "outlinewidth": 0,
                          "ticks": ""
                        },
                        "colorscale": [
                          [
                            0,
                            "#0d0887"
                          ],
                          [
                            0.1111111111111111,
                            "#46039f"
                          ],
                          [
                            0.2222222222222222,
                            "#7201a8"
                          ],
                          [
                            0.3333333333333333,
                            "#9c179e"
                          ],
                          [
                            0.4444444444444444,
                            "#bd3786"
                          ],
                          [
                            0.5555555555555556,
                            "#d8576b"
                          ],
                          [
                            0.6666666666666666,
                            "#ed7953"
                          ],
                          [
                            0.7777777777777778,
                            "#fb9f3a"
                          ],
                          [
                            0.8888888888888888,
                            "#fdca26"
                          ],
                          [
                            1,
                            "#f0f921"
                          ]
                        ],
                        "type": "histogram2dcontour"
                      }
                    ],
                    "mesh3d": [
                      {
                        "colorbar": {
                          "outlinewidth": 0,
                          "ticks": ""
                        },
                        "type": "mesh3d"
                      }
                    ],
                    "parcoords": [
                      {
                        "line": {
                          "colorbar": {
                            "outlinewidth": 0,
                            "ticks": ""
                          }
                        },
                        "type": "parcoords"
                      }
                    ],
                    "pie": [
                      {
                        "automargin": true,
                        "type": "pie"
                      }
                    ],
                    "scatter": [
                      {
                        "fillpattern": {
                          "fillmode": "overlay",
                          "size": 10,
                          "solidity": 0.2
                        },
                        "type": "scatter"
                      }
                    ],
                    "scatter3d": [
                      {
                        "line": {
                          "colorbar": {
                            "outlinewidth": 0,
                            "ticks": ""
                          }
                        },
                        "marker": {
                          "colorbar": {
                            "outlinewidth": 0,
                            "ticks": ""
                          }
                        },
                        "type": "scatter3d"
                      }
                    ],
                    "scattercarpet": [
                      {
                        "marker": {
                          "colorbar": {
                            "outlinewidth": 0,
                            "ticks": ""
                          }
                        },
                        "type": "scattercarpet"
                      }
                    ],
                    "scattergeo": [
                      {
                        "marker": {
                          "colorbar": {
                            "outlinewidth": 0,
                            "ticks": ""
                          }
                        },
                        "type": "scattergeo"
                      }
                    ],
                    "scattergl": [
                      {
                        "marker": {
                          "colorbar": {
                            "outlinewidth": 0,
                            "ticks": ""
                          }
                        },
                        "type": "scattergl"
                      }
                    ],
                    "scattermapbox": [
                      {
                        "marker": {
                          "colorbar": {
                            "outlinewidth": 0,
                            "ticks": ""
                          }
                        },
                        "type": "scattermapbox"
                      }
                    ],
                    "scatterpolar": [
                      {
                        "marker": {
                          "colorbar": {
                            "outlinewidth": 0,
                            "ticks": ""
                          }
                        },
                        "type": "scatterpolar"
                      }
                    ],
                    "scatterpolargl": [
                      {
                        "marker": {
                          "colorbar": {
                            "outlinewidth": 0,
                            "ticks": ""
                          }
                        },
                        "type": "scatterpolargl"
                      }
                    ],
                    "scatterternary": [
                      {
                        "marker": {
                          "colorbar": {
                            "outlinewidth": 0,
                            "ticks": ""
                          }
                        },
                        "type": "scatterternary"
                      }
                    ],
                    "surface": [
                      {
                        "colorbar": {
                          "outlinewidth": 0,
                          "ticks": ""
                        },
                        "colorscale": [
                          [
                            0,
                            "#0d0887"
                          ],
                          [
                            0.1111111111111111,
                            "#46039f"
                          ],
                          [
                            0.2222222222222222,
                            "#7201a8"
                          ],
                          [
                            0.3333333333333333,
                            "#9c179e"
                          ],
                          [
                            0.4444444444444444,
                            "#bd3786"
                          ],
                          [
                            0.5555555555555556,
                            "#d8576b"
                          ],
                          [
                            0.6666666666666666,
                            "#ed7953"
                          ],
                          [
                            0.7777777777777778,
                            "#fb9f3a"
                          ],
                          [
                            0.8888888888888888,
                            "#fdca26"
                          ],
                          [
                            1,
                            "#f0f921"
                          ]
                        ],
                        "type": "surface"
                      }
                    ],
                    "table": [
                      {
                        "cells": {
                          "fill": {
                            "color": "#EBF0F8"
                          },
                          "line": {
                            "color": "white"
                          }
                        },
                        "header": {
                          "fill": {
                            "color": "#C8D4E3"
                          },
                          "line": {
                            "color": "white"
                          }
                        },
                        "type": "table"
                      }
                    ]
                  },
                  "layout": {
                    "annotationdefaults": {
                      "arrowcolor": "#2a3f5f",
                      "arrowhead": 0,
                      "arrowwidth": 1
                    },
                    "autotypenumbers": "strict",
                    "coloraxis": {
                      "colorbar": {
                        "outlinewidth": 0,
                        "ticks": ""
                      }
                    },
                    "colorscale": {
                      "diverging": [
                        [
                          0,
                          "#8e0152"
                        ],
                        [
                          0.1,
                          "#c51b7d"
                        ],
                        [
                          0.2,
                          "#de77ae"
                        ],
                        [
                          0.3,
                          "#f1b6da"
                        ],
                        [
                          0.4,
                          "#fde0ef"
                        ],
                        [
                          0.5,
                          "#f7f7f7"
                        ],
                        [
                          0.6,
                          "#e6f5d0"
                        ],
                        [
                          0.7,
                          "#b8e186"
                        ],
                        [
                          0.8,
                          "#7fbc41"
                        ],
                        [
                          0.9,
                          "#4d9221"
                        ],
                        [
                          1,
                          "#276419"
                        ]
                      ],
                      "sequential": [
                        [
                          0,
                          "#0d0887"
                        ],
                        [
                          0.1111111111111111,
                          "#46039f"
                        ],
                        [
                          0.2222222222222222,
                          "#7201a8"
                        ],
                        [
                          0.3333333333333333,
                          "#9c179e"
                        ],
                        [
                          0.4444444444444444,
                          "#bd3786"
                        ],
                        [
                          0.5555555555555556,
                          "#d8576b"
                        ],
                        [
                          0.6666666666666666,
                          "#ed7953"
                        ],
                        [
                          0.7777777777777778,
                          "#fb9f3a"
                        ],
                        [
                          0.8888888888888888,
                          "#fdca26"
                        ],
                        [
                          1,
                          "#f0f921"
                        ]
                      ],
                      "sequentialminus": [
                        [
                          0,
                          "#0d0887"
                        ],
                        [
                          0.1111111111111111,
                          "#46039f"
                        ],
                        [
                          0.2222222222222222,
                          "#7201a8"
                        ],
                        [
                          0.3333333333333333,
                          "#9c179e"
                        ],
                        [
                          0.4444444444444444,
                          "#bd3786"
                        ],
                        [
                          0.5555555555555556,
                          "#d8576b"
                        ],
                        [
                          0.6666666666666666,
                          "#ed7953"
                        ],
                        [
                          0.7777777777777778,
                          "#fb9f3a"
                        ],
                        [
                          0.8888888888888888,
                          "#fdca26"
                        ],
                        [
                          1,
                          "#f0f921"
                        ]
                      ]
                    },
                    "colorway": [
                      "#636efa",
                      "#EF553B",
                      "#00cc96",
                      "#ab63fa",
                      "#FFA15A",
                      "#19d3f3",
                      "#FF6692",
                      "#B6E880",
                      "#FF97FF",
                      "#FECB52"
                    ],
                    "font": {
                      "color": "#2a3f5f"
                    },
                    "geo": {
                      "bgcolor": "white",
                      "lakecolor": "white",
                      "landcolor": "#E5ECF6",
                      "showlakes": true,
                      "showland": true,
                      "subunitcolor": "white"
                    },
                    "hoverlabel": {
                      "align": "left"
                    },
                    "hovermode": "closest",
                    "mapbox": {
                      "style": "light"
                    },
                    "paper_bgcolor": "white",
                    "plot_bgcolor": "#E5ECF6",
                    "polar": {
                      "angularaxis": {
                        "gridcolor": "white",
                        "linecolor": "white",
                        "ticks": ""
                      },
                      "bgcolor": "#E5ECF6",
                      "radialaxis": {
                        "gridcolor": "white",
                        "linecolor": "white",
                        "ticks": ""
                      }
                    },
                    "scene": {
                      "xaxis": {
                        "backgroundcolor": "#E5ECF6",
                        "gridcolor": "white",
                        "gridwidth": 2,
                        "linecolor": "white",
                        "showbackground": true,
                        "ticks": "",
                        "zerolinecolor": "white"
                      },
                      "yaxis": {
                        "backgroundcolor": "#E5ECF6",
                        "gridcolor": "white",
                        "gridwidth": 2,
                        "linecolor": "white",
                        "showbackground": true,
                        "ticks": "",
                        "zerolinecolor": "white"
                      },
                      "zaxis": {
                        "backgroundcolor": "#E5ECF6",
                        "gridcolor": "white",
                        "gridwidth": 2,
                        "linecolor": "white",
                        "showbackground": true,
                        "ticks": "",
                        "zerolinecolor": "white"
                      }
                    },
                    "shapedefaults": {
                      "line": {
                        "color": "#2a3f5f"
                      }
                    },
                    "ternary": {
                      "aaxis": {
                        "gridcolor": "white",
                        "linecolor": "white",
                        "ticks": ""
                      },
                      "baxis": {
                        "gridcolor": "white",
                        "linecolor": "white",
                        "ticks": ""
                      },
                      "bgcolor": "#E5ECF6",
                      "caxis": {
                        "gridcolor": "white",
                        "linecolor": "white",
                        "ticks": ""
                      }
                    },
                    "title": {
                      "x": 0.05
                    },
                    "xaxis": {
                      "automargin": true,
                      "gridcolor": "white",
                      "linecolor": "white",
                      "ticks": "",
                      "title": {
                        "standoff": 15
                      },
                      "zerolinecolor": "white",
                      "zerolinewidth": 2
                    },
                    "yaxis": {
                      "automargin": true,
                      "gridcolor": "white",
                      "linecolor": "white",
                      "ticks": "",
                      "title": {
                        "standoff": 15
                      },
                      "zerolinecolor": "white",
                      "zerolinewidth": 2
                    }
                  }
                },
                "title": {
                  "text": "Distribution of positive vs negative"
                },
                "xaxis": {
                  "anchor": "y",
                  "domain": [
                    0,
                    1
                  ],
                  "title": {
                    "text": "value"
                  }
                },
                "yaxis": {
                  "anchor": "x",
                  "domain": [
                    0,
                    1
                  ],
                  "title": {
                    "text": "index"
                  }
                }
              }
            }
          },
          "metadata": {},
          "output_type": "display_data"
        }
      ],
      "source": [
        "fig = px.bar(df_reviews_english[\"class\"].value_counts(), orientation = \"h\", title = f\"Distribution of positive vs negative\")\n",
        "fig.show()"
      ]
    },
    {
      "cell_type": "code",
      "execution_count": 8,
      "metadata": {},
      "outputs": [
        {
          "name": "stdout",
          "output_type": "stream",
          "text": [
            "              precision    recall  f1-score   support\n",
            "\n",
            "    NEGATIVE       0.51      0.82      0.63     12720\n",
            "    POSITIVE       0.97      0.89      0.93     87280\n",
            "\n",
            "    accuracy                           0.88    100000\n",
            "   macro avg       0.74      0.85      0.78    100000\n",
            "weighted avg       0.91      0.88      0.89    100000\n",
            "\n"
          ]
        }
      ],
      "source": [
        "print(classification_report(df_reviews_english[\"class\"], df_reviews_english[\"predicted_rating_RoBERTa\"]))"
      ]
    },
    {
      "cell_type": "markdown",
      "metadata": {},
      "source": [
        "As we can see, this model performs much better than the previous one. It has high values of recall for both classes and a high precision for the positive class. However, it has a precision of 50% for the negative class, which indicates that half of the time, the model is classifying positive reviews as negative ones. This is largely due to the imbalance of the classes since the missing 10% of the recall in the positive class corresponds to around 8500 documents which are positive but classified as negative. However, the size of this misclassification is pratically as large as the number of negative documents, which will cause its precision to inevitably go down. "
      ]
    },
    {
      "cell_type": "markdown",
      "metadata": {},
      "source": [
        "#### Fine Tuning RoBERTa\n",
        "\n",
        "As mentioned before, we can fine tune this model for our own dataset to try to obtain better results.\n",
        "\n",
        "In particular, we follow the approach outlined in:\n",
        "https://huggingface.co/docs/transformers/training"
      ]
    },
    {
      "cell_type": "markdown",
      "metadata": {},
      "source": [
        "#### Step 1: Prepare Data\n",
        "In the tutorial, we see that we must have data in HuggingFace format. This can be achieved by uploading the train,validation,test sets into the HUB of huggingface (account needed). \n",
        "\n",
        "The strategy was as follows: \n",
        "- Drop all columns except class and summary (to store less data)\n",
        "- Convert Positive - 1, Negative - 0\n",
        "- Shuffle Data\n",
        "- Split train, validation, test into 60%, 20%, 20%.\n",
        "- Upoad the results into the HUB.\n",
        "- Load using the appropriate library."
      ]
    },
    {
      "cell_type": "code",
      "execution_count": 9,
      "metadata": {},
      "outputs": [],
      "source": [
        "df_reviews_english[\"class\"] = df_reviews_english[\"class\"].apply(lambda x: 1 if x == \"POSITIVE\" else 0)\n",
        "df_reviews_english = df_reviews_english.drop([\"Id\", \"Title\", \"score\", \"Price\", \"User_id\", \"profileName\", \"helpfulness\", \"time\", \"text\", \"predicted_rating_BERT\", \"lang\", \"predicted_rating_RoBERTa\"], axis = 1)\n",
        "df_reviews_english.rename(columns = {\"class\":\"labels\",\"summary\":\"text\"},inplace = True)\n",
        "lendf = len(df_reviews_english)\n",
        "train, validation, test = np.split(df_reviews_english.sample(frac = 1, random_state = 2), [int(0.6*lendf), int(0.8*lendf)])\n",
        "train.to_csv(\"./DataSet/train.csv\", index = False)\n",
        "validation.to_csv(\"./DataSet/validation.csv\", index = False)\n",
        "test.to_csv(\"./DataSet/test.csv\", index = False)"
      ]
    },
    {
      "cell_type": "code",
      "execution_count": 10,
      "metadata": {},
      "outputs": [
        {
          "name": "stderr",
          "output_type": "stream",
          "text": [
            "Using custom data configuration theabm--NLPFinalProject-c2fd898ba956fdb1\n",
            "Found cached dataset csv (C:/Users/andre/.cache/huggingface/datasets/theabm___csv/theabm--NLPFinalProject-c2fd898ba956fdb1/0.0.0/6b34fb8fcf56f7c8ba51dc895bfa2bfbe43546f190a60fcf74bb5e8afdcc2317)\n",
            "100%|██████████| 3/3 [00:00<00:00, 460.98it/s]\n"
          ]
        },
        {
          "data": {
            "text/plain": [
              "DatasetDict({\n",
              "    train: Dataset({\n",
              "        features: ['text', 'labels'],\n",
              "        num_rows: 60000\n",
              "    })\n",
              "    test: Dataset({\n",
              "        features: ['text', 'labels'],\n",
              "        num_rows: 20000\n",
              "    })\n",
              "    validation: Dataset({\n",
              "        features: ['text', 'labels'],\n",
              "        num_rows: 20000\n",
              "    })\n",
              "})"
            ]
          },
          "execution_count": 10,
          "metadata": {},
          "output_type": "execute_result"
        }
      ],
      "source": [
        "from datasets import load_dataset\n",
        "dataset = load_dataset(\"theabm/NLPFinalProject\")\n",
        "dataset\n"
      ]
    },
    {
      "cell_type": "markdown",
      "metadata": {},
      "source": [
        "As we can see, the dataset is composed of a DataDict which is itself composed of the splits. We can access the data in the following way:"
      ]
    },
    {
      "cell_type": "code",
      "execution_count": 20,
      "metadata": {},
      "outputs": [
        {
          "data": {
            "text/plain": [
              "{'text': 'A Perfect Slice of History', 'labels': 1}"
            ]
          },
          "execution_count": 20,
          "metadata": {},
          "output_type": "execute_result"
        }
      ],
      "source": [
        "dataset[\"train\"][0]"
      ]
    },
    {
      "cell_type": "markdown",
      "metadata": {},
      "source": [
        "#### Step 2: Tokenizer\n",
        "\n",
        "We use the same tokenizer as above to handle the inputs."
      ]
    },
    {
      "cell_type": "code",
      "execution_count": 4,
      "metadata": {},
      "outputs": [],
      "source": [
        "model_name = \"siebert/sentiment-roberta-large-english\"\n",
        "\n",
        "tokenizer = AutoTokenizer.from_pretrained(model_name)\n",
        "model = AutoModelForSequenceClassification.from_pretrained(model_name, num_labels = 2)"
      ]
    },
    {
      "cell_type": "code",
      "execution_count": 5,
      "metadata": {},
      "outputs": [
        {
          "name": "stderr",
          "output_type": "stream",
          "text": [
            "Parameter 'function'=<function tokenize_function at 0x000001EDE1AD45E0> of the transform datasets.arrow_dataset.Dataset._map_single couldn't be hashed properly, a random hash was used instead. Make sure your transforms and parameters are serializable with pickle or dill for the dataset fingerprinting and caching to work. If you reuse this transform, the caching mechanism will consider it to be different from the previous calls and recompute everything. This warning is only showed once. Subsequent hashing failures won't be showed.\n",
            " 98%|█████████▊| 59/60 [00:01<00:00, 39.63ba/s]\n",
            " 95%|█████████▌| 19/20 [00:00<00:00, 36.48ba/s]\n",
            " 95%|█████████▌| 19/20 [00:00<00:00, 49.05ba/s]\n"
          ]
        }
      ],
      "source": [
        "def tokenize_function(examples):\n",
        "    return tokenizer(examples[\"text\"], truncation=True)\n",
        "\n",
        "\n",
        "tokenized_datasets = dataset.map(tokenize_function, batched=True)\n",
        "data_collator = DataCollatorWithPadding(tokenizer)\n"
      ]
    },
    {
      "cell_type": "code",
      "execution_count": 6,
      "metadata": {},
      "outputs": [
        {
          "data": {
            "text/plain": [
              "Dataset({\n",
              "    features: ['text', 'labels', 'input_ids', 'attention_mask'],\n",
              "    num_rows: 60000\n",
              "})"
            ]
          },
          "execution_count": 6,
          "metadata": {},
          "output_type": "execute_result"
        }
      ],
      "source": [
        "tokenized_datasets[\"train\"]"
      ]
    },
    {
      "cell_type": "code",
      "execution_count": 7,
      "metadata": {},
      "outputs": [],
      "source": [
        "training_args = TrainingArguments(\n",
        "    output_dir=\"./test_trainer\",\n",
        "    evaluation_strategy = \"epoch\",\n",
        "    learning_rate=2e-5,\n",
        "    num_train_epochs=5,\n",
        "    warmup_steps=500,\n",
        "    weight_decay=0.01,\n",
        "    eval_accumulation_steps=100,\n",
        "    per_device_eval_batch_size=32,\n",
        "    per_device_train_batch_size=32,\n",
        "    group_by_length=True,\n",
        "    save_strategy = \"epoch\"\n",
        ")\n",
        "    \n",
        "\n",
        "clf_metrics = evaluate.combine([\"accuracy\", \"f1\", \"precision\", \"recall\"])\n",
        "\n",
        "def compute_metrics(eval_pred):\n",
        "    logits, labels = eval_pred\n",
        "    predictions = np.argmax(logits, axis=-1)\n",
        "    return clf_metrics.compute(predictions=predictions, references=labels)"
      ]
    },
    {
      "cell_type": "code",
      "execution_count": 9,
      "metadata": {},
      "outputs": [],
      "source": [
        "trainer = Trainer(\n",
        "    model = model,\n",
        "    args = training_args,\n",
        "    tokenizer= tokenizer,\n",
        "    train_dataset = tokenized_datasets[\"train\"],\n",
        "    eval_dataset = tokenized_datasets[\"validation\"],\n",
        "    compute_metrics = compute_metrics,\n",
        "    data_collator=data_collator\n",
        ")"
      ]
    },
    {
      "cell_type": "code",
      "execution_count": null,
      "metadata": {},
      "outputs": [],
      "source": [
        "#requires a decent amount of memory in gpu. Settings above were used in Colab and Finished in an hour of training\n",
        "#trainer.train()"
      ]
    },
    {
      "cell_type": "markdown",
      "metadata": {},
      "source": [
        "![image](./Images/finetuning.png)"
      ]
    },
    {
      "cell_type": "markdown",
      "metadata": {},
      "source": [
        "We fine tuned the model for 5 epochs and saved the model at each of these. As we can see, the training loss is quickly decreasing while the validation loss is increasing a lot towards the end. This indicates we are in a situation of overfitting. For the first epoch the validation loss is at a minimum, so we will use the weights of the model at this epoch. \n",
        "\n",
        "A fine grained analysis could save the model weights every 1000 steps and have a better understanding of the models behaviour. We did not do this for computational reasons. "
      ]
    },
    {
      "cell_type": "markdown",
      "metadata": {},
      "source": [
        "#### Results\n",
        "\n",
        "We evaluate the fine tuned model on the unseen test set, in order to compare the performances."
      ]
    },
    {
      "cell_type": "code",
      "execution_count": 8,
      "metadata": {},
      "outputs": [],
      "source": [
        "path_to_model = \"C:\\\\Users\\\\andre\\Documents\\\\NLP\\\\NLPFinalProject\\\\FineTuningCheckpoint\\\\checkpoint-1875\"\n",
        "model = AutoModelForSequenceClassification.from_pretrained(path_to_model)\n",
        "tokenizer = AutoTokenizer.from_pretrained(path_to_model)\n",
        "ft_clf = pipeline(\"sentiment-analysis\", model=model, tokenizer=tokenizer, device = 0)"
      ]
    },
    {
      "cell_type": "code",
      "execution_count": null,
      "metadata": {},
      "outputs": [],
      "source": [
        "from transformers.pipelines.pt_utils import KeyDataset\n",
        "from tqdm.auto import tqdm\n",
        "\n",
        "dataset = load_dataset(\"theabm/NLPFinalProject\", split = \"test\")\n"
      ]
    },
    {
      "cell_type": "code",
      "execution_count": 28,
      "metadata": {},
      "outputs": [],
      "source": [
        "if FIRST_RUN:\n",
        "    predicted = []\n",
        "    for out in tqdm(ft_clf(KeyDataset(dataset, \"text\"))):\n",
        "        predicted.append(str(out['label']))\n",
        "    data = {\"trueLabels\": dataset[\"labels\"],\n",
        "            \"predictedLabels\": predicted\n",
        "        }\n",
        "    df = pd.DataFrame(data)\n",
        "    df[\"predictedLabels\"] = df[\"predictedLabels\"].apply(lambda x: 1 if x == \"POSITIVE\" else 0)\n",
        "    df.to_csv(\"./DataSet/ft_predicted_labels.csv\", index = False)\n",
        "else:\n",
        "    predicted = pd.read_csv(\"./DataSet/ft_predicted_labels.csv\")\n"
      ]
    },
    {
      "cell_type": "code",
      "execution_count": 31,
      "metadata": {},
      "outputs": [
        {
          "name": "stdout",
          "output_type": "stream",
          "text": [
            "              precision    recall  f1-score   support\n",
            "\n",
            "           0       0.77      0.70      0.73      2561\n",
            "           1       0.96      0.97      0.96     17439\n",
            "\n",
            "    accuracy                           0.93     20000\n",
            "   macro avg       0.86      0.83      0.85     20000\n",
            "weighted avg       0.93      0.93      0.93     20000\n",
            "\n"
          ]
        }
      ],
      "source": [
        "print(classification_report(predicted[\"trueLabels\"], predicted[\"predictedLabels\"]))"
      ]
    },
    {
      "cell_type": "markdown",
      "metadata": {},
      "source": [
        "As we can see, the model has noticeably improved compared to before. We have higher values for precision (51% -> 71%) and f1-score (63% -> 73%) for the negative class, and higher recall (89%->97%), and f1(93%->96%) score for the positive class. Furthermore, the accuracy also increased from 88% to 93%. \n",
        "\n",
        "The precision for the positive class decreased slightly (97% -> 96%) and the recall droped considerably (82% -> 70%).\n",
        "\n",
        "However, the performance metrics indicate and **overall** improvement and are more desirable for an all purpose application. "
      ]
    },
    {
      "cell_type": "markdown",
      "metadata": {},
      "source": [
        "# Baselines\n",
        "\n",
        "We now have to compare these models against a baseline in order to understand if our model makes sense. In particular, we will use the most frequent baseline. \n",
        "\n",
        "We will only compare the fine tuned RoBERTa model and the baseline, since multilingual bert behaved poorly and the proposed application only requires to obtain positive or negative feedback in the most basic form to be incorporated into a recommender system. \n",
        "\n",
        "In particular, we will use the f1 score weighted, micro, and macro which each try to account differently for the imbalance in the classes."
      ]
    },
    {
      "cell_type": "code",
      "execution_count": 33,
      "metadata": {},
      "outputs": [
        {
          "name": "stdout",
          "output_type": "stream",
          "text": [
            "Balanced accuracy baseline: 0.5\n",
            "balanced accuracy model: 0.8333527349272734\n",
            "\n",
            "f1-weighted baseline: 0.8123046048238468\n",
            "f1-weighted model: 0.9331138209427435\n",
            "\n",
            "f1-micro baseline: 0.87195\n",
            "f1-micro model: 0.9345\n",
            "\n",
            "f1-macro baseline: 0.4657976975880766\n",
            "f1-macro model: 0.8471822708849865\n",
            "\n"
          ]
        }
      ],
      "source": [
        "# most frequent\n",
        "\n",
        "# we simply predict a 5 for all documents\n",
        "\n",
        "predicted_most_frequent = np.ones(len(predicted))\n",
        "\n",
        "balanced_acc_baseline = balanced_accuracy_score(predicted[\"trueLabels\"], predicted_most_frequent)\n",
        "balanced_acc_roberta = balanced_accuracy_score(predicted[\"trueLabels\"], predicted[\"predictedLabels\"])\n",
        "\n",
        "f1_weighted_baseline = f1_score(predicted[\"trueLabels\"], predicted_most_frequent, average = \"weighted\")\n",
        "f1_weighted_roberta = f1_score(predicted[\"trueLabels\"], predicted[\"predictedLabels\"], average = \"weighted\")\n",
        "\n",
        "f1_micro_baseline = f1_score(predicted[\"trueLabels\"], predicted_most_frequent, average = \"micro\")\n",
        "f1_micro_roberta = f1_score(predicted[\"trueLabels\"], predicted[\"predictedLabels\"], average = \"micro\")\n",
        "\n",
        "f1_macro_baseline = f1_score(predicted[\"trueLabels\"], predicted_most_frequent, average = \"macro\")\n",
        "f1_macro_roberta = f1_score(predicted[\"trueLabels\"], predicted[\"predictedLabels\"], average = \"macro\")\n",
        "\n",
        "\n",
        "print(f\"Balanced accuracy baseline: {balanced_acc_baseline}\\nbalanced accuracy model: {balanced_acc_roberta}\\n\")\n",
        "print(f\"f1-weighted baseline: {f1_weighted_baseline}\\nf1-weighted model: {f1_weighted_roberta}\\n\")\n",
        "print(f\"f1-micro baseline: {f1_micro_baseline}\\nf1-micro model: {f1_micro_roberta}\\n\")\n",
        "print(f\"f1-macro baseline: {f1_macro_baseline}\\nf1-macro model: {f1_macro_roberta}\\n\")\n",
        "\n"
      ]
    },
    {
      "cell_type": "markdown",
      "metadata": {},
      "source": [
        "We notice tha the model performs better than the baseline in all the metrics.\n",
        "\n",
        "In particular, we see that the balanced accuracy for the baseline is reduced to $1/n_{classes}$ which is the accuracy of a random classifier. \n",
        "\n",
        "The model also outperforms the weighted and micro f1 scores, which is important due to the high imbalance of the classes. To briefly explain further, the baseline will correctly predict all the occurrences of the positive class, which account for approximately 85% of the dataset. Thus, if we are weighting the metrics by their class weight, this will \"hide\" the null performance on the negative class. However, our fine tuned model is able to outperform this and correctly predict much more than just the majority of the positive class but also 70% of the negative class.\n",
        "\n",
        "Lastly, we are not surprised that the model outperforms the baseline in f1-macro score since this gives equal weights to the classes and the baseline misclassifies all the negative instances. "
      ]
    }
  ],
  "metadata": {
    "colab": {
      "collapsed_sections": [],
      "provenance": []
    },
    "kernelspec": {
      "display_name": "Python 3.9.12 ('nlp')",
      "language": "python",
      "name": "python3"
    },
    "language_info": {
      "codemirror_mode": {
        "name": "ipython",
        "version": 3
      },
      "file_extension": ".py",
      "mimetype": "text/x-python",
      "name": "python",
      "nbconvert_exporter": "python",
      "pygments_lexer": "ipython3",
      "version": "3.9.12"
    },
    "vscode": {
      "interpreter": {
        "hash": "f17bbc6fc1a5651d6d3872ee9163e60a2b8331be980fe3739f2e3a57e5088261"
      }
    }
  },
  "nbformat": 4,
  "nbformat_minor": 0
}
