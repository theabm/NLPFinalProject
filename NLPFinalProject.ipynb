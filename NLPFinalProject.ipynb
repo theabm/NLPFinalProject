{
  "cells": [
    {
      "cell_type": "markdown",
      "metadata": {
        "id": "nES2XJU-u3RZ"
      },
      "source": [
        "# Introduction\n",
        "\n",
        "This notebook implements some applications of the NLP course at DSSC AA 2021-2022. \n",
        "\n",
        "In particular, I will perform topic modeling using LDA and sentiment analysis for a dataset of book reviews from amazon. The data set was found at:\n",
        "\n",
        "https://www.kaggle.com/datasets/mohamedbakhet/amazon-books-reviews"
      ]
    },
    {
      "cell_type": "markdown",
      "metadata": {
        "id": "JjjUBn2xvqXK"
      },
      "source": [
        "# Downloading the dataset\n",
        "\n",
        "The dataset can be downloaded in the link above."
      ]
    },
    {
      "cell_type": "markdown",
      "metadata": {
        "id": "d298YOjDwQzS"
      },
      "source": [
        "The dataset contains of two main files: \n",
        "- Books_rating.csv: contains all the information for 3 million book reviews for approximately 200,000 books. Namely, the book id, the book title, the user id who rated the book, the review/score, the summary of the review, and the full text of the former. \n",
        "- books_data.csv: contains all the information for the 200,000 books, namely, the title, the author name, the summary, the category of the book, etc. "
      ]
    },
    {
      "cell_type": "code",
      "execution_count": 2,
      "metadata": {
        "colab": {
          "base_uri": "https://localhost:8080/"
        },
        "id": "ztNEIWEhyY4F",
        "outputId": "a97f6684-e18f-41c9-9c91-d5f4dafe97b9"
      },
      "outputs": [
        {
          "name": "stderr",
          "output_type": "stream",
          "text": [
            "c:\\Users\\andre\\anaconda3\\envs\\nlp\\lib\\site-packages\\tqdm\\auto.py:22: TqdmWarning: IProgress not found. Please update jupyter and ipywidgets. See https://ipywidgets.readthedocs.io/en/stable/user_install.html\n",
            "  from .autonotebook import tqdm as notebook_tqdm\n"
          ]
        }
      ],
      "source": [
        "# import statements for the whole notebook\n",
        "import pandas as pd\n",
        "\n",
        "import spacy\n",
        "import nltk\n",
        "#nltk.download('all')\n",
        "\n",
        "import re\n",
        "import pickle\n",
        "\n",
        "import plotly.express as px\n",
        "from plotly.subplots import make_subplots\n",
        "import plotly.graph_objects as go\n",
        "\n",
        "#load spacys english dictionary. \n",
        "nlp = spacy.load(\"en_core_web_sm\")\n"
      ]
    },
    {
      "cell_type": "code",
      "execution_count": 2,
      "metadata": {
        "id": "eqjpgksB3rmf"
      },
      "outputs": [],
      "source": [
        "#Global variable to stop execution in notebook re runs\n",
        "FIRST_RUN = False"
      ]
    },
    {
      "cell_type": "code",
      "execution_count": 5,
      "metadata": {
        "colab": {
          "base_uri": "https://localhost:8080/",
          "height": 337
        },
        "id": "3SPBtvYJzJDT",
        "outputId": "fa0b6ebd-d712-44ab-97a8-de13fb89674d"
      },
      "outputs": [
        {
          "data": {
            "text/html": [
              "<div>\n",
              "<style scoped>\n",
              "    .dataframe tbody tr th:only-of-type {\n",
              "        vertical-align: middle;\n",
              "    }\n",
              "\n",
              "    .dataframe tbody tr th {\n",
              "        vertical-align: top;\n",
              "    }\n",
              "\n",
              "    .dataframe thead th {\n",
              "        text-align: right;\n",
              "    }\n",
              "</style>\n",
              "<table border=\"1\" class=\"dataframe\">\n",
              "  <thead>\n",
              "    <tr style=\"text-align: right;\">\n",
              "      <th></th>\n",
              "      <th>Title</th>\n",
              "      <th>description</th>\n",
              "      <th>authors</th>\n",
              "      <th>image</th>\n",
              "      <th>previewLink</th>\n",
              "      <th>publisher</th>\n",
              "      <th>publishedDate</th>\n",
              "      <th>infoLink</th>\n",
              "      <th>categories</th>\n",
              "      <th>ratingsCount</th>\n",
              "    </tr>\n",
              "  </thead>\n",
              "  <tbody>\n",
              "    <tr>\n",
              "      <th>0</th>\n",
              "      <td>Its Only Art If Its Well Hung!</td>\n",
              "      <td>NaN</td>\n",
              "      <td>['Julie Strain']</td>\n",
              "      <td>http://books.google.com/books/content?id=DykPA...</td>\n",
              "      <td>http://books.google.nl/books?id=DykPAAAACAAJ&amp;d...</td>\n",
              "      <td>NaN</td>\n",
              "      <td>1996</td>\n",
              "      <td>http://books.google.nl/books?id=DykPAAAACAAJ&amp;d...</td>\n",
              "      <td>['Comics &amp; Graphic Novels']</td>\n",
              "      <td>NaN</td>\n",
              "    </tr>\n",
              "    <tr>\n",
              "      <th>1</th>\n",
              "      <td>Dr. Seuss: American Icon</td>\n",
              "      <td>Philip Nel takes a fascinating look into the k...</td>\n",
              "      <td>['Philip Nel']</td>\n",
              "      <td>http://books.google.com/books/content?id=IjvHQ...</td>\n",
              "      <td>http://books.google.nl/books?id=IjvHQsCn_pgC&amp;p...</td>\n",
              "      <td>A&amp;C Black</td>\n",
              "      <td>2005-01-01</td>\n",
              "      <td>http://books.google.nl/books?id=IjvHQsCn_pgC&amp;d...</td>\n",
              "      <td>['Biography &amp; Autobiography']</td>\n",
              "      <td>NaN</td>\n",
              "    </tr>\n",
              "    <tr>\n",
              "      <th>2</th>\n",
              "      <td>Wonderful Worship in Smaller Churches</td>\n",
              "      <td>This resource includes twelve principles in un...</td>\n",
              "      <td>['David R. Ray']</td>\n",
              "      <td>http://books.google.com/books/content?id=2tsDA...</td>\n",
              "      <td>http://books.google.nl/books?id=2tsDAAAACAAJ&amp;d...</td>\n",
              "      <td>NaN</td>\n",
              "      <td>2000</td>\n",
              "      <td>http://books.google.nl/books?id=2tsDAAAACAAJ&amp;d...</td>\n",
              "      <td>['Religion']</td>\n",
              "      <td>NaN</td>\n",
              "    </tr>\n",
              "    <tr>\n",
              "      <th>3</th>\n",
              "      <td>Whispers of the Wicked Saints</td>\n",
              "      <td>Julia Thomas finds her life spinning out of co...</td>\n",
              "      <td>['Veronica Haddon']</td>\n",
              "      <td>http://books.google.com/books/content?id=aRSIg...</td>\n",
              "      <td>http://books.google.nl/books?id=aRSIgJlq6JwC&amp;d...</td>\n",
              "      <td>iUniverse</td>\n",
              "      <td>2005-02</td>\n",
              "      <td>http://books.google.nl/books?id=aRSIgJlq6JwC&amp;d...</td>\n",
              "      <td>['Fiction']</td>\n",
              "      <td>NaN</td>\n",
              "    </tr>\n",
              "    <tr>\n",
              "      <th>4</th>\n",
              "      <td>Nation Dance: Religion, Identity and Cultural ...</td>\n",
              "      <td>NaN</td>\n",
              "      <td>['Edward Long']</td>\n",
              "      <td>NaN</td>\n",
              "      <td>http://books.google.nl/books?id=399SPgAACAAJ&amp;d...</td>\n",
              "      <td>NaN</td>\n",
              "      <td>2003-03-01</td>\n",
              "      <td>http://books.google.nl/books?id=399SPgAACAAJ&amp;d...</td>\n",
              "      <td>NaN</td>\n",
              "      <td>NaN</td>\n",
              "    </tr>\n",
              "  </tbody>\n",
              "</table>\n",
              "</div>"
            ],
            "text/plain": [
              "                                               Title  \\\n",
              "0                     Its Only Art If Its Well Hung!   \n",
              "1                           Dr. Seuss: American Icon   \n",
              "2              Wonderful Worship in Smaller Churches   \n",
              "3                      Whispers of the Wicked Saints   \n",
              "4  Nation Dance: Religion, Identity and Cultural ...   \n",
              "\n",
              "                                         description              authors  \\\n",
              "0                                                NaN     ['Julie Strain']   \n",
              "1  Philip Nel takes a fascinating look into the k...       ['Philip Nel']   \n",
              "2  This resource includes twelve principles in un...     ['David R. Ray']   \n",
              "3  Julia Thomas finds her life spinning out of co...  ['Veronica Haddon']   \n",
              "4                                                NaN      ['Edward Long']   \n",
              "\n",
              "                                               image  \\\n",
              "0  http://books.google.com/books/content?id=DykPA...   \n",
              "1  http://books.google.com/books/content?id=IjvHQ...   \n",
              "2  http://books.google.com/books/content?id=2tsDA...   \n",
              "3  http://books.google.com/books/content?id=aRSIg...   \n",
              "4                                                NaN   \n",
              "\n",
              "                                         previewLink  publisher publishedDate  \\\n",
              "0  http://books.google.nl/books?id=DykPAAAACAAJ&d...        NaN          1996   \n",
              "1  http://books.google.nl/books?id=IjvHQsCn_pgC&p...  A&C Black    2005-01-01   \n",
              "2  http://books.google.nl/books?id=2tsDAAAACAAJ&d...        NaN          2000   \n",
              "3  http://books.google.nl/books?id=aRSIgJlq6JwC&d...  iUniverse       2005-02   \n",
              "4  http://books.google.nl/books?id=399SPgAACAAJ&d...        NaN    2003-03-01   \n",
              "\n",
              "                                            infoLink  \\\n",
              "0  http://books.google.nl/books?id=DykPAAAACAAJ&d...   \n",
              "1  http://books.google.nl/books?id=IjvHQsCn_pgC&d...   \n",
              "2  http://books.google.nl/books?id=2tsDAAAACAAJ&d...   \n",
              "3  http://books.google.nl/books?id=aRSIgJlq6JwC&d...   \n",
              "4  http://books.google.nl/books?id=399SPgAACAAJ&d...   \n",
              "\n",
              "                      categories  ratingsCount  \n",
              "0    ['Comics & Graphic Novels']           NaN  \n",
              "1  ['Biography & Autobiography']           NaN  \n",
              "2                   ['Religion']           NaN  \n",
              "3                    ['Fiction']           NaN  \n",
              "4                            NaN           NaN  "
            ]
          },
          "execution_count": 5,
          "metadata": {},
          "output_type": "execute_result"
        }
      ],
      "source": [
        "df_books = pd.read_csv(\"./DataSet/books_data.csv\")\n",
        "df_books.head()"
      ]
    },
    {
      "cell_type": "markdown",
      "metadata": {
        "id": "tHOo3xk71szI"
      },
      "source": [
        "# Topic Modeling\n",
        "\n",
        "We briefly recall the idea behind topic modeling. We want to extract the main topics that the books are talking about in their descriptions. To this end, we use Latent Dirichlet Allocation. \n",
        "\n",
        "As a brief recap, LDA is a document generating model which assumes that all documents are generated by sampling a specific topic distribution and sampling the words most relevant to each topic in a proportional manner.\n",
        "\n",
        "Of course, this assumption is faulty in some ways since it doesn't account for dependence between consecutive words. However, it works.\n",
        "\n",
        "We can reverse engineer the process to find the $k$ topics being discussed and, for each topic, the top words which describe it. This is done to give us an idea of what the topic is about. \n"
      ]
    },
    {
      "cell_type": "markdown",
      "metadata": {
        "id": "10o2JOi-DqOA"
      },
      "source": [
        "## Step 0: Extract Data and Explore\n",
        "\n",
        "We begin by extracting the columns we are interested in, namely the description. However, since also the titles of the books are useful in terms of information, we will join the two columns together and separate them with a period. \n",
        "\n",
        "Furthermore, we must also check that all the descriptions are in english since we have no information regarding this fact. To do this, we use **spacy_fastlang** library to detect the language."
      ]
    },
    {
      "cell_type": "code",
      "execution_count": 7,
      "metadata": {
        "id": "IxtjFvmPyRPV"
      },
      "outputs": [],
      "source": [
        "df_books = df_books.dropna(subset = [\"description\"])\n",
        "df_books[\"new_desc\"] = df_books.loc[:,\"description\"] + \". \" + df_books.loc[:,\"Title\"]\n",
        "newdate = [re.sub(r\"[^0-9].*\",\"\",date ) for date in df_books[\"publishedDate\"].apply(str)]\n",
        "df_books[\"publishedDate\"] = newdate\n",
        "df_books = df_books.drop([\"image\", \"publisher\", \"infoLink\", \"ratingsCount\", \"previewLink\"], axis = 1)"
      ]
    },
    {
      "cell_type": "code",
      "execution_count": null,
      "metadata": {
        "id": "vmT62xaNJ6ns"
      },
      "outputs": [],
      "source": [
        "#for language detection, uncomment\n",
        "\n",
        "#!pip install spacy_fastlang\n",
        "#import spacy_fastlang\n",
        "\n",
        "#nlp.add_pipe(\"language_detector\")\n"
      ]
    },
    {
      "cell_type": "code",
      "execution_count": 151,
      "metadata": {
        "colab": {
          "base_uri": "https://localhost:8080/",
          "height": 252
        },
        "id": "UXCVxlMt1IKt",
        "outputId": "22413a55-0f03-4e29-fb90-1be03c3604bd"
      },
      "outputs": [
        {
          "data": {
            "text/plain": [
              "142149"
            ]
          },
          "execution_count": 151,
          "metadata": {},
          "output_type": "execute_result"
        }
      ],
      "source": [
        "if FIRST_RUN:\n",
        "    #check if the summaries are in english. Runtime is approximately 1 hr\n",
        "    lang = [nlp(doc)._.language for doc in df_books[\"new_desc\"]]\n",
        "    df_books[\"lang\"] = lang\n",
        "    df_books_en = df_books[df_books[\"lang\"] == \"en\"]\n",
        "    with open(\"./DataSet/books_en.csv\", \"wb\") as fp:\n",
        "            pickle.dump(df_books_en, fp)\n",
        "else:\n",
        "    with open(\"./DataSet/books_en.csv\", \"rb\") as fp:\n",
        "            df_books_en = pickle.load(fp)\n",
        "book_description_corpus = df_books_en[\"new_desc\"].tolist()\n",
        "\n",
        "len(book_description_corpus)"
      ]
    },
    {
      "cell_type": "markdown",
      "metadata": {
        "id": "6wnN9PvsEWa8"
      },
      "source": [
        "As we can see, the final corpus contains approximatley 150,000 documents in english. Below we show an example:"
      ]
    },
    {
      "cell_type": "code",
      "execution_count": 9,
      "metadata": {
        "colab": {
          "base_uri": "https://localhost:8080/",
          "height": 105
        },
        "id": "bjX5oD7qdMQg",
        "outputId": "b754e236-5780-4ed1-acd3-09f5bdf9284d"
      },
      "outputs": [
        {
          "data": {
            "text/plain": [
              "'Philip Nel takes a fascinating look into the key aspects of Seuss\\'s career - his poetry, politics, art, marketing, and place in the popular imagination.\" \"Nel argues convincingly that Dr. Seuss is one of the most influential poets in America. His nonsense verse, like that of Lewis Carroll and Edward Lear, has changed language itself, giving us new words like \"nerd.\" And Seuss\\'s famously loopy artistic style - what Nel terms an \"energetic cartoon surrealism\" - has been equally important, inspiring artists like filmmaker Tim Burton and illustrator Lane Smith. --from back cover. Dr. Seuss: American Icon'"
            ]
          },
          "execution_count": 9,
          "metadata": {},
          "output_type": "execute_result"
        }
      ],
      "source": [
        "book_description_corpus[0]\n"
      ]
    },
    {
      "cell_type": "code",
      "execution_count": 46,
      "metadata": {
        "colab": {
          "base_uri": "https://localhost:8080/",
          "height": 542
        },
        "id": "mWNsAzTCQx-o",
        "outputId": "4403dd46-459c-4d58-b2c9-8e5021f2a934"
      },
      "outputs": [
        {
          "data": {
            "application/vnd.plotly.v1+json": {
              "config": {
                "plotlyServerURL": "https://plot.ly"
              },
              "data": [
                {
                  "alignmentgroup": "True",
                  "hovertemplate": "variable=categories<br>value=%{x}<br>index=%{y}<extra></extra>",
                  "legendgroup": "categories",
                  "marker": {
                    "color": "#636efa",
                    "pattern": {
                      "shape": ""
                    }
                  },
                  "name": "categories",
                  "offsetgroup": "categories",
                  "orientation": "h",
                  "showlegend": true,
                  "textposition": "auto",
                  "type": "bar",
                  "x": [
                    2411,
                    3289,
                    3600,
                    4114,
                    5240,
                    5964,
                    6496,
                    8712,
                    8776,
                    21881
                  ],
                  "xaxis": "x",
                  "y": [
                    "['Science']",
                    "['Juvenile Nonfiction']",
                    "['Social Science']",
                    "['Computers']",
                    "['Business & Economics']",
                    "['Biography & Autobiography']",
                    "['Juvenile Fiction']",
                    "['Religion']",
                    "['History']",
                    "['Fiction']"
                  ],
                  "yaxis": "y"
                }
              ],
              "layout": {
                "barmode": "relative",
                "legend": {
                  "title": {
                    "text": "variable"
                  },
                  "tracegroupgap": 0
                },
                "template": {
                  "data": {
                    "bar": [
                      {
                        "error_x": {
                          "color": "#2a3f5f"
                        },
                        "error_y": {
                          "color": "#2a3f5f"
                        },
                        "marker": {
                          "line": {
                            "color": "#E5ECF6",
                            "width": 0.5
                          },
                          "pattern": {
                            "fillmode": "overlay",
                            "size": 10,
                            "solidity": 0.2
                          }
                        },
                        "type": "bar"
                      }
                    ],
                    "barpolar": [
                      {
                        "marker": {
                          "line": {
                            "color": "#E5ECF6",
                            "width": 0.5
                          },
                          "pattern": {
                            "fillmode": "overlay",
                            "size": 10,
                            "solidity": 0.2
                          }
                        },
                        "type": "barpolar"
                      }
                    ],
                    "carpet": [
                      {
                        "aaxis": {
                          "endlinecolor": "#2a3f5f",
                          "gridcolor": "white",
                          "linecolor": "white",
                          "minorgridcolor": "white",
                          "startlinecolor": "#2a3f5f"
                        },
                        "baxis": {
                          "endlinecolor": "#2a3f5f",
                          "gridcolor": "white",
                          "linecolor": "white",
                          "minorgridcolor": "white",
                          "startlinecolor": "#2a3f5f"
                        },
                        "type": "carpet"
                      }
                    ],
                    "choropleth": [
                      {
                        "colorbar": {
                          "outlinewidth": 0,
                          "ticks": ""
                        },
                        "type": "choropleth"
                      }
                    ],
                    "contour": [
                      {
                        "colorbar": {
                          "outlinewidth": 0,
                          "ticks": ""
                        },
                        "colorscale": [
                          [
                            0,
                            "#0d0887"
                          ],
                          [
                            0.1111111111111111,
                            "#46039f"
                          ],
                          [
                            0.2222222222222222,
                            "#7201a8"
                          ],
                          [
                            0.3333333333333333,
                            "#9c179e"
                          ],
                          [
                            0.4444444444444444,
                            "#bd3786"
                          ],
                          [
                            0.5555555555555556,
                            "#d8576b"
                          ],
                          [
                            0.6666666666666666,
                            "#ed7953"
                          ],
                          [
                            0.7777777777777778,
                            "#fb9f3a"
                          ],
                          [
                            0.8888888888888888,
                            "#fdca26"
                          ],
                          [
                            1,
                            "#f0f921"
                          ]
                        ],
                        "type": "contour"
                      }
                    ],
                    "contourcarpet": [
                      {
                        "colorbar": {
                          "outlinewidth": 0,
                          "ticks": ""
                        },
                        "type": "contourcarpet"
                      }
                    ],
                    "heatmap": [
                      {
                        "colorbar": {
                          "outlinewidth": 0,
                          "ticks": ""
                        },
                        "colorscale": [
                          [
                            0,
                            "#0d0887"
                          ],
                          [
                            0.1111111111111111,
                            "#46039f"
                          ],
                          [
                            0.2222222222222222,
                            "#7201a8"
                          ],
                          [
                            0.3333333333333333,
                            "#9c179e"
                          ],
                          [
                            0.4444444444444444,
                            "#bd3786"
                          ],
                          [
                            0.5555555555555556,
                            "#d8576b"
                          ],
                          [
                            0.6666666666666666,
                            "#ed7953"
                          ],
                          [
                            0.7777777777777778,
                            "#fb9f3a"
                          ],
                          [
                            0.8888888888888888,
                            "#fdca26"
                          ],
                          [
                            1,
                            "#f0f921"
                          ]
                        ],
                        "type": "heatmap"
                      }
                    ],
                    "heatmapgl": [
                      {
                        "colorbar": {
                          "outlinewidth": 0,
                          "ticks": ""
                        },
                        "colorscale": [
                          [
                            0,
                            "#0d0887"
                          ],
                          [
                            0.1111111111111111,
                            "#46039f"
                          ],
                          [
                            0.2222222222222222,
                            "#7201a8"
                          ],
                          [
                            0.3333333333333333,
                            "#9c179e"
                          ],
                          [
                            0.4444444444444444,
                            "#bd3786"
                          ],
                          [
                            0.5555555555555556,
                            "#d8576b"
                          ],
                          [
                            0.6666666666666666,
                            "#ed7953"
                          ],
                          [
                            0.7777777777777778,
                            "#fb9f3a"
                          ],
                          [
                            0.8888888888888888,
                            "#fdca26"
                          ],
                          [
                            1,
                            "#f0f921"
                          ]
                        ],
                        "type": "heatmapgl"
                      }
                    ],
                    "histogram": [
                      {
                        "marker": {
                          "pattern": {
                            "fillmode": "overlay",
                            "size": 10,
                            "solidity": 0.2
                          }
                        },
                        "type": "histogram"
                      }
                    ],
                    "histogram2d": [
                      {
                        "colorbar": {
                          "outlinewidth": 0,
                          "ticks": ""
                        },
                        "colorscale": [
                          [
                            0,
                            "#0d0887"
                          ],
                          [
                            0.1111111111111111,
                            "#46039f"
                          ],
                          [
                            0.2222222222222222,
                            "#7201a8"
                          ],
                          [
                            0.3333333333333333,
                            "#9c179e"
                          ],
                          [
                            0.4444444444444444,
                            "#bd3786"
                          ],
                          [
                            0.5555555555555556,
                            "#d8576b"
                          ],
                          [
                            0.6666666666666666,
                            "#ed7953"
                          ],
                          [
                            0.7777777777777778,
                            "#fb9f3a"
                          ],
                          [
                            0.8888888888888888,
                            "#fdca26"
                          ],
                          [
                            1,
                            "#f0f921"
                          ]
                        ],
                        "type": "histogram2d"
                      }
                    ],
                    "histogram2dcontour": [
                      {
                        "colorbar": {
                          "outlinewidth": 0,
                          "ticks": ""
                        },
                        "colorscale": [
                          [
                            0,
                            "#0d0887"
                          ],
                          [
                            0.1111111111111111,
                            "#46039f"
                          ],
                          [
                            0.2222222222222222,
                            "#7201a8"
                          ],
                          [
                            0.3333333333333333,
                            "#9c179e"
                          ],
                          [
                            0.4444444444444444,
                            "#bd3786"
                          ],
                          [
                            0.5555555555555556,
                            "#d8576b"
                          ],
                          [
                            0.6666666666666666,
                            "#ed7953"
                          ],
                          [
                            0.7777777777777778,
                            "#fb9f3a"
                          ],
                          [
                            0.8888888888888888,
                            "#fdca26"
                          ],
                          [
                            1,
                            "#f0f921"
                          ]
                        ],
                        "type": "histogram2dcontour"
                      }
                    ],
                    "mesh3d": [
                      {
                        "colorbar": {
                          "outlinewidth": 0,
                          "ticks": ""
                        },
                        "type": "mesh3d"
                      }
                    ],
                    "parcoords": [
                      {
                        "line": {
                          "colorbar": {
                            "outlinewidth": 0,
                            "ticks": ""
                          }
                        },
                        "type": "parcoords"
                      }
                    ],
                    "pie": [
                      {
                        "automargin": true,
                        "type": "pie"
                      }
                    ],
                    "scatter": [
                      {
                        "fillpattern": {
                          "fillmode": "overlay",
                          "size": 10,
                          "solidity": 0.2
                        },
                        "type": "scatter"
                      }
                    ],
                    "scatter3d": [
                      {
                        "line": {
                          "colorbar": {
                            "outlinewidth": 0,
                            "ticks": ""
                          }
                        },
                        "marker": {
                          "colorbar": {
                            "outlinewidth": 0,
                            "ticks": ""
                          }
                        },
                        "type": "scatter3d"
                      }
                    ],
                    "scattercarpet": [
                      {
                        "marker": {
                          "colorbar": {
                            "outlinewidth": 0,
                            "ticks": ""
                          }
                        },
                        "type": "scattercarpet"
                      }
                    ],
                    "scattergeo": [
                      {
                        "marker": {
                          "colorbar": {
                            "outlinewidth": 0,
                            "ticks": ""
                          }
                        },
                        "type": "scattergeo"
                      }
                    ],
                    "scattergl": [
                      {
                        "marker": {
                          "colorbar": {
                            "outlinewidth": 0,
                            "ticks": ""
                          }
                        },
                        "type": "scattergl"
                      }
                    ],
                    "scattermapbox": [
                      {
                        "marker": {
                          "colorbar": {
                            "outlinewidth": 0,
                            "ticks": ""
                          }
                        },
                        "type": "scattermapbox"
                      }
                    ],
                    "scatterpolar": [
                      {
                        "marker": {
                          "colorbar": {
                            "outlinewidth": 0,
                            "ticks": ""
                          }
                        },
                        "type": "scatterpolar"
                      }
                    ],
                    "scatterpolargl": [
                      {
                        "marker": {
                          "colorbar": {
                            "outlinewidth": 0,
                            "ticks": ""
                          }
                        },
                        "type": "scatterpolargl"
                      }
                    ],
                    "scatterternary": [
                      {
                        "marker": {
                          "colorbar": {
                            "outlinewidth": 0,
                            "ticks": ""
                          }
                        },
                        "type": "scatterternary"
                      }
                    ],
                    "surface": [
                      {
                        "colorbar": {
                          "outlinewidth": 0,
                          "ticks": ""
                        },
                        "colorscale": [
                          [
                            0,
                            "#0d0887"
                          ],
                          [
                            0.1111111111111111,
                            "#46039f"
                          ],
                          [
                            0.2222222222222222,
                            "#7201a8"
                          ],
                          [
                            0.3333333333333333,
                            "#9c179e"
                          ],
                          [
                            0.4444444444444444,
                            "#bd3786"
                          ],
                          [
                            0.5555555555555556,
                            "#d8576b"
                          ],
                          [
                            0.6666666666666666,
                            "#ed7953"
                          ],
                          [
                            0.7777777777777778,
                            "#fb9f3a"
                          ],
                          [
                            0.8888888888888888,
                            "#fdca26"
                          ],
                          [
                            1,
                            "#f0f921"
                          ]
                        ],
                        "type": "surface"
                      }
                    ],
                    "table": [
                      {
                        "cells": {
                          "fill": {
                            "color": "#EBF0F8"
                          },
                          "line": {
                            "color": "white"
                          }
                        },
                        "header": {
                          "fill": {
                            "color": "#C8D4E3"
                          },
                          "line": {
                            "color": "white"
                          }
                        },
                        "type": "table"
                      }
                    ]
                  },
                  "layout": {
                    "annotationdefaults": {
                      "arrowcolor": "#2a3f5f",
                      "arrowhead": 0,
                      "arrowwidth": 1
                    },
                    "autotypenumbers": "strict",
                    "coloraxis": {
                      "colorbar": {
                        "outlinewidth": 0,
                        "ticks": ""
                      }
                    },
                    "colorscale": {
                      "diverging": [
                        [
                          0,
                          "#8e0152"
                        ],
                        [
                          0.1,
                          "#c51b7d"
                        ],
                        [
                          0.2,
                          "#de77ae"
                        ],
                        [
                          0.3,
                          "#f1b6da"
                        ],
                        [
                          0.4,
                          "#fde0ef"
                        ],
                        [
                          0.5,
                          "#f7f7f7"
                        ],
                        [
                          0.6,
                          "#e6f5d0"
                        ],
                        [
                          0.7,
                          "#b8e186"
                        ],
                        [
                          0.8,
                          "#7fbc41"
                        ],
                        [
                          0.9,
                          "#4d9221"
                        ],
                        [
                          1,
                          "#276419"
                        ]
                      ],
                      "sequential": [
                        [
                          0,
                          "#0d0887"
                        ],
                        [
                          0.1111111111111111,
                          "#46039f"
                        ],
                        [
                          0.2222222222222222,
                          "#7201a8"
                        ],
                        [
                          0.3333333333333333,
                          "#9c179e"
                        ],
                        [
                          0.4444444444444444,
                          "#bd3786"
                        ],
                        [
                          0.5555555555555556,
                          "#d8576b"
                        ],
                        [
                          0.6666666666666666,
                          "#ed7953"
                        ],
                        [
                          0.7777777777777778,
                          "#fb9f3a"
                        ],
                        [
                          0.8888888888888888,
                          "#fdca26"
                        ],
                        [
                          1,
                          "#f0f921"
                        ]
                      ],
                      "sequentialminus": [
                        [
                          0,
                          "#0d0887"
                        ],
                        [
                          0.1111111111111111,
                          "#46039f"
                        ],
                        [
                          0.2222222222222222,
                          "#7201a8"
                        ],
                        [
                          0.3333333333333333,
                          "#9c179e"
                        ],
                        [
                          0.4444444444444444,
                          "#bd3786"
                        ],
                        [
                          0.5555555555555556,
                          "#d8576b"
                        ],
                        [
                          0.6666666666666666,
                          "#ed7953"
                        ],
                        [
                          0.7777777777777778,
                          "#fb9f3a"
                        ],
                        [
                          0.8888888888888888,
                          "#fdca26"
                        ],
                        [
                          1,
                          "#f0f921"
                        ]
                      ]
                    },
                    "colorway": [
                      "#636efa",
                      "#EF553B",
                      "#00cc96",
                      "#ab63fa",
                      "#FFA15A",
                      "#19d3f3",
                      "#FF6692",
                      "#B6E880",
                      "#FF97FF",
                      "#FECB52"
                    ],
                    "font": {
                      "color": "#2a3f5f"
                    },
                    "geo": {
                      "bgcolor": "white",
                      "lakecolor": "white",
                      "landcolor": "#E5ECF6",
                      "showlakes": true,
                      "showland": true,
                      "subunitcolor": "white"
                    },
                    "hoverlabel": {
                      "align": "left"
                    },
                    "hovermode": "closest",
                    "mapbox": {
                      "style": "light"
                    },
                    "paper_bgcolor": "white",
                    "plot_bgcolor": "#E5ECF6",
                    "polar": {
                      "angularaxis": {
                        "gridcolor": "white",
                        "linecolor": "white",
                        "ticks": ""
                      },
                      "bgcolor": "#E5ECF6",
                      "radialaxis": {
                        "gridcolor": "white",
                        "linecolor": "white",
                        "ticks": ""
                      }
                    },
                    "scene": {
                      "xaxis": {
                        "backgroundcolor": "#E5ECF6",
                        "gridcolor": "white",
                        "gridwidth": 2,
                        "linecolor": "white",
                        "showbackground": true,
                        "ticks": "",
                        "zerolinecolor": "white"
                      },
                      "yaxis": {
                        "backgroundcolor": "#E5ECF6",
                        "gridcolor": "white",
                        "gridwidth": 2,
                        "linecolor": "white",
                        "showbackground": true,
                        "ticks": "",
                        "zerolinecolor": "white"
                      },
                      "zaxis": {
                        "backgroundcolor": "#E5ECF6",
                        "gridcolor": "white",
                        "gridwidth": 2,
                        "linecolor": "white",
                        "showbackground": true,
                        "ticks": "",
                        "zerolinecolor": "white"
                      }
                    },
                    "shapedefaults": {
                      "line": {
                        "color": "#2a3f5f"
                      }
                    },
                    "ternary": {
                      "aaxis": {
                        "gridcolor": "white",
                        "linecolor": "white",
                        "ticks": ""
                      },
                      "baxis": {
                        "gridcolor": "white",
                        "linecolor": "white",
                        "ticks": ""
                      },
                      "bgcolor": "#E5ECF6",
                      "caxis": {
                        "gridcolor": "white",
                        "linecolor": "white",
                        "ticks": ""
                      }
                    },
                    "title": {
                      "x": 0.05
                    },
                    "xaxis": {
                      "automargin": true,
                      "gridcolor": "white",
                      "linecolor": "white",
                      "ticks": "",
                      "title": {
                        "standoff": 15
                      },
                      "zerolinecolor": "white",
                      "zerolinewidth": 2
                    },
                    "yaxis": {
                      "automargin": true,
                      "gridcolor": "white",
                      "linecolor": "white",
                      "ticks": "",
                      "title": {
                        "standoff": 15
                      },
                      "zerolinecolor": "white",
                      "zerolinewidth": 2
                    }
                  }
                },
                "title": {
                  "text": "Top 10 Categories"
                },
                "xaxis": {
                  "anchor": "y",
                  "domain": [
                    0,
                    1
                  ],
                  "title": {
                    "text": "value"
                  }
                },
                "yaxis": {
                  "anchor": "x",
                  "domain": [
                    0,
                    1
                  ],
                  "title": {
                    "text": "index"
                  }
                }
              }
            }
          },
          "metadata": {},
          "output_type": "display_data"
        }
      ],
      "source": [
        "cat_num = 10\n",
        "fig = px.bar(df_books_en[\"categories\"].value_counts()[:cat_num][::-1], orientation = \"h\", title = f\"Top {cat_num} Categories\")\n",
        "fig.show()"
      ]
    },
    {
      "cell_type": "markdown",
      "metadata": {
        "id": "KxrJpjeX3S4h"
      },
      "source": [
        "## Step 1: Preprocessing\n",
        "\n",
        "Before using LDA, we must do some aggressive preprocessing in order to reduce the most variance. Notably, the proprocessing for LDA has to be much more aggressive than other tasks since we want to capture important words in order to define our topics clearly. \n",
        "\n",
        "For example, if we don't lemmatize or stem, we could find that the top descriptors of a topic are simply all the conjugations of a word. This is not very informative and thus must be avoided at all costs. \n",
        "\n",
        "The preprocessing steps that we will emply are as follows:\n",
        "- tokenization\n",
        "- normalization\n",
        "- lemmatization\n",
        "- stopword removal"
      ]
    },
    {
      "cell_type": "code",
      "execution_count": 11,
      "metadata": {
        "id": "izQ6ZMrl7o48"
      },
      "outputs": [],
      "source": [
        "def normalize(text):\n",
        "    '''This function removes punctuation, symbols, and numbers. Returns the text into lower case.\n",
        "      Input: a string of text\n",
        "      Output: cleaned a string of text\n",
        "    '''\n",
        "    no_punctuation = re.sub(r'[^\\w^\\s^-^\\']','',text)\n",
        "    no_numbers = re.sub(r'[0-9+]', '0', no_punctuation)\n",
        "    downcase = no_numbers.lower()\n",
        "    return downcase\n",
        "\n",
        "def clean_corpus(corpus):\n",
        "    '''This function preprocesses each document of the corpus by first normalizing it and then keeping only the lemma of the word\n",
        "     if the word is not a stop word.\n",
        "     Input: a list of strings (documents)\n",
        "     Outout: a list of strings (documents) which have been preprocessed.\n",
        "    '''\n",
        "    clean_corpus = [] \n",
        "    for document in corpus:\n",
        "        lowered_text = normalize(document)\n",
        "        clean_corpus.append(' '.join([token.lemma_ for token in nlp(lowered_text) if token.pos_ in ['NOUN', 'VERB', 'ADJ', 'ADV', 'PROPN'] and not token.is_stop]))\n",
        "    return clean_corpus "
      ]
    },
    {
      "cell_type": "code",
      "execution_count": 12,
      "metadata": {
        "colab": {
          "base_uri": "https://localhost:8080/"
        },
        "id": "ELjzOjGbrXZH",
        "outputId": "f726ffbd-f62e-4e29-85f7-5066186bfbcf"
      },
      "outputs": [
        {
          "name": "stdout",
          "output_type": "stream",
          "text": [
            "Philip Nel takes a fascinating look into the key aspects of Seuss's career - his poetry, politics, art, marketing, and place in the popular imagination.\" \"Nel argues convincingly that Dr. Seuss is one of the most influential poets in America. His nonsense verse, like that of Lewis Carroll and Edward Lear, has changed language itself, giving us new words like \"nerd.\" And Seuss's famously loopy artistic style - what Nel terms an \"energetic cartoon surrealism\" - has been equally important, inspiring artists like filmmaker Tim Burton and illustrator Lane Smith. --from back cover. Dr. Seuss: American Icon\n",
            "['philip nel take fascinating look key aspect seuss career poetry politic art marketing place popular imagination nel argue convincingly dr seuss influential poet america nonsense verse lewis carroll edward lear change language give new word nerd seuss famously loopy artistic style nel term energetic cartoon surrealism equally important inspiring artist filmmaker tim burton illustrator lane smith cover dr seuss american icon']\n"
          ]
        }
      ],
      "source": [
        "print(book_description_corpus[0])\n",
        "print(clean_corpus(book_description_corpus[0:1]))\n"
      ]
    },
    {
      "cell_type": "code",
      "execution_count": 13,
      "metadata": {
        "id": "K_9ZfGFNZ0vw"
      },
      "outputs": [],
      "source": [
        "# collocations\n",
        "\n",
        "from nltk.collocations import BigramCollocationFinder, BigramAssocMeasures\n",
        "from nltk.corpus import stopwords\n",
        "from collections import Counter\n",
        "from tqdm import tqdm\n",
        "\n",
        "def collocation_finder(cleaned_corpus, min_freq = 10, thresh = 1):\n",
        "    words = [word for document in cleaned_corpus for word in document.split()]   \n",
        "    finder = BigramCollocationFinder.from_words(words)\n",
        "    bgm = BigramAssocMeasures()\n",
        "    score = bgm.mi_like\n",
        "    finder.apply_freq_filter(min_freq)\n",
        "    collocations = pd.DataFrame(finder.score_ngrams(score), columns = [\"bigram\", \"pmi\"])\n",
        "    return collocations[collocations[\"pmi\"] >= thresh]\n",
        "def replace_words_with_collocations(cleaned_corpus, collocations):\n",
        "    corpus_with_collocations = []\n",
        "    for document in tqdm(cleaned_corpus):\n",
        "        for word1, word2 in collocations:\n",
        "            document = re.sub(f'{word1} {word2}', f'{word1}_{word2}', document)\n",
        "        corpus_with_collocations.append(document)\n",
        "    return corpus_with_collocations\n"
      ]
    },
    {
      "cell_type": "markdown",
      "metadata": {
        "id": "ISAacyV1hgzC"
      },
      "source": [
        "We can now finally preprocess the corpus by first applying the pipeline and then finding all collocations and adding them to the documents as bigrams. "
      ]
    },
    {
      "cell_type": "code",
      "execution_count": 14,
      "metadata": {
        "id": "PyLlvwNdfTuA"
      },
      "outputs": [],
      "source": [
        "#preprocess corpus and save once\n",
        "\n",
        "if FIRST_RUN:\n",
        "    book_description_corpus_cleaned = clean_corpus(book_description_corpus)\n",
        "\n",
        "    with open(\"./DataSet/book_description_cleaned.csv\", \"wb\") as fp:\n",
        "        pickle.dump(book_description_corpus_cleaned, fp)\n",
        "else:\n",
        "    with open(\"./DataSet/book_description_cleaned.csv\", \"rb\") as fp:\n",
        "        book_description_corpus_cleaned = pickle.load(fp)\n"
      ]
    },
    {
      "cell_type": "code",
      "execution_count": 15,
      "metadata": {
        "id": "3a445ECivIxb"
      },
      "outputs": [],
      "source": [
        "collocations = collocation_finder(book_description_corpus_cleaned)"
      ]
    },
    {
      "cell_type": "code",
      "execution_count": 16,
      "metadata": {
        "colab": {
          "base_uri": "https://localhost:8080/",
          "height": 424
        },
        "id": "Y2W8-n1hDqUT",
        "outputId": "82852f57-d2a0-489b-8b32-920b16e751a7"
      },
      "outputs": [
        {
          "data": {
            "text/html": [
              "<div>\n",
              "<style scoped>\n",
              "    .dataframe tbody tr th:only-of-type {\n",
              "        vertical-align: middle;\n",
              "    }\n",
              "\n",
              "    .dataframe tbody tr th {\n",
              "        vertical-align: top;\n",
              "    }\n",
              "\n",
              "    .dataframe thead th {\n",
              "        text-align: right;\n",
              "    }\n",
              "</style>\n",
              "<table border=\"1\" class=\"dataframe\">\n",
              "  <thead>\n",
              "    <tr style=\"text-align: right;\">\n",
              "      <th></th>\n",
              "      <th>bigram</th>\n",
              "      <th>pmi</th>\n",
              "    </tr>\n",
              "  </thead>\n",
              "  <tbody>\n",
              "    <tr>\n",
              "      <th>0</th>\n",
              "      <td>(united, states)</td>\n",
              "      <td>3860.036858</td>\n",
              "    </tr>\n",
              "    <tr>\n",
              "      <th>1</th>\n",
              "      <td>(york, times)</td>\n",
              "      <td>1570.857642</td>\n",
              "    </tr>\n",
              "    <tr>\n",
              "      <th>2</th>\n",
              "      <td>(new, york)</td>\n",
              "      <td>1257.851052</td>\n",
              "    </tr>\n",
              "    <tr>\n",
              "      <th>3</th>\n",
              "      <td>(los, angeles)</td>\n",
              "      <td>742.395737</td>\n",
              "    </tr>\n",
              "    <tr>\n",
              "      <th>4</th>\n",
              "      <td>(san, francisco)</td>\n",
              "      <td>388.615226</td>\n",
              "    </tr>\n",
              "    <tr>\n",
              "      <th>...</th>\n",
              "      <td>...</td>\n",
              "      <td>...</td>\n",
              "    </tr>\n",
              "    <tr>\n",
              "      <th>1300</th>\n",
              "      <td>(professionally, typeset)</td>\n",
              "      <td>1.007619</td>\n",
              "    </tr>\n",
              "    <tr>\n",
              "      <th>1301</th>\n",
              "      <td>(p, lovecraft)</td>\n",
              "      <td>1.001788</td>\n",
              "    </tr>\n",
              "    <tr>\n",
              "      <th>1302</th>\n",
              "      <td>(british, columbia)</td>\n",
              "      <td>1.001537</td>\n",
              "    </tr>\n",
              "    <tr>\n",
              "      <th>1303</th>\n",
              "      <td>(fort, sumter)</td>\n",
              "      <td>1.000000</td>\n",
              "    </tr>\n",
              "    <tr>\n",
              "      <th>1304</th>\n",
              "      <td>(schiffer, militaryaviation)</td>\n",
              "      <td>1.000000</td>\n",
              "    </tr>\n",
              "  </tbody>\n",
              "</table>\n",
              "<p>1305 rows × 2 columns</p>\n",
              "</div>"
            ],
            "text/plain": [
              "                            bigram          pmi\n",
              "0                 (united, states)  3860.036858\n",
              "1                    (york, times)  1570.857642\n",
              "2                      (new, york)  1257.851052\n",
              "3                   (los, angeles)   742.395737\n",
              "4                 (san, francisco)   388.615226\n",
              "...                            ...          ...\n",
              "1300     (professionally, typeset)     1.007619\n",
              "1301                (p, lovecraft)     1.001788\n",
              "1302           (british, columbia)     1.001537\n",
              "1303                (fort, sumter)     1.000000\n",
              "1304  (schiffer, militaryaviation)     1.000000\n",
              "\n",
              "[1305 rows x 2 columns]"
            ]
          },
          "execution_count": 16,
          "metadata": {},
          "output_type": "execute_result"
        }
      ],
      "source": [
        "collocations"
      ]
    },
    {
      "cell_type": "code",
      "execution_count": 17,
      "metadata": {
        "id": "xI5WLufUDh9j"
      },
      "outputs": [],
      "source": [
        "if FIRST_RUN:\n",
        "    book_description_corpus_cleaned_collocations = replace_words_with_collocations(book_description_corpus_cleaned, collocations[\"bigram\"])\n",
        "    \n",
        "    with open(\"./DataSet/books_description_corpus_cleaned_with_collocations.csv\", \"wb\") as fp:\n",
        "        pickle.dump(book_description_corpus_cleaned_collocations, fp)\n",
        "else:\n",
        "    with open(\"./DataSet/books_description_corpus_cleaned_with_collocations.csv\", \"rb\") as fp:\n",
        "        book_description_corpus_cleaned_collocations = pickle.load(fp)"
      ]
    },
    {
      "cell_type": "code",
      "execution_count": 18,
      "metadata": {
        "colab": {
          "base_uri": "https://localhost:8080/"
        },
        "id": "hzjOZWFIuIiT",
        "outputId": "e934ff60-5652-4f10-b8f7-e80bcea3abeb"
      },
      "outputs": [
        {
          "name": "stdout",
          "output_type": "stream",
          "text": [
            "The United States \"Explorer\" map is a classic example of the cartographic excellence National Geographic is known for. This colorful political map clearly shows state boundaries, capitals, major highways, rivers, lakes, and many major cities. Insets show detail of Alaska and Hawaii. The color palette is vibrant and stunning shaded relief provides additional texture and detail. The map is encapsulated in heavy-duty 1.6 mil laminate which makes the paper much more durable and resistant to the swelling and shrinking caused by changes in humidity. Laminated maps can be framed without the need for glass, so the fames can be much lighter and less expensive. \"Map Scale = 1:6,396,000Sheet Size = 32\" x 20.25\"\". Usa Laminated Map \n",
            "\n",
            "united states explorer map classic example cartographic excellence national geographic know colorful political map clearly show state boundary capital major highway river lake major city inset detail alaska hawaii color palette vibrant stunning shaded relief provide additional texture detail map encapsulate heavyduty mil laminate make paper durable resistant swelling shrinking cause change humidity laminate map frame need glass fame light expensive map scale 00000000sheet size usa laminate map \n",
            "\n",
            "united_states explorer map classic example cartographic excellence national geographic know colorful political map clearly show state boundary capital major highway river lake major city inset detail alaska hawaii color palette vibrant stunning shaded relief provide additional texture detail map encapsulate heavyduty mil laminate make paper durable resistant swelling shrinking cause change humidity laminate map frame need glass fame light expensive map scale 00000000sheet size usa laminate map \n",
            "\n"
          ]
        }
      ],
      "source": [
        "i = 29\n",
        "print(book_description_corpus[i], \"\\n\")\n",
        "print(book_description_corpus_cleaned[i], \"\\n\")\n",
        "print(book_description_corpus_cleaned_collocations[i], \"\\n\")"
      ]
    },
    {
      "cell_type": "markdown",
      "metadata": {
        "id": "NMevdcC_3xX3"
      },
      "source": [
        "### Word Cloud\n"
      ]
    },
    {
      "cell_type": "code",
      "execution_count": null,
      "metadata": {
        "id": "j_nnluWy3064"
      },
      "outputs": [],
      "source": [
        "import stylecloud\n",
        "\n",
        "\n",
        "words = \" \".join(book_description_corpus_cleaned_collocations)\n",
        "wordcloud = stylecloud.gen_stylecloud(\n",
        "                        text = words,\n",
        "                        size = 1028,\n",
        "                        background_color = \"black\",\n",
        "                        output_name = \"./Images/wordcloud.png\",\n",
        "                        icon_name = \"fas fa-book\"\n",
        "                        )\n",
        "\n"
      ]
    },
    {
      "cell_type": "markdown",
      "metadata": {
        "id": "5um8952P4kU7"
      },
      "source": [
        "![wordcloud.png](data:image/png;base64,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)"
      ]
    },
    {
      "cell_type": "markdown",
      "metadata": {
        "id": "dPZnWbiU0ZFM"
      },
      "source": [
        "## Using Gensim\n",
        "\n",
        "To apply LDA, we use the gensim library which is the most popular library for this task"
      ]
    },
    {
      "cell_type": "code",
      "execution_count": 21,
      "metadata": {
        "id": "Ehyu2L9C0Yjz"
      },
      "outputs": [],
      "source": [
        "from gensim.models import LdaMulticore, TfidfModel, CoherenceModel\n",
        "from gensim.corpora import Dictionary\n",
        "import time \n",
        "import multiprocessing "
      ]
    },
    {
      "cell_type": "code",
      "execution_count": 24,
      "metadata": {
        "id": "rJEVe0GriKFj"
      },
      "outputs": [],
      "source": [
        "instances = [doc.split() for doc in book_description_corpus_cleaned_collocations]\n",
        "dictionary = Dictionary(instances)\n",
        "dictionary.filter_extremes(no_below = 50, no_above = 0.5)\n",
        "\n",
        "ldacorpus = [dictionary.doc2bow(text) for text in instances]\n",
        "tfidfmodel = TfidfModel(ldacorpus)\n",
        "model_corpus = tfidfmodel[ldacorpus]"
      ]
    },
    {
      "cell_type": "code",
      "execution_count": 25,
      "metadata": {
        "colab": {
          "base_uri": "https://localhost:8080/"
        },
        "id": "0KBcAy53AZVl",
        "outputId": "62c7fe75-2257-45a2-b149-da6ec6efd809"
      },
      "outputs": [
        {
          "name": "stdout",
          "output_type": "stream",
          "text": [
            "resource include principle understand small church worship practice planning worship few people suggestion congregational study wonderful worship small church\n",
            "['resource', 'include', 'principle', 'understand', 'small', 'church', 'worship', 'practice', 'planning', 'worship', 'few', 'people', 'suggestion', 'congregational', 'study', 'wonderful', 'worship', 'small', 'church']\n",
            "[(51, 2), (52, 1), (53, 1), (54, 1), (55, 1), (56, 1), (57, 1), (58, 1), (59, 1), (60, 2), (61, 1), (62, 1), (63, 1), (64, 1), (65, 3)]\n",
            "[(51, 0.31376452057035326), (52, 0.32180463855405556), (53, 0.2693150375467911), (54, 0.0664025240567632), (55, 0.09767008421079369), (56, 0.19392337346329966), (57, 0.12066432336191125), (58, 0.1504597029346263), (59, 0.1314502090225251), (60, 0.28331521221527595), (61, 0.09744878989309225), (62, 0.1936860437731818), (63, 0.11980735412718313), (64, 0.18348738900751174), (65, 0.666431806837864)]\n"
          ]
        }
      ],
      "source": [
        "i = 1 \n",
        "print(book_description_corpus_cleaned_collocations[i])\n",
        "print(instances[i])\n",
        "print(ldacorpus[i])\n",
        "print(model_corpus[i])"
      ]
    },
    {
      "cell_type": "markdown",
      "metadata": {
        "id": "B1QHDuazlMja"
      },
      "source": [
        "### Choosing number of topics\n",
        "To choose the number of topics we use measures such as "
      ]
    },
    {
      "cell_type": "code",
      "execution_count": 30,
      "metadata": {
        "colab": {
          "base_uri": "https://localhost:8080/"
        },
        "id": "zTk9n3hAlTOn",
        "outputId": "859d0fb8-e672-4f27-f42a-b8cdc286ba83"
      },
      "outputs": [
        {
          "name": "stdout",
          "output_type": "stream",
          "text": [
            "Number of topics: 2, UMass Score: -1.9605988643372265, CV Score: 0.3161597160060067 \n",
            "\n",
            "Number of topics: 3, UMass Score: -1.9717528690166812, CV Score: 0.29431340607395245 \n",
            "\n",
            "Number of topics: 4, UMass Score: -2.005779097776581, CV Score: 0.3064429016914327 \n",
            "\n",
            "Number of topics: 5, UMass Score: -2.0269277266492507, CV Score: 0.31563442611381015 \n",
            "\n",
            "Number of topics: 6, UMass Score: -2.053769982167863, CV Score: 0.315766214867727 \n",
            "\n",
            "Number of topics: 7, UMass Score: -2.010900744638036, CV Score: 0.3169885581834011 \n",
            "\n",
            "Number of topics: 8, UMass Score: -2.0597289045429577, CV Score: 0.3154455716383609 \n",
            "\n",
            "Number of topics: 9, UMass Score: -2.036263730354967, CV Score: 0.30268530259809956 \n",
            "\n",
            "Number of topics: 10, UMass Score: -2.0345074490719113, CV Score: 0.3180204074656512 \n",
            "\n",
            "Number of topics: 11, UMass Score: -2.089334649556665, CV Score: 0.29665755564040147 \n",
            "\n",
            "Number of topics: 12, UMass Score: -2.026210672008201, CV Score: 0.3269589351828821 \n",
            "\n",
            "Number of topics: 13, UMass Score: -2.0360165325245614, CV Score: 0.3240737423187294 \n",
            "\n",
            "Number of topics: 14, UMass Score: -2.065931859704818, CV Score: 0.32466693621876086 \n",
            "\n",
            "Number of topics: 15, UMass Score: -2.031007935552662, CV Score: 0.3323382550691039 \n",
            "\n",
            "Number of topics: 16, UMass Score: -2.0654346943401327, CV Score: 0.32115925461453065 \n",
            "\n",
            "Number of topics: 17, UMass Score: -1.982004598964725, CV Score: 0.32756769745573217 \n",
            "\n",
            "Number of topics: 18, UMass Score: -1.9845637764099027, CV Score: 0.3195477147372092 \n",
            "\n",
            "Number of topics: 19, UMass Score: -2.0730109047186374, CV Score: 0.30657569324010747 \n",
            "\n",
            "Number of topics: 20, UMass Score: -2.0713818262465646, CV Score: 0.3063249314337879 \n",
            "\n"
          ]
        }
      ],
      "source": [
        "coherence_values = []\n",
        "\n",
        "dev_size = 100000\n",
        "eval_size = 30000\n",
        "\n",
        "for num_topics in range(2, 21):\n",
        "    model = LdaMulticore(corpus=model_corpus[:dev_size], \n",
        "                         id2word=dictionary, \n",
        "                         num_topics=num_topics,\n",
        "                         random_state = 2)\n",
        "\n",
        "    coherencemodel_umass = CoherenceModel(model=model, \n",
        "                                          texts=instances[dev_size:dev_size+eval_size], \n",
        "                                          dictionary=dictionary, \n",
        "                                          coherence='u_mass')\n",
        "\n",
        "    coherencemodel_cv = CoherenceModel(model=model, \n",
        "                                       texts=instances[dev_size:dev_size+eval_size], \n",
        "                                       dictionary=dictionary, \n",
        "                                       coherence='c_v')\n",
        "\n",
        "    umass_score = coherencemodel_umass.get_coherence()\n",
        "    cv_score = coherencemodel_cv.get_coherence()\n",
        "    print(f\"Number of topics: {num_topics}, UMass Score: {umass_score}, CV Score: {cv_score} \\n\")\n",
        "    coherence_values.append((num_topics, umass_score, cv_score))"
      ]
    },
    {
      "cell_type": "code",
      "execution_count": 40,
      "metadata": {
        "colab": {
          "base_uri": "https://localhost:8080/",
          "height": 617
        },
        "id": "p0s8q4NmophY",
        "outputId": "68bd69d5-da7a-486a-ba54-5a663c0cb184"
      },
      "outputs": [
        {
          "data": {
            "application/vnd.plotly.v1+json": {
              "config": {
                "plotlyServerURL": "https://plot.ly"
              },
              "data": [
                {
                  "type": "scatter",
                  "x": [
                    2,
                    3,
                    4,
                    5,
                    6,
                    7,
                    8,
                    9,
                    10,
                    11,
                    12,
                    13,
                    14,
                    15,
                    16,
                    17,
                    18,
                    19,
                    20
                  ],
                  "xaxis": "x",
                  "y": [
                    -1.9605988643372265,
                    -1.9717528690166812,
                    -2.005779097776581,
                    -2.0269277266492507,
                    -2.053769982167863,
                    -2.010900744638036,
                    -2.0597289045429577,
                    -2.036263730354967,
                    -2.0345074490719113,
                    -2.089334649556665,
                    -2.026210672008201,
                    -2.0360165325245614,
                    -2.065931859704818,
                    -2.031007935552662,
                    -2.0654346943401327,
                    -1.982004598964725,
                    -1.9845637764099027,
                    -2.0730109047186374,
                    -2.0713818262465646
                  ],
                  "yaxis": "y"
                },
                {
                  "type": "scatter",
                  "x": [
                    2,
                    3,
                    4,
                    5,
                    6,
                    7,
                    8,
                    9,
                    10,
                    11,
                    12,
                    13,
                    14,
                    15,
                    16,
                    17,
                    18,
                    19,
                    20
                  ],
                  "xaxis": "x2",
                  "y": [
                    0.3161597160060067,
                    0.29431340607395245,
                    0.3064429016914327,
                    0.31563442611381015,
                    0.315766214867727,
                    0.3169885581834011,
                    0.3154455716383609,
                    0.30268530259809956,
                    0.3180204074656512,
                    0.29665755564040147,
                    0.3269589351828821,
                    0.3240737423187294,
                    0.32466693621876086,
                    0.3323382550691039,
                    0.32115925461453065,
                    0.32756769745573217,
                    0.3195477147372092,
                    0.30657569324010747,
                    0.3063249314337879
                  ],
                  "yaxis": "y2"
                }
              ],
              "layout": {
                "annotations": [
                  {
                    "font": {
                      "size": 16
                    },
                    "showarrow": false,
                    "text": "UMass Score",
                    "x": 0.225,
                    "xanchor": "center",
                    "xref": "paper",
                    "y": 1,
                    "yanchor": "bottom",
                    "yref": "paper"
                  },
                  {
                    "font": {
                      "size": 16
                    },
                    "showarrow": false,
                    "text": "CV Score",
                    "x": 0.775,
                    "xanchor": "center",
                    "xref": "paper",
                    "y": 1,
                    "yanchor": "bottom",
                    "yref": "paper"
                  }
                ],
                "height": 600,
                "template": {
                  "data": {
                    "bar": [
                      {
                        "error_x": {
                          "color": "#2a3f5f"
                        },
                        "error_y": {
                          "color": "#2a3f5f"
                        },
                        "marker": {
                          "line": {
                            "color": "#E5ECF6",
                            "width": 0.5
                          },
                          "pattern": {
                            "fillmode": "overlay",
                            "size": 10,
                            "solidity": 0.2
                          }
                        },
                        "type": "bar"
                      }
                    ],
                    "barpolar": [
                      {
                        "marker": {
                          "line": {
                            "color": "#E5ECF6",
                            "width": 0.5
                          },
                          "pattern": {
                            "fillmode": "overlay",
                            "size": 10,
                            "solidity": 0.2
                          }
                        },
                        "type": "barpolar"
                      }
                    ],
                    "carpet": [
                      {
                        "aaxis": {
                          "endlinecolor": "#2a3f5f",
                          "gridcolor": "white",
                          "linecolor": "white",
                          "minorgridcolor": "white",
                          "startlinecolor": "#2a3f5f"
                        },
                        "baxis": {
                          "endlinecolor": "#2a3f5f",
                          "gridcolor": "white",
                          "linecolor": "white",
                          "minorgridcolor": "white",
                          "startlinecolor": "#2a3f5f"
                        },
                        "type": "carpet"
                      }
                    ],
                    "choropleth": [
                      {
                        "colorbar": {
                          "outlinewidth": 0,
                          "ticks": ""
                        },
                        "type": "choropleth"
                      }
                    ],
                    "contour": [
                      {
                        "colorbar": {
                          "outlinewidth": 0,
                          "ticks": ""
                        },
                        "colorscale": [
                          [
                            0,
                            "#0d0887"
                          ],
                          [
                            0.1111111111111111,
                            "#46039f"
                          ],
                          [
                            0.2222222222222222,
                            "#7201a8"
                          ],
                          [
                            0.3333333333333333,
                            "#9c179e"
                          ],
                          [
                            0.4444444444444444,
                            "#bd3786"
                          ],
                          [
                            0.5555555555555556,
                            "#d8576b"
                          ],
                          [
                            0.6666666666666666,
                            "#ed7953"
                          ],
                          [
                            0.7777777777777778,
                            "#fb9f3a"
                          ],
                          [
                            0.8888888888888888,
                            "#fdca26"
                          ],
                          [
                            1,
                            "#f0f921"
                          ]
                        ],
                        "type": "contour"
                      }
                    ],
                    "contourcarpet": [
                      {
                        "colorbar": {
                          "outlinewidth": 0,
                          "ticks": ""
                        },
                        "type": "contourcarpet"
                      }
                    ],
                    "heatmap": [
                      {
                        "colorbar": {
                          "outlinewidth": 0,
                          "ticks": ""
                        },
                        "colorscale": [
                          [
                            0,
                            "#0d0887"
                          ],
                          [
                            0.1111111111111111,
                            "#46039f"
                          ],
                          [
                            0.2222222222222222,
                            "#7201a8"
                          ],
                          [
                            0.3333333333333333,
                            "#9c179e"
                          ],
                          [
                            0.4444444444444444,
                            "#bd3786"
                          ],
                          [
                            0.5555555555555556,
                            "#d8576b"
                          ],
                          [
                            0.6666666666666666,
                            "#ed7953"
                          ],
                          [
                            0.7777777777777778,
                            "#fb9f3a"
                          ],
                          [
                            0.8888888888888888,
                            "#fdca26"
                          ],
                          [
                            1,
                            "#f0f921"
                          ]
                        ],
                        "type": "heatmap"
                      }
                    ],
                    "heatmapgl": [
                      {
                        "colorbar": {
                          "outlinewidth": 0,
                          "ticks": ""
                        },
                        "colorscale": [
                          [
                            0,
                            "#0d0887"
                          ],
                          [
                            0.1111111111111111,
                            "#46039f"
                          ],
                          [
                            0.2222222222222222,
                            "#7201a8"
                          ],
                          [
                            0.3333333333333333,
                            "#9c179e"
                          ],
                          [
                            0.4444444444444444,
                            "#bd3786"
                          ],
                          [
                            0.5555555555555556,
                            "#d8576b"
                          ],
                          [
                            0.6666666666666666,
                            "#ed7953"
                          ],
                          [
                            0.7777777777777778,
                            "#fb9f3a"
                          ],
                          [
                            0.8888888888888888,
                            "#fdca26"
                          ],
                          [
                            1,
                            "#f0f921"
                          ]
                        ],
                        "type": "heatmapgl"
                      }
                    ],
                    "histogram": [
                      {
                        "marker": {
                          "pattern": {
                            "fillmode": "overlay",
                            "size": 10,
                            "solidity": 0.2
                          }
                        },
                        "type": "histogram"
                      }
                    ],
                    "histogram2d": [
                      {
                        "colorbar": {
                          "outlinewidth": 0,
                          "ticks": ""
                        },
                        "colorscale": [
                          [
                            0,
                            "#0d0887"
                          ],
                          [
                            0.1111111111111111,
                            "#46039f"
                          ],
                          [
                            0.2222222222222222,
                            "#7201a8"
                          ],
                          [
                            0.3333333333333333,
                            "#9c179e"
                          ],
                          [
                            0.4444444444444444,
                            "#bd3786"
                          ],
                          [
                            0.5555555555555556,
                            "#d8576b"
                          ],
                          [
                            0.6666666666666666,
                            "#ed7953"
                          ],
                          [
                            0.7777777777777778,
                            "#fb9f3a"
                          ],
                          [
                            0.8888888888888888,
                            "#fdca26"
                          ],
                          [
                            1,
                            "#f0f921"
                          ]
                        ],
                        "type": "histogram2d"
                      }
                    ],
                    "histogram2dcontour": [
                      {
                        "colorbar": {
                          "outlinewidth": 0,
                          "ticks": ""
                        },
                        "colorscale": [
                          [
                            0,
                            "#0d0887"
                          ],
                          [
                            0.1111111111111111,
                            "#46039f"
                          ],
                          [
                            0.2222222222222222,
                            "#7201a8"
                          ],
                          [
                            0.3333333333333333,
                            "#9c179e"
                          ],
                          [
                            0.4444444444444444,
                            "#bd3786"
                          ],
                          [
                            0.5555555555555556,
                            "#d8576b"
                          ],
                          [
                            0.6666666666666666,
                            "#ed7953"
                          ],
                          [
                            0.7777777777777778,
                            "#fb9f3a"
                          ],
                          [
                            0.8888888888888888,
                            "#fdca26"
                          ],
                          [
                            1,
                            "#f0f921"
                          ]
                        ],
                        "type": "histogram2dcontour"
                      }
                    ],
                    "mesh3d": [
                      {
                        "colorbar": {
                          "outlinewidth": 0,
                          "ticks": ""
                        },
                        "type": "mesh3d"
                      }
                    ],
                    "parcoords": [
                      {
                        "line": {
                          "colorbar": {
                            "outlinewidth": 0,
                            "ticks": ""
                          }
                        },
                        "type": "parcoords"
                      }
                    ],
                    "pie": [
                      {
                        "automargin": true,
                        "type": "pie"
                      }
                    ],
                    "scatter": [
                      {
                        "fillpattern": {
                          "fillmode": "overlay",
                          "size": 10,
                          "solidity": 0.2
                        },
                        "type": "scatter"
                      }
                    ],
                    "scatter3d": [
                      {
                        "line": {
                          "colorbar": {
                            "outlinewidth": 0,
                            "ticks": ""
                          }
                        },
                        "marker": {
                          "colorbar": {
                            "outlinewidth": 0,
                            "ticks": ""
                          }
                        },
                        "type": "scatter3d"
                      }
                    ],
                    "scattercarpet": [
                      {
                        "marker": {
                          "colorbar": {
                            "outlinewidth": 0,
                            "ticks": ""
                          }
                        },
                        "type": "scattercarpet"
                      }
                    ],
                    "scattergeo": [
                      {
                        "marker": {
                          "colorbar": {
                            "outlinewidth": 0,
                            "ticks": ""
                          }
                        },
                        "type": "scattergeo"
                      }
                    ],
                    "scattergl": [
                      {
                        "marker": {
                          "colorbar": {
                            "outlinewidth": 0,
                            "ticks": ""
                          }
                        },
                        "type": "scattergl"
                      }
                    ],
                    "scattermapbox": [
                      {
                        "marker": {
                          "colorbar": {
                            "outlinewidth": 0,
                            "ticks": ""
                          }
                        },
                        "type": "scattermapbox"
                      }
                    ],
                    "scatterpolar": [
                      {
                        "marker": {
                          "colorbar": {
                            "outlinewidth": 0,
                            "ticks": ""
                          }
                        },
                        "type": "scatterpolar"
                      }
                    ],
                    "scatterpolargl": [
                      {
                        "marker": {
                          "colorbar": {
                            "outlinewidth": 0,
                            "ticks": ""
                          }
                        },
                        "type": "scatterpolargl"
                      }
                    ],
                    "scatterternary": [
                      {
                        "marker": {
                          "colorbar": {
                            "outlinewidth": 0,
                            "ticks": ""
                          }
                        },
                        "type": "scatterternary"
                      }
                    ],
                    "surface": [
                      {
                        "colorbar": {
                          "outlinewidth": 0,
                          "ticks": ""
                        },
                        "colorscale": [
                          [
                            0,
                            "#0d0887"
                          ],
                          [
                            0.1111111111111111,
                            "#46039f"
                          ],
                          [
                            0.2222222222222222,
                            "#7201a8"
                          ],
                          [
                            0.3333333333333333,
                            "#9c179e"
                          ],
                          [
                            0.4444444444444444,
                            "#bd3786"
                          ],
                          [
                            0.5555555555555556,
                            "#d8576b"
                          ],
                          [
                            0.6666666666666666,
                            "#ed7953"
                          ],
                          [
                            0.7777777777777778,
                            "#fb9f3a"
                          ],
                          [
                            0.8888888888888888,
                            "#fdca26"
                          ],
                          [
                            1,
                            "#f0f921"
                          ]
                        ],
                        "type": "surface"
                      }
                    ],
                    "table": [
                      {
                        "cells": {
                          "fill": {
                            "color": "#EBF0F8"
                          },
                          "line": {
                            "color": "white"
                          }
                        },
                        "header": {
                          "fill": {
                            "color": "#C8D4E3"
                          },
                          "line": {
                            "color": "white"
                          }
                        },
                        "type": "table"
                      }
                    ]
                  },
                  "layout": {
                    "annotationdefaults": {
                      "arrowcolor": "#2a3f5f",
                      "arrowhead": 0,
                      "arrowwidth": 1
                    },
                    "autotypenumbers": "strict",
                    "coloraxis": {
                      "colorbar": {
                        "outlinewidth": 0,
                        "ticks": ""
                      }
                    },
                    "colorscale": {
                      "diverging": [
                        [
                          0,
                          "#8e0152"
                        ],
                        [
                          0.1,
                          "#c51b7d"
                        ],
                        [
                          0.2,
                          "#de77ae"
                        ],
                        [
                          0.3,
                          "#f1b6da"
                        ],
                        [
                          0.4,
                          "#fde0ef"
                        ],
                        [
                          0.5,
                          "#f7f7f7"
                        ],
                        [
                          0.6,
                          "#e6f5d0"
                        ],
                        [
                          0.7,
                          "#b8e186"
                        ],
                        [
                          0.8,
                          "#7fbc41"
                        ],
                        [
                          0.9,
                          "#4d9221"
                        ],
                        [
                          1,
                          "#276419"
                        ]
                      ],
                      "sequential": [
                        [
                          0,
                          "#0d0887"
                        ],
                        [
                          0.1111111111111111,
                          "#46039f"
                        ],
                        [
                          0.2222222222222222,
                          "#7201a8"
                        ],
                        [
                          0.3333333333333333,
                          "#9c179e"
                        ],
                        [
                          0.4444444444444444,
                          "#bd3786"
                        ],
                        [
                          0.5555555555555556,
                          "#d8576b"
                        ],
                        [
                          0.6666666666666666,
                          "#ed7953"
                        ],
                        [
                          0.7777777777777778,
                          "#fb9f3a"
                        ],
                        [
                          0.8888888888888888,
                          "#fdca26"
                        ],
                        [
                          1,
                          "#f0f921"
                        ]
                      ],
                      "sequentialminus": [
                        [
                          0,
                          "#0d0887"
                        ],
                        [
                          0.1111111111111111,
                          "#46039f"
                        ],
                        [
                          0.2222222222222222,
                          "#7201a8"
                        ],
                        [
                          0.3333333333333333,
                          "#9c179e"
                        ],
                        [
                          0.4444444444444444,
                          "#bd3786"
                        ],
                        [
                          0.5555555555555556,
                          "#d8576b"
                        ],
                        [
                          0.6666666666666666,
                          "#ed7953"
                        ],
                        [
                          0.7777777777777778,
                          "#fb9f3a"
                        ],
                        [
                          0.8888888888888888,
                          "#fdca26"
                        ],
                        [
                          1,
                          "#f0f921"
                        ]
                      ]
                    },
                    "colorway": [
                      "#636efa",
                      "#EF553B",
                      "#00cc96",
                      "#ab63fa",
                      "#FFA15A",
                      "#19d3f3",
                      "#FF6692",
                      "#B6E880",
                      "#FF97FF",
                      "#FECB52"
                    ],
                    "font": {
                      "color": "#2a3f5f"
                    },
                    "geo": {
                      "bgcolor": "white",
                      "lakecolor": "white",
                      "landcolor": "#E5ECF6",
                      "showlakes": true,
                      "showland": true,
                      "subunitcolor": "white"
                    },
                    "hoverlabel": {
                      "align": "left"
                    },
                    "hovermode": "closest",
                    "mapbox": {
                      "style": "light"
                    },
                    "paper_bgcolor": "white",
                    "plot_bgcolor": "#E5ECF6",
                    "polar": {
                      "angularaxis": {
                        "gridcolor": "white",
                        "linecolor": "white",
                        "ticks": ""
                      },
                      "bgcolor": "#E5ECF6",
                      "radialaxis": {
                        "gridcolor": "white",
                        "linecolor": "white",
                        "ticks": ""
                      }
                    },
                    "scene": {
                      "xaxis": {
                        "backgroundcolor": "#E5ECF6",
                        "gridcolor": "white",
                        "gridwidth": 2,
                        "linecolor": "white",
                        "showbackground": true,
                        "ticks": "",
                        "zerolinecolor": "white"
                      },
                      "yaxis": {
                        "backgroundcolor": "#E5ECF6",
                        "gridcolor": "white",
                        "gridwidth": 2,
                        "linecolor": "white",
                        "showbackground": true,
                        "ticks": "",
                        "zerolinecolor": "white"
                      },
                      "zaxis": {
                        "backgroundcolor": "#E5ECF6",
                        "gridcolor": "white",
                        "gridwidth": 2,
                        "linecolor": "white",
                        "showbackground": true,
                        "ticks": "",
                        "zerolinecolor": "white"
                      }
                    },
                    "shapedefaults": {
                      "line": {
                        "color": "#2a3f5f"
                      }
                    },
                    "ternary": {
                      "aaxis": {
                        "gridcolor": "white",
                        "linecolor": "white",
                        "ticks": ""
                      },
                      "baxis": {
                        "gridcolor": "white",
                        "linecolor": "white",
                        "ticks": ""
                      },
                      "bgcolor": "#E5ECF6",
                      "caxis": {
                        "gridcolor": "white",
                        "linecolor": "white",
                        "ticks": ""
                      }
                    },
                    "title": {
                      "x": 0.05
                    },
                    "xaxis": {
                      "automargin": true,
                      "gridcolor": "white",
                      "linecolor": "white",
                      "ticks": "",
                      "title": {
                        "standoff": 15
                      },
                      "zerolinecolor": "white",
                      "zerolinewidth": 2
                    },
                    "yaxis": {
                      "automargin": true,
                      "gridcolor": "white",
                      "linecolor": "white",
                      "ticks": "",
                      "title": {
                        "standoff": 15
                      },
                      "zerolinecolor": "white",
                      "zerolinewidth": 2
                    }
                  }
                },
                "title": {
                  "text": "Choosing Number of Topics Via UMass and CV scores"
                },
                "width": 800,
                "xaxis": {
                  "anchor": "y",
                  "domain": [
                    0,
                    0.45
                  ],
                  "title": {
                    "text": "Num. Topics"
                  }
                },
                "xaxis2": {
                  "anchor": "y2",
                  "domain": [
                    0.55,
                    1
                  ],
                  "title": {
                    "text": "Num. Topics"
                  }
                },
                "yaxis": {
                  "anchor": "x",
                  "domain": [
                    0,
                    1
                  ],
                  "title": {
                    "text": "Coherence Score"
                  }
                },
                "yaxis2": {
                  "anchor": "x2",
                  "domain": [
                    0,
                    1
                  ]
                }
              }
            }
          },
          "metadata": {},
          "output_type": "display_data"
        }
      ],
      "source": [
        "scores = pd.DataFrame(coherence_values, columns=['num_topics', 'UMass', 'CV'])\n",
        "\n",
        "fig = make_subplots(rows=1, cols=2,\n",
        "                    subplot_titles=(\"UMass Score\", \"CV Score\"))\n",
        "\n",
        "fig.add_trace(\n",
        "    go.Scatter(x=scores[\"num_topics\"], y=scores[\"UMass\"]),\n",
        "    row=1, col=1\n",
        ")\n",
        "\n",
        "fig.add_trace(\n",
        "    go.Scatter(x=scores[\"num_topics\"], y=scores[\"CV\"]),\n",
        "    row=1, col=2\n",
        ")\n",
        "\n",
        "fig.update_xaxes(title_text=\"Num. Topics\", row=1, col=1)\n",
        "fig.update_xaxes(title_text=\"Num. Topics\", row=1, col=2)\n",
        "\n",
        "fig.update_yaxes(title_text=\"Coherence Score\", row=1, col=1)\n",
        "\n",
        "\n",
        "fig.update_layout(height=600, width=800, title_text=\"Choosing Number of Topics Via UMass and CV scores\")\n",
        "fig.show()"
      ]
    },
    {
      "cell_type": "markdown",
      "metadata": {
        "id": "7BgdI8cCqSFE"
      },
      "source": [
        "As we can see, the optimal number of topics is 7 since it is the peak of the UMass and CV scores."
      ]
    },
    {
      "cell_type": "markdown",
      "metadata": {
        "id": "bYlZT1qyqaXH"
      },
      "source": [
        "## Results\n",
        "\n",
        "Having chosen the number of topics, we can analyze what they represent"
      ]
    },
    {
      "cell_type": "code",
      "execution_count": 42,
      "metadata": {
        "colab": {
          "base_uri": "https://localhost:8080/",
          "height": 304
        },
        "id": "UlFc_bwLtBHm",
        "outputId": "252704d1-4d48-4be3-eaa2-368351dd03de"
      },
      "outputs": [
        {
          "name": "stdout",
          "output_type": "stream",
          "text": [
            "chunk size: 7107.45\n",
            "fitting model\n",
            "done in 352.34129548072815\n"
          ]
        }
      ],
      "source": [
        "if FIRST_RUN: \n",
        "    num_topics = 7\n",
        "    \n",
        "    # find chunksize to make about 200 updates\n",
        "    num_passes = 10\n",
        "    chunk_size = len(model_corpus) * num_passes/200\n",
        "    print(f\"chunk size: {chunk_size}\")\n",
        "    \n",
        "    start = time.time()\n",
        "    print(\"fitting model\", flush=True)\n",
        "    model = LdaMulticore(num_topics=num_topics, # number of topics\n",
        "                         corpus=model_corpus, # what to train on \n",
        "                         id2word=dictionary, # mapping from IDs to words\n",
        "                         workers=min(10, multiprocessing.cpu_count()-1), # choose 10 cores, or whatever computer has\n",
        "                         passes=num_passes, # make this many passes over data\n",
        "                         chunksize=chunk_size, # update after this many instances\n",
        "                         alpha=0.5,\n",
        "                         random_state = 2\n",
        "                        )\n",
        "        \n",
        "    print(\"done in {}\".format(time.time()-start), flush=True)\n",
        "    with open(\"./Models/model_lda\", \"wb\") as fp:\n",
        "        pickle.dump(model, fp)\n",
        "else:\n",
        "    with open(\"./Models/model_lda\", \"rb\") as fp:\n",
        "        model = pickle.load(fp)\n"
      ]
    },
    {
      "cell_type": "code",
      "execution_count": 43,
      "metadata": {
        "id": "hjqiF5D1ZATg"
      },
      "outputs": [],
      "source": [
        "def get_descriptors(model, num_words = 5):\n",
        "    topic_sep = re.compile(r\"0\\.[0-9]{3}\\*|\\+|\\\"\") # getting rid of useless formatting\n",
        "    model_topics = [(topic_no, re.sub(topic_sep, '', model_topic)) for topic_no, model_topic in\n",
        "                    model.print_topics(num_words=num_words)]\n",
        "    descriptors = {}\n",
        "    for i, m in model_topics:\n",
        "        descriptors[f\"topic {i+1}\"] = m.split()\n",
        "    return pd.DataFrame.from_dict(descriptors, orient = \"index\", columns = [f\"Word {i}\" for i in range(1,num_words+1)])"
      ]
    },
    {
      "cell_type": "code",
      "execution_count": 50,
      "metadata": {
        "id": "x40X1qHiayEF"
      },
      "outputs": [
        {
          "data": {
            "text/html": [
              "<div>\n",
              "<style scoped>\n",
              "    .dataframe tbody tr th:only-of-type {\n",
              "        vertical-align: middle;\n",
              "    }\n",
              "\n",
              "    .dataframe tbody tr th {\n",
              "        vertical-align: top;\n",
              "    }\n",
              "\n",
              "    .dataframe thead th {\n",
              "        text-align: right;\n",
              "    }\n",
              "</style>\n",
              "<table border=\"1\" class=\"dataframe\">\n",
              "  <thead>\n",
              "    <tr style=\"text-align: right;\">\n",
              "      <th></th>\n",
              "      <th>Word 1</th>\n",
              "      <th>Word 2</th>\n",
              "      <th>Word 3</th>\n",
              "      <th>Word 4</th>\n",
              "      <th>Word 5</th>\n",
              "      <th>Word 6</th>\n",
              "      <th>Word 7</th>\n",
              "      <th>Word 8</th>\n",
              "      <th>Word 9</th>\n",
              "      <th>Word 10</th>\n",
              "    </tr>\n",
              "  </thead>\n",
              "  <tbody>\n",
              "    <tr>\n",
              "      <th>topic 1</th>\n",
              "      <td>theory</td>\n",
              "      <td>study</td>\n",
              "      <td>social</td>\n",
              "      <td>history</td>\n",
              "      <td>science</td>\n",
              "      <td>culture</td>\n",
              "      <td>work</td>\n",
              "      <td>book</td>\n",
              "      <td>introduction</td>\n",
              "      <td>modern</td>\n",
              "    </tr>\n",
              "    <tr>\n",
              "      <th>topic 2</th>\n",
              "      <td>art</td>\n",
              "      <td>guide</td>\n",
              "      <td>design</td>\n",
              "      <td>include</td>\n",
              "      <td>edition</td>\n",
              "      <td>book</td>\n",
              "      <td>feature</td>\n",
              "      <td>dictionary</td>\n",
              "      <td>color</td>\n",
              "      <td>work</td>\n",
              "    </tr>\n",
              "    <tr>\n",
              "      <th>topic 3</th>\n",
              "      <td>guide</td>\n",
              "      <td>student</td>\n",
              "      <td>business</td>\n",
              "      <td>help</td>\n",
              "      <td>provide</td>\n",
              "      <td>child</td>\n",
              "      <td>practice</td>\n",
              "      <td>information</td>\n",
              "      <td>learn</td>\n",
              "      <td>system</td>\n",
              "    </tr>\n",
              "    <tr>\n",
              "      <th>topic 4</th>\n",
              "      <td>god</td>\n",
              "      <td>bible</td>\n",
              "      <td>life</td>\n",
              "      <td>book</td>\n",
              "      <td>spiritual</td>\n",
              "      <td>christian</td>\n",
              "      <td>jesus</td>\n",
              "      <td>work</td>\n",
              "      <td>church</td>\n",
              "      <td>christ</td>\n",
              "    </tr>\n",
              "    <tr>\n",
              "      <th>topic 5</th>\n",
              "      <td>love</td>\n",
              "      <td>man</td>\n",
              "      <td>story</td>\n",
              "      <td>woman</td>\n",
              "      <td>life</td>\n",
              "      <td>novel</td>\n",
              "      <td>family</td>\n",
              "      <td>find</td>\n",
              "      <td>young</td>\n",
              "      <td>murder</td>\n",
              "    </tr>\n",
              "    <tr>\n",
              "      <th>topic 6</th>\n",
              "      <td>war</td>\n",
              "      <td>history</td>\n",
              "      <td>world</td>\n",
              "      <td>military</td>\n",
              "      <td>american</td>\n",
              "      <td>political</td>\n",
              "      <td>new</td>\n",
              "      <td>life</td>\n",
              "      <td>book</td>\n",
              "      <td>civil</td>\n",
              "    </tr>\n",
              "    <tr>\n",
              "      <th>topic 7</th>\n",
              "      <td>story</td>\n",
              "      <td>adventure</td>\n",
              "      <td>animal</td>\n",
              "      <td>christmas</td>\n",
              "      <td>book</td>\n",
              "      <td>song</td>\n",
              "      <td>music</td>\n",
              "      <td>little</td>\n",
              "      <td>great</td>\n",
              "      <td>tale</td>\n",
              "    </tr>\n",
              "  </tbody>\n",
              "</table>\n",
              "</div>"
            ],
            "text/plain": [
              "         Word 1     Word 2    Word 3     Word 4     Word 5     Word 6  \\\n",
              "topic 1  theory      study    social    history    science    culture   \n",
              "topic 2     art      guide    design    include    edition       book   \n",
              "topic 3   guide    student  business       help    provide      child   \n",
              "topic 4     god      bible      life       book  spiritual  christian   \n",
              "topic 5    love        man     story      woman       life      novel   \n",
              "topic 6     war    history     world   military   american  political   \n",
              "topic 7   story  adventure    animal  christmas       book       song   \n",
              "\n",
              "           Word 7       Word 8        Word 9 Word 10  \n",
              "topic 1      work         book  introduction  modern  \n",
              "topic 2   feature   dictionary         color    work  \n",
              "topic 3  practice  information         learn  system  \n",
              "topic 4     jesus         work        church  christ  \n",
              "topic 5    family         find         young  murder  \n",
              "topic 6       new         life          book   civil  \n",
              "topic 7     music       little         great    tale  "
            ]
          },
          "execution_count": 50,
          "metadata": {},
          "output_type": "execute_result"
        }
      ],
      "source": [
        "topics = get_descriptors(model, 10)\n",
        "topics"
      ]
    },
    {
      "cell_type": "markdown",
      "metadata": {
        "id": "26H30tI2_HfC"
      },
      "source": [
        "As we can see, the topics are quite easy to interpret:\n",
        "- topic 1: words such as \"theory\", \"study\", \"history\", \"science\" indicate that this topic belongs to **academia**\n",
        "- topic 2: words such as \"guide\" along with \"design\" and \"art\" indicate that this topic belongs to **art**.\n",
        "- topic 3: words such as \"guide\" along with \"student\", \"business\", \"help\" and \"provide\" tell us that this topic deals with **student help**.\n",
        "- topic 4: words such as \"god\", \"bible\" indicate a religious theme: **religion**.\n",
        "- topic 5: words such as \"love\", \"man\", \"woman\", \"murder\" indicate the theme of **fiction & romance**.\n",
        "- topic 6: words such as \"war\", \"history\", \"military\", \"american\" suggest a theme of **american war history**.\n",
        "- topic 7: words such as \"story\", \"adventure\", \"animal\", \"book\" indicate a theme related to **children books**.\n"
      ]
    },
    {
      "cell_type": "markdown",
      "metadata": {
        "id": "K8AnlvkUbhiE"
      },
      "source": [
        "As we can see, these themes more or less relate to the top 10 categories with a few important observations:\n",
        "- The theme **art** is not present in the top 10 categories. \n",
        "- Looking at the top 10 categories we could think that the theme of **fiction & romance** could  actually related to the category of **biography & autobiography** since the descriptors could very well be dealing with someone's personal life. \n",
        "- The theme of **student help** is probably associated to the theme of **juvenile non-fiction**\n",
        "\n",
        "Finally, lets analyze how the popularity of these themes changed throughout the years."
      ]
    },
    {
      "cell_type": "code",
      "execution_count": 91,
      "metadata": {
        "id": "NFyUPg_2Blf8"
      },
      "outputs": [],
      "source": [
        "topic_corpus = model[model_corpus]\n",
        "scores = [[t[1] for t in topic_corpus[entry]] for entry in range(len(book_description_corpus))]\n"
      ]
    },
    {
      "cell_type": "code",
      "execution_count": 152,
      "metadata": {},
      "outputs": [],
      "source": [
        "df_books_en[[\"topic1\", \"topic2\", \"topic3\", \"topic4\", \"topic5\", \"topic6\", \"topic7\"]]=scores"
      ]
    },
    {
      "cell_type": "code",
      "execution_count": 153,
      "metadata": {},
      "outputs": [
        {
          "data": {
            "text/html": [
              "<div>\n",
              "<style scoped>\n",
              "    .dataframe tbody tr th:only-of-type {\n",
              "        vertical-align: middle;\n",
              "    }\n",
              "\n",
              "    .dataframe tbody tr th {\n",
              "        vertical-align: top;\n",
              "    }\n",
              "\n",
              "    .dataframe thead th {\n",
              "        text-align: right;\n",
              "    }\n",
              "</style>\n",
              "<table border=\"1\" class=\"dataframe\">\n",
              "  <thead>\n",
              "    <tr style=\"text-align: right;\">\n",
              "      <th></th>\n",
              "      <th>Title</th>\n",
              "      <th>description</th>\n",
              "      <th>authors</th>\n",
              "      <th>publishedDate</th>\n",
              "      <th>categories</th>\n",
              "      <th>new_desc</th>\n",
              "      <th>lang</th>\n",
              "      <th>topic1</th>\n",
              "      <th>topic2</th>\n",
              "      <th>topic3</th>\n",
              "      <th>topic4</th>\n",
              "      <th>topic5</th>\n",
              "      <th>topic6</th>\n",
              "      <th>topic7</th>\n",
              "    </tr>\n",
              "  </thead>\n",
              "  <tbody>\n",
              "    <tr>\n",
              "      <th>1</th>\n",
              "      <td>Dr. Seuss: American Icon</td>\n",
              "      <td>Philip Nel takes a fascinating look into the k...</td>\n",
              "      <td>['Philip Nel']</td>\n",
              "      <td>2005</td>\n",
              "      <td>['Biography &amp; Autobiography']</td>\n",
              "      <td>Philip Nel takes a fascinating look into the k...</td>\n",
              "      <td>en</td>\n",
              "      <td>0.095130</td>\n",
              "      <td>0.340764</td>\n",
              "      <td>0.068506</td>\n",
              "      <td>0.075415</td>\n",
              "      <td>0.064876</td>\n",
              "      <td>0.266570</td>\n",
              "      <td>0.088739</td>\n",
              "    </tr>\n",
              "    <tr>\n",
              "      <th>2</th>\n",
              "      <td>Wonderful Worship in Smaller Churches</td>\n",
              "      <td>This resource includes twelve principles in un...</td>\n",
              "      <td>['David R. Ray']</td>\n",
              "      <td>2000</td>\n",
              "      <td>['Religion']</td>\n",
              "      <td>This resource includes twelve principles in un...</td>\n",
              "      <td>en</td>\n",
              "      <td>0.105597</td>\n",
              "      <td>0.084881</td>\n",
              "      <td>0.199642</td>\n",
              "      <td>0.347270</td>\n",
              "      <td>0.083063</td>\n",
              "      <td>0.088499</td>\n",
              "      <td>0.091049</td>\n",
              "    </tr>\n",
              "    <tr>\n",
              "      <th>3</th>\n",
              "      <td>Whispers of the Wicked Saints</td>\n",
              "      <td>Julia Thomas finds her life spinning out of co...</td>\n",
              "      <td>['Veronica Haddon']</td>\n",
              "      <td>2005</td>\n",
              "      <td>['Fiction']</td>\n",
              "      <td>Julia Thomas finds her life spinning out of co...</td>\n",
              "      <td>en</td>\n",
              "      <td>0.056008</td>\n",
              "      <td>0.054771</td>\n",
              "      <td>0.063038</td>\n",
              "      <td>0.090354</td>\n",
              "      <td>0.606541</td>\n",
              "      <td>0.068405</td>\n",
              "      <td>0.060883</td>\n",
              "    </tr>\n",
              "    <tr>\n",
              "      <th>5</th>\n",
              "      <td>The Church of Christ: A Biblical Ecclesiology ...</td>\n",
              "      <td>In The Church of Christ: A Biblical Ecclesiolo...</td>\n",
              "      <td>['Everett Ferguson']</td>\n",
              "      <td>1996</td>\n",
              "      <td>['Religion']</td>\n",
              "      <td>In The Church of Christ: A Biblical Ecclesiolo...</td>\n",
              "      <td>en</td>\n",
              "      <td>0.085947</td>\n",
              "      <td>0.068766</td>\n",
              "      <td>0.075421</td>\n",
              "      <td>0.549577</td>\n",
              "      <td>0.081188</td>\n",
              "      <td>0.074279</td>\n",
              "      <td>0.064822</td>\n",
              "    </tr>\n",
              "    <tr>\n",
              "      <th>8</th>\n",
              "      <td>Saint Hyacinth of Poland</td>\n",
              "      <td>The story for children 10 and up of St. Hyacin...</td>\n",
              "      <td>['Mary Fabyan Windeatt']</td>\n",
              "      <td>2009</td>\n",
              "      <td>['Biography &amp; Autobiography']</td>\n",
              "      <td>The story for children 10 and up of St. Hyacin...</td>\n",
              "      <td>en</td>\n",
              "      <td>0.082401</td>\n",
              "      <td>0.073128</td>\n",
              "      <td>0.071681</td>\n",
              "      <td>0.275148</td>\n",
              "      <td>0.091007</td>\n",
              "      <td>0.322728</td>\n",
              "      <td>0.083908</td>\n",
              "    </tr>\n",
              "    <tr>\n",
              "      <th>...</th>\n",
              "      <td>...</td>\n",
              "      <td>...</td>\n",
              "      <td>...</td>\n",
              "      <td>...</td>\n",
              "      <td>...</td>\n",
              "      <td>...</td>\n",
              "      <td>...</td>\n",
              "      <td>...</td>\n",
              "      <td>...</td>\n",
              "      <td>...</td>\n",
              "      <td>...</td>\n",
              "      <td>...</td>\n",
              "      <td>...</td>\n",
              "      <td>...</td>\n",
              "    </tr>\n",
              "    <tr>\n",
              "      <th>212399</th>\n",
              "      <td>The Orphan Of Ellis Island (Time Travel Advent...</td>\n",
              "      <td>During a school trip to Ellis Island, Dominick...</td>\n",
              "      <td>['Elvira Woodruff']</td>\n",
              "      <td>2000</td>\n",
              "      <td>['Juvenile Fiction']</td>\n",
              "      <td>During a school trip to Ellis Island, Dominick...</td>\n",
              "      <td>en</td>\n",
              "      <td>0.082278</td>\n",
              "      <td>0.091112</td>\n",
              "      <td>0.083885</td>\n",
              "      <td>0.081321</td>\n",
              "      <td>0.338309</td>\n",
              "      <td>0.086601</td>\n",
              "      <td>0.236494</td>\n",
              "    </tr>\n",
              "    <tr>\n",
              "      <th>212400</th>\n",
              "      <td>Red Boots for Christmas</td>\n",
              "      <td>Everyone in the village of Friedensdorf is hap...</td>\n",
              "      <td>NaN</td>\n",
              "      <td>1995</td>\n",
              "      <td>['Juvenile Fiction']</td>\n",
              "      <td>Everyone in the village of Friedensdorf is hap...</td>\n",
              "      <td>en</td>\n",
              "      <td>0.082209</td>\n",
              "      <td>0.089091</td>\n",
              "      <td>0.087297</td>\n",
              "      <td>0.098683</td>\n",
              "      <td>0.233809</td>\n",
              "      <td>0.092970</td>\n",
              "      <td>0.315941</td>\n",
              "    </tr>\n",
              "    <tr>\n",
              "      <th>212401</th>\n",
              "      <td>Mamaw</td>\n",
              "      <td>Give your Mamaw a useful, beautiful and though...</td>\n",
              "      <td>['Wild Wild Cabbage']</td>\n",
              "      <td>2018</td>\n",
              "      <td>NaN</td>\n",
              "      <td>Give your Mamaw a useful, beautiful and though...</td>\n",
              "      <td>en</td>\n",
              "      <td>0.071210</td>\n",
              "      <td>0.113667</td>\n",
              "      <td>0.081025</td>\n",
              "      <td>0.233818</td>\n",
              "      <td>0.134653</td>\n",
              "      <td>0.081190</td>\n",
              "      <td>0.284437</td>\n",
              "    </tr>\n",
              "    <tr>\n",
              "      <th>212402</th>\n",
              "      <td>The Autograph Man</td>\n",
              "      <td>Alex-Li Tandem sells autographs. His business ...</td>\n",
              "      <td>['Zadie Smith']</td>\n",
              "      <td>2003</td>\n",
              "      <td>['Fiction']</td>\n",
              "      <td>Alex-Li Tandem sells autographs. His business ...</td>\n",
              "      <td>en</td>\n",
              "      <td>0.113216</td>\n",
              "      <td>0.085311</td>\n",
              "      <td>0.081603</td>\n",
              "      <td>0.099031</td>\n",
              "      <td>0.417966</td>\n",
              "      <td>0.082309</td>\n",
              "      <td>0.120565</td>\n",
              "    </tr>\n",
              "    <tr>\n",
              "      <th>212403</th>\n",
              "      <td>Student's Solutions Manual for Johnson/Mowry's...</td>\n",
              "      <td>Discover the many ways mathematics is relevant...</td>\n",
              "      <td>['David B. Johnson', 'Thomas A. Mowry']</td>\n",
              "      <td>1998</td>\n",
              "      <td>NaN</td>\n",
              "      <td>Discover the many ways mathematics is relevant...</td>\n",
              "      <td>en</td>\n",
              "      <td>0.217424</td>\n",
              "      <td>0.087637</td>\n",
              "      <td>0.408514</td>\n",
              "      <td>0.072673</td>\n",
              "      <td>0.061691</td>\n",
              "      <td>0.087392</td>\n",
              "      <td>0.064669</td>\n",
              "    </tr>\n",
              "  </tbody>\n",
              "</table>\n",
              "<p>142149 rows × 14 columns</p>\n",
              "</div>"
            ],
            "text/plain": [
              "                                                    Title  \\\n",
              "1                                Dr. Seuss: American Icon   \n",
              "2                   Wonderful Worship in Smaller Churches   \n",
              "3                           Whispers of the Wicked Saints   \n",
              "5       The Church of Christ: A Biblical Ecclesiology ...   \n",
              "8                                Saint Hyacinth of Poland   \n",
              "...                                                   ...   \n",
              "212399  The Orphan Of Ellis Island (Time Travel Advent...   \n",
              "212400                            Red Boots for Christmas   \n",
              "212401                                              Mamaw   \n",
              "212402                                  The Autograph Man   \n",
              "212403  Student's Solutions Manual for Johnson/Mowry's...   \n",
              "\n",
              "                                              description  \\\n",
              "1       Philip Nel takes a fascinating look into the k...   \n",
              "2       This resource includes twelve principles in un...   \n",
              "3       Julia Thomas finds her life spinning out of co...   \n",
              "5       In The Church of Christ: A Biblical Ecclesiolo...   \n",
              "8       The story for children 10 and up of St. Hyacin...   \n",
              "...                                                   ...   \n",
              "212399  During a school trip to Ellis Island, Dominick...   \n",
              "212400  Everyone in the village of Friedensdorf is hap...   \n",
              "212401  Give your Mamaw a useful, beautiful and though...   \n",
              "212402  Alex-Li Tandem sells autographs. His business ...   \n",
              "212403  Discover the many ways mathematics is relevant...   \n",
              "\n",
              "                                        authors publishedDate  \\\n",
              "1                                ['Philip Nel']          2005   \n",
              "2                              ['David R. Ray']          2000   \n",
              "3                           ['Veronica Haddon']          2005   \n",
              "5                          ['Everett Ferguson']          1996   \n",
              "8                      ['Mary Fabyan Windeatt']          2009   \n",
              "...                                         ...           ...   \n",
              "212399                      ['Elvira Woodruff']          2000   \n",
              "212400                                      NaN          1995   \n",
              "212401                    ['Wild Wild Cabbage']          2018   \n",
              "212402                          ['Zadie Smith']          2003   \n",
              "212403  ['David B. Johnson', 'Thomas A. Mowry']          1998   \n",
              "\n",
              "                           categories  \\\n",
              "1       ['Biography & Autobiography']   \n",
              "2                        ['Religion']   \n",
              "3                         ['Fiction']   \n",
              "5                        ['Religion']   \n",
              "8       ['Biography & Autobiography']   \n",
              "...                               ...   \n",
              "212399           ['Juvenile Fiction']   \n",
              "212400           ['Juvenile Fiction']   \n",
              "212401                            NaN   \n",
              "212402                    ['Fiction']   \n",
              "212403                            NaN   \n",
              "\n",
              "                                                 new_desc lang    topic1  \\\n",
              "1       Philip Nel takes a fascinating look into the k...   en  0.095130   \n",
              "2       This resource includes twelve principles in un...   en  0.105597   \n",
              "3       Julia Thomas finds her life spinning out of co...   en  0.056008   \n",
              "5       In The Church of Christ: A Biblical Ecclesiolo...   en  0.085947   \n",
              "8       The story for children 10 and up of St. Hyacin...   en  0.082401   \n",
              "...                                                   ...  ...       ...   \n",
              "212399  During a school trip to Ellis Island, Dominick...   en  0.082278   \n",
              "212400  Everyone in the village of Friedensdorf is hap...   en  0.082209   \n",
              "212401  Give your Mamaw a useful, beautiful and though...   en  0.071210   \n",
              "212402  Alex-Li Tandem sells autographs. His business ...   en  0.113216   \n",
              "212403  Discover the many ways mathematics is relevant...   en  0.217424   \n",
              "\n",
              "          topic2    topic3    topic4    topic5    topic6    topic7  \n",
              "1       0.340764  0.068506  0.075415  0.064876  0.266570  0.088739  \n",
              "2       0.084881  0.199642  0.347270  0.083063  0.088499  0.091049  \n",
              "3       0.054771  0.063038  0.090354  0.606541  0.068405  0.060883  \n",
              "5       0.068766  0.075421  0.549577  0.081188  0.074279  0.064822  \n",
              "8       0.073128  0.071681  0.275148  0.091007  0.322728  0.083908  \n",
              "...          ...       ...       ...       ...       ...       ...  \n",
              "212399  0.091112  0.083885  0.081321  0.338309  0.086601  0.236494  \n",
              "212400  0.089091  0.087297  0.098683  0.233809  0.092970  0.315941  \n",
              "212401  0.113667  0.081025  0.233818  0.134653  0.081190  0.284437  \n",
              "212402  0.085311  0.081603  0.099031  0.417966  0.082309  0.120565  \n",
              "212403  0.087637  0.408514  0.072673  0.061691  0.087392  0.064669  \n",
              "\n",
              "[142149 rows x 14 columns]"
            ]
          },
          "execution_count": 153,
          "metadata": {},
          "output_type": "execute_result"
        }
      ],
      "source": [
        "df_books_en"
      ]
    },
    {
      "cell_type": "code",
      "execution_count": 154,
      "metadata": {},
      "outputs": [
        {
          "data": {
            "text/plain": [
              "2022    1006\n",
              "2021    2645\n",
              "2020    2724\n",
              "2019    2697\n",
              "2018    2766\n",
              "2017    2992\n",
              "2016    3187\n",
              "2015    3540\n",
              "2014    4288\n",
              "2013    5098\n",
              "2012    5218\n",
              "2011    4532\n",
              "2010    3906\n",
              "Name: publishedDate, dtype: int64"
            ]
          },
          "execution_count": 154,
          "metadata": {},
          "output_type": "execute_result"
        }
      ],
      "source": [
        "df_books_en.loc[98662,\"publishedDate\"] = \"2007\" #Wrong Data point\n",
        "years = df_books_en[\"publishedDate\"].value_counts().sort_index(ascending=False)[:14]\n",
        "years.pop(\"2023\")\n",
        "years"
      ]
    },
    {
      "cell_type": "code",
      "execution_count": 155,
      "metadata": {},
      "outputs": [
        {
          "name": "stdout",
          "output_type": "stream",
          "text": [
            "44599\n"
          ]
        }
      ],
      "source": [
        "print(sum(years.values))\n",
        "years = years.index.tolist()"
      ]
    },
    {
      "cell_type": "code",
      "execution_count": 156,
      "metadata": {},
      "outputs": [
        {
          "data": {
            "text/html": [
              "<div>\n",
              "<style scoped>\n",
              "    .dataframe tbody tr th:only-of-type {\n",
              "        vertical-align: middle;\n",
              "    }\n",
              "\n",
              "    .dataframe tbody tr th {\n",
              "        vertical-align: top;\n",
              "    }\n",
              "\n",
              "    .dataframe thead th {\n",
              "        text-align: right;\n",
              "    }\n",
              "</style>\n",
              "<table border=\"1\" class=\"dataframe\">\n",
              "  <thead>\n",
              "    <tr style=\"text-align: right;\">\n",
              "      <th></th>\n",
              "      <th>Title</th>\n",
              "      <th>description</th>\n",
              "      <th>authors</th>\n",
              "      <th>publishedDate</th>\n",
              "      <th>categories</th>\n",
              "      <th>new_desc</th>\n",
              "      <th>lang</th>\n",
              "      <th>topic1</th>\n",
              "      <th>topic2</th>\n",
              "      <th>topic3</th>\n",
              "      <th>topic4</th>\n",
              "      <th>topic5</th>\n",
              "      <th>topic6</th>\n",
              "      <th>topic7</th>\n",
              "    </tr>\n",
              "  </thead>\n",
              "  <tbody>\n",
              "    <tr>\n",
              "      <th>12</th>\n",
              "      <td>Mensa Number Puzzles (Mensa Word Games for Kids)</td>\n",
              "      <td>Acclaimed teacher and puzzler Evelyn B. Christ...</td>\n",
              "      <td>['Evelyn B. Christensen']</td>\n",
              "      <td>2018</td>\n",
              "      <td>['Juvenile Nonfiction']</td>\n",
              "      <td>Acclaimed teacher and puzzler Evelyn B. Christ...</td>\n",
              "      <td>en</td>\n",
              "      <td>0.081379</td>\n",
              "      <td>0.206227</td>\n",
              "      <td>0.368441</td>\n",
              "      <td>0.074345</td>\n",
              "      <td>0.093401</td>\n",
              "      <td>0.071278</td>\n",
              "      <td>0.104929</td>\n",
              "    </tr>\n",
              "    <tr>\n",
              "      <th>13</th>\n",
              "      <td>Vector Quantization and Signal Compression (Th...</td>\n",
              "      <td>Herb Caen, a popular columnist for the San Fra...</td>\n",
              "      <td>['Allen Gersho', 'Robert M. Gray']</td>\n",
              "      <td>2012</td>\n",
              "      <td>['Technology &amp; Engineering']</td>\n",
              "      <td>Herb Caen, a popular columnist for the San Fra...</td>\n",
              "      <td>en</td>\n",
              "      <td>0.281639</td>\n",
              "      <td>0.166511</td>\n",
              "      <td>0.293628</td>\n",
              "      <td>0.065531</td>\n",
              "      <td>0.059910</td>\n",
              "      <td>0.065226</td>\n",
              "      <td>0.067555</td>\n",
              "    </tr>\n",
              "    <tr>\n",
              "      <th>14</th>\n",
              "      <td>A husband for Kutani</td>\n",
              "      <td>First published in 1938, this is a collection ...</td>\n",
              "      <td>['Frank Owen']</td>\n",
              "      <td>2018</td>\n",
              "      <td>['History']</td>\n",
              "      <td>First published in 1938, this is a collection ...</td>\n",
              "      <td>en</td>\n",
              "      <td>0.079303</td>\n",
              "      <td>0.154894</td>\n",
              "      <td>0.067302</td>\n",
              "      <td>0.214772</td>\n",
              "      <td>0.250086</td>\n",
              "      <td>0.110496</td>\n",
              "      <td>0.123148</td>\n",
              "    </tr>\n",
              "    <tr>\n",
              "      <th>16</th>\n",
              "      <td>The Ultimate Guide to Law School Admission: In...</td>\n",
              "      <td>This collection brings together a distinguishe...</td>\n",
              "      <td>['Fiona Cownie']</td>\n",
              "      <td>2010</td>\n",
              "      <td>['Law']</td>\n",
              "      <td>This collection brings together a distinguishe...</td>\n",
              "      <td>en</td>\n",
              "      <td>0.140504</td>\n",
              "      <td>0.069417</td>\n",
              "      <td>0.428557</td>\n",
              "      <td>0.091853</td>\n",
              "      <td>0.068621</td>\n",
              "      <td>0.115173</td>\n",
              "      <td>0.085873</td>\n",
              "    </tr>\n",
              "    <tr>\n",
              "      <th>17</th>\n",
              "      <td>The Repeal of Reticence: A History of America'...</td>\n",
              "      <td>At a time when America's faculties of taste an...</td>\n",
              "      <td>['Rochelle Gurstein']</td>\n",
              "      <td>2016</td>\n",
              "      <td>['Political Science']</td>\n",
              "      <td>At a time when America's faculties of taste an...</td>\n",
              "      <td>en</td>\n",
              "      <td>0.169678</td>\n",
              "      <td>0.070360</td>\n",
              "      <td>0.144317</td>\n",
              "      <td>0.102388</td>\n",
              "      <td>0.102878</td>\n",
              "      <td>0.352481</td>\n",
              "      <td>0.057897</td>\n",
              "    </tr>\n",
              "    <tr>\n",
              "      <th>...</th>\n",
              "      <td>...</td>\n",
              "      <td>...</td>\n",
              "      <td>...</td>\n",
              "      <td>...</td>\n",
              "      <td>...</td>\n",
              "      <td>...</td>\n",
              "      <td>...</td>\n",
              "      <td>...</td>\n",
              "      <td>...</td>\n",
              "      <td>...</td>\n",
              "      <td>...</td>\n",
              "      <td>...</td>\n",
              "      <td>...</td>\n",
              "      <td>...</td>\n",
              "    </tr>\n",
              "    <tr>\n",
              "      <th>212348</th>\n",
              "      <td>Watercolor: For the Artistically Undiscovered ...</td>\n",
              "      <td>Put the brush in your hand. Stick it in the wa...</td>\n",
              "      <td>['Thacher Hurd', 'John Cassidy']</td>\n",
              "      <td>2017</td>\n",
              "      <td>['Art']</td>\n",
              "      <td>Put the brush in your hand. Stick it in the wa...</td>\n",
              "      <td>en</td>\n",
              "      <td>0.060808</td>\n",
              "      <td>0.403781</td>\n",
              "      <td>0.083427</td>\n",
              "      <td>0.081929</td>\n",
              "      <td>0.241133</td>\n",
              "      <td>0.060765</td>\n",
              "      <td>0.068156</td>\n",
              "    </tr>\n",
              "    <tr>\n",
              "      <th>212375</th>\n",
              "      <td>Sell and Re-Sell Your Photos</td>\n",
              "      <td>Sell your photos again and again! Live anywher...</td>\n",
              "      <td>['Rohn Engh', 'Mikael Karlsson']</td>\n",
              "      <td>2016</td>\n",
              "      <td>['Photography']</td>\n",
              "      <td>Sell your photos again and again! Live anywher...</td>\n",
              "      <td>en</td>\n",
              "      <td>0.056735</td>\n",
              "      <td>0.290012</td>\n",
              "      <td>0.332104</td>\n",
              "      <td>0.077475</td>\n",
              "      <td>0.060911</td>\n",
              "      <td>0.120815</td>\n",
              "      <td>0.061948</td>\n",
              "    </tr>\n",
              "    <tr>\n",
              "      <th>212394</th>\n",
              "      <td>Final things</td>\n",
              "      <td>Grace's father believes in science and builds ...</td>\n",
              "      <td>['Jenny Offill']</td>\n",
              "      <td>2015</td>\n",
              "      <td>['Fiction']</td>\n",
              "      <td>Grace's father believes in science and builds ...</td>\n",
              "      <td>en</td>\n",
              "      <td>0.058780</td>\n",
              "      <td>0.056405</td>\n",
              "      <td>0.055993</td>\n",
              "      <td>0.077312</td>\n",
              "      <td>0.604928</td>\n",
              "      <td>0.058690</td>\n",
              "      <td>0.087891</td>\n",
              "    </tr>\n",
              "    <tr>\n",
              "      <th>212398</th>\n",
              "      <td>Autodesk Inventor 10 Essentials Plus</td>\n",
              "      <td>Autodesk Inventor 2017 Essentials Plus provide...</td>\n",
              "      <td>['Daniel Banach', 'Travis Jones']</td>\n",
              "      <td>2016</td>\n",
              "      <td>['Computers']</td>\n",
              "      <td>Autodesk Inventor 2017 Essentials Plus provide...</td>\n",
              "      <td>en</td>\n",
              "      <td>0.057221</td>\n",
              "      <td>0.286917</td>\n",
              "      <td>0.451048</td>\n",
              "      <td>0.053184</td>\n",
              "      <td>0.047131</td>\n",
              "      <td>0.053911</td>\n",
              "      <td>0.050588</td>\n",
              "    </tr>\n",
              "    <tr>\n",
              "      <th>212401</th>\n",
              "      <td>Mamaw</td>\n",
              "      <td>Give your Mamaw a useful, beautiful and though...</td>\n",
              "      <td>['Wild Wild Cabbage']</td>\n",
              "      <td>2018</td>\n",
              "      <td>NaN</td>\n",
              "      <td>Give your Mamaw a useful, beautiful and though...</td>\n",
              "      <td>en</td>\n",
              "      <td>0.071210</td>\n",
              "      <td>0.113667</td>\n",
              "      <td>0.081025</td>\n",
              "      <td>0.233818</td>\n",
              "      <td>0.134653</td>\n",
              "      <td>0.081190</td>\n",
              "      <td>0.284437</td>\n",
              "    </tr>\n",
              "  </tbody>\n",
              "</table>\n",
              "<p>44599 rows × 14 columns</p>\n",
              "</div>"
            ],
            "text/plain": [
              "                                                    Title  \\\n",
              "12       Mensa Number Puzzles (Mensa Word Games for Kids)   \n",
              "13      Vector Quantization and Signal Compression (Th...   \n",
              "14                                   A husband for Kutani   \n",
              "16      The Ultimate Guide to Law School Admission: In...   \n",
              "17      The Repeal of Reticence: A History of America'...   \n",
              "...                                                   ...   \n",
              "212348  Watercolor: For the Artistically Undiscovered ...   \n",
              "212375                       Sell and Re-Sell Your Photos   \n",
              "212394                                       Final things   \n",
              "212398               Autodesk Inventor 10 Essentials Plus   \n",
              "212401                                              Mamaw   \n",
              "\n",
              "                                              description  \\\n",
              "12      Acclaimed teacher and puzzler Evelyn B. Christ...   \n",
              "13      Herb Caen, a popular columnist for the San Fra...   \n",
              "14      First published in 1938, this is a collection ...   \n",
              "16      This collection brings together a distinguishe...   \n",
              "17      At a time when America's faculties of taste an...   \n",
              "...                                                   ...   \n",
              "212348  Put the brush in your hand. Stick it in the wa...   \n",
              "212375  Sell your photos again and again! Live anywher...   \n",
              "212394  Grace's father believes in science and builds ...   \n",
              "212398  Autodesk Inventor 2017 Essentials Plus provide...   \n",
              "212401  Give your Mamaw a useful, beautiful and though...   \n",
              "\n",
              "                                   authors publishedDate  \\\n",
              "12               ['Evelyn B. Christensen']          2018   \n",
              "13      ['Allen Gersho', 'Robert M. Gray']          2012   \n",
              "14                          ['Frank Owen']          2018   \n",
              "16                        ['Fiona Cownie']          2010   \n",
              "17                   ['Rochelle Gurstein']          2016   \n",
              "...                                    ...           ...   \n",
              "212348    ['Thacher Hurd', 'John Cassidy']          2017   \n",
              "212375    ['Rohn Engh', 'Mikael Karlsson']          2016   \n",
              "212394                    ['Jenny Offill']          2015   \n",
              "212398   ['Daniel Banach', 'Travis Jones']          2016   \n",
              "212401               ['Wild Wild Cabbage']          2018   \n",
              "\n",
              "                          categories  \\\n",
              "12           ['Juvenile Nonfiction']   \n",
              "13      ['Technology & Engineering']   \n",
              "14                       ['History']   \n",
              "16                           ['Law']   \n",
              "17             ['Political Science']   \n",
              "...                              ...   \n",
              "212348                       ['Art']   \n",
              "212375               ['Photography']   \n",
              "212394                   ['Fiction']   \n",
              "212398                 ['Computers']   \n",
              "212401                           NaN   \n",
              "\n",
              "                                                 new_desc lang    topic1  \\\n",
              "12      Acclaimed teacher and puzzler Evelyn B. Christ...   en  0.081379   \n",
              "13      Herb Caen, a popular columnist for the San Fra...   en  0.281639   \n",
              "14      First published in 1938, this is a collection ...   en  0.079303   \n",
              "16      This collection brings together a distinguishe...   en  0.140504   \n",
              "17      At a time when America's faculties of taste an...   en  0.169678   \n",
              "...                                                   ...  ...       ...   \n",
              "212348  Put the brush in your hand. Stick it in the wa...   en  0.060808   \n",
              "212375  Sell your photos again and again! Live anywher...   en  0.056735   \n",
              "212394  Grace's father believes in science and builds ...   en  0.058780   \n",
              "212398  Autodesk Inventor 2017 Essentials Plus provide...   en  0.057221   \n",
              "212401  Give your Mamaw a useful, beautiful and though...   en  0.071210   \n",
              "\n",
              "          topic2    topic3    topic4    topic5    topic6    topic7  \n",
              "12      0.206227  0.368441  0.074345  0.093401  0.071278  0.104929  \n",
              "13      0.166511  0.293628  0.065531  0.059910  0.065226  0.067555  \n",
              "14      0.154894  0.067302  0.214772  0.250086  0.110496  0.123148  \n",
              "16      0.069417  0.428557  0.091853  0.068621  0.115173  0.085873  \n",
              "17      0.070360  0.144317  0.102388  0.102878  0.352481  0.057897  \n",
              "...          ...       ...       ...       ...       ...       ...  \n",
              "212348  0.403781  0.083427  0.081929  0.241133  0.060765  0.068156  \n",
              "212375  0.290012  0.332104  0.077475  0.060911  0.120815  0.061948  \n",
              "212394  0.056405  0.055993  0.077312  0.604928  0.058690  0.087891  \n",
              "212398  0.286917  0.451048  0.053184  0.047131  0.053911  0.050588  \n",
              "212401  0.113667  0.081025  0.233818  0.134653  0.081190  0.284437  \n",
              "\n",
              "[44599 rows x 14 columns]"
            ]
          },
          "execution_count": 156,
          "metadata": {},
          "output_type": "execute_result"
        }
      ],
      "source": [
        "import numpy as np\n",
        "df_books_en[\"publishedDate\"].replace(\"\",np.nan, inplace=True)\n",
        "df_books_en = df_books_en.dropna(subset = [\"publishedDate\"])\n",
        "df_years = df_books_en[(df_books_en[\"publishedDate\"].apply(int) > 2009) & (df_books_en[\"publishedDate\"].apply(int) < 2023)]\n",
        "df_years"
      ]
    },
    {
      "cell_type": "code",
      "execution_count": 158,
      "metadata": {},
      "outputs": [
        {
          "data": {
            "application/vnd.plotly.v1+json": {
              "config": {
                "plotlyServerURL": "https://plot.ly"
              },
              "data": [
                {
                  "name": "academia",
                  "type": "bar",
                  "x": [
                    "2010",
                    "2011",
                    "2012",
                    "2013",
                    "2014",
                    "2015",
                    "2016",
                    "2017",
                    "2018",
                    "2019",
                    "2020",
                    "2021",
                    "2022"
                  ],
                  "y": [
                    0.12357477843761444,
                    0.11888212710618973,
                    0.14156223833560944,
                    0.1472335308790207,
                    0.1289248913526535,
                    0.12713852524757385,
                    0.13040012121200562,
                    0.13638938963413239,
                    0.13708065450191498,
                    0.12440983206033707,
                    0.12407881766557693,
                    0.12278610467910767,
                    0.12012480944395065
                  ]
                },
                {
                  "name": "art",
                  "type": "bar",
                  "x": [
                    "2010",
                    "2011",
                    "2012",
                    "2013",
                    "2014",
                    "2015",
                    "2016",
                    "2017",
                    "2018",
                    "2019",
                    "2020",
                    "2021",
                    "2022"
                  ],
                  "y": [
                    0.11250896751880646,
                    0.1110907718539238,
                    0.12297088652849197,
                    0.12144735455513,
                    0.11299629509449005,
                    0.11780162155628204,
                    0.1155276969075203,
                    0.12035758048295975,
                    0.12428213655948639,
                    0.15169616043567657,
                    0.11707067489624023,
                    0.1332382708787918,
                    0.1213950663805008
                  ]
                },
                {
                  "name": "student help",
                  "type": "bar",
                  "x": [
                    "2010",
                    "2011",
                    "2012",
                    "2013",
                    "2014",
                    "2015",
                    "2016",
                    "2017",
                    "2018",
                    "2019",
                    "2020",
                    "2021",
                    "2022"
                  ],
                  "y": [
                    0.1557418406009674,
                    0.15526430308818817,
                    0.153970867395401,
                    0.15240295231342316,
                    0.1465640813112259,
                    0.1535332351922989,
                    0.15539132058620453,
                    0.15425299108028412,
                    0.15304721891880035,
                    0.15290088951587677,
                    0.1513008326292038,
                    0.12926551699638367,
                    0.12377537041902542
                  ]
                },
                {
                  "name": "religion",
                  "type": "bar",
                  "x": [
                    "2010",
                    "2011",
                    "2012",
                    "2013",
                    "2014",
                    "2015",
                    "2016",
                    "2017",
                    "2018",
                    "2019",
                    "2020",
                    "2021",
                    "2022"
                  ],
                  "y": [
                    0.1205342710018158,
                    0.11834225803613663,
                    0.11764825880527496,
                    0.11950631439685822,
                    0.11342909932136536,
                    0.11554069817066193,
                    0.12558768689632416,
                    0.12326806783676147,
                    0.11979513615369797,
                    0.11549437046051025,
                    0.120642751455307,
                    0.11489557474851608,
                    0.11518936604261398
                  ]
                },
                {
                  "name": "fiction & romance",
                  "type": "bar",
                  "x": [
                    "2010",
                    "2011",
                    "2012",
                    "2013",
                    "2014",
                    "2015",
                    "2016",
                    "2017",
                    "2018",
                    "2019",
                    "2020",
                    "2021",
                    "2022"
                  ],
                  "y": [
                    0.24532577395439148,
                    0.25172120332717896,
                    0.21750408411026,
                    0.20988035202026367,
                    0.24589155614376068,
                    0.23257669806480408,
                    0.21883879601955414,
                    0.2175932228565216,
                    0.21877121925354004,
                    0.21750621497631073,
                    0.2393255978822708,
                    0.24361680448055267,
                    0.2610826790332794
                  ]
                },
                {
                  "name": "american war history",
                  "type": "bar",
                  "x": [
                    "2010",
                    "2011",
                    "2012",
                    "2013",
                    "2014",
                    "2015",
                    "2016",
                    "2017",
                    "2018",
                    "2019",
                    "2020",
                    "2021",
                    "2022"
                  ],
                  "y": [
                    0.11451726406812668,
                    0.1169251799583435,
                    0.11585269868373871,
                    0.1176343485713005,
                    0.11482929438352585,
                    0.118222177028656,
                    0.11752519756555557,
                    0.12149109691381454,
                    0.11760484427213669,
                    0.11090441793203354,
                    0.11205356568098068,
                    0.11800508201122284,
                    0.11738849431276321
                  ]
                },
                {
                  "name": "children books",
                  "type": "bar",
                  "x": [
                    "2010",
                    "2011",
                    "2012",
                    "2013",
                    "2014",
                    "2015",
                    "2016",
                    "2017",
                    "2018",
                    "2019",
                    "2020",
                    "2021",
                    "2022"
                  ],
                  "y": [
                    0.12779709696769714,
                    0.1277741640806198,
                    0.1304909884929657,
                    0.13189513981342316,
                    0.13736477494239807,
                    0.1351870447397232,
                    0.1367291808128357,
                    0.12664765119552612,
                    0.12941879034042358,
                    0.12708811461925507,
                    0.13552775979042053,
                    0.13819265365600586,
                    0.14104421436786652
                  ]
                }
              ],
              "layout": {
                "barmode": "group",
                "template": {
                  "data": {
                    "bar": [
                      {
                        "error_x": {
                          "color": "#2a3f5f"
                        },
                        "error_y": {
                          "color": "#2a3f5f"
                        },
                        "marker": {
                          "line": {
                            "color": "#E5ECF6",
                            "width": 0.5
                          },
                          "pattern": {
                            "fillmode": "overlay",
                            "size": 10,
                            "solidity": 0.2
                          }
                        },
                        "type": "bar"
                      }
                    ],
                    "barpolar": [
                      {
                        "marker": {
                          "line": {
                            "color": "#E5ECF6",
                            "width": 0.5
                          },
                          "pattern": {
                            "fillmode": "overlay",
                            "size": 10,
                            "solidity": 0.2
                          }
                        },
                        "type": "barpolar"
                      }
                    ],
                    "carpet": [
                      {
                        "aaxis": {
                          "endlinecolor": "#2a3f5f",
                          "gridcolor": "white",
                          "linecolor": "white",
                          "minorgridcolor": "white",
                          "startlinecolor": "#2a3f5f"
                        },
                        "baxis": {
                          "endlinecolor": "#2a3f5f",
                          "gridcolor": "white",
                          "linecolor": "white",
                          "minorgridcolor": "white",
                          "startlinecolor": "#2a3f5f"
                        },
                        "type": "carpet"
                      }
                    ],
                    "choropleth": [
                      {
                        "colorbar": {
                          "outlinewidth": 0,
                          "ticks": ""
                        },
                        "type": "choropleth"
                      }
                    ],
                    "contour": [
                      {
                        "colorbar": {
                          "outlinewidth": 0,
                          "ticks": ""
                        },
                        "colorscale": [
                          [
                            0,
                            "#0d0887"
                          ],
                          [
                            0.1111111111111111,
                            "#46039f"
                          ],
                          [
                            0.2222222222222222,
                            "#7201a8"
                          ],
                          [
                            0.3333333333333333,
                            "#9c179e"
                          ],
                          [
                            0.4444444444444444,
                            "#bd3786"
                          ],
                          [
                            0.5555555555555556,
                            "#d8576b"
                          ],
                          [
                            0.6666666666666666,
                            "#ed7953"
                          ],
                          [
                            0.7777777777777778,
                            "#fb9f3a"
                          ],
                          [
                            0.8888888888888888,
                            "#fdca26"
                          ],
                          [
                            1,
                            "#f0f921"
                          ]
                        ],
                        "type": "contour"
                      }
                    ],
                    "contourcarpet": [
                      {
                        "colorbar": {
                          "outlinewidth": 0,
                          "ticks": ""
                        },
                        "type": "contourcarpet"
                      }
                    ],
                    "heatmap": [
                      {
                        "colorbar": {
                          "outlinewidth": 0,
                          "ticks": ""
                        },
                        "colorscale": [
                          [
                            0,
                            "#0d0887"
                          ],
                          [
                            0.1111111111111111,
                            "#46039f"
                          ],
                          [
                            0.2222222222222222,
                            "#7201a8"
                          ],
                          [
                            0.3333333333333333,
                            "#9c179e"
                          ],
                          [
                            0.4444444444444444,
                            "#bd3786"
                          ],
                          [
                            0.5555555555555556,
                            "#d8576b"
                          ],
                          [
                            0.6666666666666666,
                            "#ed7953"
                          ],
                          [
                            0.7777777777777778,
                            "#fb9f3a"
                          ],
                          [
                            0.8888888888888888,
                            "#fdca26"
                          ],
                          [
                            1,
                            "#f0f921"
                          ]
                        ],
                        "type": "heatmap"
                      }
                    ],
                    "heatmapgl": [
                      {
                        "colorbar": {
                          "outlinewidth": 0,
                          "ticks": ""
                        },
                        "colorscale": [
                          [
                            0,
                            "#0d0887"
                          ],
                          [
                            0.1111111111111111,
                            "#46039f"
                          ],
                          [
                            0.2222222222222222,
                            "#7201a8"
                          ],
                          [
                            0.3333333333333333,
                            "#9c179e"
                          ],
                          [
                            0.4444444444444444,
                            "#bd3786"
                          ],
                          [
                            0.5555555555555556,
                            "#d8576b"
                          ],
                          [
                            0.6666666666666666,
                            "#ed7953"
                          ],
                          [
                            0.7777777777777778,
                            "#fb9f3a"
                          ],
                          [
                            0.8888888888888888,
                            "#fdca26"
                          ],
                          [
                            1,
                            "#f0f921"
                          ]
                        ],
                        "type": "heatmapgl"
                      }
                    ],
                    "histogram": [
                      {
                        "marker": {
                          "pattern": {
                            "fillmode": "overlay",
                            "size": 10,
                            "solidity": 0.2
                          }
                        },
                        "type": "histogram"
                      }
                    ],
                    "histogram2d": [
                      {
                        "colorbar": {
                          "outlinewidth": 0,
                          "ticks": ""
                        },
                        "colorscale": [
                          [
                            0,
                            "#0d0887"
                          ],
                          [
                            0.1111111111111111,
                            "#46039f"
                          ],
                          [
                            0.2222222222222222,
                            "#7201a8"
                          ],
                          [
                            0.3333333333333333,
                            "#9c179e"
                          ],
                          [
                            0.4444444444444444,
                            "#bd3786"
                          ],
                          [
                            0.5555555555555556,
                            "#d8576b"
                          ],
                          [
                            0.6666666666666666,
                            "#ed7953"
                          ],
                          [
                            0.7777777777777778,
                            "#fb9f3a"
                          ],
                          [
                            0.8888888888888888,
                            "#fdca26"
                          ],
                          [
                            1,
                            "#f0f921"
                          ]
                        ],
                        "type": "histogram2d"
                      }
                    ],
                    "histogram2dcontour": [
                      {
                        "colorbar": {
                          "outlinewidth": 0,
                          "ticks": ""
                        },
                        "colorscale": [
                          [
                            0,
                            "#0d0887"
                          ],
                          [
                            0.1111111111111111,
                            "#46039f"
                          ],
                          [
                            0.2222222222222222,
                            "#7201a8"
                          ],
                          [
                            0.3333333333333333,
                            "#9c179e"
                          ],
                          [
                            0.4444444444444444,
                            "#bd3786"
                          ],
                          [
                            0.5555555555555556,
                            "#d8576b"
                          ],
                          [
                            0.6666666666666666,
                            "#ed7953"
                          ],
                          [
                            0.7777777777777778,
                            "#fb9f3a"
                          ],
                          [
                            0.8888888888888888,
                            "#fdca26"
                          ],
                          [
                            1,
                            "#f0f921"
                          ]
                        ],
                        "type": "histogram2dcontour"
                      }
                    ],
                    "mesh3d": [
                      {
                        "colorbar": {
                          "outlinewidth": 0,
                          "ticks": ""
                        },
                        "type": "mesh3d"
                      }
                    ],
                    "parcoords": [
                      {
                        "line": {
                          "colorbar": {
                            "outlinewidth": 0,
                            "ticks": ""
                          }
                        },
                        "type": "parcoords"
                      }
                    ],
                    "pie": [
                      {
                        "automargin": true,
                        "type": "pie"
                      }
                    ],
                    "scatter": [
                      {
                        "fillpattern": {
                          "fillmode": "overlay",
                          "size": 10,
                          "solidity": 0.2
                        },
                        "type": "scatter"
                      }
                    ],
                    "scatter3d": [
                      {
                        "line": {
                          "colorbar": {
                            "outlinewidth": 0,
                            "ticks": ""
                          }
                        },
                        "marker": {
                          "colorbar": {
                            "outlinewidth": 0,
                            "ticks": ""
                          }
                        },
                        "type": "scatter3d"
                      }
                    ],
                    "scattercarpet": [
                      {
                        "marker": {
                          "colorbar": {
                            "outlinewidth": 0,
                            "ticks": ""
                          }
                        },
                        "type": "scattercarpet"
                      }
                    ],
                    "scattergeo": [
                      {
                        "marker": {
                          "colorbar": {
                            "outlinewidth": 0,
                            "ticks": ""
                          }
                        },
                        "type": "scattergeo"
                      }
                    ],
                    "scattergl": [
                      {
                        "marker": {
                          "colorbar": {
                            "outlinewidth": 0,
                            "ticks": ""
                          }
                        },
                        "type": "scattergl"
                      }
                    ],
                    "scattermapbox": [
                      {
                        "marker": {
                          "colorbar": {
                            "outlinewidth": 0,
                            "ticks": ""
                          }
                        },
                        "type": "scattermapbox"
                      }
                    ],
                    "scatterpolar": [
                      {
                        "marker": {
                          "colorbar": {
                            "outlinewidth": 0,
                            "ticks": ""
                          }
                        },
                        "type": "scatterpolar"
                      }
                    ],
                    "scatterpolargl": [
                      {
                        "marker": {
                          "colorbar": {
                            "outlinewidth": 0,
                            "ticks": ""
                          }
                        },
                        "type": "scatterpolargl"
                      }
                    ],
                    "scatterternary": [
                      {
                        "marker": {
                          "colorbar": {
                            "outlinewidth": 0,
                            "ticks": ""
                          }
                        },
                        "type": "scatterternary"
                      }
                    ],
                    "surface": [
                      {
                        "colorbar": {
                          "outlinewidth": 0,
                          "ticks": ""
                        },
                        "colorscale": [
                          [
                            0,
                            "#0d0887"
                          ],
                          [
                            0.1111111111111111,
                            "#46039f"
                          ],
                          [
                            0.2222222222222222,
                            "#7201a8"
                          ],
                          [
                            0.3333333333333333,
                            "#9c179e"
                          ],
                          [
                            0.4444444444444444,
                            "#bd3786"
                          ],
                          [
                            0.5555555555555556,
                            "#d8576b"
                          ],
                          [
                            0.6666666666666666,
                            "#ed7953"
                          ],
                          [
                            0.7777777777777778,
                            "#fb9f3a"
                          ],
                          [
                            0.8888888888888888,
                            "#fdca26"
                          ],
                          [
                            1,
                            "#f0f921"
                          ]
                        ],
                        "type": "surface"
                      }
                    ],
                    "table": [
                      {
                        "cells": {
                          "fill": {
                            "color": "#EBF0F8"
                          },
                          "line": {
                            "color": "white"
                          }
                        },
                        "header": {
                          "fill": {
                            "color": "#C8D4E3"
                          },
                          "line": {
                            "color": "white"
                          }
                        },
                        "type": "table"
                      }
                    ]
                  },
                  "layout": {
                    "annotationdefaults": {
                      "arrowcolor": "#2a3f5f",
                      "arrowhead": 0,
                      "arrowwidth": 1
                    },
                    "autotypenumbers": "strict",
                    "coloraxis": {
                      "colorbar": {
                        "outlinewidth": 0,
                        "ticks": ""
                      }
                    },
                    "colorscale": {
                      "diverging": [
                        [
                          0,
                          "#8e0152"
                        ],
                        [
                          0.1,
                          "#c51b7d"
                        ],
                        [
                          0.2,
                          "#de77ae"
                        ],
                        [
                          0.3,
                          "#f1b6da"
                        ],
                        [
                          0.4,
                          "#fde0ef"
                        ],
                        [
                          0.5,
                          "#f7f7f7"
                        ],
                        [
                          0.6,
                          "#e6f5d0"
                        ],
                        [
                          0.7,
                          "#b8e186"
                        ],
                        [
                          0.8,
                          "#7fbc41"
                        ],
                        [
                          0.9,
                          "#4d9221"
                        ],
                        [
                          1,
                          "#276419"
                        ]
                      ],
                      "sequential": [
                        [
                          0,
                          "#0d0887"
                        ],
                        [
                          0.1111111111111111,
                          "#46039f"
                        ],
                        [
                          0.2222222222222222,
                          "#7201a8"
                        ],
                        [
                          0.3333333333333333,
                          "#9c179e"
                        ],
                        [
                          0.4444444444444444,
                          "#bd3786"
                        ],
                        [
                          0.5555555555555556,
                          "#d8576b"
                        ],
                        [
                          0.6666666666666666,
                          "#ed7953"
                        ],
                        [
                          0.7777777777777778,
                          "#fb9f3a"
                        ],
                        [
                          0.8888888888888888,
                          "#fdca26"
                        ],
                        [
                          1,
                          "#f0f921"
                        ]
                      ],
                      "sequentialminus": [
                        [
                          0,
                          "#0d0887"
                        ],
                        [
                          0.1111111111111111,
                          "#46039f"
                        ],
                        [
                          0.2222222222222222,
                          "#7201a8"
                        ],
                        [
                          0.3333333333333333,
                          "#9c179e"
                        ],
                        [
                          0.4444444444444444,
                          "#bd3786"
                        ],
                        [
                          0.5555555555555556,
                          "#d8576b"
                        ],
                        [
                          0.6666666666666666,
                          "#ed7953"
                        ],
                        [
                          0.7777777777777778,
                          "#fb9f3a"
                        ],
                        [
                          0.8888888888888888,
                          "#fdca26"
                        ],
                        [
                          1,
                          "#f0f921"
                        ]
                      ]
                    },
                    "colorway": [
                      "#636efa",
                      "#EF553B",
                      "#00cc96",
                      "#ab63fa",
                      "#FFA15A",
                      "#19d3f3",
                      "#FF6692",
                      "#B6E880",
                      "#FF97FF",
                      "#FECB52"
                    ],
                    "font": {
                      "color": "#2a3f5f"
                    },
                    "geo": {
                      "bgcolor": "white",
                      "lakecolor": "white",
                      "landcolor": "#E5ECF6",
                      "showlakes": true,
                      "showland": true,
                      "subunitcolor": "white"
                    },
                    "hoverlabel": {
                      "align": "left"
                    },
                    "hovermode": "closest",
                    "mapbox": {
                      "style": "light"
                    },
                    "paper_bgcolor": "white",
                    "plot_bgcolor": "#E5ECF6",
                    "polar": {
                      "angularaxis": {
                        "gridcolor": "white",
                        "linecolor": "white",
                        "ticks": ""
                      },
                      "bgcolor": "#E5ECF6",
                      "radialaxis": {
                        "gridcolor": "white",
                        "linecolor": "white",
                        "ticks": ""
                      }
                    },
                    "scene": {
                      "xaxis": {
                        "backgroundcolor": "#E5ECF6",
                        "gridcolor": "white",
                        "gridwidth": 2,
                        "linecolor": "white",
                        "showbackground": true,
                        "ticks": "",
                        "zerolinecolor": "white"
                      },
                      "yaxis": {
                        "backgroundcolor": "#E5ECF6",
                        "gridcolor": "white",
                        "gridwidth": 2,
                        "linecolor": "white",
                        "showbackground": true,
                        "ticks": "",
                        "zerolinecolor": "white"
                      },
                      "zaxis": {
                        "backgroundcolor": "#E5ECF6",
                        "gridcolor": "white",
                        "gridwidth": 2,
                        "linecolor": "white",
                        "showbackground": true,
                        "ticks": "",
                        "zerolinecolor": "white"
                      }
                    },
                    "shapedefaults": {
                      "line": {
                        "color": "#2a3f5f"
                      }
                    },
                    "ternary": {
                      "aaxis": {
                        "gridcolor": "white",
                        "linecolor": "white",
                        "ticks": ""
                      },
                      "baxis": {
                        "gridcolor": "white",
                        "linecolor": "white",
                        "ticks": ""
                      },
                      "bgcolor": "#E5ECF6",
                      "caxis": {
                        "gridcolor": "white",
                        "linecolor": "white",
                        "ticks": ""
                      }
                    },
                    "title": {
                      "x": 0.05
                    },
                    "xaxis": {
                      "automargin": true,
                      "gridcolor": "white",
                      "linecolor": "white",
                      "ticks": "",
                      "title": {
                        "standoff": 15
                      },
                      "zerolinecolor": "white",
                      "zerolinewidth": 2
                    },
                    "yaxis": {
                      "automargin": true,
                      "gridcolor": "white",
                      "linecolor": "white",
                      "ticks": "",
                      "title": {
                        "standoff": 15
                      },
                      "zerolinecolor": "white",
                      "zerolinewidth": 2
                    }
                  }
                }
              }
            }
          },
          "metadata": {},
          "output_type": "display_data"
        }
      ],
      "source": [
        "df_years = df_years.groupby(df_years.publishedDate).mean()\n",
        "\n",
        "fig = go.Figure(data=[\n",
        "    go.Bar(name=\"academia\", x=df_years.index, y=df_years[\"topic1\"]),\n",
        "    go.Bar(name=\"art\", x=df_years.index, y=df_years[\"topic2\"]),\n",
        "    go.Bar(name=\"student help\", x=df_years.index, y=df_years[\"topic3\"]),\n",
        "    go.Bar(name=\"religion\", x=df_years.index, y=df_years[\"topic4\"]),\n",
        "    go.Bar(name=\"fiction & romance\", x=df_years.index, y=df_years[\"topic5\"]),\n",
        "    go.Bar(name=\"american war history\", x=df_years.index, y=df_years[\"topic6\"]),\n",
        "    go.Bar(name=\"children books\", x=df_years.index, y=df_years[\"topic7\"]),\n",
        "\n",
        "])\n",
        "# Change the bar mode\n",
        "fig.update_layout(barmode='group')\n",
        "fig.show()"
      ]
    },
    {
      "cell_type": "markdown",
      "metadata": {},
      "source": [
        "Some notable observations from the bar chart above:\n",
        "- In the last three years the popularity of books related to **fiction & romance** have gone up. This could be due to the difficult times due to the pandemic which undoubtedly left lots of people with desires of affection and human contact. \n",
        "link: https://www.frontiersin.org/articles/10.3389/fpsyg.2021.798260/full\n",
        "- There was a noticeable increase in popularity of books related to **academia** in during 2012-2013. This could be linked to the boom in popularity of massive open online courses - MOOCs in those years. Since academic books are one of the most essential supplements to an education, it could be that the boom in MOOCs cause an increase in the production of academic texts.  \n",
        "link: https://onlinelearninginsights.wordpress.com/2012/12/21/what-the-heck-happened-in-2012-review-of-the-top-three-events-in-education/\n"
      ]
    },
    {
      "cell_type": "markdown",
      "metadata": {},
      "source": [
        "# Sentiment Analysis\n",
        "In this section we will analyze the reviews from various users and perform sentiment analysis. This is a useful application in NLP since it can be used to know the sentiment towards a specific book based on the reviews. This information can be used by publishing companies and authors alike to know which products are liked most and what the public likes/dislikes.\n",
        "\n",
        "In particular we will use the reviews dataset which we saw earlier."
      ]
    },
    {
      "cell_type": "code",
      "execution_count": 3,
      "metadata": {},
      "outputs": [],
      "source": [
        "df_reviews = pd.read_csv(\"./DataSet/Books_rating.csv\" )"
      ]
    },
    {
      "cell_type": "code",
      "execution_count": 4,
      "metadata": {},
      "outputs": [
        {
          "name": "stdout",
          "output_type": "stream",
          "text": [
            "The Data Set contains 3.0 million reviews\n"
          ]
        },
        {
          "data": {
            "text/html": [
              "<div>\n",
              "<style scoped>\n",
              "    .dataframe tbody tr th:only-of-type {\n",
              "        vertical-align: middle;\n",
              "    }\n",
              "\n",
              "    .dataframe tbody tr th {\n",
              "        vertical-align: top;\n",
              "    }\n",
              "\n",
              "    .dataframe thead th {\n",
              "        text-align: right;\n",
              "    }\n",
              "</style>\n",
              "<table border=\"1\" class=\"dataframe\">\n",
              "  <thead>\n",
              "    <tr style=\"text-align: right;\">\n",
              "      <th></th>\n",
              "      <th>Id</th>\n",
              "      <th>Title</th>\n",
              "      <th>Price</th>\n",
              "      <th>User_id</th>\n",
              "      <th>profileName</th>\n",
              "      <th>helpfulness</th>\n",
              "      <th>score</th>\n",
              "      <th>time</th>\n",
              "      <th>summary</th>\n",
              "      <th>text</th>\n",
              "    </tr>\n",
              "  </thead>\n",
              "  <tbody>\n",
              "    <tr>\n",
              "      <th>0</th>\n",
              "      <td>1882931173</td>\n",
              "      <td>Its Only Art If Its Well Hung!</td>\n",
              "      <td>NaN</td>\n",
              "      <td>AVCGYZL8FQQTD</td>\n",
              "      <td>Jim of Oz \"jim-of-oz\"</td>\n",
              "      <td>7/7</td>\n",
              "      <td>4.0</td>\n",
              "      <td>940636800</td>\n",
              "      <td>Nice collection of Julie Strain images</td>\n",
              "      <td>This is only for Julie Strain fans. It's a col...</td>\n",
              "    </tr>\n",
              "    <tr>\n",
              "      <th>1</th>\n",
              "      <td>0826414346</td>\n",
              "      <td>Dr. Seuss: American Icon</td>\n",
              "      <td>NaN</td>\n",
              "      <td>A30TK6U7DNS82R</td>\n",
              "      <td>Kevin Killian</td>\n",
              "      <td>10/10</td>\n",
              "      <td>5.0</td>\n",
              "      <td>1095724800</td>\n",
              "      <td>Really Enjoyed It</td>\n",
              "      <td>I don't care much for Dr. Seuss but after read...</td>\n",
              "    </tr>\n",
              "    <tr>\n",
              "      <th>2</th>\n",
              "      <td>0826414346</td>\n",
              "      <td>Dr. Seuss: American Icon</td>\n",
              "      <td>NaN</td>\n",
              "      <td>A3UH4UZ4RSVO82</td>\n",
              "      <td>John Granger</td>\n",
              "      <td>10/11</td>\n",
              "      <td>5.0</td>\n",
              "      <td>1078790400</td>\n",
              "      <td>Essential for every personal and Public Library</td>\n",
              "      <td>If people become the books they read and if \"t...</td>\n",
              "    </tr>\n",
              "    <tr>\n",
              "      <th>3</th>\n",
              "      <td>0826414346</td>\n",
              "      <td>Dr. Seuss: American Icon</td>\n",
              "      <td>NaN</td>\n",
              "      <td>A2MVUWT453QH61</td>\n",
              "      <td>Roy E. Perry \"amateur philosopher\"</td>\n",
              "      <td>7/7</td>\n",
              "      <td>4.0</td>\n",
              "      <td>1090713600</td>\n",
              "      <td>Phlip Nel gives silly Seuss a serious treatment</td>\n",
              "      <td>Theodore Seuss Geisel (1904-1991), aka &amp;quot;D...</td>\n",
              "    </tr>\n",
              "    <tr>\n",
              "      <th>4</th>\n",
              "      <td>0826414346</td>\n",
              "      <td>Dr. Seuss: American Icon</td>\n",
              "      <td>NaN</td>\n",
              "      <td>A22X4XUPKF66MR</td>\n",
              "      <td>D. H. Richards \"ninthwavestore\"</td>\n",
              "      <td>3/3</td>\n",
              "      <td>4.0</td>\n",
              "      <td>1107993600</td>\n",
              "      <td>Good academic overview</td>\n",
              "      <td>Philip Nel - Dr. Seuss: American IconThis is b...</td>\n",
              "    </tr>\n",
              "  </tbody>\n",
              "</table>\n",
              "</div>"
            ],
            "text/plain": [
              "           Id                           Title  Price         User_id  \\\n",
              "0  1882931173  Its Only Art If Its Well Hung!    NaN   AVCGYZL8FQQTD   \n",
              "1  0826414346        Dr. Seuss: American Icon    NaN  A30TK6U7DNS82R   \n",
              "2  0826414346        Dr. Seuss: American Icon    NaN  A3UH4UZ4RSVO82   \n",
              "3  0826414346        Dr. Seuss: American Icon    NaN  A2MVUWT453QH61   \n",
              "4  0826414346        Dr. Seuss: American Icon    NaN  A22X4XUPKF66MR   \n",
              "\n",
              "                          profileName helpfulness  score        time  \\\n",
              "0               Jim of Oz \"jim-of-oz\"         7/7    4.0   940636800   \n",
              "1                       Kevin Killian       10/10    5.0  1095724800   \n",
              "2                        John Granger       10/11    5.0  1078790400   \n",
              "3  Roy E. Perry \"amateur philosopher\"         7/7    4.0  1090713600   \n",
              "4     D. H. Richards \"ninthwavestore\"         3/3    4.0  1107993600   \n",
              "\n",
              "                                           summary  \\\n",
              "0           Nice collection of Julie Strain images   \n",
              "1                                Really Enjoyed It   \n",
              "2  Essential for every personal and Public Library   \n",
              "3  Phlip Nel gives silly Seuss a serious treatment   \n",
              "4                           Good academic overview   \n",
              "\n",
              "                                                text  \n",
              "0  This is only for Julie Strain fans. It's a col...  \n",
              "1  I don't care much for Dr. Seuss but after read...  \n",
              "2  If people become the books they read and if \"t...  \n",
              "3  Theodore Seuss Geisel (1904-1991), aka &quot;D...  \n",
              "4  Philip Nel - Dr. Seuss: American IconThis is b...  "
            ]
          },
          "execution_count": 4,
          "metadata": {},
          "output_type": "execute_result"
        }
      ],
      "source": [
        "print(f\"The Data Set contains {len(df_reviews)/1e6} million reviews\")\n",
        "df_reviews = df_reviews.rename(columns = {\"review/helpfulness\":\"helpfulness\", \"review/score\":\"score\", \"review/time\":\"time\", \"review/summary\":\"summary\", \"review/text\":\"text\"})\n",
        "\n",
        "df_reviews.head()\n"
      ]
    },
    {
      "cell_type": "markdown",
      "metadata": {},
      "source": [
        "### Analysis of Data Set\n",
        " \n",
        "We analyze the distribution of the scores and find the most frequent words for the positive and negative reviews."
      ]
    },
    {
      "cell_type": "code",
      "execution_count": 1,
      "metadata": {},
      "outputs": [
        {
          "ename": "NameError",
          "evalue": "name 'px' is not defined",
          "output_type": "error",
          "traceback": [
            "\u001b[1;31m---------------------------------------------------------------------------\u001b[0m",
            "\u001b[1;31mNameError\u001b[0m                                 Traceback (most recent call last)",
            "\u001b[1;32m<ipython-input-1-2c49feb119a0>\u001b[0m in \u001b[0;36m<module>\u001b[1;34m\u001b[0m\n\u001b[1;32m----> 1\u001b[1;33m \u001b[0mfig\u001b[0m \u001b[1;33m=\u001b[0m \u001b[0mpx\u001b[0m\u001b[1;33m.\u001b[0m\u001b[0mbar\u001b[0m\u001b[1;33m(\u001b[0m\u001b[0mdf_reviews\u001b[0m\u001b[1;33m[\u001b[0m\u001b[1;34m\"score\"\u001b[0m\u001b[1;33m]\u001b[0m\u001b[1;33m.\u001b[0m\u001b[0mapply\u001b[0m\u001b[1;33m(\u001b[0m\u001b[0mint\u001b[0m\u001b[1;33m)\u001b[0m\u001b[1;33m,\u001b[0m \u001b[0morientation\u001b[0m \u001b[1;33m=\u001b[0m \u001b[1;34m\"h\"\u001b[0m\u001b[1;33m,\u001b[0m \u001b[0mtitle\u001b[0m \u001b[1;33m=\u001b[0m \u001b[1;34mf\"Distribution of scores\"\u001b[0m\u001b[1;33m)\u001b[0m\u001b[1;33m\u001b[0m\u001b[1;33m\u001b[0m\u001b[0m\n\u001b[0m\u001b[0;32m      2\u001b[0m \u001b[0mfig\u001b[0m\u001b[1;33m.\u001b[0m\u001b[0mshow\u001b[0m\u001b[1;33m(\u001b[0m\u001b[1;33m)\u001b[0m\u001b[1;33m\u001b[0m\u001b[1;33m\u001b[0m\u001b[0m\n",
            "\u001b[1;31mNameError\u001b[0m: name 'px' is not defined"
          ]
        }
      ],
      "source": [
        "fig = px.bar(df_reviews[\"score\"].apply(int), orientation = \"h\", title = f\"Distribution of scores\")\n",
        "fig.show()"
      ]
    },
    {
      "cell_type": "markdown",
      "metadata": {},
      "source": [
        "As we can see, "
      ]
    },
    {
      "cell_type": "code",
      "execution_count": null,
      "metadata": {},
      "outputs": [],
      "source": []
    },
    {
      "cell_type": "code",
      "execution_count": 2,
      "metadata": {},
      "outputs": [
        {
          "data": {
            "text/plain": [
              "[{'label': 'NEGATIVE', 'score': 0.9994561076164246}]"
            ]
          },
          "execution_count": 2,
          "metadata": {},
          "output_type": "execute_result"
        }
      ],
      "source": [
        "from transformers import AutoTokenizer,  AutoModelForSequenceClassification, pipeline\n",
        "import torch \n",
        "\n",
        "model_name = \"siebert/sentiment-roberta-large-english\"\n",
        "\n",
        "tokenizer = AutoTokenizer.from_pretrained(model_name)\n",
        "model = AutoModelForSequenceClassification.from_pretrained(model_name)\n",
        "\n",
        "classifier = pipeline(\"sentiment-analysis\", model=model, tokenizer=tokenizer)\n",
        "\n",
        "classifier(\"I hate this!\")"
      ]
    }
  ],
  "metadata": {
    "colab": {
      "collapsed_sections": [],
      "provenance": []
    },
    "kernelspec": {
      "display_name": "Python 3.9.12 ('nlp')",
      "language": "python",
      "name": "python3"
    },
    "language_info": {
      "codemirror_mode": {
        "name": "ipython",
        "version": 3
      },
      "file_extension": ".py",
      "mimetype": "text/x-python",
      "name": "python",
      "nbconvert_exporter": "python",
      "pygments_lexer": "ipython3",
      "version": "3.9.12"
    },
    "vscode": {
      "interpreter": {
        "hash": "f17bbc6fc1a5651d6d3872ee9163e60a2b8331be980fe3739f2e3a57e5088261"
      }
    }
  },
  "nbformat": 4,
  "nbformat_minor": 0
}
