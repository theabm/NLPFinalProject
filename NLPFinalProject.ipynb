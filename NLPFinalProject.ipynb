{
  "cells": [
    {
      "cell_type": "markdown",
      "metadata": {
        "id": "nES2XJU-u3RZ"
      },
      "source": [
        "# Introduction\n",
        "\n",
        "This notebook implements some applications of the NLP course at DSSC AA 2021-2022. \n",
        "\n",
        "In particular, I will perform topic modeling using LDA and sentiment analysis for a dataset of book reviews from amazon. The data set was found at:\n",
        "\n",
        "https://www.kaggle.com/datasets/mohamedbakhet/amazon-books-reviews"
      ]
    },
    {
      "cell_type": "markdown",
      "metadata": {
        "id": "JjjUBn2xvqXK"
      },
      "source": [
        "# Downloading the dataset\n",
        "\n",
        "The dataset can be downloaded in the link above."
      ]
    },
    {
      "cell_type": "markdown",
      "metadata": {
        "id": "d298YOjDwQzS"
      },
      "source": [
        "The dataset contains of two main files: \n",
        "- Books_rating.csv: contains all the information for 3 million book reviews for approximately 200,000 books. Namely, the book id, the book title, the user id who rated the book, the review/score, the summary of the review, and the full text of the former. \n",
        "- books_data.csv: contains all the information for the 200,000 books, namely, the title, the author name, the summary, the category of the book, etc. "
      ]
    },
    {
      "cell_type": "code",
      "execution_count": 30,
      "metadata": {
        "colab": {
          "base_uri": "https://localhost:8080/"
        },
        "id": "ztNEIWEhyY4F",
        "outputId": "a97f6684-e18f-41c9-9c91-d5f4dafe97b9"
      },
      "outputs": [],
      "source": [
        "# import statements for the whole notebook\n",
        "import pandas as pd\n",
        "\n",
        "import spacy\n",
        "import nltk\n",
        "#nltk.download('all')\n",
        "\n",
        "import re\n",
        "import pickle\n",
        "\n",
        "import plotly.express as px\n",
        "from plotly.subplots import make_subplots\n",
        "import plotly.graph_objects as go\n",
        "\n",
        "import stylecloud\n",
        "\n",
        "#load spacys english dictionary. \n",
        "nlp = spacy.load(\"en_core_web_sm\")\n"
      ]
    },
    {
      "cell_type": "code",
      "execution_count": 2,
      "metadata": {
        "id": "eqjpgksB3rmf"
      },
      "outputs": [],
      "source": [
        "#Global variable to stop execution in notebook re runs\n",
        "FIRST_RUN = False"
      ]
    },
    {
      "cell_type": "code",
      "execution_count": 27,
      "metadata": {
        "colab": {
          "base_uri": "https://localhost:8080/",
          "height": 337
        },
        "id": "3SPBtvYJzJDT",
        "outputId": "fa0b6ebd-d712-44ab-97a8-de13fb89674d"
      },
      "outputs": [
        {
          "data": {
            "text/html": [
              "<div>\n",
              "<style scoped>\n",
              "    .dataframe tbody tr th:only-of-type {\n",
              "        vertical-align: middle;\n",
              "    }\n",
              "\n",
              "    .dataframe tbody tr th {\n",
              "        vertical-align: top;\n",
              "    }\n",
              "\n",
              "    .dataframe thead th {\n",
              "        text-align: right;\n",
              "    }\n",
              "</style>\n",
              "<table border=\"1\" class=\"dataframe\">\n",
              "  <thead>\n",
              "    <tr style=\"text-align: right;\">\n",
              "      <th></th>\n",
              "      <th>Title</th>\n",
              "      <th>description</th>\n",
              "      <th>authors</th>\n",
              "      <th>image</th>\n",
              "      <th>previewLink</th>\n",
              "      <th>publisher</th>\n",
              "      <th>publishedDate</th>\n",
              "      <th>infoLink</th>\n",
              "      <th>categories</th>\n",
              "      <th>ratingsCount</th>\n",
              "    </tr>\n",
              "  </thead>\n",
              "  <tbody>\n",
              "    <tr>\n",
              "      <th>0</th>\n",
              "      <td>Its Only Art If Its Well Hung!</td>\n",
              "      <td>NaN</td>\n",
              "      <td>['Julie Strain']</td>\n",
              "      <td>http://books.google.com/books/content?id=DykPA...</td>\n",
              "      <td>http://books.google.nl/books?id=DykPAAAACAAJ&amp;d...</td>\n",
              "      <td>NaN</td>\n",
              "      <td>1996</td>\n",
              "      <td>http://books.google.nl/books?id=DykPAAAACAAJ&amp;d...</td>\n",
              "      <td>['Comics &amp; Graphic Novels']</td>\n",
              "      <td>NaN</td>\n",
              "    </tr>\n",
              "    <tr>\n",
              "      <th>1</th>\n",
              "      <td>Dr. Seuss: American Icon</td>\n",
              "      <td>Philip Nel takes a fascinating look into the k...</td>\n",
              "      <td>['Philip Nel']</td>\n",
              "      <td>http://books.google.com/books/content?id=IjvHQ...</td>\n",
              "      <td>http://books.google.nl/books?id=IjvHQsCn_pgC&amp;p...</td>\n",
              "      <td>A&amp;C Black</td>\n",
              "      <td>2005-01-01</td>\n",
              "      <td>http://books.google.nl/books?id=IjvHQsCn_pgC&amp;d...</td>\n",
              "      <td>['Biography &amp; Autobiography']</td>\n",
              "      <td>NaN</td>\n",
              "    </tr>\n",
              "    <tr>\n",
              "      <th>2</th>\n",
              "      <td>Wonderful Worship in Smaller Churches</td>\n",
              "      <td>This resource includes twelve principles in un...</td>\n",
              "      <td>['David R. Ray']</td>\n",
              "      <td>http://books.google.com/books/content?id=2tsDA...</td>\n",
              "      <td>http://books.google.nl/books?id=2tsDAAAACAAJ&amp;d...</td>\n",
              "      <td>NaN</td>\n",
              "      <td>2000</td>\n",
              "      <td>http://books.google.nl/books?id=2tsDAAAACAAJ&amp;d...</td>\n",
              "      <td>['Religion']</td>\n",
              "      <td>NaN</td>\n",
              "    </tr>\n",
              "    <tr>\n",
              "      <th>3</th>\n",
              "      <td>Whispers of the Wicked Saints</td>\n",
              "      <td>Julia Thomas finds her life spinning out of co...</td>\n",
              "      <td>['Veronica Haddon']</td>\n",
              "      <td>http://books.google.com/books/content?id=aRSIg...</td>\n",
              "      <td>http://books.google.nl/books?id=aRSIgJlq6JwC&amp;d...</td>\n",
              "      <td>iUniverse</td>\n",
              "      <td>2005-02</td>\n",
              "      <td>http://books.google.nl/books?id=aRSIgJlq6JwC&amp;d...</td>\n",
              "      <td>['Fiction']</td>\n",
              "      <td>NaN</td>\n",
              "    </tr>\n",
              "    <tr>\n",
              "      <th>4</th>\n",
              "      <td>Nation Dance: Religion, Identity and Cultural ...</td>\n",
              "      <td>NaN</td>\n",
              "      <td>['Edward Long']</td>\n",
              "      <td>NaN</td>\n",
              "      <td>http://books.google.nl/books?id=399SPgAACAAJ&amp;d...</td>\n",
              "      <td>NaN</td>\n",
              "      <td>2003-03-01</td>\n",
              "      <td>http://books.google.nl/books?id=399SPgAACAAJ&amp;d...</td>\n",
              "      <td>NaN</td>\n",
              "      <td>NaN</td>\n",
              "    </tr>\n",
              "  </tbody>\n",
              "</table>\n",
              "</div>"
            ],
            "text/plain": [
              "                                               Title  \\\n",
              "0                     Its Only Art If Its Well Hung!   \n",
              "1                           Dr. Seuss: American Icon   \n",
              "2              Wonderful Worship in Smaller Churches   \n",
              "3                      Whispers of the Wicked Saints   \n",
              "4  Nation Dance: Religion, Identity and Cultural ...   \n",
              "\n",
              "                                         description              authors  \\\n",
              "0                                                NaN     ['Julie Strain']   \n",
              "1  Philip Nel takes a fascinating look into the k...       ['Philip Nel']   \n",
              "2  This resource includes twelve principles in un...     ['David R. Ray']   \n",
              "3  Julia Thomas finds her life spinning out of co...  ['Veronica Haddon']   \n",
              "4                                                NaN      ['Edward Long']   \n",
              "\n",
              "                                               image  \\\n",
              "0  http://books.google.com/books/content?id=DykPA...   \n",
              "1  http://books.google.com/books/content?id=IjvHQ...   \n",
              "2  http://books.google.com/books/content?id=2tsDA...   \n",
              "3  http://books.google.com/books/content?id=aRSIg...   \n",
              "4                                                NaN   \n",
              "\n",
              "                                         previewLink  publisher publishedDate  \\\n",
              "0  http://books.google.nl/books?id=DykPAAAACAAJ&d...        NaN          1996   \n",
              "1  http://books.google.nl/books?id=IjvHQsCn_pgC&p...  A&C Black    2005-01-01   \n",
              "2  http://books.google.nl/books?id=2tsDAAAACAAJ&d...        NaN          2000   \n",
              "3  http://books.google.nl/books?id=aRSIgJlq6JwC&d...  iUniverse       2005-02   \n",
              "4  http://books.google.nl/books?id=399SPgAACAAJ&d...        NaN    2003-03-01   \n",
              "\n",
              "                                            infoLink  \\\n",
              "0  http://books.google.nl/books?id=DykPAAAACAAJ&d...   \n",
              "1  http://books.google.nl/books?id=IjvHQsCn_pgC&d...   \n",
              "2  http://books.google.nl/books?id=2tsDAAAACAAJ&d...   \n",
              "3  http://books.google.nl/books?id=aRSIgJlq6JwC&d...   \n",
              "4  http://books.google.nl/books?id=399SPgAACAAJ&d...   \n",
              "\n",
              "                      categories  ratingsCount  \n",
              "0    ['Comics & Graphic Novels']           NaN  \n",
              "1  ['Biography & Autobiography']           NaN  \n",
              "2                   ['Religion']           NaN  \n",
              "3                    ['Fiction']           NaN  \n",
              "4                            NaN           NaN  "
            ]
          },
          "execution_count": 27,
          "metadata": {},
          "output_type": "execute_result"
        }
      ],
      "source": [
        "df_books = pd.read_csv(\"./DataSet/books_data.csv\")\n",
        "df_books.head()"
      ]
    },
    {
      "cell_type": "markdown",
      "metadata": {
        "id": "tHOo3xk71szI"
      },
      "source": [
        "# Topic Modeling\n",
        "\n",
        "We briefly recall the idea behind topic modeling. We want to extract the main topics that the books are talking about in their descriptions. To this end, we use Latent Dirichlet Allocation. \n",
        "\n",
        "As a brief recap, LDA is a document generating model which assumes that all documents are generated by sampling a specific topic distribution and sampling the words most relevant to each topic in a proportional manner.\n",
        "\n",
        "Of course, this assumption is faulty in some ways since it doesn't account for dependence between consecutive words. However, it works.\n",
        "\n",
        "We can reverse engineer the process to find the $k$ topics being discussed and, for each topic, the top words which describe it. This is done to give us an idea of what the topic is about. \n"
      ]
    },
    {
      "cell_type": "markdown",
      "metadata": {
        "id": "10o2JOi-DqOA"
      },
      "source": [
        "## Step 0: Extract Data and Explore\n",
        "\n",
        "We begin by extracting the columns we are interested in, namely the description. However, since also the titles of the books are useful in terms of information, we will join the two columns together and separate them with a period. \n",
        "\n",
        "Furthermore, we must also check that all the descriptions are in english since we have no information regarding this fact. To do this, we use **spacy_fastlang** library to detect the language."
      ]
    },
    {
      "cell_type": "code",
      "execution_count": 7,
      "metadata": {
        "id": "IxtjFvmPyRPV"
      },
      "outputs": [],
      "source": [
        "df_books = df_books.dropna(subset = [\"description\"])\n",
        "df_books[\"new_desc\"] = df_books.loc[:,\"description\"] + \". \" + df_books.loc[:,\"Title\"]\n",
        "newdate = [re.sub(r\"[^0-9].*\",\"\",date ) for date in df_books[\"publishedDate\"].apply(str)]\n",
        "df_books[\"publishedDate\"] = newdate\n",
        "df_books = df_books.drop([\"image\", \"publisher\", \"infoLink\", \"ratingsCount\", \"previewLink\"], axis = 1)"
      ]
    },
    {
      "cell_type": "code",
      "execution_count": null,
      "metadata": {
        "id": "vmT62xaNJ6ns"
      },
      "outputs": [],
      "source": [
        "#for language detection, uncomment\n",
        "\n",
        "#!pip install spacy_fastlang\n",
        "#import spacy_fastlang\n",
        "\n",
        "#nlp.add_pipe(\"language_detector\")\n"
      ]
    },
    {
      "cell_type": "code",
      "execution_count": 151,
      "metadata": {
        "colab": {
          "base_uri": "https://localhost:8080/",
          "height": 252
        },
        "id": "UXCVxlMt1IKt",
        "outputId": "22413a55-0f03-4e29-fb90-1be03c3604bd"
      },
      "outputs": [
        {
          "data": {
            "text/plain": [
              "142149"
            ]
          },
          "execution_count": 151,
          "metadata": {},
          "output_type": "execute_result"
        }
      ],
      "source": [
        "if FIRST_RUN:\n",
        "    #check if the summaries are in english. Runtime is approximately 1 hr\n",
        "    lang = [nlp(doc)._.language for doc in df_books[\"new_desc\"]]\n",
        "    df_books[\"lang\"] = lang\n",
        "    df_books_en = df_books[df_books[\"lang\"] == \"en\"]\n",
        "    with open(\"./DataSet/books_en.csv\", \"wb\") as fp:\n",
        "            pickle.dump(df_books_en, fp)\n",
        "else:\n",
        "    with open(\"./DataSet/books_en.csv\", \"rb\") as fp:\n",
        "            df_books_en = pickle.load(fp)\n",
        "book_description_corpus = df_books_en[\"new_desc\"].tolist()\n",
        "\n",
        "len(book_description_corpus)"
      ]
    },
    {
      "cell_type": "markdown",
      "metadata": {
        "id": "6wnN9PvsEWa8"
      },
      "source": [
        "As we can see, the final corpus contains approximatley 150,000 documents in english. Below we show an example:"
      ]
    },
    {
      "cell_type": "code",
      "execution_count": 9,
      "metadata": {
        "colab": {
          "base_uri": "https://localhost:8080/",
          "height": 105
        },
        "id": "bjX5oD7qdMQg",
        "outputId": "b754e236-5780-4ed1-acd3-09f5bdf9284d"
      },
      "outputs": [
        {
          "data": {
            "text/plain": [
              "'Philip Nel takes a fascinating look into the key aspects of Seuss\\'s career - his poetry, politics, art, marketing, and place in the popular imagination.\" \"Nel argues convincingly that Dr. Seuss is one of the most influential poets in America. His nonsense verse, like that of Lewis Carroll and Edward Lear, has changed language itself, giving us new words like \"nerd.\" And Seuss\\'s famously loopy artistic style - what Nel terms an \"energetic cartoon surrealism\" - has been equally important, inspiring artists like filmmaker Tim Burton and illustrator Lane Smith. --from back cover. Dr. Seuss: American Icon'"
            ]
          },
          "execution_count": 9,
          "metadata": {},
          "output_type": "execute_result"
        }
      ],
      "source": [
        "book_description_corpus[0]\n"
      ]
    },
    {
      "cell_type": "code",
      "execution_count": 46,
      "metadata": {
        "colab": {
          "base_uri": "https://localhost:8080/",
          "height": 542
        },
        "id": "mWNsAzTCQx-o",
        "outputId": "4403dd46-459c-4d58-b2c9-8e5021f2a934"
      },
      "outputs": [
        {
          "data": {
            "application/vnd.plotly.v1+json": {
              "config": {
                "plotlyServerURL": "https://plot.ly"
              },
              "data": [
                {
                  "alignmentgroup": "True",
                  "hovertemplate": "variable=categories<br>value=%{x}<br>index=%{y}<extra></extra>",
                  "legendgroup": "categories",
                  "marker": {
                    "color": "#636efa",
                    "pattern": {
                      "shape": ""
                    }
                  },
                  "name": "categories",
                  "offsetgroup": "categories",
                  "orientation": "h",
                  "showlegend": true,
                  "textposition": "auto",
                  "type": "bar",
                  "x": [
                    2411,
                    3289,
                    3600,
                    4114,
                    5240,
                    5964,
                    6496,
                    8712,
                    8776,
                    21881
                  ],
                  "xaxis": "x",
                  "y": [
                    "['Science']",
                    "['Juvenile Nonfiction']",
                    "['Social Science']",
                    "['Computers']",
                    "['Business & Economics']",
                    "['Biography & Autobiography']",
                    "['Juvenile Fiction']",
                    "['Religion']",
                    "['History']",
                    "['Fiction']"
                  ],
                  "yaxis": "y"
                }
              ],
              "layout": {
                "barmode": "relative",
                "legend": {
                  "title": {
                    "text": "variable"
                  },
                  "tracegroupgap": 0
                },
                "template": {
                  "data": {
                    "bar": [
                      {
                        "error_x": {
                          "color": "#2a3f5f"
                        },
                        "error_y": {
                          "color": "#2a3f5f"
                        },
                        "marker": {
                          "line": {
                            "color": "#E5ECF6",
                            "width": 0.5
                          },
                          "pattern": {
                            "fillmode": "overlay",
                            "size": 10,
                            "solidity": 0.2
                          }
                        },
                        "type": "bar"
                      }
                    ],
                    "barpolar": [
                      {
                        "marker": {
                          "line": {
                            "color": "#E5ECF6",
                            "width": 0.5
                          },
                          "pattern": {
                            "fillmode": "overlay",
                            "size": 10,
                            "solidity": 0.2
                          }
                        },
                        "type": "barpolar"
                      }
                    ],
                    "carpet": [
                      {
                        "aaxis": {
                          "endlinecolor": "#2a3f5f",
                          "gridcolor": "white",
                          "linecolor": "white",
                          "minorgridcolor": "white",
                          "startlinecolor": "#2a3f5f"
                        },
                        "baxis": {
                          "endlinecolor": "#2a3f5f",
                          "gridcolor": "white",
                          "linecolor": "white",
                          "minorgridcolor": "white",
                          "startlinecolor": "#2a3f5f"
                        },
                        "type": "carpet"
                      }
                    ],
                    "choropleth": [
                      {
                        "colorbar": {
                          "outlinewidth": 0,
                          "ticks": ""
                        },
                        "type": "choropleth"
                      }
                    ],
                    "contour": [
                      {
                        "colorbar": {
                          "outlinewidth": 0,
                          "ticks": ""
                        },
                        "colorscale": [
                          [
                            0,
                            "#0d0887"
                          ],
                          [
                            0.1111111111111111,
                            "#46039f"
                          ],
                          [
                            0.2222222222222222,
                            "#7201a8"
                          ],
                          [
                            0.3333333333333333,
                            "#9c179e"
                          ],
                          [
                            0.4444444444444444,
                            "#bd3786"
                          ],
                          [
                            0.5555555555555556,
                            "#d8576b"
                          ],
                          [
                            0.6666666666666666,
                            "#ed7953"
                          ],
                          [
                            0.7777777777777778,
                            "#fb9f3a"
                          ],
                          [
                            0.8888888888888888,
                            "#fdca26"
                          ],
                          [
                            1,
                            "#f0f921"
                          ]
                        ],
                        "type": "contour"
                      }
                    ],
                    "contourcarpet": [
                      {
                        "colorbar": {
                          "outlinewidth": 0,
                          "ticks": ""
                        },
                        "type": "contourcarpet"
                      }
                    ],
                    "heatmap": [
                      {
                        "colorbar": {
                          "outlinewidth": 0,
                          "ticks": ""
                        },
                        "colorscale": [
                          [
                            0,
                            "#0d0887"
                          ],
                          [
                            0.1111111111111111,
                            "#46039f"
                          ],
                          [
                            0.2222222222222222,
                            "#7201a8"
                          ],
                          [
                            0.3333333333333333,
                            "#9c179e"
                          ],
                          [
                            0.4444444444444444,
                            "#bd3786"
                          ],
                          [
                            0.5555555555555556,
                            "#d8576b"
                          ],
                          [
                            0.6666666666666666,
                            "#ed7953"
                          ],
                          [
                            0.7777777777777778,
                            "#fb9f3a"
                          ],
                          [
                            0.8888888888888888,
                            "#fdca26"
                          ],
                          [
                            1,
                            "#f0f921"
                          ]
                        ],
                        "type": "heatmap"
                      }
                    ],
                    "heatmapgl": [
                      {
                        "colorbar": {
                          "outlinewidth": 0,
                          "ticks": ""
                        },
                        "colorscale": [
                          [
                            0,
                            "#0d0887"
                          ],
                          [
                            0.1111111111111111,
                            "#46039f"
                          ],
                          [
                            0.2222222222222222,
                            "#7201a8"
                          ],
                          [
                            0.3333333333333333,
                            "#9c179e"
                          ],
                          [
                            0.4444444444444444,
                            "#bd3786"
                          ],
                          [
                            0.5555555555555556,
                            "#d8576b"
                          ],
                          [
                            0.6666666666666666,
                            "#ed7953"
                          ],
                          [
                            0.7777777777777778,
                            "#fb9f3a"
                          ],
                          [
                            0.8888888888888888,
                            "#fdca26"
                          ],
                          [
                            1,
                            "#f0f921"
                          ]
                        ],
                        "type": "heatmapgl"
                      }
                    ],
                    "histogram": [
                      {
                        "marker": {
                          "pattern": {
                            "fillmode": "overlay",
                            "size": 10,
                            "solidity": 0.2
                          }
                        },
                        "type": "histogram"
                      }
                    ],
                    "histogram2d": [
                      {
                        "colorbar": {
                          "outlinewidth": 0,
                          "ticks": ""
                        },
                        "colorscale": [
                          [
                            0,
                            "#0d0887"
                          ],
                          [
                            0.1111111111111111,
                            "#46039f"
                          ],
                          [
                            0.2222222222222222,
                            "#7201a8"
                          ],
                          [
                            0.3333333333333333,
                            "#9c179e"
                          ],
                          [
                            0.4444444444444444,
                            "#bd3786"
                          ],
                          [
                            0.5555555555555556,
                            "#d8576b"
                          ],
                          [
                            0.6666666666666666,
                            "#ed7953"
                          ],
                          [
                            0.7777777777777778,
                            "#fb9f3a"
                          ],
                          [
                            0.8888888888888888,
                            "#fdca26"
                          ],
                          [
                            1,
                            "#f0f921"
                          ]
                        ],
                        "type": "histogram2d"
                      }
                    ],
                    "histogram2dcontour": [
                      {
                        "colorbar": {
                          "outlinewidth": 0,
                          "ticks": ""
                        },
                        "colorscale": [
                          [
                            0,
                            "#0d0887"
                          ],
                          [
                            0.1111111111111111,
                            "#46039f"
                          ],
                          [
                            0.2222222222222222,
                            "#7201a8"
                          ],
                          [
                            0.3333333333333333,
                            "#9c179e"
                          ],
                          [
                            0.4444444444444444,
                            "#bd3786"
                          ],
                          [
                            0.5555555555555556,
                            "#d8576b"
                          ],
                          [
                            0.6666666666666666,
                            "#ed7953"
                          ],
                          [
                            0.7777777777777778,
                            "#fb9f3a"
                          ],
                          [
                            0.8888888888888888,
                            "#fdca26"
                          ],
                          [
                            1,
                            "#f0f921"
                          ]
                        ],
                        "type": "histogram2dcontour"
                      }
                    ],
                    "mesh3d": [
                      {
                        "colorbar": {
                          "outlinewidth": 0,
                          "ticks": ""
                        },
                        "type": "mesh3d"
                      }
                    ],
                    "parcoords": [
                      {
                        "line": {
                          "colorbar": {
                            "outlinewidth": 0,
                            "ticks": ""
                          }
                        },
                        "type": "parcoords"
                      }
                    ],
                    "pie": [
                      {
                        "automargin": true,
                        "type": "pie"
                      }
                    ],
                    "scatter": [
                      {
                        "fillpattern": {
                          "fillmode": "overlay",
                          "size": 10,
                          "solidity": 0.2
                        },
                        "type": "scatter"
                      }
                    ],
                    "scatter3d": [
                      {
                        "line": {
                          "colorbar": {
                            "outlinewidth": 0,
                            "ticks": ""
                          }
                        },
                        "marker": {
                          "colorbar": {
                            "outlinewidth": 0,
                            "ticks": ""
                          }
                        },
                        "type": "scatter3d"
                      }
                    ],
                    "scattercarpet": [
                      {
                        "marker": {
                          "colorbar": {
                            "outlinewidth": 0,
                            "ticks": ""
                          }
                        },
                        "type": "scattercarpet"
                      }
                    ],
                    "scattergeo": [
                      {
                        "marker": {
                          "colorbar": {
                            "outlinewidth": 0,
                            "ticks": ""
                          }
                        },
                        "type": "scattergeo"
                      }
                    ],
                    "scattergl": [
                      {
                        "marker": {
                          "colorbar": {
                            "outlinewidth": 0,
                            "ticks": ""
                          }
                        },
                        "type": "scattergl"
                      }
                    ],
                    "scattermapbox": [
                      {
                        "marker": {
                          "colorbar": {
                            "outlinewidth": 0,
                            "ticks": ""
                          }
                        },
                        "type": "scattermapbox"
                      }
                    ],
                    "scatterpolar": [
                      {
                        "marker": {
                          "colorbar": {
                            "outlinewidth": 0,
                            "ticks": ""
                          }
                        },
                        "type": "scatterpolar"
                      }
                    ],
                    "scatterpolargl": [
                      {
                        "marker": {
                          "colorbar": {
                            "outlinewidth": 0,
                            "ticks": ""
                          }
                        },
                        "type": "scatterpolargl"
                      }
                    ],
                    "scatterternary": [
                      {
                        "marker": {
                          "colorbar": {
                            "outlinewidth": 0,
                            "ticks": ""
                          }
                        },
                        "type": "scatterternary"
                      }
                    ],
                    "surface": [
                      {
                        "colorbar": {
                          "outlinewidth": 0,
                          "ticks": ""
                        },
                        "colorscale": [
                          [
                            0,
                            "#0d0887"
                          ],
                          [
                            0.1111111111111111,
                            "#46039f"
                          ],
                          [
                            0.2222222222222222,
                            "#7201a8"
                          ],
                          [
                            0.3333333333333333,
                            "#9c179e"
                          ],
                          [
                            0.4444444444444444,
                            "#bd3786"
                          ],
                          [
                            0.5555555555555556,
                            "#d8576b"
                          ],
                          [
                            0.6666666666666666,
                            "#ed7953"
                          ],
                          [
                            0.7777777777777778,
                            "#fb9f3a"
                          ],
                          [
                            0.8888888888888888,
                            "#fdca26"
                          ],
                          [
                            1,
                            "#f0f921"
                          ]
                        ],
                        "type": "surface"
                      }
                    ],
                    "table": [
                      {
                        "cells": {
                          "fill": {
                            "color": "#EBF0F8"
                          },
                          "line": {
                            "color": "white"
                          }
                        },
                        "header": {
                          "fill": {
                            "color": "#C8D4E3"
                          },
                          "line": {
                            "color": "white"
                          }
                        },
                        "type": "table"
                      }
                    ]
                  },
                  "layout": {
                    "annotationdefaults": {
                      "arrowcolor": "#2a3f5f",
                      "arrowhead": 0,
                      "arrowwidth": 1
                    },
                    "autotypenumbers": "strict",
                    "coloraxis": {
                      "colorbar": {
                        "outlinewidth": 0,
                        "ticks": ""
                      }
                    },
                    "colorscale": {
                      "diverging": [
                        [
                          0,
                          "#8e0152"
                        ],
                        [
                          0.1,
                          "#c51b7d"
                        ],
                        [
                          0.2,
                          "#de77ae"
                        ],
                        [
                          0.3,
                          "#f1b6da"
                        ],
                        [
                          0.4,
                          "#fde0ef"
                        ],
                        [
                          0.5,
                          "#f7f7f7"
                        ],
                        [
                          0.6,
                          "#e6f5d0"
                        ],
                        [
                          0.7,
                          "#b8e186"
                        ],
                        [
                          0.8,
                          "#7fbc41"
                        ],
                        [
                          0.9,
                          "#4d9221"
                        ],
                        [
                          1,
                          "#276419"
                        ]
                      ],
                      "sequential": [
                        [
                          0,
                          "#0d0887"
                        ],
                        [
                          0.1111111111111111,
                          "#46039f"
                        ],
                        [
                          0.2222222222222222,
                          "#7201a8"
                        ],
                        [
                          0.3333333333333333,
                          "#9c179e"
                        ],
                        [
                          0.4444444444444444,
                          "#bd3786"
                        ],
                        [
                          0.5555555555555556,
                          "#d8576b"
                        ],
                        [
                          0.6666666666666666,
                          "#ed7953"
                        ],
                        [
                          0.7777777777777778,
                          "#fb9f3a"
                        ],
                        [
                          0.8888888888888888,
                          "#fdca26"
                        ],
                        [
                          1,
                          "#f0f921"
                        ]
                      ],
                      "sequentialminus": [
                        [
                          0,
                          "#0d0887"
                        ],
                        [
                          0.1111111111111111,
                          "#46039f"
                        ],
                        [
                          0.2222222222222222,
                          "#7201a8"
                        ],
                        [
                          0.3333333333333333,
                          "#9c179e"
                        ],
                        [
                          0.4444444444444444,
                          "#bd3786"
                        ],
                        [
                          0.5555555555555556,
                          "#d8576b"
                        ],
                        [
                          0.6666666666666666,
                          "#ed7953"
                        ],
                        [
                          0.7777777777777778,
                          "#fb9f3a"
                        ],
                        [
                          0.8888888888888888,
                          "#fdca26"
                        ],
                        [
                          1,
                          "#f0f921"
                        ]
                      ]
                    },
                    "colorway": [
                      "#636efa",
                      "#EF553B",
                      "#00cc96",
                      "#ab63fa",
                      "#FFA15A",
                      "#19d3f3",
                      "#FF6692",
                      "#B6E880",
                      "#FF97FF",
                      "#FECB52"
                    ],
                    "font": {
                      "color": "#2a3f5f"
                    },
                    "geo": {
                      "bgcolor": "white",
                      "lakecolor": "white",
                      "landcolor": "#E5ECF6",
                      "showlakes": true,
                      "showland": true,
                      "subunitcolor": "white"
                    },
                    "hoverlabel": {
                      "align": "left"
                    },
                    "hovermode": "closest",
                    "mapbox": {
                      "style": "light"
                    },
                    "paper_bgcolor": "white",
                    "plot_bgcolor": "#E5ECF6",
                    "polar": {
                      "angularaxis": {
                        "gridcolor": "white",
                        "linecolor": "white",
                        "ticks": ""
                      },
                      "bgcolor": "#E5ECF6",
                      "radialaxis": {
                        "gridcolor": "white",
                        "linecolor": "white",
                        "ticks": ""
                      }
                    },
                    "scene": {
                      "xaxis": {
                        "backgroundcolor": "#E5ECF6",
                        "gridcolor": "white",
                        "gridwidth": 2,
                        "linecolor": "white",
                        "showbackground": true,
                        "ticks": "",
                        "zerolinecolor": "white"
                      },
                      "yaxis": {
                        "backgroundcolor": "#E5ECF6",
                        "gridcolor": "white",
                        "gridwidth": 2,
                        "linecolor": "white",
                        "showbackground": true,
                        "ticks": "",
                        "zerolinecolor": "white"
                      },
                      "zaxis": {
                        "backgroundcolor": "#E5ECF6",
                        "gridcolor": "white",
                        "gridwidth": 2,
                        "linecolor": "white",
                        "showbackground": true,
                        "ticks": "",
                        "zerolinecolor": "white"
                      }
                    },
                    "shapedefaults": {
                      "line": {
                        "color": "#2a3f5f"
                      }
                    },
                    "ternary": {
                      "aaxis": {
                        "gridcolor": "white",
                        "linecolor": "white",
                        "ticks": ""
                      },
                      "baxis": {
                        "gridcolor": "white",
                        "linecolor": "white",
                        "ticks": ""
                      },
                      "bgcolor": "#E5ECF6",
                      "caxis": {
                        "gridcolor": "white",
                        "linecolor": "white",
                        "ticks": ""
                      }
                    },
                    "title": {
                      "x": 0.05
                    },
                    "xaxis": {
                      "automargin": true,
                      "gridcolor": "white",
                      "linecolor": "white",
                      "ticks": "",
                      "title": {
                        "standoff": 15
                      },
                      "zerolinecolor": "white",
                      "zerolinewidth": 2
                    },
                    "yaxis": {
                      "automargin": true,
                      "gridcolor": "white",
                      "linecolor": "white",
                      "ticks": "",
                      "title": {
                        "standoff": 15
                      },
                      "zerolinecolor": "white",
                      "zerolinewidth": 2
                    }
                  }
                },
                "title": {
                  "text": "Top 10 Categories"
                },
                "xaxis": {
                  "anchor": "y",
                  "domain": [
                    0,
                    1
                  ],
                  "title": {
                    "text": "value"
                  }
                },
                "yaxis": {
                  "anchor": "x",
                  "domain": [
                    0,
                    1
                  ],
                  "title": {
                    "text": "index"
                  }
                }
              }
            }
          },
          "metadata": {},
          "output_type": "display_data"
        }
      ],
      "source": [
        "cat_num = 10\n",
        "fig = px.bar(df_books_en[\"categories\"].value_counts()[:cat_num][::-1], orientation = \"h\", title = f\"Top {cat_num} Categories\")\n",
        "fig.show()"
      ]
    },
    {
      "cell_type": "markdown",
      "metadata": {
        "id": "KxrJpjeX3S4h"
      },
      "source": [
        "## Step 1: Preprocessing\n",
        "\n",
        "Before using LDA, we must do some aggressive preprocessing in order to reduce the most variance. Notably, the proprocessing for LDA has to be much more aggressive than other tasks since we want to capture important words in order to define our topics clearly. \n",
        "\n",
        "For example, if we don't lemmatize or stem, we could find that the top descriptors of a topic are simply all the conjugations of a word. This is not very informative and thus must be avoided at all costs. \n",
        "\n",
        "The preprocessing steps that we will emply are as follows:\n",
        "- tokenization\n",
        "- normalization\n",
        "- lemmatization\n",
        "- stopword removal"
      ]
    },
    {
      "cell_type": "code",
      "execution_count": 11,
      "metadata": {
        "id": "izQ6ZMrl7o48"
      },
      "outputs": [],
      "source": [
        "def normalize(text):\n",
        "    '''This function removes punctuation, symbols, and numbers. Returns the text into lower case.\n",
        "      Input: a string of text\n",
        "      Output: cleaned a string of text\n",
        "    '''\n",
        "    no_punctuation = re.sub(r'[^\\w^\\s^-^\\']','',text)\n",
        "    no_numbers = re.sub(r'[0-9+]', '0', no_punctuation)\n",
        "    downcase = no_numbers.lower()\n",
        "    return downcase\n",
        "\n",
        "def clean_corpus(corpus, stopword_removal = True):\n",
        "    '''This function preprocesses each document of the corpus by first normalizing it and then keeping only the lemma of the word\n",
        "     if the word is not a stop word.\n",
        "     Input: a list of strings (documents)\n",
        "     Outout: a list of strings (documents) which have been preprocessed.\n",
        "    '''\n",
        "    clean_corpus = [] \n",
        "    if stopword_removal:\n",
        "        for document in corpus:\n",
        "            lowered_text = normalize(document)\n",
        "            clean_corpus.append(' '.join([token.lemma_ for token in nlp(lowered_text) if token.pos_ in ['NOUN', 'VERB', 'ADJ', 'ADV', 'PROPN'] and not token.is_stop]))\n",
        "    else:\n",
        "        for document in corpus:\n",
        "            lowered_text = normalize(document)\n",
        "            clean_corpus.append(' '.join([token.lemma_ for token in nlp(lowered_text) if token.pos_ in ['NOUN', 'VERB', 'ADJ', 'ADV', 'PROPN']]))\n",
        "     \n",
        "    return clean_corpus "
      ]
    },
    {
      "cell_type": "code",
      "execution_count": 12,
      "metadata": {
        "colab": {
          "base_uri": "https://localhost:8080/"
        },
        "id": "ELjzOjGbrXZH",
        "outputId": "f726ffbd-f62e-4e29-85f7-5066186bfbcf"
      },
      "outputs": [
        {
          "name": "stdout",
          "output_type": "stream",
          "text": [
            "Philip Nel takes a fascinating look into the key aspects of Seuss's career - his poetry, politics, art, marketing, and place in the popular imagination.\" \"Nel argues convincingly that Dr. Seuss is one of the most influential poets in America. His nonsense verse, like that of Lewis Carroll and Edward Lear, has changed language itself, giving us new words like \"nerd.\" And Seuss's famously loopy artistic style - what Nel terms an \"energetic cartoon surrealism\" - has been equally important, inspiring artists like filmmaker Tim Burton and illustrator Lane Smith. --from back cover. Dr. Seuss: American Icon\n",
            "['philip nel take fascinating look key aspect seuss career poetry politic art marketing place popular imagination nel argue convincingly dr seuss influential poet america nonsense verse lewis carroll edward lear change language give new word nerd seuss famously loopy artistic style nel term energetic cartoon surrealism equally important inspiring artist filmmaker tim burton illustrator lane smith cover dr seuss american icon']\n"
          ]
        }
      ],
      "source": [
        "print(book_description_corpus[0])\n",
        "print(clean_corpus(book_description_corpus[0:1]))\n"
      ]
    },
    {
      "cell_type": "code",
      "execution_count": 13,
      "metadata": {
        "id": "K_9ZfGFNZ0vw"
      },
      "outputs": [],
      "source": [
        "# collocations\n",
        "\n",
        "from nltk.collocations import BigramCollocationFinder, BigramAssocMeasures\n",
        "from nltk.corpus import stopwords\n",
        "from collections import Counter\n",
        "from tqdm import tqdm\n",
        "\n",
        "def collocation_finder(cleaned_corpus, min_freq = 10, thresh = 1):\n",
        "    words = [word for document in cleaned_corpus for word in document.split()]   \n",
        "    finder = BigramCollocationFinder.from_words(words)\n",
        "    bgm = BigramAssocMeasures()\n",
        "    score = bgm.mi_like\n",
        "    finder.apply_freq_filter(min_freq)\n",
        "    collocations = pd.DataFrame(finder.score_ngrams(score), columns = [\"bigram\", \"pmi\"])\n",
        "    return collocations[collocations[\"pmi\"] >= thresh]\n",
        "def replace_words_with_collocations(cleaned_corpus, collocations):\n",
        "    corpus_with_collocations = []\n",
        "    for document in tqdm(cleaned_corpus):\n",
        "        for word1, word2 in collocations:\n",
        "            document = re.sub(f'{word1} {word2}', f'{word1}_{word2}', document)\n",
        "        corpus_with_collocations.append(document)\n",
        "    return corpus_with_collocations\n"
      ]
    },
    {
      "cell_type": "markdown",
      "metadata": {
        "id": "ISAacyV1hgzC"
      },
      "source": [
        "We can now finally preprocess the corpus by first applying the pipeline and then finding all collocations and adding them to the documents as bigrams. "
      ]
    },
    {
      "cell_type": "code",
      "execution_count": 14,
      "metadata": {
        "id": "PyLlvwNdfTuA"
      },
      "outputs": [],
      "source": [
        "#preprocess corpus and save once\n",
        "\n",
        "if FIRST_RUN:\n",
        "    book_description_corpus_cleaned = clean_corpus(book_description_corpus)\n",
        "\n",
        "    with open(\"./DataSet/book_description_cleaned.csv\", \"wb\") as fp:\n",
        "        pickle.dump(book_description_corpus_cleaned, fp)\n",
        "else:\n",
        "    with open(\"./DataSet/book_description_cleaned.csv\", \"rb\") as fp:\n",
        "        book_description_corpus_cleaned = pickle.load(fp)\n"
      ]
    },
    {
      "cell_type": "code",
      "execution_count": 15,
      "metadata": {
        "id": "3a445ECivIxb"
      },
      "outputs": [],
      "source": [
        "collocations = collocation_finder(book_description_corpus_cleaned)"
      ]
    },
    {
      "cell_type": "code",
      "execution_count": 16,
      "metadata": {
        "colab": {
          "base_uri": "https://localhost:8080/",
          "height": 424
        },
        "id": "Y2W8-n1hDqUT",
        "outputId": "82852f57-d2a0-489b-8b32-920b16e751a7"
      },
      "outputs": [
        {
          "data": {
            "text/html": [
              "<div>\n",
              "<style scoped>\n",
              "    .dataframe tbody tr th:only-of-type {\n",
              "        vertical-align: middle;\n",
              "    }\n",
              "\n",
              "    .dataframe tbody tr th {\n",
              "        vertical-align: top;\n",
              "    }\n",
              "\n",
              "    .dataframe thead th {\n",
              "        text-align: right;\n",
              "    }\n",
              "</style>\n",
              "<table border=\"1\" class=\"dataframe\">\n",
              "  <thead>\n",
              "    <tr style=\"text-align: right;\">\n",
              "      <th></th>\n",
              "      <th>bigram</th>\n",
              "      <th>pmi</th>\n",
              "    </tr>\n",
              "  </thead>\n",
              "  <tbody>\n",
              "    <tr>\n",
              "      <th>0</th>\n",
              "      <td>(united, states)</td>\n",
              "      <td>3860.036858</td>\n",
              "    </tr>\n",
              "    <tr>\n",
              "      <th>1</th>\n",
              "      <td>(york, times)</td>\n",
              "      <td>1570.857642</td>\n",
              "    </tr>\n",
              "    <tr>\n",
              "      <th>2</th>\n",
              "      <td>(new, york)</td>\n",
              "      <td>1257.851052</td>\n",
              "    </tr>\n",
              "    <tr>\n",
              "      <th>3</th>\n",
              "      <td>(los, angeles)</td>\n",
              "      <td>742.395737</td>\n",
              "    </tr>\n",
              "    <tr>\n",
              "      <th>4</th>\n",
              "      <td>(san, francisco)</td>\n",
              "      <td>388.615226</td>\n",
              "    </tr>\n",
              "    <tr>\n",
              "      <th>...</th>\n",
              "      <td>...</td>\n",
              "      <td>...</td>\n",
              "    </tr>\n",
              "    <tr>\n",
              "      <th>1300</th>\n",
              "      <td>(professionally, typeset)</td>\n",
              "      <td>1.007619</td>\n",
              "    </tr>\n",
              "    <tr>\n",
              "      <th>1301</th>\n",
              "      <td>(p, lovecraft)</td>\n",
              "      <td>1.001788</td>\n",
              "    </tr>\n",
              "    <tr>\n",
              "      <th>1302</th>\n",
              "      <td>(british, columbia)</td>\n",
              "      <td>1.001537</td>\n",
              "    </tr>\n",
              "    <tr>\n",
              "      <th>1303</th>\n",
              "      <td>(fort, sumter)</td>\n",
              "      <td>1.000000</td>\n",
              "    </tr>\n",
              "    <tr>\n",
              "      <th>1304</th>\n",
              "      <td>(schiffer, militaryaviation)</td>\n",
              "      <td>1.000000</td>\n",
              "    </tr>\n",
              "  </tbody>\n",
              "</table>\n",
              "<p>1305 rows × 2 columns</p>\n",
              "</div>"
            ],
            "text/plain": [
              "                            bigram          pmi\n",
              "0                 (united, states)  3860.036858\n",
              "1                    (york, times)  1570.857642\n",
              "2                      (new, york)  1257.851052\n",
              "3                   (los, angeles)   742.395737\n",
              "4                 (san, francisco)   388.615226\n",
              "...                            ...          ...\n",
              "1300     (professionally, typeset)     1.007619\n",
              "1301                (p, lovecraft)     1.001788\n",
              "1302           (british, columbia)     1.001537\n",
              "1303                (fort, sumter)     1.000000\n",
              "1304  (schiffer, militaryaviation)     1.000000\n",
              "\n",
              "[1305 rows x 2 columns]"
            ]
          },
          "execution_count": 16,
          "metadata": {},
          "output_type": "execute_result"
        }
      ],
      "source": [
        "collocations"
      ]
    },
    {
      "cell_type": "code",
      "execution_count": 17,
      "metadata": {
        "id": "xI5WLufUDh9j"
      },
      "outputs": [],
      "source": [
        "if FIRST_RUN:\n",
        "    book_description_corpus_cleaned_collocations = replace_words_with_collocations(book_description_corpus_cleaned, collocations[\"bigram\"])\n",
        "    \n",
        "    with open(\"./DataSet/books_description_corpus_cleaned_with_collocations.csv\", \"wb\") as fp:\n",
        "        pickle.dump(book_description_corpus_cleaned_collocations, fp)\n",
        "else:\n",
        "    with open(\"./DataSet/books_description_corpus_cleaned_with_collocations.csv\", \"rb\") as fp:\n",
        "        book_description_corpus_cleaned_collocations = pickle.load(fp)"
      ]
    },
    {
      "cell_type": "code",
      "execution_count": 18,
      "metadata": {
        "colab": {
          "base_uri": "https://localhost:8080/"
        },
        "id": "hzjOZWFIuIiT",
        "outputId": "e934ff60-5652-4f10-b8f7-e80bcea3abeb"
      },
      "outputs": [
        {
          "name": "stdout",
          "output_type": "stream",
          "text": [
            "The United States \"Explorer\" map is a classic example of the cartographic excellence National Geographic is known for. This colorful political map clearly shows state boundaries, capitals, major highways, rivers, lakes, and many major cities. Insets show detail of Alaska and Hawaii. The color palette is vibrant and stunning shaded relief provides additional texture and detail. The map is encapsulated in heavy-duty 1.6 mil laminate which makes the paper much more durable and resistant to the swelling and shrinking caused by changes in humidity. Laminated maps can be framed without the need for glass, so the fames can be much lighter and less expensive. \"Map Scale = 1:6,396,000Sheet Size = 32\" x 20.25\"\". Usa Laminated Map \n",
            "\n",
            "united states explorer map classic example cartographic excellence national geographic know colorful political map clearly show state boundary capital major highway river lake major city inset detail alaska hawaii color palette vibrant stunning shaded relief provide additional texture detail map encapsulate heavyduty mil laminate make paper durable resistant swelling shrinking cause change humidity laminate map frame need glass fame light expensive map scale 00000000sheet size usa laminate map \n",
            "\n",
            "united_states explorer map classic example cartographic excellence national geographic know colorful political map clearly show state boundary capital major highway river lake major city inset detail alaska hawaii color palette vibrant stunning shaded relief provide additional texture detail map encapsulate heavyduty mil laminate make paper durable resistant swelling shrinking cause change humidity laminate map frame need glass fame light expensive map scale 00000000sheet size usa laminate map \n",
            "\n"
          ]
        }
      ],
      "source": [
        "i = 29\n",
        "print(book_description_corpus[i], \"\\n\")\n",
        "print(book_description_corpus_cleaned[i], \"\\n\")\n",
        "print(book_description_corpus_cleaned_collocations[i], \"\\n\")"
      ]
    },
    {
      "cell_type": "markdown",
      "metadata": {
        "id": "NMevdcC_3xX3"
      },
      "source": [
        "### Word Cloud\n"
      ]
    },
    {
      "cell_type": "code",
      "execution_count": null,
      "metadata": {
        "id": "j_nnluWy3064"
      },
      "outputs": [],
      "source": [
        "words = \" \".join(book_description_corpus_cleaned_collocations)\n",
        "wordcloud = stylecloud.gen_stylecloud(\n",
        "                        text = words,\n",
        "                        size = 1028,\n",
        "                        background_color = \"black\",\n",
        "                        output_name = \"./Images/wordcloud.png\",\n",
        "                        icon_name = \"fas fa-book\"\n",
        "                        )"
      ]
    },
    {
      "cell_type": "markdown",
      "metadata": {},
      "source": [
        "![image](./Images/wordcloud.png)"
      ]
    },
    {
      "cell_type": "markdown",
      "metadata": {
        "id": "dPZnWbiU0ZFM"
      },
      "source": [
        "## Using Gensim\n",
        "\n",
        "To apply LDA, we use the gensim library which is the most popular library for this task"
      ]
    },
    {
      "cell_type": "code",
      "execution_count": 21,
      "metadata": {
        "id": "Ehyu2L9C0Yjz"
      },
      "outputs": [],
      "source": [
        "from gensim.models import LdaMulticore, TfidfModel, CoherenceModel\n",
        "from gensim.corpora import Dictionary\n",
        "import time \n",
        "import multiprocessing "
      ]
    },
    {
      "cell_type": "code",
      "execution_count": 24,
      "metadata": {
        "id": "rJEVe0GriKFj"
      },
      "outputs": [],
      "source": [
        "instances = [doc.split() for doc in book_description_corpus_cleaned_collocations]\n",
        "dictionary = Dictionary(instances)\n",
        "dictionary.filter_extremes(no_below = 50, no_above = 0.5)\n",
        "\n",
        "ldacorpus = [dictionary.doc2bow(text) for text in instances]\n",
        "tfidfmodel = TfidfModel(ldacorpus)\n",
        "model_corpus = tfidfmodel[ldacorpus]"
      ]
    },
    {
      "cell_type": "code",
      "execution_count": 25,
      "metadata": {
        "colab": {
          "base_uri": "https://localhost:8080/"
        },
        "id": "0KBcAy53AZVl",
        "outputId": "62c7fe75-2257-45a2-b149-da6ec6efd809"
      },
      "outputs": [
        {
          "name": "stdout",
          "output_type": "stream",
          "text": [
            "resource include principle understand small church worship practice planning worship few people suggestion congregational study wonderful worship small church\n",
            "['resource', 'include', 'principle', 'understand', 'small', 'church', 'worship', 'practice', 'planning', 'worship', 'few', 'people', 'suggestion', 'congregational', 'study', 'wonderful', 'worship', 'small', 'church']\n",
            "[(51, 2), (52, 1), (53, 1), (54, 1), (55, 1), (56, 1), (57, 1), (58, 1), (59, 1), (60, 2), (61, 1), (62, 1), (63, 1), (64, 1), (65, 3)]\n",
            "[(51, 0.31376452057035326), (52, 0.32180463855405556), (53, 0.2693150375467911), (54, 0.0664025240567632), (55, 0.09767008421079369), (56, 0.19392337346329966), (57, 0.12066432336191125), (58, 0.1504597029346263), (59, 0.1314502090225251), (60, 0.28331521221527595), (61, 0.09744878989309225), (62, 0.1936860437731818), (63, 0.11980735412718313), (64, 0.18348738900751174), (65, 0.666431806837864)]\n"
          ]
        }
      ],
      "source": [
        "i = 1 \n",
        "print(book_description_corpus_cleaned_collocations[i])\n",
        "print(instances[i])\n",
        "print(ldacorpus[i])\n",
        "print(model_corpus[i])"
      ]
    },
    {
      "cell_type": "markdown",
      "metadata": {
        "id": "B1QHDuazlMja"
      },
      "source": [
        "### Choosing number of topics\n",
        "To choose the number of topics we use measures such as "
      ]
    },
    {
      "cell_type": "code",
      "execution_count": 30,
      "metadata": {
        "colab": {
          "base_uri": "https://localhost:8080/"
        },
        "id": "zTk9n3hAlTOn",
        "outputId": "859d0fb8-e672-4f27-f42a-b8cdc286ba83"
      },
      "outputs": [
        {
          "name": "stdout",
          "output_type": "stream",
          "text": [
            "Number of topics: 2, UMass Score: -1.9605988643372265, CV Score: 0.3161597160060067 \n",
            "\n",
            "Number of topics: 3, UMass Score: -1.9717528690166812, CV Score: 0.29431340607395245 \n",
            "\n",
            "Number of topics: 4, UMass Score: -2.005779097776581, CV Score: 0.3064429016914327 \n",
            "\n",
            "Number of topics: 5, UMass Score: -2.0269277266492507, CV Score: 0.31563442611381015 \n",
            "\n",
            "Number of topics: 6, UMass Score: -2.053769982167863, CV Score: 0.315766214867727 \n",
            "\n",
            "Number of topics: 7, UMass Score: -2.010900744638036, CV Score: 0.3169885581834011 \n",
            "\n",
            "Number of topics: 8, UMass Score: -2.0597289045429577, CV Score: 0.3154455716383609 \n",
            "\n",
            "Number of topics: 9, UMass Score: -2.036263730354967, CV Score: 0.30268530259809956 \n",
            "\n",
            "Number of topics: 10, UMass Score: -2.0345074490719113, CV Score: 0.3180204074656512 \n",
            "\n",
            "Number of topics: 11, UMass Score: -2.089334649556665, CV Score: 0.29665755564040147 \n",
            "\n",
            "Number of topics: 12, UMass Score: -2.026210672008201, CV Score: 0.3269589351828821 \n",
            "\n",
            "Number of topics: 13, UMass Score: -2.0360165325245614, CV Score: 0.3240737423187294 \n",
            "\n",
            "Number of topics: 14, UMass Score: -2.065931859704818, CV Score: 0.32466693621876086 \n",
            "\n",
            "Number of topics: 15, UMass Score: -2.031007935552662, CV Score: 0.3323382550691039 \n",
            "\n",
            "Number of topics: 16, UMass Score: -2.0654346943401327, CV Score: 0.32115925461453065 \n",
            "\n",
            "Number of topics: 17, UMass Score: -1.982004598964725, CV Score: 0.32756769745573217 \n",
            "\n",
            "Number of topics: 18, UMass Score: -1.9845637764099027, CV Score: 0.3195477147372092 \n",
            "\n",
            "Number of topics: 19, UMass Score: -2.0730109047186374, CV Score: 0.30657569324010747 \n",
            "\n",
            "Number of topics: 20, UMass Score: -2.0713818262465646, CV Score: 0.3063249314337879 \n",
            "\n"
          ]
        }
      ],
      "source": [
        "coherence_values = []\n",
        "\n",
        "dev_size = 100000\n",
        "eval_size = 30000\n",
        "\n",
        "for num_topics in range(2, 21):\n",
        "    model = LdaMulticore(corpus=model_corpus[:dev_size], \n",
        "                         id2word=dictionary, \n",
        "                         num_topics=num_topics,\n",
        "                         random_state = 2)\n",
        "\n",
        "    coherencemodel_umass = CoherenceModel(model=model, \n",
        "                                          texts=instances[dev_size:dev_size+eval_size], \n",
        "                                          dictionary=dictionary, \n",
        "                                          coherence='u_mass')\n",
        "\n",
        "    coherencemodel_cv = CoherenceModel(model=model, \n",
        "                                       texts=instances[dev_size:dev_size+eval_size], \n",
        "                                       dictionary=dictionary, \n",
        "                                       coherence='c_v')\n",
        "\n",
        "    umass_score = coherencemodel_umass.get_coherence()\n",
        "    cv_score = coherencemodel_cv.get_coherence()\n",
        "    print(f\"Number of topics: {num_topics}, UMass Score: {umass_score}, CV Score: {cv_score} \\n\")\n",
        "    coherence_values.append((num_topics, umass_score, cv_score))"
      ]
    },
    {
      "cell_type": "code",
      "execution_count": 40,
      "metadata": {
        "colab": {
          "base_uri": "https://localhost:8080/",
          "height": 617
        },
        "id": "p0s8q4NmophY",
        "outputId": "68bd69d5-da7a-486a-ba54-5a663c0cb184"
      },
      "outputs": [
        {
          "data": {
            "application/vnd.plotly.v1+json": {
              "config": {
                "plotlyServerURL": "https://plot.ly"
              },
              "data": [
                {
                  "type": "scatter",
                  "x": [
                    2,
                    3,
                    4,
                    5,
                    6,
                    7,
                    8,
                    9,
                    10,
                    11,
                    12,
                    13,
                    14,
                    15,
                    16,
                    17,
                    18,
                    19,
                    20
                  ],
                  "xaxis": "x",
                  "y": [
                    -1.9605988643372265,
                    -1.9717528690166812,
                    -2.005779097776581,
                    -2.0269277266492507,
                    -2.053769982167863,
                    -2.010900744638036,
                    -2.0597289045429577,
                    -2.036263730354967,
                    -2.0345074490719113,
                    -2.089334649556665,
                    -2.026210672008201,
                    -2.0360165325245614,
                    -2.065931859704818,
                    -2.031007935552662,
                    -2.0654346943401327,
                    -1.982004598964725,
                    -1.9845637764099027,
                    -2.0730109047186374,
                    -2.0713818262465646
                  ],
                  "yaxis": "y"
                },
                {
                  "type": "scatter",
                  "x": [
                    2,
                    3,
                    4,
                    5,
                    6,
                    7,
                    8,
                    9,
                    10,
                    11,
                    12,
                    13,
                    14,
                    15,
                    16,
                    17,
                    18,
                    19,
                    20
                  ],
                  "xaxis": "x2",
                  "y": [
                    0.3161597160060067,
                    0.29431340607395245,
                    0.3064429016914327,
                    0.31563442611381015,
                    0.315766214867727,
                    0.3169885581834011,
                    0.3154455716383609,
                    0.30268530259809956,
                    0.3180204074656512,
                    0.29665755564040147,
                    0.3269589351828821,
                    0.3240737423187294,
                    0.32466693621876086,
                    0.3323382550691039,
                    0.32115925461453065,
                    0.32756769745573217,
                    0.3195477147372092,
                    0.30657569324010747,
                    0.3063249314337879
                  ],
                  "yaxis": "y2"
                }
              ],
              "layout": {
                "annotations": [
                  {
                    "font": {
                      "size": 16
                    },
                    "showarrow": false,
                    "text": "UMass Score",
                    "x": 0.225,
                    "xanchor": "center",
                    "xref": "paper",
                    "y": 1,
                    "yanchor": "bottom",
                    "yref": "paper"
                  },
                  {
                    "font": {
                      "size": 16
                    },
                    "showarrow": false,
                    "text": "CV Score",
                    "x": 0.775,
                    "xanchor": "center",
                    "xref": "paper",
                    "y": 1,
                    "yanchor": "bottom",
                    "yref": "paper"
                  }
                ],
                "height": 600,
                "template": {
                  "data": {
                    "bar": [
                      {
                        "error_x": {
                          "color": "#2a3f5f"
                        },
                        "error_y": {
                          "color": "#2a3f5f"
                        },
                        "marker": {
                          "line": {
                            "color": "#E5ECF6",
                            "width": 0.5
                          },
                          "pattern": {
                            "fillmode": "overlay",
                            "size": 10,
                            "solidity": 0.2
                          }
                        },
                        "type": "bar"
                      }
                    ],
                    "barpolar": [
                      {
                        "marker": {
                          "line": {
                            "color": "#E5ECF6",
                            "width": 0.5
                          },
                          "pattern": {
                            "fillmode": "overlay",
                            "size": 10,
                            "solidity": 0.2
                          }
                        },
                        "type": "barpolar"
                      }
                    ],
                    "carpet": [
                      {
                        "aaxis": {
                          "endlinecolor": "#2a3f5f",
                          "gridcolor": "white",
                          "linecolor": "white",
                          "minorgridcolor": "white",
                          "startlinecolor": "#2a3f5f"
                        },
                        "baxis": {
                          "endlinecolor": "#2a3f5f",
                          "gridcolor": "white",
                          "linecolor": "white",
                          "minorgridcolor": "white",
                          "startlinecolor": "#2a3f5f"
                        },
                        "type": "carpet"
                      }
                    ],
                    "choropleth": [
                      {
                        "colorbar": {
                          "outlinewidth": 0,
                          "ticks": ""
                        },
                        "type": "choropleth"
                      }
                    ],
                    "contour": [
                      {
                        "colorbar": {
                          "outlinewidth": 0,
                          "ticks": ""
                        },
                        "colorscale": [
                          [
                            0,
                            "#0d0887"
                          ],
                          [
                            0.1111111111111111,
                            "#46039f"
                          ],
                          [
                            0.2222222222222222,
                            "#7201a8"
                          ],
                          [
                            0.3333333333333333,
                            "#9c179e"
                          ],
                          [
                            0.4444444444444444,
                            "#bd3786"
                          ],
                          [
                            0.5555555555555556,
                            "#d8576b"
                          ],
                          [
                            0.6666666666666666,
                            "#ed7953"
                          ],
                          [
                            0.7777777777777778,
                            "#fb9f3a"
                          ],
                          [
                            0.8888888888888888,
                            "#fdca26"
                          ],
                          [
                            1,
                            "#f0f921"
                          ]
                        ],
                        "type": "contour"
                      }
                    ],
                    "contourcarpet": [
                      {
                        "colorbar": {
                          "outlinewidth": 0,
                          "ticks": ""
                        },
                        "type": "contourcarpet"
                      }
                    ],
                    "heatmap": [
                      {
                        "colorbar": {
                          "outlinewidth": 0,
                          "ticks": ""
                        },
                        "colorscale": [
                          [
                            0,
                            "#0d0887"
                          ],
                          [
                            0.1111111111111111,
                            "#46039f"
                          ],
                          [
                            0.2222222222222222,
                            "#7201a8"
                          ],
                          [
                            0.3333333333333333,
                            "#9c179e"
                          ],
                          [
                            0.4444444444444444,
                            "#bd3786"
                          ],
                          [
                            0.5555555555555556,
                            "#d8576b"
                          ],
                          [
                            0.6666666666666666,
                            "#ed7953"
                          ],
                          [
                            0.7777777777777778,
                            "#fb9f3a"
                          ],
                          [
                            0.8888888888888888,
                            "#fdca26"
                          ],
                          [
                            1,
                            "#f0f921"
                          ]
                        ],
                        "type": "heatmap"
                      }
                    ],
                    "heatmapgl": [
                      {
                        "colorbar": {
                          "outlinewidth": 0,
                          "ticks": ""
                        },
                        "colorscale": [
                          [
                            0,
                            "#0d0887"
                          ],
                          [
                            0.1111111111111111,
                            "#46039f"
                          ],
                          [
                            0.2222222222222222,
                            "#7201a8"
                          ],
                          [
                            0.3333333333333333,
                            "#9c179e"
                          ],
                          [
                            0.4444444444444444,
                            "#bd3786"
                          ],
                          [
                            0.5555555555555556,
                            "#d8576b"
                          ],
                          [
                            0.6666666666666666,
                            "#ed7953"
                          ],
                          [
                            0.7777777777777778,
                            "#fb9f3a"
                          ],
                          [
                            0.8888888888888888,
                            "#fdca26"
                          ],
                          [
                            1,
                            "#f0f921"
                          ]
                        ],
                        "type": "heatmapgl"
                      }
                    ],
                    "histogram": [
                      {
                        "marker": {
                          "pattern": {
                            "fillmode": "overlay",
                            "size": 10,
                            "solidity": 0.2
                          }
                        },
                        "type": "histogram"
                      }
                    ],
                    "histogram2d": [
                      {
                        "colorbar": {
                          "outlinewidth": 0,
                          "ticks": ""
                        },
                        "colorscale": [
                          [
                            0,
                            "#0d0887"
                          ],
                          [
                            0.1111111111111111,
                            "#46039f"
                          ],
                          [
                            0.2222222222222222,
                            "#7201a8"
                          ],
                          [
                            0.3333333333333333,
                            "#9c179e"
                          ],
                          [
                            0.4444444444444444,
                            "#bd3786"
                          ],
                          [
                            0.5555555555555556,
                            "#d8576b"
                          ],
                          [
                            0.6666666666666666,
                            "#ed7953"
                          ],
                          [
                            0.7777777777777778,
                            "#fb9f3a"
                          ],
                          [
                            0.8888888888888888,
                            "#fdca26"
                          ],
                          [
                            1,
                            "#f0f921"
                          ]
                        ],
                        "type": "histogram2d"
                      }
                    ],
                    "histogram2dcontour": [
                      {
                        "colorbar": {
                          "outlinewidth": 0,
                          "ticks": ""
                        },
                        "colorscale": [
                          [
                            0,
                            "#0d0887"
                          ],
                          [
                            0.1111111111111111,
                            "#46039f"
                          ],
                          [
                            0.2222222222222222,
                            "#7201a8"
                          ],
                          [
                            0.3333333333333333,
                            "#9c179e"
                          ],
                          [
                            0.4444444444444444,
                            "#bd3786"
                          ],
                          [
                            0.5555555555555556,
                            "#d8576b"
                          ],
                          [
                            0.6666666666666666,
                            "#ed7953"
                          ],
                          [
                            0.7777777777777778,
                            "#fb9f3a"
                          ],
                          [
                            0.8888888888888888,
                            "#fdca26"
                          ],
                          [
                            1,
                            "#f0f921"
                          ]
                        ],
                        "type": "histogram2dcontour"
                      }
                    ],
                    "mesh3d": [
                      {
                        "colorbar": {
                          "outlinewidth": 0,
                          "ticks": ""
                        },
                        "type": "mesh3d"
                      }
                    ],
                    "parcoords": [
                      {
                        "line": {
                          "colorbar": {
                            "outlinewidth": 0,
                            "ticks": ""
                          }
                        },
                        "type": "parcoords"
                      }
                    ],
                    "pie": [
                      {
                        "automargin": true,
                        "type": "pie"
                      }
                    ],
                    "scatter": [
                      {
                        "fillpattern": {
                          "fillmode": "overlay",
                          "size": 10,
                          "solidity": 0.2
                        },
                        "type": "scatter"
                      }
                    ],
                    "scatter3d": [
                      {
                        "line": {
                          "colorbar": {
                            "outlinewidth": 0,
                            "ticks": ""
                          }
                        },
                        "marker": {
                          "colorbar": {
                            "outlinewidth": 0,
                            "ticks": ""
                          }
                        },
                        "type": "scatter3d"
                      }
                    ],
                    "scattercarpet": [
                      {
                        "marker": {
                          "colorbar": {
                            "outlinewidth": 0,
                            "ticks": ""
                          }
                        },
                        "type": "scattercarpet"
                      }
                    ],
                    "scattergeo": [
                      {
                        "marker": {
                          "colorbar": {
                            "outlinewidth": 0,
                            "ticks": ""
                          }
                        },
                        "type": "scattergeo"
                      }
                    ],
                    "scattergl": [
                      {
                        "marker": {
                          "colorbar": {
                            "outlinewidth": 0,
                            "ticks": ""
                          }
                        },
                        "type": "scattergl"
                      }
                    ],
                    "scattermapbox": [
                      {
                        "marker": {
                          "colorbar": {
                            "outlinewidth": 0,
                            "ticks": ""
                          }
                        },
                        "type": "scattermapbox"
                      }
                    ],
                    "scatterpolar": [
                      {
                        "marker": {
                          "colorbar": {
                            "outlinewidth": 0,
                            "ticks": ""
                          }
                        },
                        "type": "scatterpolar"
                      }
                    ],
                    "scatterpolargl": [
                      {
                        "marker": {
                          "colorbar": {
                            "outlinewidth": 0,
                            "ticks": ""
                          }
                        },
                        "type": "scatterpolargl"
                      }
                    ],
                    "scatterternary": [
                      {
                        "marker": {
                          "colorbar": {
                            "outlinewidth": 0,
                            "ticks": ""
                          }
                        },
                        "type": "scatterternary"
                      }
                    ],
                    "surface": [
                      {
                        "colorbar": {
                          "outlinewidth": 0,
                          "ticks": ""
                        },
                        "colorscale": [
                          [
                            0,
                            "#0d0887"
                          ],
                          [
                            0.1111111111111111,
                            "#46039f"
                          ],
                          [
                            0.2222222222222222,
                            "#7201a8"
                          ],
                          [
                            0.3333333333333333,
                            "#9c179e"
                          ],
                          [
                            0.4444444444444444,
                            "#bd3786"
                          ],
                          [
                            0.5555555555555556,
                            "#d8576b"
                          ],
                          [
                            0.6666666666666666,
                            "#ed7953"
                          ],
                          [
                            0.7777777777777778,
                            "#fb9f3a"
                          ],
                          [
                            0.8888888888888888,
                            "#fdca26"
                          ],
                          [
                            1,
                            "#f0f921"
                          ]
                        ],
                        "type": "surface"
                      }
                    ],
                    "table": [
                      {
                        "cells": {
                          "fill": {
                            "color": "#EBF0F8"
                          },
                          "line": {
                            "color": "white"
                          }
                        },
                        "header": {
                          "fill": {
                            "color": "#C8D4E3"
                          },
                          "line": {
                            "color": "white"
                          }
                        },
                        "type": "table"
                      }
                    ]
                  },
                  "layout": {
                    "annotationdefaults": {
                      "arrowcolor": "#2a3f5f",
                      "arrowhead": 0,
                      "arrowwidth": 1
                    },
                    "autotypenumbers": "strict",
                    "coloraxis": {
                      "colorbar": {
                        "outlinewidth": 0,
                        "ticks": ""
                      }
                    },
                    "colorscale": {
                      "diverging": [
                        [
                          0,
                          "#8e0152"
                        ],
                        [
                          0.1,
                          "#c51b7d"
                        ],
                        [
                          0.2,
                          "#de77ae"
                        ],
                        [
                          0.3,
                          "#f1b6da"
                        ],
                        [
                          0.4,
                          "#fde0ef"
                        ],
                        [
                          0.5,
                          "#f7f7f7"
                        ],
                        [
                          0.6,
                          "#e6f5d0"
                        ],
                        [
                          0.7,
                          "#b8e186"
                        ],
                        [
                          0.8,
                          "#7fbc41"
                        ],
                        [
                          0.9,
                          "#4d9221"
                        ],
                        [
                          1,
                          "#276419"
                        ]
                      ],
                      "sequential": [
                        [
                          0,
                          "#0d0887"
                        ],
                        [
                          0.1111111111111111,
                          "#46039f"
                        ],
                        [
                          0.2222222222222222,
                          "#7201a8"
                        ],
                        [
                          0.3333333333333333,
                          "#9c179e"
                        ],
                        [
                          0.4444444444444444,
                          "#bd3786"
                        ],
                        [
                          0.5555555555555556,
                          "#d8576b"
                        ],
                        [
                          0.6666666666666666,
                          "#ed7953"
                        ],
                        [
                          0.7777777777777778,
                          "#fb9f3a"
                        ],
                        [
                          0.8888888888888888,
                          "#fdca26"
                        ],
                        [
                          1,
                          "#f0f921"
                        ]
                      ],
                      "sequentialminus": [
                        [
                          0,
                          "#0d0887"
                        ],
                        [
                          0.1111111111111111,
                          "#46039f"
                        ],
                        [
                          0.2222222222222222,
                          "#7201a8"
                        ],
                        [
                          0.3333333333333333,
                          "#9c179e"
                        ],
                        [
                          0.4444444444444444,
                          "#bd3786"
                        ],
                        [
                          0.5555555555555556,
                          "#d8576b"
                        ],
                        [
                          0.6666666666666666,
                          "#ed7953"
                        ],
                        [
                          0.7777777777777778,
                          "#fb9f3a"
                        ],
                        [
                          0.8888888888888888,
                          "#fdca26"
                        ],
                        [
                          1,
                          "#f0f921"
                        ]
                      ]
                    },
                    "colorway": [
                      "#636efa",
                      "#EF553B",
                      "#00cc96",
                      "#ab63fa",
                      "#FFA15A",
                      "#19d3f3",
                      "#FF6692",
                      "#B6E880",
                      "#FF97FF",
                      "#FECB52"
                    ],
                    "font": {
                      "color": "#2a3f5f"
                    },
                    "geo": {
                      "bgcolor": "white",
                      "lakecolor": "white",
                      "landcolor": "#E5ECF6",
                      "showlakes": true,
                      "showland": true,
                      "subunitcolor": "white"
                    },
                    "hoverlabel": {
                      "align": "left"
                    },
                    "hovermode": "closest",
                    "mapbox": {
                      "style": "light"
                    },
                    "paper_bgcolor": "white",
                    "plot_bgcolor": "#E5ECF6",
                    "polar": {
                      "angularaxis": {
                        "gridcolor": "white",
                        "linecolor": "white",
                        "ticks": ""
                      },
                      "bgcolor": "#E5ECF6",
                      "radialaxis": {
                        "gridcolor": "white",
                        "linecolor": "white",
                        "ticks": ""
                      }
                    },
                    "scene": {
                      "xaxis": {
                        "backgroundcolor": "#E5ECF6",
                        "gridcolor": "white",
                        "gridwidth": 2,
                        "linecolor": "white",
                        "showbackground": true,
                        "ticks": "",
                        "zerolinecolor": "white"
                      },
                      "yaxis": {
                        "backgroundcolor": "#E5ECF6",
                        "gridcolor": "white",
                        "gridwidth": 2,
                        "linecolor": "white",
                        "showbackground": true,
                        "ticks": "",
                        "zerolinecolor": "white"
                      },
                      "zaxis": {
                        "backgroundcolor": "#E5ECF6",
                        "gridcolor": "white",
                        "gridwidth": 2,
                        "linecolor": "white",
                        "showbackground": true,
                        "ticks": "",
                        "zerolinecolor": "white"
                      }
                    },
                    "shapedefaults": {
                      "line": {
                        "color": "#2a3f5f"
                      }
                    },
                    "ternary": {
                      "aaxis": {
                        "gridcolor": "white",
                        "linecolor": "white",
                        "ticks": ""
                      },
                      "baxis": {
                        "gridcolor": "white",
                        "linecolor": "white",
                        "ticks": ""
                      },
                      "bgcolor": "#E5ECF6",
                      "caxis": {
                        "gridcolor": "white",
                        "linecolor": "white",
                        "ticks": ""
                      }
                    },
                    "title": {
                      "x": 0.05
                    },
                    "xaxis": {
                      "automargin": true,
                      "gridcolor": "white",
                      "linecolor": "white",
                      "ticks": "",
                      "title": {
                        "standoff": 15
                      },
                      "zerolinecolor": "white",
                      "zerolinewidth": 2
                    },
                    "yaxis": {
                      "automargin": true,
                      "gridcolor": "white",
                      "linecolor": "white",
                      "ticks": "",
                      "title": {
                        "standoff": 15
                      },
                      "zerolinecolor": "white",
                      "zerolinewidth": 2
                    }
                  }
                },
                "title": {
                  "text": "Choosing Number of Topics Via UMass and CV scores"
                },
                "width": 800,
                "xaxis": {
                  "anchor": "y",
                  "domain": [
                    0,
                    0.45
                  ],
                  "title": {
                    "text": "Num. Topics"
                  }
                },
                "xaxis2": {
                  "anchor": "y2",
                  "domain": [
                    0.55,
                    1
                  ],
                  "title": {
                    "text": "Num. Topics"
                  }
                },
                "yaxis": {
                  "anchor": "x",
                  "domain": [
                    0,
                    1
                  ],
                  "title": {
                    "text": "Coherence Score"
                  }
                },
                "yaxis2": {
                  "anchor": "x2",
                  "domain": [
                    0,
                    1
                  ]
                }
              }
            }
          },
          "metadata": {},
          "output_type": "display_data"
        }
      ],
      "source": [
        "scores = pd.DataFrame(coherence_values, columns=['num_topics', 'UMass', 'CV'])\n",
        "\n",
        "fig = make_subplots(rows=1, cols=2,\n",
        "                    subplot_titles=(\"UMass Score\", \"CV Score\"))\n",
        "\n",
        "fig.add_trace(\n",
        "    go.Scatter(x=scores[\"num_topics\"], y=scores[\"UMass\"]),\n",
        "    row=1, col=1\n",
        ")\n",
        "\n",
        "fig.add_trace(\n",
        "    go.Scatter(x=scores[\"num_topics\"], y=scores[\"CV\"]),\n",
        "    row=1, col=2\n",
        ")\n",
        "\n",
        "fig.update_xaxes(title_text=\"Num. Topics\", row=1, col=1)\n",
        "fig.update_xaxes(title_text=\"Num. Topics\", row=1, col=2)\n",
        "\n",
        "fig.update_yaxes(title_text=\"Coherence Score\", row=1, col=1)\n",
        "\n",
        "\n",
        "fig.update_layout(height=600, width=800, title_text=\"Choosing Number of Topics Via UMass and CV scores\")\n",
        "fig.show()"
      ]
    },
    {
      "cell_type": "markdown",
      "metadata": {
        "id": "7BgdI8cCqSFE"
      },
      "source": [
        "As we can see, the optimal number of topics is 7 since it is the peak of the UMass and CV scores."
      ]
    },
    {
      "cell_type": "markdown",
      "metadata": {
        "id": "bYlZT1qyqaXH"
      },
      "source": [
        "## Results\n",
        "\n",
        "Having chosen the number of topics, we can analyze what they represent"
      ]
    },
    {
      "cell_type": "code",
      "execution_count": 42,
      "metadata": {
        "colab": {
          "base_uri": "https://localhost:8080/",
          "height": 304
        },
        "id": "UlFc_bwLtBHm",
        "outputId": "252704d1-4d48-4be3-eaa2-368351dd03de"
      },
      "outputs": [
        {
          "name": "stdout",
          "output_type": "stream",
          "text": [
            "chunk size: 7107.45\n",
            "fitting model\n",
            "done in 352.34129548072815\n"
          ]
        }
      ],
      "source": [
        "if FIRST_RUN: \n",
        "    num_topics = 7\n",
        "    \n",
        "    # find chunksize to make about 200 updates\n",
        "    num_passes = 10\n",
        "    chunk_size = len(model_corpus) * num_passes/200\n",
        "    print(f\"chunk size: {chunk_size}\")\n",
        "    \n",
        "    start = time.time()\n",
        "    print(\"fitting model\", flush=True)\n",
        "    model = LdaMulticore(num_topics=num_topics, # number of topics\n",
        "                         corpus=model_corpus, # what to train on \n",
        "                         id2word=dictionary, # mapping from IDs to words\n",
        "                         workers=min(10, multiprocessing.cpu_count()-1), # choose 10 cores, or whatever computer has\n",
        "                         passes=num_passes, # make this many passes over data\n",
        "                         chunksize=chunk_size, # update after this many instances\n",
        "                         alpha=0.5,\n",
        "                         random_state = 2\n",
        "                        )\n",
        "        \n",
        "    print(\"done in {}\".format(time.time()-start), flush=True)\n",
        "    with open(\"./Models/model_lda\", \"wb\") as fp:\n",
        "        pickle.dump(model, fp)\n",
        "else:\n",
        "    with open(\"./Models/model_lda\", \"rb\") as fp:\n",
        "        model = pickle.load(fp)\n"
      ]
    },
    {
      "cell_type": "code",
      "execution_count": 43,
      "metadata": {
        "id": "hjqiF5D1ZATg"
      },
      "outputs": [],
      "source": [
        "def get_descriptors(model, num_words = 5):\n",
        "    topic_sep = re.compile(r\"0\\.[0-9]{3}\\*|\\+|\\\"\") # getting rid of useless formatting\n",
        "    model_topics = [(topic_no, re.sub(topic_sep, '', model_topic)) for topic_no, model_topic in\n",
        "                    model.print_topics(num_words=num_words)]\n",
        "    descriptors = {}\n",
        "    for i, m in model_topics:\n",
        "        descriptors[f\"topic {i+1}\"] = m.split()\n",
        "    return pd.DataFrame.from_dict(descriptors, orient = \"index\", columns = [f\"Word {i}\" for i in range(1,num_words+1)])"
      ]
    },
    {
      "cell_type": "code",
      "execution_count": 50,
      "metadata": {
        "id": "x40X1qHiayEF"
      },
      "outputs": [
        {
          "data": {
            "text/html": [
              "<div>\n",
              "<style scoped>\n",
              "    .dataframe tbody tr th:only-of-type {\n",
              "        vertical-align: middle;\n",
              "    }\n",
              "\n",
              "    .dataframe tbody tr th {\n",
              "        vertical-align: top;\n",
              "    }\n",
              "\n",
              "    .dataframe thead th {\n",
              "        text-align: right;\n",
              "    }\n",
              "</style>\n",
              "<table border=\"1\" class=\"dataframe\">\n",
              "  <thead>\n",
              "    <tr style=\"text-align: right;\">\n",
              "      <th></th>\n",
              "      <th>Word 1</th>\n",
              "      <th>Word 2</th>\n",
              "      <th>Word 3</th>\n",
              "      <th>Word 4</th>\n",
              "      <th>Word 5</th>\n",
              "      <th>Word 6</th>\n",
              "      <th>Word 7</th>\n",
              "      <th>Word 8</th>\n",
              "      <th>Word 9</th>\n",
              "      <th>Word 10</th>\n",
              "    </tr>\n",
              "  </thead>\n",
              "  <tbody>\n",
              "    <tr>\n",
              "      <th>topic 1</th>\n",
              "      <td>theory</td>\n",
              "      <td>study</td>\n",
              "      <td>social</td>\n",
              "      <td>history</td>\n",
              "      <td>science</td>\n",
              "      <td>culture</td>\n",
              "      <td>work</td>\n",
              "      <td>book</td>\n",
              "      <td>introduction</td>\n",
              "      <td>modern</td>\n",
              "    </tr>\n",
              "    <tr>\n",
              "      <th>topic 2</th>\n",
              "      <td>art</td>\n",
              "      <td>guide</td>\n",
              "      <td>design</td>\n",
              "      <td>include</td>\n",
              "      <td>edition</td>\n",
              "      <td>book</td>\n",
              "      <td>feature</td>\n",
              "      <td>dictionary</td>\n",
              "      <td>color</td>\n",
              "      <td>work</td>\n",
              "    </tr>\n",
              "    <tr>\n",
              "      <th>topic 3</th>\n",
              "      <td>guide</td>\n",
              "      <td>student</td>\n",
              "      <td>business</td>\n",
              "      <td>help</td>\n",
              "      <td>provide</td>\n",
              "      <td>child</td>\n",
              "      <td>practice</td>\n",
              "      <td>information</td>\n",
              "      <td>learn</td>\n",
              "      <td>system</td>\n",
              "    </tr>\n",
              "    <tr>\n",
              "      <th>topic 4</th>\n",
              "      <td>god</td>\n",
              "      <td>bible</td>\n",
              "      <td>life</td>\n",
              "      <td>book</td>\n",
              "      <td>spiritual</td>\n",
              "      <td>christian</td>\n",
              "      <td>jesus</td>\n",
              "      <td>work</td>\n",
              "      <td>church</td>\n",
              "      <td>christ</td>\n",
              "    </tr>\n",
              "    <tr>\n",
              "      <th>topic 5</th>\n",
              "      <td>love</td>\n",
              "      <td>man</td>\n",
              "      <td>story</td>\n",
              "      <td>woman</td>\n",
              "      <td>life</td>\n",
              "      <td>novel</td>\n",
              "      <td>family</td>\n",
              "      <td>find</td>\n",
              "      <td>young</td>\n",
              "      <td>murder</td>\n",
              "    </tr>\n",
              "    <tr>\n",
              "      <th>topic 6</th>\n",
              "      <td>war</td>\n",
              "      <td>history</td>\n",
              "      <td>world</td>\n",
              "      <td>military</td>\n",
              "      <td>american</td>\n",
              "      <td>political</td>\n",
              "      <td>new</td>\n",
              "      <td>life</td>\n",
              "      <td>book</td>\n",
              "      <td>civil</td>\n",
              "    </tr>\n",
              "    <tr>\n",
              "      <th>topic 7</th>\n",
              "      <td>story</td>\n",
              "      <td>adventure</td>\n",
              "      <td>animal</td>\n",
              "      <td>christmas</td>\n",
              "      <td>book</td>\n",
              "      <td>song</td>\n",
              "      <td>music</td>\n",
              "      <td>little</td>\n",
              "      <td>great</td>\n",
              "      <td>tale</td>\n",
              "    </tr>\n",
              "  </tbody>\n",
              "</table>\n",
              "</div>"
            ],
            "text/plain": [
              "         Word 1     Word 2    Word 3     Word 4     Word 5     Word 6  \\\n",
              "topic 1  theory      study    social    history    science    culture   \n",
              "topic 2     art      guide    design    include    edition       book   \n",
              "topic 3   guide    student  business       help    provide      child   \n",
              "topic 4     god      bible      life       book  spiritual  christian   \n",
              "topic 5    love        man     story      woman       life      novel   \n",
              "topic 6     war    history     world   military   american  political   \n",
              "topic 7   story  adventure    animal  christmas       book       song   \n",
              "\n",
              "           Word 7       Word 8        Word 9 Word 10  \n",
              "topic 1      work         book  introduction  modern  \n",
              "topic 2   feature   dictionary         color    work  \n",
              "topic 3  practice  information         learn  system  \n",
              "topic 4     jesus         work        church  christ  \n",
              "topic 5    family         find         young  murder  \n",
              "topic 6       new         life          book   civil  \n",
              "topic 7     music       little         great    tale  "
            ]
          },
          "execution_count": 50,
          "metadata": {},
          "output_type": "execute_result"
        }
      ],
      "source": [
        "topics = get_descriptors(model, 10)\n",
        "topics"
      ]
    },
    {
      "cell_type": "markdown",
      "metadata": {
        "id": "26H30tI2_HfC"
      },
      "source": [
        "As we can see, the topics are quite easy to interpret:\n",
        "- topic 1: words such as \"theory\", \"study\", \"history\", \"science\" indicate that this topic belongs to **academia**\n",
        "- topic 2: words such as \"guide\" along with \"design\" and \"art\" indicate that this topic belongs to **art**.\n",
        "- topic 3: words such as \"guide\" along with \"student\", \"business\", \"help\" and \"provide\" tell us that this topic deals with **student help**.\n",
        "- topic 4: words such as \"god\", \"bible\" indicate a religious theme: **religion**.\n",
        "- topic 5: words such as \"love\", \"man\", \"woman\", \"murder\" indicate the theme of **fiction & romance**.\n",
        "- topic 6: words such as \"war\", \"history\", \"military\", \"american\" suggest a theme of **american war history**.\n",
        "- topic 7: words such as \"story\", \"adventure\", \"animal\", \"book\" indicate a theme related to **children books**.\n"
      ]
    },
    {
      "cell_type": "markdown",
      "metadata": {
        "id": "K8AnlvkUbhiE"
      },
      "source": [
        "As we can see, these themes more or less relate to the top 10 categories with a few important observations:\n",
        "- The theme **art** is not present in the top 10 categories. \n",
        "- Looking at the top 10 categories we could think that the theme of **fiction & romance** could  actually related to the category of **biography & autobiography** since the descriptors could very well be dealing with someone's personal life. \n",
        "- The theme of **student help** is probably associated to the theme of **juvenile non-fiction**\n",
        "\n",
        "Finally, lets analyze how the popularity of these themes changed throughout the years."
      ]
    },
    {
      "cell_type": "code",
      "execution_count": 91,
      "metadata": {
        "id": "NFyUPg_2Blf8"
      },
      "outputs": [],
      "source": [
        "topic_corpus = model[model_corpus]\n",
        "scores = [[t[1] for t in topic_corpus[entry]] for entry in range(len(book_description_corpus))]\n"
      ]
    },
    {
      "cell_type": "code",
      "execution_count": 152,
      "metadata": {},
      "outputs": [],
      "source": [
        "df_books_en[[\"topic1\", \"topic2\", \"topic3\", \"topic4\", \"topic5\", \"topic6\", \"topic7\"]]=scores"
      ]
    },
    {
      "cell_type": "code",
      "execution_count": 153,
      "metadata": {},
      "outputs": [
        {
          "data": {
            "text/html": [
              "<div>\n",
              "<style scoped>\n",
              "    .dataframe tbody tr th:only-of-type {\n",
              "        vertical-align: middle;\n",
              "    }\n",
              "\n",
              "    .dataframe tbody tr th {\n",
              "        vertical-align: top;\n",
              "    }\n",
              "\n",
              "    .dataframe thead th {\n",
              "        text-align: right;\n",
              "    }\n",
              "</style>\n",
              "<table border=\"1\" class=\"dataframe\">\n",
              "  <thead>\n",
              "    <tr style=\"text-align: right;\">\n",
              "      <th></th>\n",
              "      <th>Title</th>\n",
              "      <th>description</th>\n",
              "      <th>authors</th>\n",
              "      <th>publishedDate</th>\n",
              "      <th>categories</th>\n",
              "      <th>new_desc</th>\n",
              "      <th>lang</th>\n",
              "      <th>topic1</th>\n",
              "      <th>topic2</th>\n",
              "      <th>topic3</th>\n",
              "      <th>topic4</th>\n",
              "      <th>topic5</th>\n",
              "      <th>topic6</th>\n",
              "      <th>topic7</th>\n",
              "    </tr>\n",
              "  </thead>\n",
              "  <tbody>\n",
              "    <tr>\n",
              "      <th>1</th>\n",
              "      <td>Dr. Seuss: American Icon</td>\n",
              "      <td>Philip Nel takes a fascinating look into the k...</td>\n",
              "      <td>['Philip Nel']</td>\n",
              "      <td>2005</td>\n",
              "      <td>['Biography &amp; Autobiography']</td>\n",
              "      <td>Philip Nel takes a fascinating look into the k...</td>\n",
              "      <td>en</td>\n",
              "      <td>0.095130</td>\n",
              "      <td>0.340764</td>\n",
              "      <td>0.068506</td>\n",
              "      <td>0.075415</td>\n",
              "      <td>0.064876</td>\n",
              "      <td>0.266570</td>\n",
              "      <td>0.088739</td>\n",
              "    </tr>\n",
              "    <tr>\n",
              "      <th>2</th>\n",
              "      <td>Wonderful Worship in Smaller Churches</td>\n",
              "      <td>This resource includes twelve principles in un...</td>\n",
              "      <td>['David R. Ray']</td>\n",
              "      <td>2000</td>\n",
              "      <td>['Religion']</td>\n",
              "      <td>This resource includes twelve principles in un...</td>\n",
              "      <td>en</td>\n",
              "      <td>0.105597</td>\n",
              "      <td>0.084881</td>\n",
              "      <td>0.199642</td>\n",
              "      <td>0.347270</td>\n",
              "      <td>0.083063</td>\n",
              "      <td>0.088499</td>\n",
              "      <td>0.091049</td>\n",
              "    </tr>\n",
              "    <tr>\n",
              "      <th>3</th>\n",
              "      <td>Whispers of the Wicked Saints</td>\n",
              "      <td>Julia Thomas finds her life spinning out of co...</td>\n",
              "      <td>['Veronica Haddon']</td>\n",
              "      <td>2005</td>\n",
              "      <td>['Fiction']</td>\n",
              "      <td>Julia Thomas finds her life spinning out of co...</td>\n",
              "      <td>en</td>\n",
              "      <td>0.056008</td>\n",
              "      <td>0.054771</td>\n",
              "      <td>0.063038</td>\n",
              "      <td>0.090354</td>\n",
              "      <td>0.606541</td>\n",
              "      <td>0.068405</td>\n",
              "      <td>0.060883</td>\n",
              "    </tr>\n",
              "    <tr>\n",
              "      <th>5</th>\n",
              "      <td>The Church of Christ: A Biblical Ecclesiology ...</td>\n",
              "      <td>In The Church of Christ: A Biblical Ecclesiolo...</td>\n",
              "      <td>['Everett Ferguson']</td>\n",
              "      <td>1996</td>\n",
              "      <td>['Religion']</td>\n",
              "      <td>In The Church of Christ: A Biblical Ecclesiolo...</td>\n",
              "      <td>en</td>\n",
              "      <td>0.085947</td>\n",
              "      <td>0.068766</td>\n",
              "      <td>0.075421</td>\n",
              "      <td>0.549577</td>\n",
              "      <td>0.081188</td>\n",
              "      <td>0.074279</td>\n",
              "      <td>0.064822</td>\n",
              "    </tr>\n",
              "    <tr>\n",
              "      <th>8</th>\n",
              "      <td>Saint Hyacinth of Poland</td>\n",
              "      <td>The story for children 10 and up of St. Hyacin...</td>\n",
              "      <td>['Mary Fabyan Windeatt']</td>\n",
              "      <td>2009</td>\n",
              "      <td>['Biography &amp; Autobiography']</td>\n",
              "      <td>The story for children 10 and up of St. Hyacin...</td>\n",
              "      <td>en</td>\n",
              "      <td>0.082401</td>\n",
              "      <td>0.073128</td>\n",
              "      <td>0.071681</td>\n",
              "      <td>0.275148</td>\n",
              "      <td>0.091007</td>\n",
              "      <td>0.322728</td>\n",
              "      <td>0.083908</td>\n",
              "    </tr>\n",
              "    <tr>\n",
              "      <th>...</th>\n",
              "      <td>...</td>\n",
              "      <td>...</td>\n",
              "      <td>...</td>\n",
              "      <td>...</td>\n",
              "      <td>...</td>\n",
              "      <td>...</td>\n",
              "      <td>...</td>\n",
              "      <td>...</td>\n",
              "      <td>...</td>\n",
              "      <td>...</td>\n",
              "      <td>...</td>\n",
              "      <td>...</td>\n",
              "      <td>...</td>\n",
              "      <td>...</td>\n",
              "    </tr>\n",
              "    <tr>\n",
              "      <th>212399</th>\n",
              "      <td>The Orphan Of Ellis Island (Time Travel Advent...</td>\n",
              "      <td>During a school trip to Ellis Island, Dominick...</td>\n",
              "      <td>['Elvira Woodruff']</td>\n",
              "      <td>2000</td>\n",
              "      <td>['Juvenile Fiction']</td>\n",
              "      <td>During a school trip to Ellis Island, Dominick...</td>\n",
              "      <td>en</td>\n",
              "      <td>0.082278</td>\n",
              "      <td>0.091112</td>\n",
              "      <td>0.083885</td>\n",
              "      <td>0.081321</td>\n",
              "      <td>0.338309</td>\n",
              "      <td>0.086601</td>\n",
              "      <td>0.236494</td>\n",
              "    </tr>\n",
              "    <tr>\n",
              "      <th>212400</th>\n",
              "      <td>Red Boots for Christmas</td>\n",
              "      <td>Everyone in the village of Friedensdorf is hap...</td>\n",
              "      <td>NaN</td>\n",
              "      <td>1995</td>\n",
              "      <td>['Juvenile Fiction']</td>\n",
              "      <td>Everyone in the village of Friedensdorf is hap...</td>\n",
              "      <td>en</td>\n",
              "      <td>0.082209</td>\n",
              "      <td>0.089091</td>\n",
              "      <td>0.087297</td>\n",
              "      <td>0.098683</td>\n",
              "      <td>0.233809</td>\n",
              "      <td>0.092970</td>\n",
              "      <td>0.315941</td>\n",
              "    </tr>\n",
              "    <tr>\n",
              "      <th>212401</th>\n",
              "      <td>Mamaw</td>\n",
              "      <td>Give your Mamaw a useful, beautiful and though...</td>\n",
              "      <td>['Wild Wild Cabbage']</td>\n",
              "      <td>2018</td>\n",
              "      <td>NaN</td>\n",
              "      <td>Give your Mamaw a useful, beautiful and though...</td>\n",
              "      <td>en</td>\n",
              "      <td>0.071210</td>\n",
              "      <td>0.113667</td>\n",
              "      <td>0.081025</td>\n",
              "      <td>0.233818</td>\n",
              "      <td>0.134653</td>\n",
              "      <td>0.081190</td>\n",
              "      <td>0.284437</td>\n",
              "    </tr>\n",
              "    <tr>\n",
              "      <th>212402</th>\n",
              "      <td>The Autograph Man</td>\n",
              "      <td>Alex-Li Tandem sells autographs. His business ...</td>\n",
              "      <td>['Zadie Smith']</td>\n",
              "      <td>2003</td>\n",
              "      <td>['Fiction']</td>\n",
              "      <td>Alex-Li Tandem sells autographs. His business ...</td>\n",
              "      <td>en</td>\n",
              "      <td>0.113216</td>\n",
              "      <td>0.085311</td>\n",
              "      <td>0.081603</td>\n",
              "      <td>0.099031</td>\n",
              "      <td>0.417966</td>\n",
              "      <td>0.082309</td>\n",
              "      <td>0.120565</td>\n",
              "    </tr>\n",
              "    <tr>\n",
              "      <th>212403</th>\n",
              "      <td>Student's Solutions Manual for Johnson/Mowry's...</td>\n",
              "      <td>Discover the many ways mathematics is relevant...</td>\n",
              "      <td>['David B. Johnson', 'Thomas A. Mowry']</td>\n",
              "      <td>1998</td>\n",
              "      <td>NaN</td>\n",
              "      <td>Discover the many ways mathematics is relevant...</td>\n",
              "      <td>en</td>\n",
              "      <td>0.217424</td>\n",
              "      <td>0.087637</td>\n",
              "      <td>0.408514</td>\n",
              "      <td>0.072673</td>\n",
              "      <td>0.061691</td>\n",
              "      <td>0.087392</td>\n",
              "      <td>0.064669</td>\n",
              "    </tr>\n",
              "  </tbody>\n",
              "</table>\n",
              "<p>142149 rows × 14 columns</p>\n",
              "</div>"
            ],
            "text/plain": [
              "                                                    Title  \\\n",
              "1                                Dr. Seuss: American Icon   \n",
              "2                   Wonderful Worship in Smaller Churches   \n",
              "3                           Whispers of the Wicked Saints   \n",
              "5       The Church of Christ: A Biblical Ecclesiology ...   \n",
              "8                                Saint Hyacinth of Poland   \n",
              "...                                                   ...   \n",
              "212399  The Orphan Of Ellis Island (Time Travel Advent...   \n",
              "212400                            Red Boots for Christmas   \n",
              "212401                                              Mamaw   \n",
              "212402                                  The Autograph Man   \n",
              "212403  Student's Solutions Manual for Johnson/Mowry's...   \n",
              "\n",
              "                                              description  \\\n",
              "1       Philip Nel takes a fascinating look into the k...   \n",
              "2       This resource includes twelve principles in un...   \n",
              "3       Julia Thomas finds her life spinning out of co...   \n",
              "5       In The Church of Christ: A Biblical Ecclesiolo...   \n",
              "8       The story for children 10 and up of St. Hyacin...   \n",
              "...                                                   ...   \n",
              "212399  During a school trip to Ellis Island, Dominick...   \n",
              "212400  Everyone in the village of Friedensdorf is hap...   \n",
              "212401  Give your Mamaw a useful, beautiful and though...   \n",
              "212402  Alex-Li Tandem sells autographs. His business ...   \n",
              "212403  Discover the many ways mathematics is relevant...   \n",
              "\n",
              "                                        authors publishedDate  \\\n",
              "1                                ['Philip Nel']          2005   \n",
              "2                              ['David R. Ray']          2000   \n",
              "3                           ['Veronica Haddon']          2005   \n",
              "5                          ['Everett Ferguson']          1996   \n",
              "8                      ['Mary Fabyan Windeatt']          2009   \n",
              "...                                         ...           ...   \n",
              "212399                      ['Elvira Woodruff']          2000   \n",
              "212400                                      NaN          1995   \n",
              "212401                    ['Wild Wild Cabbage']          2018   \n",
              "212402                          ['Zadie Smith']          2003   \n",
              "212403  ['David B. Johnson', 'Thomas A. Mowry']          1998   \n",
              "\n",
              "                           categories  \\\n",
              "1       ['Biography & Autobiography']   \n",
              "2                        ['Religion']   \n",
              "3                         ['Fiction']   \n",
              "5                        ['Religion']   \n",
              "8       ['Biography & Autobiography']   \n",
              "...                               ...   \n",
              "212399           ['Juvenile Fiction']   \n",
              "212400           ['Juvenile Fiction']   \n",
              "212401                            NaN   \n",
              "212402                    ['Fiction']   \n",
              "212403                            NaN   \n",
              "\n",
              "                                                 new_desc lang    topic1  \\\n",
              "1       Philip Nel takes a fascinating look into the k...   en  0.095130   \n",
              "2       This resource includes twelve principles in un...   en  0.105597   \n",
              "3       Julia Thomas finds her life spinning out of co...   en  0.056008   \n",
              "5       In The Church of Christ: A Biblical Ecclesiolo...   en  0.085947   \n",
              "8       The story for children 10 and up of St. Hyacin...   en  0.082401   \n",
              "...                                                   ...  ...       ...   \n",
              "212399  During a school trip to Ellis Island, Dominick...   en  0.082278   \n",
              "212400  Everyone in the village of Friedensdorf is hap...   en  0.082209   \n",
              "212401  Give your Mamaw a useful, beautiful and though...   en  0.071210   \n",
              "212402  Alex-Li Tandem sells autographs. His business ...   en  0.113216   \n",
              "212403  Discover the many ways mathematics is relevant...   en  0.217424   \n",
              "\n",
              "          topic2    topic3    topic4    topic5    topic6    topic7  \n",
              "1       0.340764  0.068506  0.075415  0.064876  0.266570  0.088739  \n",
              "2       0.084881  0.199642  0.347270  0.083063  0.088499  0.091049  \n",
              "3       0.054771  0.063038  0.090354  0.606541  0.068405  0.060883  \n",
              "5       0.068766  0.075421  0.549577  0.081188  0.074279  0.064822  \n",
              "8       0.073128  0.071681  0.275148  0.091007  0.322728  0.083908  \n",
              "...          ...       ...       ...       ...       ...       ...  \n",
              "212399  0.091112  0.083885  0.081321  0.338309  0.086601  0.236494  \n",
              "212400  0.089091  0.087297  0.098683  0.233809  0.092970  0.315941  \n",
              "212401  0.113667  0.081025  0.233818  0.134653  0.081190  0.284437  \n",
              "212402  0.085311  0.081603  0.099031  0.417966  0.082309  0.120565  \n",
              "212403  0.087637  0.408514  0.072673  0.061691  0.087392  0.064669  \n",
              "\n",
              "[142149 rows x 14 columns]"
            ]
          },
          "execution_count": 153,
          "metadata": {},
          "output_type": "execute_result"
        }
      ],
      "source": [
        "df_books_en"
      ]
    },
    {
      "cell_type": "code",
      "execution_count": 154,
      "metadata": {},
      "outputs": [
        {
          "data": {
            "text/plain": [
              "2022    1006\n",
              "2021    2645\n",
              "2020    2724\n",
              "2019    2697\n",
              "2018    2766\n",
              "2017    2992\n",
              "2016    3187\n",
              "2015    3540\n",
              "2014    4288\n",
              "2013    5098\n",
              "2012    5218\n",
              "2011    4532\n",
              "2010    3906\n",
              "Name: publishedDate, dtype: int64"
            ]
          },
          "execution_count": 154,
          "metadata": {},
          "output_type": "execute_result"
        }
      ],
      "source": [
        "df_books_en.loc[98662,\"publishedDate\"] = \"2007\" #Wrong Data point\n",
        "years = df_books_en[\"publishedDate\"].value_counts().sort_index(ascending=False)[:14]\n",
        "years.pop(\"2023\")\n",
        "years"
      ]
    },
    {
      "cell_type": "code",
      "execution_count": 155,
      "metadata": {},
      "outputs": [
        {
          "name": "stdout",
          "output_type": "stream",
          "text": [
            "44599\n"
          ]
        }
      ],
      "source": [
        "print(sum(years.values))\n",
        "years = years.index.tolist()"
      ]
    },
    {
      "cell_type": "code",
      "execution_count": 156,
      "metadata": {},
      "outputs": [
        {
          "data": {
            "text/html": [
              "<div>\n",
              "<style scoped>\n",
              "    .dataframe tbody tr th:only-of-type {\n",
              "        vertical-align: middle;\n",
              "    }\n",
              "\n",
              "    .dataframe tbody tr th {\n",
              "        vertical-align: top;\n",
              "    }\n",
              "\n",
              "    .dataframe thead th {\n",
              "        text-align: right;\n",
              "    }\n",
              "</style>\n",
              "<table border=\"1\" class=\"dataframe\">\n",
              "  <thead>\n",
              "    <tr style=\"text-align: right;\">\n",
              "      <th></th>\n",
              "      <th>Title</th>\n",
              "      <th>description</th>\n",
              "      <th>authors</th>\n",
              "      <th>publishedDate</th>\n",
              "      <th>categories</th>\n",
              "      <th>new_desc</th>\n",
              "      <th>lang</th>\n",
              "      <th>topic1</th>\n",
              "      <th>topic2</th>\n",
              "      <th>topic3</th>\n",
              "      <th>topic4</th>\n",
              "      <th>topic5</th>\n",
              "      <th>topic6</th>\n",
              "      <th>topic7</th>\n",
              "    </tr>\n",
              "  </thead>\n",
              "  <tbody>\n",
              "    <tr>\n",
              "      <th>12</th>\n",
              "      <td>Mensa Number Puzzles (Mensa Word Games for Kids)</td>\n",
              "      <td>Acclaimed teacher and puzzler Evelyn B. Christ...</td>\n",
              "      <td>['Evelyn B. Christensen']</td>\n",
              "      <td>2018</td>\n",
              "      <td>['Juvenile Nonfiction']</td>\n",
              "      <td>Acclaimed teacher and puzzler Evelyn B. Christ...</td>\n",
              "      <td>en</td>\n",
              "      <td>0.081379</td>\n",
              "      <td>0.206227</td>\n",
              "      <td>0.368441</td>\n",
              "      <td>0.074345</td>\n",
              "      <td>0.093401</td>\n",
              "      <td>0.071278</td>\n",
              "      <td>0.104929</td>\n",
              "    </tr>\n",
              "    <tr>\n",
              "      <th>13</th>\n",
              "      <td>Vector Quantization and Signal Compression (Th...</td>\n",
              "      <td>Herb Caen, a popular columnist for the San Fra...</td>\n",
              "      <td>['Allen Gersho', 'Robert M. Gray']</td>\n",
              "      <td>2012</td>\n",
              "      <td>['Technology &amp; Engineering']</td>\n",
              "      <td>Herb Caen, a popular columnist for the San Fra...</td>\n",
              "      <td>en</td>\n",
              "      <td>0.281639</td>\n",
              "      <td>0.166511</td>\n",
              "      <td>0.293628</td>\n",
              "      <td>0.065531</td>\n",
              "      <td>0.059910</td>\n",
              "      <td>0.065226</td>\n",
              "      <td>0.067555</td>\n",
              "    </tr>\n",
              "    <tr>\n",
              "      <th>14</th>\n",
              "      <td>A husband for Kutani</td>\n",
              "      <td>First published in 1938, this is a collection ...</td>\n",
              "      <td>['Frank Owen']</td>\n",
              "      <td>2018</td>\n",
              "      <td>['History']</td>\n",
              "      <td>First published in 1938, this is a collection ...</td>\n",
              "      <td>en</td>\n",
              "      <td>0.079303</td>\n",
              "      <td>0.154894</td>\n",
              "      <td>0.067302</td>\n",
              "      <td>0.214772</td>\n",
              "      <td>0.250086</td>\n",
              "      <td>0.110496</td>\n",
              "      <td>0.123148</td>\n",
              "    </tr>\n",
              "    <tr>\n",
              "      <th>16</th>\n",
              "      <td>The Ultimate Guide to Law School Admission: In...</td>\n",
              "      <td>This collection brings together a distinguishe...</td>\n",
              "      <td>['Fiona Cownie']</td>\n",
              "      <td>2010</td>\n",
              "      <td>['Law']</td>\n",
              "      <td>This collection brings together a distinguishe...</td>\n",
              "      <td>en</td>\n",
              "      <td>0.140504</td>\n",
              "      <td>0.069417</td>\n",
              "      <td>0.428557</td>\n",
              "      <td>0.091853</td>\n",
              "      <td>0.068621</td>\n",
              "      <td>0.115173</td>\n",
              "      <td>0.085873</td>\n",
              "    </tr>\n",
              "    <tr>\n",
              "      <th>17</th>\n",
              "      <td>The Repeal of Reticence: A History of America'...</td>\n",
              "      <td>At a time when America's faculties of taste an...</td>\n",
              "      <td>['Rochelle Gurstein']</td>\n",
              "      <td>2016</td>\n",
              "      <td>['Political Science']</td>\n",
              "      <td>At a time when America's faculties of taste an...</td>\n",
              "      <td>en</td>\n",
              "      <td>0.169678</td>\n",
              "      <td>0.070360</td>\n",
              "      <td>0.144317</td>\n",
              "      <td>0.102388</td>\n",
              "      <td>0.102878</td>\n",
              "      <td>0.352481</td>\n",
              "      <td>0.057897</td>\n",
              "    </tr>\n",
              "    <tr>\n",
              "      <th>...</th>\n",
              "      <td>...</td>\n",
              "      <td>...</td>\n",
              "      <td>...</td>\n",
              "      <td>...</td>\n",
              "      <td>...</td>\n",
              "      <td>...</td>\n",
              "      <td>...</td>\n",
              "      <td>...</td>\n",
              "      <td>...</td>\n",
              "      <td>...</td>\n",
              "      <td>...</td>\n",
              "      <td>...</td>\n",
              "      <td>...</td>\n",
              "      <td>...</td>\n",
              "    </tr>\n",
              "    <tr>\n",
              "      <th>212348</th>\n",
              "      <td>Watercolor: For the Artistically Undiscovered ...</td>\n",
              "      <td>Put the brush in your hand. Stick it in the wa...</td>\n",
              "      <td>['Thacher Hurd', 'John Cassidy']</td>\n",
              "      <td>2017</td>\n",
              "      <td>['Art']</td>\n",
              "      <td>Put the brush in your hand. Stick it in the wa...</td>\n",
              "      <td>en</td>\n",
              "      <td>0.060808</td>\n",
              "      <td>0.403781</td>\n",
              "      <td>0.083427</td>\n",
              "      <td>0.081929</td>\n",
              "      <td>0.241133</td>\n",
              "      <td>0.060765</td>\n",
              "      <td>0.068156</td>\n",
              "    </tr>\n",
              "    <tr>\n",
              "      <th>212375</th>\n",
              "      <td>Sell and Re-Sell Your Photos</td>\n",
              "      <td>Sell your photos again and again! Live anywher...</td>\n",
              "      <td>['Rohn Engh', 'Mikael Karlsson']</td>\n",
              "      <td>2016</td>\n",
              "      <td>['Photography']</td>\n",
              "      <td>Sell your photos again and again! Live anywher...</td>\n",
              "      <td>en</td>\n",
              "      <td>0.056735</td>\n",
              "      <td>0.290012</td>\n",
              "      <td>0.332104</td>\n",
              "      <td>0.077475</td>\n",
              "      <td>0.060911</td>\n",
              "      <td>0.120815</td>\n",
              "      <td>0.061948</td>\n",
              "    </tr>\n",
              "    <tr>\n",
              "      <th>212394</th>\n",
              "      <td>Final things</td>\n",
              "      <td>Grace's father believes in science and builds ...</td>\n",
              "      <td>['Jenny Offill']</td>\n",
              "      <td>2015</td>\n",
              "      <td>['Fiction']</td>\n",
              "      <td>Grace's father believes in science and builds ...</td>\n",
              "      <td>en</td>\n",
              "      <td>0.058780</td>\n",
              "      <td>0.056405</td>\n",
              "      <td>0.055993</td>\n",
              "      <td>0.077312</td>\n",
              "      <td>0.604928</td>\n",
              "      <td>0.058690</td>\n",
              "      <td>0.087891</td>\n",
              "    </tr>\n",
              "    <tr>\n",
              "      <th>212398</th>\n",
              "      <td>Autodesk Inventor 10 Essentials Plus</td>\n",
              "      <td>Autodesk Inventor 2017 Essentials Plus provide...</td>\n",
              "      <td>['Daniel Banach', 'Travis Jones']</td>\n",
              "      <td>2016</td>\n",
              "      <td>['Computers']</td>\n",
              "      <td>Autodesk Inventor 2017 Essentials Plus provide...</td>\n",
              "      <td>en</td>\n",
              "      <td>0.057221</td>\n",
              "      <td>0.286917</td>\n",
              "      <td>0.451048</td>\n",
              "      <td>0.053184</td>\n",
              "      <td>0.047131</td>\n",
              "      <td>0.053911</td>\n",
              "      <td>0.050588</td>\n",
              "    </tr>\n",
              "    <tr>\n",
              "      <th>212401</th>\n",
              "      <td>Mamaw</td>\n",
              "      <td>Give your Mamaw a useful, beautiful and though...</td>\n",
              "      <td>['Wild Wild Cabbage']</td>\n",
              "      <td>2018</td>\n",
              "      <td>NaN</td>\n",
              "      <td>Give your Mamaw a useful, beautiful and though...</td>\n",
              "      <td>en</td>\n",
              "      <td>0.071210</td>\n",
              "      <td>0.113667</td>\n",
              "      <td>0.081025</td>\n",
              "      <td>0.233818</td>\n",
              "      <td>0.134653</td>\n",
              "      <td>0.081190</td>\n",
              "      <td>0.284437</td>\n",
              "    </tr>\n",
              "  </tbody>\n",
              "</table>\n",
              "<p>44599 rows × 14 columns</p>\n",
              "</div>"
            ],
            "text/plain": [
              "                                                    Title  \\\n",
              "12       Mensa Number Puzzles (Mensa Word Games for Kids)   \n",
              "13      Vector Quantization and Signal Compression (Th...   \n",
              "14                                   A husband for Kutani   \n",
              "16      The Ultimate Guide to Law School Admission: In...   \n",
              "17      The Repeal of Reticence: A History of America'...   \n",
              "...                                                   ...   \n",
              "212348  Watercolor: For the Artistically Undiscovered ...   \n",
              "212375                       Sell and Re-Sell Your Photos   \n",
              "212394                                       Final things   \n",
              "212398               Autodesk Inventor 10 Essentials Plus   \n",
              "212401                                              Mamaw   \n",
              "\n",
              "                                              description  \\\n",
              "12      Acclaimed teacher and puzzler Evelyn B. Christ...   \n",
              "13      Herb Caen, a popular columnist for the San Fra...   \n",
              "14      First published in 1938, this is a collection ...   \n",
              "16      This collection brings together a distinguishe...   \n",
              "17      At a time when America's faculties of taste an...   \n",
              "...                                                   ...   \n",
              "212348  Put the brush in your hand. Stick it in the wa...   \n",
              "212375  Sell your photos again and again! Live anywher...   \n",
              "212394  Grace's father believes in science and builds ...   \n",
              "212398  Autodesk Inventor 2017 Essentials Plus provide...   \n",
              "212401  Give your Mamaw a useful, beautiful and though...   \n",
              "\n",
              "                                   authors publishedDate  \\\n",
              "12               ['Evelyn B. Christensen']          2018   \n",
              "13      ['Allen Gersho', 'Robert M. Gray']          2012   \n",
              "14                          ['Frank Owen']          2018   \n",
              "16                        ['Fiona Cownie']          2010   \n",
              "17                   ['Rochelle Gurstein']          2016   \n",
              "...                                    ...           ...   \n",
              "212348    ['Thacher Hurd', 'John Cassidy']          2017   \n",
              "212375    ['Rohn Engh', 'Mikael Karlsson']          2016   \n",
              "212394                    ['Jenny Offill']          2015   \n",
              "212398   ['Daniel Banach', 'Travis Jones']          2016   \n",
              "212401               ['Wild Wild Cabbage']          2018   \n",
              "\n",
              "                          categories  \\\n",
              "12           ['Juvenile Nonfiction']   \n",
              "13      ['Technology & Engineering']   \n",
              "14                       ['History']   \n",
              "16                           ['Law']   \n",
              "17             ['Political Science']   \n",
              "...                              ...   \n",
              "212348                       ['Art']   \n",
              "212375               ['Photography']   \n",
              "212394                   ['Fiction']   \n",
              "212398                 ['Computers']   \n",
              "212401                           NaN   \n",
              "\n",
              "                                                 new_desc lang    topic1  \\\n",
              "12      Acclaimed teacher and puzzler Evelyn B. Christ...   en  0.081379   \n",
              "13      Herb Caen, a popular columnist for the San Fra...   en  0.281639   \n",
              "14      First published in 1938, this is a collection ...   en  0.079303   \n",
              "16      This collection brings together a distinguishe...   en  0.140504   \n",
              "17      At a time when America's faculties of taste an...   en  0.169678   \n",
              "...                                                   ...  ...       ...   \n",
              "212348  Put the brush in your hand. Stick it in the wa...   en  0.060808   \n",
              "212375  Sell your photos again and again! Live anywher...   en  0.056735   \n",
              "212394  Grace's father believes in science and builds ...   en  0.058780   \n",
              "212398  Autodesk Inventor 2017 Essentials Plus provide...   en  0.057221   \n",
              "212401  Give your Mamaw a useful, beautiful and though...   en  0.071210   \n",
              "\n",
              "          topic2    topic3    topic4    topic5    topic6    topic7  \n",
              "12      0.206227  0.368441  0.074345  0.093401  0.071278  0.104929  \n",
              "13      0.166511  0.293628  0.065531  0.059910  0.065226  0.067555  \n",
              "14      0.154894  0.067302  0.214772  0.250086  0.110496  0.123148  \n",
              "16      0.069417  0.428557  0.091853  0.068621  0.115173  0.085873  \n",
              "17      0.070360  0.144317  0.102388  0.102878  0.352481  0.057897  \n",
              "...          ...       ...       ...       ...       ...       ...  \n",
              "212348  0.403781  0.083427  0.081929  0.241133  0.060765  0.068156  \n",
              "212375  0.290012  0.332104  0.077475  0.060911  0.120815  0.061948  \n",
              "212394  0.056405  0.055993  0.077312  0.604928  0.058690  0.087891  \n",
              "212398  0.286917  0.451048  0.053184  0.047131  0.053911  0.050588  \n",
              "212401  0.113667  0.081025  0.233818  0.134653  0.081190  0.284437  \n",
              "\n",
              "[44599 rows x 14 columns]"
            ]
          },
          "execution_count": 156,
          "metadata": {},
          "output_type": "execute_result"
        }
      ],
      "source": [
        "import numpy as np\n",
        "df_books_en[\"publishedDate\"].replace(\"\",np.nan, inplace=True)\n",
        "df_books_en = df_books_en.dropna(subset = [\"publishedDate\"])\n",
        "df_years = df_books_en[(df_books_en[\"publishedDate\"].apply(int) > 2009) & (df_books_en[\"publishedDate\"].apply(int) < 2023)]\n",
        "df_years"
      ]
    },
    {
      "cell_type": "code",
      "execution_count": 158,
      "metadata": {},
      "outputs": [
        {
          "data": {
            "application/vnd.plotly.v1+json": {
              "config": {
                "plotlyServerURL": "https://plot.ly"
              },
              "data": [
                {
                  "name": "academia",
                  "type": "bar",
                  "x": [
                    "2010",
                    "2011",
                    "2012",
                    "2013",
                    "2014",
                    "2015",
                    "2016",
                    "2017",
                    "2018",
                    "2019",
                    "2020",
                    "2021",
                    "2022"
                  ],
                  "y": [
                    0.12357477843761444,
                    0.11888212710618973,
                    0.14156223833560944,
                    0.1472335308790207,
                    0.1289248913526535,
                    0.12713852524757385,
                    0.13040012121200562,
                    0.13638938963413239,
                    0.13708065450191498,
                    0.12440983206033707,
                    0.12407881766557693,
                    0.12278610467910767,
                    0.12012480944395065
                  ]
                },
                {
                  "name": "art",
                  "type": "bar",
                  "x": [
                    "2010",
                    "2011",
                    "2012",
                    "2013",
                    "2014",
                    "2015",
                    "2016",
                    "2017",
                    "2018",
                    "2019",
                    "2020",
                    "2021",
                    "2022"
                  ],
                  "y": [
                    0.11250896751880646,
                    0.1110907718539238,
                    0.12297088652849197,
                    0.12144735455513,
                    0.11299629509449005,
                    0.11780162155628204,
                    0.1155276969075203,
                    0.12035758048295975,
                    0.12428213655948639,
                    0.15169616043567657,
                    0.11707067489624023,
                    0.1332382708787918,
                    0.1213950663805008
                  ]
                },
                {
                  "name": "student help",
                  "type": "bar",
                  "x": [
                    "2010",
                    "2011",
                    "2012",
                    "2013",
                    "2014",
                    "2015",
                    "2016",
                    "2017",
                    "2018",
                    "2019",
                    "2020",
                    "2021",
                    "2022"
                  ],
                  "y": [
                    0.1557418406009674,
                    0.15526430308818817,
                    0.153970867395401,
                    0.15240295231342316,
                    0.1465640813112259,
                    0.1535332351922989,
                    0.15539132058620453,
                    0.15425299108028412,
                    0.15304721891880035,
                    0.15290088951587677,
                    0.1513008326292038,
                    0.12926551699638367,
                    0.12377537041902542
                  ]
                },
                {
                  "name": "religion",
                  "type": "bar",
                  "x": [
                    "2010",
                    "2011",
                    "2012",
                    "2013",
                    "2014",
                    "2015",
                    "2016",
                    "2017",
                    "2018",
                    "2019",
                    "2020",
                    "2021",
                    "2022"
                  ],
                  "y": [
                    0.1205342710018158,
                    0.11834225803613663,
                    0.11764825880527496,
                    0.11950631439685822,
                    0.11342909932136536,
                    0.11554069817066193,
                    0.12558768689632416,
                    0.12326806783676147,
                    0.11979513615369797,
                    0.11549437046051025,
                    0.120642751455307,
                    0.11489557474851608,
                    0.11518936604261398
                  ]
                },
                {
                  "name": "fiction & romance",
                  "type": "bar",
                  "x": [
                    "2010",
                    "2011",
                    "2012",
                    "2013",
                    "2014",
                    "2015",
                    "2016",
                    "2017",
                    "2018",
                    "2019",
                    "2020",
                    "2021",
                    "2022"
                  ],
                  "y": [
                    0.24532577395439148,
                    0.25172120332717896,
                    0.21750408411026,
                    0.20988035202026367,
                    0.24589155614376068,
                    0.23257669806480408,
                    0.21883879601955414,
                    0.2175932228565216,
                    0.21877121925354004,
                    0.21750621497631073,
                    0.2393255978822708,
                    0.24361680448055267,
                    0.2610826790332794
                  ]
                },
                {
                  "name": "american war history",
                  "type": "bar",
                  "x": [
                    "2010",
                    "2011",
                    "2012",
                    "2013",
                    "2014",
                    "2015",
                    "2016",
                    "2017",
                    "2018",
                    "2019",
                    "2020",
                    "2021",
                    "2022"
                  ],
                  "y": [
                    0.11451726406812668,
                    0.1169251799583435,
                    0.11585269868373871,
                    0.1176343485713005,
                    0.11482929438352585,
                    0.118222177028656,
                    0.11752519756555557,
                    0.12149109691381454,
                    0.11760484427213669,
                    0.11090441793203354,
                    0.11205356568098068,
                    0.11800508201122284,
                    0.11738849431276321
                  ]
                },
                {
                  "name": "children books",
                  "type": "bar",
                  "x": [
                    "2010",
                    "2011",
                    "2012",
                    "2013",
                    "2014",
                    "2015",
                    "2016",
                    "2017",
                    "2018",
                    "2019",
                    "2020",
                    "2021",
                    "2022"
                  ],
                  "y": [
                    0.12779709696769714,
                    0.1277741640806198,
                    0.1304909884929657,
                    0.13189513981342316,
                    0.13736477494239807,
                    0.1351870447397232,
                    0.1367291808128357,
                    0.12664765119552612,
                    0.12941879034042358,
                    0.12708811461925507,
                    0.13552775979042053,
                    0.13819265365600586,
                    0.14104421436786652
                  ]
                }
              ],
              "layout": {
                "barmode": "group",
                "template": {
                  "data": {
                    "bar": [
                      {
                        "error_x": {
                          "color": "#2a3f5f"
                        },
                        "error_y": {
                          "color": "#2a3f5f"
                        },
                        "marker": {
                          "line": {
                            "color": "#E5ECF6",
                            "width": 0.5
                          },
                          "pattern": {
                            "fillmode": "overlay",
                            "size": 10,
                            "solidity": 0.2
                          }
                        },
                        "type": "bar"
                      }
                    ],
                    "barpolar": [
                      {
                        "marker": {
                          "line": {
                            "color": "#E5ECF6",
                            "width": 0.5
                          },
                          "pattern": {
                            "fillmode": "overlay",
                            "size": 10,
                            "solidity": 0.2
                          }
                        },
                        "type": "barpolar"
                      }
                    ],
                    "carpet": [
                      {
                        "aaxis": {
                          "endlinecolor": "#2a3f5f",
                          "gridcolor": "white",
                          "linecolor": "white",
                          "minorgridcolor": "white",
                          "startlinecolor": "#2a3f5f"
                        },
                        "baxis": {
                          "endlinecolor": "#2a3f5f",
                          "gridcolor": "white",
                          "linecolor": "white",
                          "minorgridcolor": "white",
                          "startlinecolor": "#2a3f5f"
                        },
                        "type": "carpet"
                      }
                    ],
                    "choropleth": [
                      {
                        "colorbar": {
                          "outlinewidth": 0,
                          "ticks": ""
                        },
                        "type": "choropleth"
                      }
                    ],
                    "contour": [
                      {
                        "colorbar": {
                          "outlinewidth": 0,
                          "ticks": ""
                        },
                        "colorscale": [
                          [
                            0,
                            "#0d0887"
                          ],
                          [
                            0.1111111111111111,
                            "#46039f"
                          ],
                          [
                            0.2222222222222222,
                            "#7201a8"
                          ],
                          [
                            0.3333333333333333,
                            "#9c179e"
                          ],
                          [
                            0.4444444444444444,
                            "#bd3786"
                          ],
                          [
                            0.5555555555555556,
                            "#d8576b"
                          ],
                          [
                            0.6666666666666666,
                            "#ed7953"
                          ],
                          [
                            0.7777777777777778,
                            "#fb9f3a"
                          ],
                          [
                            0.8888888888888888,
                            "#fdca26"
                          ],
                          [
                            1,
                            "#f0f921"
                          ]
                        ],
                        "type": "contour"
                      }
                    ],
                    "contourcarpet": [
                      {
                        "colorbar": {
                          "outlinewidth": 0,
                          "ticks": ""
                        },
                        "type": "contourcarpet"
                      }
                    ],
                    "heatmap": [
                      {
                        "colorbar": {
                          "outlinewidth": 0,
                          "ticks": ""
                        },
                        "colorscale": [
                          [
                            0,
                            "#0d0887"
                          ],
                          [
                            0.1111111111111111,
                            "#46039f"
                          ],
                          [
                            0.2222222222222222,
                            "#7201a8"
                          ],
                          [
                            0.3333333333333333,
                            "#9c179e"
                          ],
                          [
                            0.4444444444444444,
                            "#bd3786"
                          ],
                          [
                            0.5555555555555556,
                            "#d8576b"
                          ],
                          [
                            0.6666666666666666,
                            "#ed7953"
                          ],
                          [
                            0.7777777777777778,
                            "#fb9f3a"
                          ],
                          [
                            0.8888888888888888,
                            "#fdca26"
                          ],
                          [
                            1,
                            "#f0f921"
                          ]
                        ],
                        "type": "heatmap"
                      }
                    ],
                    "heatmapgl": [
                      {
                        "colorbar": {
                          "outlinewidth": 0,
                          "ticks": ""
                        },
                        "colorscale": [
                          [
                            0,
                            "#0d0887"
                          ],
                          [
                            0.1111111111111111,
                            "#46039f"
                          ],
                          [
                            0.2222222222222222,
                            "#7201a8"
                          ],
                          [
                            0.3333333333333333,
                            "#9c179e"
                          ],
                          [
                            0.4444444444444444,
                            "#bd3786"
                          ],
                          [
                            0.5555555555555556,
                            "#d8576b"
                          ],
                          [
                            0.6666666666666666,
                            "#ed7953"
                          ],
                          [
                            0.7777777777777778,
                            "#fb9f3a"
                          ],
                          [
                            0.8888888888888888,
                            "#fdca26"
                          ],
                          [
                            1,
                            "#f0f921"
                          ]
                        ],
                        "type": "heatmapgl"
                      }
                    ],
                    "histogram": [
                      {
                        "marker": {
                          "pattern": {
                            "fillmode": "overlay",
                            "size": 10,
                            "solidity": 0.2
                          }
                        },
                        "type": "histogram"
                      }
                    ],
                    "histogram2d": [
                      {
                        "colorbar": {
                          "outlinewidth": 0,
                          "ticks": ""
                        },
                        "colorscale": [
                          [
                            0,
                            "#0d0887"
                          ],
                          [
                            0.1111111111111111,
                            "#46039f"
                          ],
                          [
                            0.2222222222222222,
                            "#7201a8"
                          ],
                          [
                            0.3333333333333333,
                            "#9c179e"
                          ],
                          [
                            0.4444444444444444,
                            "#bd3786"
                          ],
                          [
                            0.5555555555555556,
                            "#d8576b"
                          ],
                          [
                            0.6666666666666666,
                            "#ed7953"
                          ],
                          [
                            0.7777777777777778,
                            "#fb9f3a"
                          ],
                          [
                            0.8888888888888888,
                            "#fdca26"
                          ],
                          [
                            1,
                            "#f0f921"
                          ]
                        ],
                        "type": "histogram2d"
                      }
                    ],
                    "histogram2dcontour": [
                      {
                        "colorbar": {
                          "outlinewidth": 0,
                          "ticks": ""
                        },
                        "colorscale": [
                          [
                            0,
                            "#0d0887"
                          ],
                          [
                            0.1111111111111111,
                            "#46039f"
                          ],
                          [
                            0.2222222222222222,
                            "#7201a8"
                          ],
                          [
                            0.3333333333333333,
                            "#9c179e"
                          ],
                          [
                            0.4444444444444444,
                            "#bd3786"
                          ],
                          [
                            0.5555555555555556,
                            "#d8576b"
                          ],
                          [
                            0.6666666666666666,
                            "#ed7953"
                          ],
                          [
                            0.7777777777777778,
                            "#fb9f3a"
                          ],
                          [
                            0.8888888888888888,
                            "#fdca26"
                          ],
                          [
                            1,
                            "#f0f921"
                          ]
                        ],
                        "type": "histogram2dcontour"
                      }
                    ],
                    "mesh3d": [
                      {
                        "colorbar": {
                          "outlinewidth": 0,
                          "ticks": ""
                        },
                        "type": "mesh3d"
                      }
                    ],
                    "parcoords": [
                      {
                        "line": {
                          "colorbar": {
                            "outlinewidth": 0,
                            "ticks": ""
                          }
                        },
                        "type": "parcoords"
                      }
                    ],
                    "pie": [
                      {
                        "automargin": true,
                        "type": "pie"
                      }
                    ],
                    "scatter": [
                      {
                        "fillpattern": {
                          "fillmode": "overlay",
                          "size": 10,
                          "solidity": 0.2
                        },
                        "type": "scatter"
                      }
                    ],
                    "scatter3d": [
                      {
                        "line": {
                          "colorbar": {
                            "outlinewidth": 0,
                            "ticks": ""
                          }
                        },
                        "marker": {
                          "colorbar": {
                            "outlinewidth": 0,
                            "ticks": ""
                          }
                        },
                        "type": "scatter3d"
                      }
                    ],
                    "scattercarpet": [
                      {
                        "marker": {
                          "colorbar": {
                            "outlinewidth": 0,
                            "ticks": ""
                          }
                        },
                        "type": "scattercarpet"
                      }
                    ],
                    "scattergeo": [
                      {
                        "marker": {
                          "colorbar": {
                            "outlinewidth": 0,
                            "ticks": ""
                          }
                        },
                        "type": "scattergeo"
                      }
                    ],
                    "scattergl": [
                      {
                        "marker": {
                          "colorbar": {
                            "outlinewidth": 0,
                            "ticks": ""
                          }
                        },
                        "type": "scattergl"
                      }
                    ],
                    "scattermapbox": [
                      {
                        "marker": {
                          "colorbar": {
                            "outlinewidth": 0,
                            "ticks": ""
                          }
                        },
                        "type": "scattermapbox"
                      }
                    ],
                    "scatterpolar": [
                      {
                        "marker": {
                          "colorbar": {
                            "outlinewidth": 0,
                            "ticks": ""
                          }
                        },
                        "type": "scatterpolar"
                      }
                    ],
                    "scatterpolargl": [
                      {
                        "marker": {
                          "colorbar": {
                            "outlinewidth": 0,
                            "ticks": ""
                          }
                        },
                        "type": "scatterpolargl"
                      }
                    ],
                    "scatterternary": [
                      {
                        "marker": {
                          "colorbar": {
                            "outlinewidth": 0,
                            "ticks": ""
                          }
                        },
                        "type": "scatterternary"
                      }
                    ],
                    "surface": [
                      {
                        "colorbar": {
                          "outlinewidth": 0,
                          "ticks": ""
                        },
                        "colorscale": [
                          [
                            0,
                            "#0d0887"
                          ],
                          [
                            0.1111111111111111,
                            "#46039f"
                          ],
                          [
                            0.2222222222222222,
                            "#7201a8"
                          ],
                          [
                            0.3333333333333333,
                            "#9c179e"
                          ],
                          [
                            0.4444444444444444,
                            "#bd3786"
                          ],
                          [
                            0.5555555555555556,
                            "#d8576b"
                          ],
                          [
                            0.6666666666666666,
                            "#ed7953"
                          ],
                          [
                            0.7777777777777778,
                            "#fb9f3a"
                          ],
                          [
                            0.8888888888888888,
                            "#fdca26"
                          ],
                          [
                            1,
                            "#f0f921"
                          ]
                        ],
                        "type": "surface"
                      }
                    ],
                    "table": [
                      {
                        "cells": {
                          "fill": {
                            "color": "#EBF0F8"
                          },
                          "line": {
                            "color": "white"
                          }
                        },
                        "header": {
                          "fill": {
                            "color": "#C8D4E3"
                          },
                          "line": {
                            "color": "white"
                          }
                        },
                        "type": "table"
                      }
                    ]
                  },
                  "layout": {
                    "annotationdefaults": {
                      "arrowcolor": "#2a3f5f",
                      "arrowhead": 0,
                      "arrowwidth": 1
                    },
                    "autotypenumbers": "strict",
                    "coloraxis": {
                      "colorbar": {
                        "outlinewidth": 0,
                        "ticks": ""
                      }
                    },
                    "colorscale": {
                      "diverging": [
                        [
                          0,
                          "#8e0152"
                        ],
                        [
                          0.1,
                          "#c51b7d"
                        ],
                        [
                          0.2,
                          "#de77ae"
                        ],
                        [
                          0.3,
                          "#f1b6da"
                        ],
                        [
                          0.4,
                          "#fde0ef"
                        ],
                        [
                          0.5,
                          "#f7f7f7"
                        ],
                        [
                          0.6,
                          "#e6f5d0"
                        ],
                        [
                          0.7,
                          "#b8e186"
                        ],
                        [
                          0.8,
                          "#7fbc41"
                        ],
                        [
                          0.9,
                          "#4d9221"
                        ],
                        [
                          1,
                          "#276419"
                        ]
                      ],
                      "sequential": [
                        [
                          0,
                          "#0d0887"
                        ],
                        [
                          0.1111111111111111,
                          "#46039f"
                        ],
                        [
                          0.2222222222222222,
                          "#7201a8"
                        ],
                        [
                          0.3333333333333333,
                          "#9c179e"
                        ],
                        [
                          0.4444444444444444,
                          "#bd3786"
                        ],
                        [
                          0.5555555555555556,
                          "#d8576b"
                        ],
                        [
                          0.6666666666666666,
                          "#ed7953"
                        ],
                        [
                          0.7777777777777778,
                          "#fb9f3a"
                        ],
                        [
                          0.8888888888888888,
                          "#fdca26"
                        ],
                        [
                          1,
                          "#f0f921"
                        ]
                      ],
                      "sequentialminus": [
                        [
                          0,
                          "#0d0887"
                        ],
                        [
                          0.1111111111111111,
                          "#46039f"
                        ],
                        [
                          0.2222222222222222,
                          "#7201a8"
                        ],
                        [
                          0.3333333333333333,
                          "#9c179e"
                        ],
                        [
                          0.4444444444444444,
                          "#bd3786"
                        ],
                        [
                          0.5555555555555556,
                          "#d8576b"
                        ],
                        [
                          0.6666666666666666,
                          "#ed7953"
                        ],
                        [
                          0.7777777777777778,
                          "#fb9f3a"
                        ],
                        [
                          0.8888888888888888,
                          "#fdca26"
                        ],
                        [
                          1,
                          "#f0f921"
                        ]
                      ]
                    },
                    "colorway": [
                      "#636efa",
                      "#EF553B",
                      "#00cc96",
                      "#ab63fa",
                      "#FFA15A",
                      "#19d3f3",
                      "#FF6692",
                      "#B6E880",
                      "#FF97FF",
                      "#FECB52"
                    ],
                    "font": {
                      "color": "#2a3f5f"
                    },
                    "geo": {
                      "bgcolor": "white",
                      "lakecolor": "white",
                      "landcolor": "#E5ECF6",
                      "showlakes": true,
                      "showland": true,
                      "subunitcolor": "white"
                    },
                    "hoverlabel": {
                      "align": "left"
                    },
                    "hovermode": "closest",
                    "mapbox": {
                      "style": "light"
                    },
                    "paper_bgcolor": "white",
                    "plot_bgcolor": "#E5ECF6",
                    "polar": {
                      "angularaxis": {
                        "gridcolor": "white",
                        "linecolor": "white",
                        "ticks": ""
                      },
                      "bgcolor": "#E5ECF6",
                      "radialaxis": {
                        "gridcolor": "white",
                        "linecolor": "white",
                        "ticks": ""
                      }
                    },
                    "scene": {
                      "xaxis": {
                        "backgroundcolor": "#E5ECF6",
                        "gridcolor": "white",
                        "gridwidth": 2,
                        "linecolor": "white",
                        "showbackground": true,
                        "ticks": "",
                        "zerolinecolor": "white"
                      },
                      "yaxis": {
                        "backgroundcolor": "#E5ECF6",
                        "gridcolor": "white",
                        "gridwidth": 2,
                        "linecolor": "white",
                        "showbackground": true,
                        "ticks": "",
                        "zerolinecolor": "white"
                      },
                      "zaxis": {
                        "backgroundcolor": "#E5ECF6",
                        "gridcolor": "white",
                        "gridwidth": 2,
                        "linecolor": "white",
                        "showbackground": true,
                        "ticks": "",
                        "zerolinecolor": "white"
                      }
                    },
                    "shapedefaults": {
                      "line": {
                        "color": "#2a3f5f"
                      }
                    },
                    "ternary": {
                      "aaxis": {
                        "gridcolor": "white",
                        "linecolor": "white",
                        "ticks": ""
                      },
                      "baxis": {
                        "gridcolor": "white",
                        "linecolor": "white",
                        "ticks": ""
                      },
                      "bgcolor": "#E5ECF6",
                      "caxis": {
                        "gridcolor": "white",
                        "linecolor": "white",
                        "ticks": ""
                      }
                    },
                    "title": {
                      "x": 0.05
                    },
                    "xaxis": {
                      "automargin": true,
                      "gridcolor": "white",
                      "linecolor": "white",
                      "ticks": "",
                      "title": {
                        "standoff": 15
                      },
                      "zerolinecolor": "white",
                      "zerolinewidth": 2
                    },
                    "yaxis": {
                      "automargin": true,
                      "gridcolor": "white",
                      "linecolor": "white",
                      "ticks": "",
                      "title": {
                        "standoff": 15
                      },
                      "zerolinecolor": "white",
                      "zerolinewidth": 2
                    }
                  }
                }
              }
            }
          },
          "metadata": {},
          "output_type": "display_data"
        }
      ],
      "source": [
        "df_years = df_years.groupby(df_years.publishedDate).mean()\n",
        "\n",
        "fig = go.Figure(data=[\n",
        "    go.Bar(name=\"academia\", x=df_years.index, y=df_years[\"topic1\"]),\n",
        "    go.Bar(name=\"art\", x=df_years.index, y=df_years[\"topic2\"]),\n",
        "    go.Bar(name=\"student help\", x=df_years.index, y=df_years[\"topic3\"]),\n",
        "    go.Bar(name=\"religion\", x=df_years.index, y=df_years[\"topic4\"]),\n",
        "    go.Bar(name=\"fiction & romance\", x=df_years.index, y=df_years[\"topic5\"]),\n",
        "    go.Bar(name=\"american war history\", x=df_years.index, y=df_years[\"topic6\"]),\n",
        "    go.Bar(name=\"children books\", x=df_years.index, y=df_years[\"topic7\"]),\n",
        "\n",
        "])\n",
        "# Change the bar mode\n",
        "fig.update_layout(barmode='group')\n",
        "fig.show()"
      ]
    },
    {
      "cell_type": "markdown",
      "metadata": {},
      "source": [
        "Some notable observations from the bar chart above:\n",
        "- In the last three years the popularity of books related to **fiction & romance** have gone up. This could be due to the difficult times due to the pandemic which undoubtedly left lots of people with desires of affection and human contact. \n",
        "link: https://www.frontiersin.org/articles/10.3389/fpsyg.2021.798260/full\n",
        "- There was a noticeable increase in popularity of books related to **academia** in during 2012-2013. This could be linked to the boom in popularity of massive open online courses - MOOCs in those years. Since academic books are one of the most essential supplements to an education, it could be that the boom in MOOCs cause an increase in the production of academic texts.  \n",
        "link: https://onlinelearninginsights.wordpress.com/2012/12/21/what-the-heck-happened-in-2012-review-of-the-top-three-events-in-education/\n"
      ]
    },
    {
      "cell_type": "markdown",
      "metadata": {},
      "source": [
        "# Sentiment Analysis\n",
        "In this section we will analyze the reviews from various users and perform sentiment analysis. This is a useful application in NLP since it can be used to know the sentiment towards a specific book based on the reviews. This information can be used by publishing companies and authors alike to know which products are liked most and what the public likes/dislikes.\n",
        "\n",
        "In particular we will use the reviews dataset which we saw earlier."
      ]
    },
    {
      "cell_type": "code",
      "execution_count": 3,
      "metadata": {},
      "outputs": [],
      "source": [
        "df_reviews = pd.read_csv(\"./DataSet/Books_rating.csv\" )"
      ]
    },
    {
      "cell_type": "code",
      "execution_count": 4,
      "metadata": {},
      "outputs": [
        {
          "name": "stdout",
          "output_type": "stream",
          "text": [
            "The Data Set contains 3.0 million reviews\n"
          ]
        },
        {
          "data": {
            "text/html": [
              "<div>\n",
              "<style scoped>\n",
              "    .dataframe tbody tr th:only-of-type {\n",
              "        vertical-align: middle;\n",
              "    }\n",
              "\n",
              "    .dataframe tbody tr th {\n",
              "        vertical-align: top;\n",
              "    }\n",
              "\n",
              "    .dataframe thead th {\n",
              "        text-align: right;\n",
              "    }\n",
              "</style>\n",
              "<table border=\"1\" class=\"dataframe\">\n",
              "  <thead>\n",
              "    <tr style=\"text-align: right;\">\n",
              "      <th></th>\n",
              "      <th>Id</th>\n",
              "      <th>Title</th>\n",
              "      <th>Price</th>\n",
              "      <th>User_id</th>\n",
              "      <th>profileName</th>\n",
              "      <th>helpfulness</th>\n",
              "      <th>score</th>\n",
              "      <th>time</th>\n",
              "      <th>summary</th>\n",
              "      <th>text</th>\n",
              "    </tr>\n",
              "  </thead>\n",
              "  <tbody>\n",
              "    <tr>\n",
              "      <th>0</th>\n",
              "      <td>1882931173</td>\n",
              "      <td>Its Only Art If Its Well Hung!</td>\n",
              "      <td>NaN</td>\n",
              "      <td>AVCGYZL8FQQTD</td>\n",
              "      <td>Jim of Oz \"jim-of-oz\"</td>\n",
              "      <td>7/7</td>\n",
              "      <td>4.0</td>\n",
              "      <td>940636800</td>\n",
              "      <td>Nice collection of Julie Strain images</td>\n",
              "      <td>This is only for Julie Strain fans. It's a col...</td>\n",
              "    </tr>\n",
              "    <tr>\n",
              "      <th>1</th>\n",
              "      <td>0826414346</td>\n",
              "      <td>Dr. Seuss: American Icon</td>\n",
              "      <td>NaN</td>\n",
              "      <td>A30TK6U7DNS82R</td>\n",
              "      <td>Kevin Killian</td>\n",
              "      <td>10/10</td>\n",
              "      <td>5.0</td>\n",
              "      <td>1095724800</td>\n",
              "      <td>Really Enjoyed It</td>\n",
              "      <td>I don't care much for Dr. Seuss but after read...</td>\n",
              "    </tr>\n",
              "    <tr>\n",
              "      <th>2</th>\n",
              "      <td>0826414346</td>\n",
              "      <td>Dr. Seuss: American Icon</td>\n",
              "      <td>NaN</td>\n",
              "      <td>A3UH4UZ4RSVO82</td>\n",
              "      <td>John Granger</td>\n",
              "      <td>10/11</td>\n",
              "      <td>5.0</td>\n",
              "      <td>1078790400</td>\n",
              "      <td>Essential for every personal and Public Library</td>\n",
              "      <td>If people become the books they read and if \"t...</td>\n",
              "    </tr>\n",
              "    <tr>\n",
              "      <th>3</th>\n",
              "      <td>0826414346</td>\n",
              "      <td>Dr. Seuss: American Icon</td>\n",
              "      <td>NaN</td>\n",
              "      <td>A2MVUWT453QH61</td>\n",
              "      <td>Roy E. Perry \"amateur philosopher\"</td>\n",
              "      <td>7/7</td>\n",
              "      <td>4.0</td>\n",
              "      <td>1090713600</td>\n",
              "      <td>Phlip Nel gives silly Seuss a serious treatment</td>\n",
              "      <td>Theodore Seuss Geisel (1904-1991), aka &amp;quot;D...</td>\n",
              "    </tr>\n",
              "    <tr>\n",
              "      <th>4</th>\n",
              "      <td>0826414346</td>\n",
              "      <td>Dr. Seuss: American Icon</td>\n",
              "      <td>NaN</td>\n",
              "      <td>A22X4XUPKF66MR</td>\n",
              "      <td>D. H. Richards \"ninthwavestore\"</td>\n",
              "      <td>3/3</td>\n",
              "      <td>4.0</td>\n",
              "      <td>1107993600</td>\n",
              "      <td>Good academic overview</td>\n",
              "      <td>Philip Nel - Dr. Seuss: American IconThis is b...</td>\n",
              "    </tr>\n",
              "  </tbody>\n",
              "</table>\n",
              "</div>"
            ],
            "text/plain": [
              "           Id                           Title  Price         User_id  \\\n",
              "0  1882931173  Its Only Art If Its Well Hung!    NaN   AVCGYZL8FQQTD   \n",
              "1  0826414346        Dr. Seuss: American Icon    NaN  A30TK6U7DNS82R   \n",
              "2  0826414346        Dr. Seuss: American Icon    NaN  A3UH4UZ4RSVO82   \n",
              "3  0826414346        Dr. Seuss: American Icon    NaN  A2MVUWT453QH61   \n",
              "4  0826414346        Dr. Seuss: American Icon    NaN  A22X4XUPKF66MR   \n",
              "\n",
              "                          profileName helpfulness  score        time  \\\n",
              "0               Jim of Oz \"jim-of-oz\"         7/7    4.0   940636800   \n",
              "1                       Kevin Killian       10/10    5.0  1095724800   \n",
              "2                        John Granger       10/11    5.0  1078790400   \n",
              "3  Roy E. Perry \"amateur philosopher\"         7/7    4.0  1090713600   \n",
              "4     D. H. Richards \"ninthwavestore\"         3/3    4.0  1107993600   \n",
              "\n",
              "                                           summary  \\\n",
              "0           Nice collection of Julie Strain images   \n",
              "1                                Really Enjoyed It   \n",
              "2  Essential for every personal and Public Library   \n",
              "3  Phlip Nel gives silly Seuss a serious treatment   \n",
              "4                           Good academic overview   \n",
              "\n",
              "                                                text  \n",
              "0  This is only for Julie Strain fans. It's a col...  \n",
              "1  I don't care much for Dr. Seuss but after read...  \n",
              "2  If people become the books they read and if \"t...  \n",
              "3  Theodore Seuss Geisel (1904-1991), aka &quot;D...  \n",
              "4  Philip Nel - Dr. Seuss: American IconThis is b...  "
            ]
          },
          "execution_count": 4,
          "metadata": {},
          "output_type": "execute_result"
        }
      ],
      "source": [
        "print(f\"The Data Set contains {len(df_reviews)/1e6} million reviews\")\n",
        "df_reviews = df_reviews.rename(columns = {\"review/helpfulness\":\"helpfulness\", \"review/score\":\"score\", \"review/time\":\"time\", \"review/summary\":\"summary\", \"review/text\":\"text\"})\n",
        "\n",
        "df_reviews.head()\n"
      ]
    },
    {
      "cell_type": "markdown",
      "metadata": {},
      "source": [
        "### Analysis of Data Set\n",
        " \n",
        "We analyze the distribution of the scores and find the most frequent words for the positive and negative reviews."
      ]
    },
    {
      "cell_type": "code",
      "execution_count": 5,
      "metadata": {},
      "outputs": [
        {
          "data": {
            "application/vnd.plotly.v1+json": {
              "config": {
                "plotlyServerURL": "https://plot.ly"
              },
              "data": [
                {
                  "alignmentgroup": "True",
                  "hovertemplate": "variable=score<br>value=%{x}<br>index=%{y}<extra></extra>",
                  "legendgroup": "score",
                  "marker": {
                    "color": "#636efa",
                    "pattern": {
                      "shape": ""
                    }
                  },
                  "name": "score",
                  "offsetgroup": "score",
                  "orientation": "h",
                  "showlegend": true,
                  "textposition": "auto",
                  "type": "bar",
                  "x": [
                    1807343,
                    585616,
                    254295,
                    201688,
                    151058
                  ],
                  "xaxis": "x",
                  "y": [
                    5,
                    4,
                    3,
                    1,
                    2
                  ],
                  "yaxis": "y"
                }
              ],
              "layout": {
                "barmode": "relative",
                "legend": {
                  "title": {
                    "text": "variable"
                  },
                  "tracegroupgap": 0
                },
                "template": {
                  "data": {
                    "bar": [
                      {
                        "error_x": {
                          "color": "#2a3f5f"
                        },
                        "error_y": {
                          "color": "#2a3f5f"
                        },
                        "marker": {
                          "line": {
                            "color": "#E5ECF6",
                            "width": 0.5
                          },
                          "pattern": {
                            "fillmode": "overlay",
                            "size": 10,
                            "solidity": 0.2
                          }
                        },
                        "type": "bar"
                      }
                    ],
                    "barpolar": [
                      {
                        "marker": {
                          "line": {
                            "color": "#E5ECF6",
                            "width": 0.5
                          },
                          "pattern": {
                            "fillmode": "overlay",
                            "size": 10,
                            "solidity": 0.2
                          }
                        },
                        "type": "barpolar"
                      }
                    ],
                    "carpet": [
                      {
                        "aaxis": {
                          "endlinecolor": "#2a3f5f",
                          "gridcolor": "white",
                          "linecolor": "white",
                          "minorgridcolor": "white",
                          "startlinecolor": "#2a3f5f"
                        },
                        "baxis": {
                          "endlinecolor": "#2a3f5f",
                          "gridcolor": "white",
                          "linecolor": "white",
                          "minorgridcolor": "white",
                          "startlinecolor": "#2a3f5f"
                        },
                        "type": "carpet"
                      }
                    ],
                    "choropleth": [
                      {
                        "colorbar": {
                          "outlinewidth": 0,
                          "ticks": ""
                        },
                        "type": "choropleth"
                      }
                    ],
                    "contour": [
                      {
                        "colorbar": {
                          "outlinewidth": 0,
                          "ticks": ""
                        },
                        "colorscale": [
                          [
                            0,
                            "#0d0887"
                          ],
                          [
                            0.1111111111111111,
                            "#46039f"
                          ],
                          [
                            0.2222222222222222,
                            "#7201a8"
                          ],
                          [
                            0.3333333333333333,
                            "#9c179e"
                          ],
                          [
                            0.4444444444444444,
                            "#bd3786"
                          ],
                          [
                            0.5555555555555556,
                            "#d8576b"
                          ],
                          [
                            0.6666666666666666,
                            "#ed7953"
                          ],
                          [
                            0.7777777777777778,
                            "#fb9f3a"
                          ],
                          [
                            0.8888888888888888,
                            "#fdca26"
                          ],
                          [
                            1,
                            "#f0f921"
                          ]
                        ],
                        "type": "contour"
                      }
                    ],
                    "contourcarpet": [
                      {
                        "colorbar": {
                          "outlinewidth": 0,
                          "ticks": ""
                        },
                        "type": "contourcarpet"
                      }
                    ],
                    "heatmap": [
                      {
                        "colorbar": {
                          "outlinewidth": 0,
                          "ticks": ""
                        },
                        "colorscale": [
                          [
                            0,
                            "#0d0887"
                          ],
                          [
                            0.1111111111111111,
                            "#46039f"
                          ],
                          [
                            0.2222222222222222,
                            "#7201a8"
                          ],
                          [
                            0.3333333333333333,
                            "#9c179e"
                          ],
                          [
                            0.4444444444444444,
                            "#bd3786"
                          ],
                          [
                            0.5555555555555556,
                            "#d8576b"
                          ],
                          [
                            0.6666666666666666,
                            "#ed7953"
                          ],
                          [
                            0.7777777777777778,
                            "#fb9f3a"
                          ],
                          [
                            0.8888888888888888,
                            "#fdca26"
                          ],
                          [
                            1,
                            "#f0f921"
                          ]
                        ],
                        "type": "heatmap"
                      }
                    ],
                    "heatmapgl": [
                      {
                        "colorbar": {
                          "outlinewidth": 0,
                          "ticks": ""
                        },
                        "colorscale": [
                          [
                            0,
                            "#0d0887"
                          ],
                          [
                            0.1111111111111111,
                            "#46039f"
                          ],
                          [
                            0.2222222222222222,
                            "#7201a8"
                          ],
                          [
                            0.3333333333333333,
                            "#9c179e"
                          ],
                          [
                            0.4444444444444444,
                            "#bd3786"
                          ],
                          [
                            0.5555555555555556,
                            "#d8576b"
                          ],
                          [
                            0.6666666666666666,
                            "#ed7953"
                          ],
                          [
                            0.7777777777777778,
                            "#fb9f3a"
                          ],
                          [
                            0.8888888888888888,
                            "#fdca26"
                          ],
                          [
                            1,
                            "#f0f921"
                          ]
                        ],
                        "type": "heatmapgl"
                      }
                    ],
                    "histogram": [
                      {
                        "marker": {
                          "pattern": {
                            "fillmode": "overlay",
                            "size": 10,
                            "solidity": 0.2
                          }
                        },
                        "type": "histogram"
                      }
                    ],
                    "histogram2d": [
                      {
                        "colorbar": {
                          "outlinewidth": 0,
                          "ticks": ""
                        },
                        "colorscale": [
                          [
                            0,
                            "#0d0887"
                          ],
                          [
                            0.1111111111111111,
                            "#46039f"
                          ],
                          [
                            0.2222222222222222,
                            "#7201a8"
                          ],
                          [
                            0.3333333333333333,
                            "#9c179e"
                          ],
                          [
                            0.4444444444444444,
                            "#bd3786"
                          ],
                          [
                            0.5555555555555556,
                            "#d8576b"
                          ],
                          [
                            0.6666666666666666,
                            "#ed7953"
                          ],
                          [
                            0.7777777777777778,
                            "#fb9f3a"
                          ],
                          [
                            0.8888888888888888,
                            "#fdca26"
                          ],
                          [
                            1,
                            "#f0f921"
                          ]
                        ],
                        "type": "histogram2d"
                      }
                    ],
                    "histogram2dcontour": [
                      {
                        "colorbar": {
                          "outlinewidth": 0,
                          "ticks": ""
                        },
                        "colorscale": [
                          [
                            0,
                            "#0d0887"
                          ],
                          [
                            0.1111111111111111,
                            "#46039f"
                          ],
                          [
                            0.2222222222222222,
                            "#7201a8"
                          ],
                          [
                            0.3333333333333333,
                            "#9c179e"
                          ],
                          [
                            0.4444444444444444,
                            "#bd3786"
                          ],
                          [
                            0.5555555555555556,
                            "#d8576b"
                          ],
                          [
                            0.6666666666666666,
                            "#ed7953"
                          ],
                          [
                            0.7777777777777778,
                            "#fb9f3a"
                          ],
                          [
                            0.8888888888888888,
                            "#fdca26"
                          ],
                          [
                            1,
                            "#f0f921"
                          ]
                        ],
                        "type": "histogram2dcontour"
                      }
                    ],
                    "mesh3d": [
                      {
                        "colorbar": {
                          "outlinewidth": 0,
                          "ticks": ""
                        },
                        "type": "mesh3d"
                      }
                    ],
                    "parcoords": [
                      {
                        "line": {
                          "colorbar": {
                            "outlinewidth": 0,
                            "ticks": ""
                          }
                        },
                        "type": "parcoords"
                      }
                    ],
                    "pie": [
                      {
                        "automargin": true,
                        "type": "pie"
                      }
                    ],
                    "scatter": [
                      {
                        "fillpattern": {
                          "fillmode": "overlay",
                          "size": 10,
                          "solidity": 0.2
                        },
                        "type": "scatter"
                      }
                    ],
                    "scatter3d": [
                      {
                        "line": {
                          "colorbar": {
                            "outlinewidth": 0,
                            "ticks": ""
                          }
                        },
                        "marker": {
                          "colorbar": {
                            "outlinewidth": 0,
                            "ticks": ""
                          }
                        },
                        "type": "scatter3d"
                      }
                    ],
                    "scattercarpet": [
                      {
                        "marker": {
                          "colorbar": {
                            "outlinewidth": 0,
                            "ticks": ""
                          }
                        },
                        "type": "scattercarpet"
                      }
                    ],
                    "scattergeo": [
                      {
                        "marker": {
                          "colorbar": {
                            "outlinewidth": 0,
                            "ticks": ""
                          }
                        },
                        "type": "scattergeo"
                      }
                    ],
                    "scattergl": [
                      {
                        "marker": {
                          "colorbar": {
                            "outlinewidth": 0,
                            "ticks": ""
                          }
                        },
                        "type": "scattergl"
                      }
                    ],
                    "scattermapbox": [
                      {
                        "marker": {
                          "colorbar": {
                            "outlinewidth": 0,
                            "ticks": ""
                          }
                        },
                        "type": "scattermapbox"
                      }
                    ],
                    "scatterpolar": [
                      {
                        "marker": {
                          "colorbar": {
                            "outlinewidth": 0,
                            "ticks": ""
                          }
                        },
                        "type": "scatterpolar"
                      }
                    ],
                    "scatterpolargl": [
                      {
                        "marker": {
                          "colorbar": {
                            "outlinewidth": 0,
                            "ticks": ""
                          }
                        },
                        "type": "scatterpolargl"
                      }
                    ],
                    "scatterternary": [
                      {
                        "marker": {
                          "colorbar": {
                            "outlinewidth": 0,
                            "ticks": ""
                          }
                        },
                        "type": "scatterternary"
                      }
                    ],
                    "surface": [
                      {
                        "colorbar": {
                          "outlinewidth": 0,
                          "ticks": ""
                        },
                        "colorscale": [
                          [
                            0,
                            "#0d0887"
                          ],
                          [
                            0.1111111111111111,
                            "#46039f"
                          ],
                          [
                            0.2222222222222222,
                            "#7201a8"
                          ],
                          [
                            0.3333333333333333,
                            "#9c179e"
                          ],
                          [
                            0.4444444444444444,
                            "#bd3786"
                          ],
                          [
                            0.5555555555555556,
                            "#d8576b"
                          ],
                          [
                            0.6666666666666666,
                            "#ed7953"
                          ],
                          [
                            0.7777777777777778,
                            "#fb9f3a"
                          ],
                          [
                            0.8888888888888888,
                            "#fdca26"
                          ],
                          [
                            1,
                            "#f0f921"
                          ]
                        ],
                        "type": "surface"
                      }
                    ],
                    "table": [
                      {
                        "cells": {
                          "fill": {
                            "color": "#EBF0F8"
                          },
                          "line": {
                            "color": "white"
                          }
                        },
                        "header": {
                          "fill": {
                            "color": "#C8D4E3"
                          },
                          "line": {
                            "color": "white"
                          }
                        },
                        "type": "table"
                      }
                    ]
                  },
                  "layout": {
                    "annotationdefaults": {
                      "arrowcolor": "#2a3f5f",
                      "arrowhead": 0,
                      "arrowwidth": 1
                    },
                    "autotypenumbers": "strict",
                    "coloraxis": {
                      "colorbar": {
                        "outlinewidth": 0,
                        "ticks": ""
                      }
                    },
                    "colorscale": {
                      "diverging": [
                        [
                          0,
                          "#8e0152"
                        ],
                        [
                          0.1,
                          "#c51b7d"
                        ],
                        [
                          0.2,
                          "#de77ae"
                        ],
                        [
                          0.3,
                          "#f1b6da"
                        ],
                        [
                          0.4,
                          "#fde0ef"
                        ],
                        [
                          0.5,
                          "#f7f7f7"
                        ],
                        [
                          0.6,
                          "#e6f5d0"
                        ],
                        [
                          0.7,
                          "#b8e186"
                        ],
                        [
                          0.8,
                          "#7fbc41"
                        ],
                        [
                          0.9,
                          "#4d9221"
                        ],
                        [
                          1,
                          "#276419"
                        ]
                      ],
                      "sequential": [
                        [
                          0,
                          "#0d0887"
                        ],
                        [
                          0.1111111111111111,
                          "#46039f"
                        ],
                        [
                          0.2222222222222222,
                          "#7201a8"
                        ],
                        [
                          0.3333333333333333,
                          "#9c179e"
                        ],
                        [
                          0.4444444444444444,
                          "#bd3786"
                        ],
                        [
                          0.5555555555555556,
                          "#d8576b"
                        ],
                        [
                          0.6666666666666666,
                          "#ed7953"
                        ],
                        [
                          0.7777777777777778,
                          "#fb9f3a"
                        ],
                        [
                          0.8888888888888888,
                          "#fdca26"
                        ],
                        [
                          1,
                          "#f0f921"
                        ]
                      ],
                      "sequentialminus": [
                        [
                          0,
                          "#0d0887"
                        ],
                        [
                          0.1111111111111111,
                          "#46039f"
                        ],
                        [
                          0.2222222222222222,
                          "#7201a8"
                        ],
                        [
                          0.3333333333333333,
                          "#9c179e"
                        ],
                        [
                          0.4444444444444444,
                          "#bd3786"
                        ],
                        [
                          0.5555555555555556,
                          "#d8576b"
                        ],
                        [
                          0.6666666666666666,
                          "#ed7953"
                        ],
                        [
                          0.7777777777777778,
                          "#fb9f3a"
                        ],
                        [
                          0.8888888888888888,
                          "#fdca26"
                        ],
                        [
                          1,
                          "#f0f921"
                        ]
                      ]
                    },
                    "colorway": [
                      "#636efa",
                      "#EF553B",
                      "#00cc96",
                      "#ab63fa",
                      "#FFA15A",
                      "#19d3f3",
                      "#FF6692",
                      "#B6E880",
                      "#FF97FF",
                      "#FECB52"
                    ],
                    "font": {
                      "color": "#2a3f5f"
                    },
                    "geo": {
                      "bgcolor": "white",
                      "lakecolor": "white",
                      "landcolor": "#E5ECF6",
                      "showlakes": true,
                      "showland": true,
                      "subunitcolor": "white"
                    },
                    "hoverlabel": {
                      "align": "left"
                    },
                    "hovermode": "closest",
                    "mapbox": {
                      "style": "light"
                    },
                    "paper_bgcolor": "white",
                    "plot_bgcolor": "#E5ECF6",
                    "polar": {
                      "angularaxis": {
                        "gridcolor": "white",
                        "linecolor": "white",
                        "ticks": ""
                      },
                      "bgcolor": "#E5ECF6",
                      "radialaxis": {
                        "gridcolor": "white",
                        "linecolor": "white",
                        "ticks": ""
                      }
                    },
                    "scene": {
                      "xaxis": {
                        "backgroundcolor": "#E5ECF6",
                        "gridcolor": "white",
                        "gridwidth": 2,
                        "linecolor": "white",
                        "showbackground": true,
                        "ticks": "",
                        "zerolinecolor": "white"
                      },
                      "yaxis": {
                        "backgroundcolor": "#E5ECF6",
                        "gridcolor": "white",
                        "gridwidth": 2,
                        "linecolor": "white",
                        "showbackground": true,
                        "ticks": "",
                        "zerolinecolor": "white"
                      },
                      "zaxis": {
                        "backgroundcolor": "#E5ECF6",
                        "gridcolor": "white",
                        "gridwidth": 2,
                        "linecolor": "white",
                        "showbackground": true,
                        "ticks": "",
                        "zerolinecolor": "white"
                      }
                    },
                    "shapedefaults": {
                      "line": {
                        "color": "#2a3f5f"
                      }
                    },
                    "ternary": {
                      "aaxis": {
                        "gridcolor": "white",
                        "linecolor": "white",
                        "ticks": ""
                      },
                      "baxis": {
                        "gridcolor": "white",
                        "linecolor": "white",
                        "ticks": ""
                      },
                      "bgcolor": "#E5ECF6",
                      "caxis": {
                        "gridcolor": "white",
                        "linecolor": "white",
                        "ticks": ""
                      }
                    },
                    "title": {
                      "x": 0.05
                    },
                    "xaxis": {
                      "automargin": true,
                      "gridcolor": "white",
                      "linecolor": "white",
                      "ticks": "",
                      "title": {
                        "standoff": 15
                      },
                      "zerolinecolor": "white",
                      "zerolinewidth": 2
                    },
                    "yaxis": {
                      "automargin": true,
                      "gridcolor": "white",
                      "linecolor": "white",
                      "ticks": "",
                      "title": {
                        "standoff": 15
                      },
                      "zerolinecolor": "white",
                      "zerolinewidth": 2
                    }
                  }
                },
                "title": {
                  "text": "Distribution of scores"
                },
                "xaxis": {
                  "anchor": "y",
                  "domain": [
                    0,
                    1
                  ],
                  "title": {
                    "text": "value"
                  }
                },
                "yaxis": {
                  "anchor": "x",
                  "domain": [
                    0,
                    1
                  ],
                  "title": {
                    "text": "index"
                  }
                }
              }
            }
          },
          "metadata": {},
          "output_type": "display_data"
        }
      ],
      "source": [
        "fig = px.bar(df_reviews[\"score\"].value_counts(), orientation = \"h\", title = f\"Distribution of scores\")\n",
        "fig.show()"
      ]
    },
    {
      "cell_type": "markdown",
      "metadata": {},
      "source": [
        "As we can see, there is a great imbalance towards 5-star reviews. \n",
        "\n",
        "By looking at the first 50 3-star reviews, we realize that it is difficult to categorize them as positive or negative. Therefore, they will simply be classified as \"neutral\"."
      ]
    },
    {
      "cell_type": "code",
      "execution_count": 18,
      "metadata": {},
      "outputs": [
        {
          "data": {
            "text/plain": [
              "360556                         study guide for microbiology\n",
              "2951265                                             OK book\n",
              "1933705    The Scarlet Letter -- Wordy, dense, far too long\n",
              "1792488             Another bittersweet slice of reality...\n",
              "1771923           A classic, but hard to place an age group\n",
              "2719754                                        Average book\n",
              "2100828                   Yes, something is definitely awry\n",
              "462543                         stats, stats, and mo' stats!\n",
              "1860971                                 I have not read it.\n",
              "624287            Better than your average cash cow sequel.\n",
              "2545175                              Interesting but slight\n",
              "1475002                     The turning point in the series\n",
              "441864            Not what I was expecting, but still okay.\n",
              "2755116                                         Cigar Guide\n",
              "1792390          Perfection is always a tough act to follow\n",
              "2004466                                   Moving yet Opaque\n",
              "1825311                                            Good one\n",
              "2360625                                          Full House\n",
              "906208       Exciting adventure as well as quality romance.\n",
              "1499827                         Informative, but uneventful\n",
              "Name: summary, dtype: object"
            ]
          },
          "execution_count": 18,
          "metadata": {},
          "output_type": "execute_result"
        }
      ],
      "source": [
        "df_reviews[df_reviews[\"score\"] == 3.0][\"summary\"].sample(20, random_state= 2)"
      ]
    },
    {
      "cell_type": "code",
      "execution_count": 10,
      "metadata": {},
      "outputs": [
        {
          "data": {
            "text/html": [
              "<div>\n",
              "<style scoped>\n",
              "    .dataframe tbody tr th:only-of-type {\n",
              "        vertical-align: middle;\n",
              "    }\n",
              "\n",
              "    .dataframe tbody tr th {\n",
              "        vertical-align: top;\n",
              "    }\n",
              "\n",
              "    .dataframe thead th {\n",
              "        text-align: right;\n",
              "    }\n",
              "</style>\n",
              "<table border=\"1\" class=\"dataframe\">\n",
              "  <thead>\n",
              "    <tr style=\"text-align: right;\">\n",
              "      <th></th>\n",
              "      <th>Id</th>\n",
              "      <th>Title</th>\n",
              "      <th>Price</th>\n",
              "      <th>User_id</th>\n",
              "      <th>profileName</th>\n",
              "      <th>helpfulness</th>\n",
              "      <th>score</th>\n",
              "      <th>time</th>\n",
              "      <th>summary</th>\n",
              "      <th>text</th>\n",
              "      <th>class</th>\n",
              "    </tr>\n",
              "  </thead>\n",
              "  <tbody>\n",
              "    <tr>\n",
              "      <th>0</th>\n",
              "      <td>1882931173</td>\n",
              "      <td>Its Only Art If Its Well Hung!</td>\n",
              "      <td>NaN</td>\n",
              "      <td>AVCGYZL8FQQTD</td>\n",
              "      <td>Jim of Oz \"jim-of-oz\"</td>\n",
              "      <td>7/7</td>\n",
              "      <td>4.0</td>\n",
              "      <td>940636800</td>\n",
              "      <td>Nice collection of Julie Strain images</td>\n",
              "      <td>This is only for Julie Strain fans. It's a col...</td>\n",
              "      <td>POSITIVE</td>\n",
              "    </tr>\n",
              "    <tr>\n",
              "      <th>1</th>\n",
              "      <td>0826414346</td>\n",
              "      <td>Dr. Seuss: American Icon</td>\n",
              "      <td>NaN</td>\n",
              "      <td>A30TK6U7DNS82R</td>\n",
              "      <td>Kevin Killian</td>\n",
              "      <td>10/10</td>\n",
              "      <td>5.0</td>\n",
              "      <td>1095724800</td>\n",
              "      <td>Really Enjoyed It</td>\n",
              "      <td>I don't care much for Dr. Seuss but after read...</td>\n",
              "      <td>POSITIVE</td>\n",
              "    </tr>\n",
              "    <tr>\n",
              "      <th>2</th>\n",
              "      <td>0826414346</td>\n",
              "      <td>Dr. Seuss: American Icon</td>\n",
              "      <td>NaN</td>\n",
              "      <td>A3UH4UZ4RSVO82</td>\n",
              "      <td>John Granger</td>\n",
              "      <td>10/11</td>\n",
              "      <td>5.0</td>\n",
              "      <td>1078790400</td>\n",
              "      <td>Essential for every personal and Public Library</td>\n",
              "      <td>If people become the books they read and if \"t...</td>\n",
              "      <td>POSITIVE</td>\n",
              "    </tr>\n",
              "    <tr>\n",
              "      <th>3</th>\n",
              "      <td>0826414346</td>\n",
              "      <td>Dr. Seuss: American Icon</td>\n",
              "      <td>NaN</td>\n",
              "      <td>A2MVUWT453QH61</td>\n",
              "      <td>Roy E. Perry \"amateur philosopher\"</td>\n",
              "      <td>7/7</td>\n",
              "      <td>4.0</td>\n",
              "      <td>1090713600</td>\n",
              "      <td>Phlip Nel gives silly Seuss a serious treatment</td>\n",
              "      <td>Theodore Seuss Geisel (1904-1991), aka &amp;quot;D...</td>\n",
              "      <td>POSITIVE</td>\n",
              "    </tr>\n",
              "    <tr>\n",
              "      <th>4</th>\n",
              "      <td>0826414346</td>\n",
              "      <td>Dr. Seuss: American Icon</td>\n",
              "      <td>NaN</td>\n",
              "      <td>A22X4XUPKF66MR</td>\n",
              "      <td>D. H. Richards \"ninthwavestore\"</td>\n",
              "      <td>3/3</td>\n",
              "      <td>4.0</td>\n",
              "      <td>1107993600</td>\n",
              "      <td>Good academic overview</td>\n",
              "      <td>Philip Nel - Dr. Seuss: American IconThis is b...</td>\n",
              "      <td>POSITIVE</td>\n",
              "    </tr>\n",
              "  </tbody>\n",
              "</table>\n",
              "</div>"
            ],
            "text/plain": [
              "           Id                           Title  Price         User_id  \\\n",
              "0  1882931173  Its Only Art If Its Well Hung!    NaN   AVCGYZL8FQQTD   \n",
              "1  0826414346        Dr. Seuss: American Icon    NaN  A30TK6U7DNS82R   \n",
              "2  0826414346        Dr. Seuss: American Icon    NaN  A3UH4UZ4RSVO82   \n",
              "3  0826414346        Dr. Seuss: American Icon    NaN  A2MVUWT453QH61   \n",
              "4  0826414346        Dr. Seuss: American Icon    NaN  A22X4XUPKF66MR   \n",
              "\n",
              "                          profileName helpfulness  score        time  \\\n",
              "0               Jim of Oz \"jim-of-oz\"         7/7    4.0   940636800   \n",
              "1                       Kevin Killian       10/10    5.0  1095724800   \n",
              "2                        John Granger       10/11    5.0  1078790400   \n",
              "3  Roy E. Perry \"amateur philosopher\"         7/7    4.0  1090713600   \n",
              "4     D. H. Richards \"ninthwavestore\"         3/3    4.0  1107993600   \n",
              "\n",
              "                                           summary  \\\n",
              "0           Nice collection of Julie Strain images   \n",
              "1                                Really Enjoyed It   \n",
              "2  Essential for every personal and Public Library   \n",
              "3  Phlip Nel gives silly Seuss a serious treatment   \n",
              "4                           Good academic overview   \n",
              "\n",
              "                                                text     class  \n",
              "0  This is only for Julie Strain fans. It's a col...  POSITIVE  \n",
              "1  I don't care much for Dr. Seuss but after read...  POSITIVE  \n",
              "2  If people become the books they read and if \"t...  POSITIVE  \n",
              "3  Theodore Seuss Geisel (1904-1991), aka &quot;D...  POSITIVE  \n",
              "4  Philip Nel - Dr. Seuss: American IconThis is b...  POSITIVE  "
            ]
          },
          "execution_count": 10,
          "metadata": {},
          "output_type": "execute_result"
        }
      ],
      "source": [
        "df_reviews.loc[df_reviews[\"score\"]>3.0, \"class\"] = \"POSITIVE\"\n",
        "df_reviews.loc[df_reviews[\"score\"]==3.0, \"class\"] = \"NEUTRAL\"\n",
        "df_reviews.loc[df_reviews[\"score\"]<3.0, \"class\"] = \"NEGATIVE\"\n",
        "df_reviews.head()\n",
        " "
      ]
    },
    {
      "cell_type": "markdown",
      "metadata": {},
      "source": [
        "### Word Cloud\n",
        "\n",
        "Lets look at the word cloud for positive reviews and negative ones. As usual we have to do some preprocessing in order to reduce variation and catch more conceptual words. "
      ]
    },
    {
      "cell_type": "code",
      "execution_count": 28,
      "metadata": {},
      "outputs": [],
      "source": [
        "positive_reviews = df_reviews[df_reviews[\"class\"]==\"POSITIVE\"].dropna(subset = [\"summary\"]).sample(100000)\n",
        "negative_reviews = df_reviews[df_reviews[\"class\"]==\"NEGATIVE\"].dropna(subset = [\"summary\"]).sample(100000)\n",
        "\n",
        "positive_reviews[\"clean_summary\"] = clean_corpus(positive_reviews[\"summary\"])\n",
        "negative_reviews[\"clean_summary\"] = clean_corpus(negative_reviews[\"summary\"])"
      ]
    },
    {
      "cell_type": "code",
      "execution_count": 31,
      "metadata": {},
      "outputs": [],
      "source": [
        "positive_words = \" \".join(positive_reviews[\"clean_summary\"])\n",
        "wordcloud_positive = stylecloud.gen_stylecloud(\n",
        "                        text = positive_words,\n",
        "                        size = 1028,\n",
        "                        background_color = \"black\",\n",
        "                        output_name = \"./Images/positive_wordcloud.png\",\n",
        "                        icon_name = \"fas fa-comment\"\n",
        "                        )"
      ]
    },
    {
      "cell_type": "markdown",
      "metadata": {},
      "source": [
        "![image](./Images/positive_wordcloud.png)"
      ]
    },
    {
      "cell_type": "code",
      "execution_count": 32,
      "metadata": {},
      "outputs": [],
      "source": [
        "negative_words = \" \".join(negative_reviews[\"clean_summary\"])\n",
        "wordcloud_negative = stylecloud.gen_stylecloud(\n",
        "                        text = negative_words,\n",
        "                        size = 1028,\n",
        "                        background_color = \"black\",\n",
        "                        output_name = \"./Images/negative_wordcloud.png\",\n",
        "                        icon_name = \"fas fa-comment\"\n",
        "                        )"
      ]
    },
    {
      "cell_type": "markdown",
      "metadata": {},
      "source": [
        "![image](./Images/negative_wordcloud.png)"
      ]
    },
    {
      "cell_type": "code",
      "execution_count": 2,
      "metadata": {},
      "outputs": [
        {
          "data": {
            "text/plain": [
              "[{'label': 'NEGATIVE', 'score': 0.9994561076164246}]"
            ]
          },
          "execution_count": 2,
          "metadata": {},
          "output_type": "execute_result"
        }
      ],
      "source": [
        "from transformers import AutoTokenizer,  AutoModelForSequenceClassification, pipeline\n",
        "import torch \n",
        "\n",
        "model_name = \"siebert/sentiment-roberta-large-english\"\n",
        "\n",
        "tokenizer = AutoTokenizer.from_pretrained(model_name)\n",
        "model = AutoModelForSequenceClassification.from_pretrained(model_name)\n",
        "\n",
        "classifier = pipeline(\"sentiment-analysis\", model=model, tokenizer=tokenizer)\n",
        "\n",
        "classifier(\"I hate this!\")"
      ]
    }
  ],
  "metadata": {
    "colab": {
      "collapsed_sections": [],
      "provenance": []
    },
    "kernelspec": {
      "display_name": "Python 3.9.12 ('nlp')",
      "language": "python",
      "name": "python3"
    },
    "language_info": {
      "codemirror_mode": {
        "name": "ipython",
        "version": 3
      },
      "file_extension": ".py",
      "mimetype": "text/x-python",
      "name": "python",
      "nbconvert_exporter": "python",
      "pygments_lexer": "ipython3",
      "version": "3.9.12"
    },
    "vscode": {
      "interpreter": {
        "hash": "f17bbc6fc1a5651d6d3872ee9163e60a2b8331be980fe3739f2e3a57e5088261"
      }
    }
  },
  "nbformat": 4,
  "nbformat_minor": 0
}
